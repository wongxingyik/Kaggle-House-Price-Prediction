{
 "cells": [
  {
   "cell_type": "code",
   "execution_count": 1,
   "id": "c9c74228",
   "metadata": {},
   "outputs": [],
   "source": [
    "import numpy as np\n",
    "import pandas as pd\n",
    "import matplotlib.pyplot as plt\n",
    "import seaborn as sns\n",
    "\n",
    "from sklearn.linear_model import RidgeCV, LassoCV, LinearRegression, ElasticNetCV\n",
    "from sklearn.preprocessing import StandardScaler\n",
    "from sklearn.model_selection import cross_val_score, train_test_split\n",
    "from sklearn.metrics import mean_squared_error, make_scorer\n",
    "from sklearn import preprocessing\n",
    "\n",
    "from scipy.stats import skew\n",
    "import scipy.stats as st\n",
    "plt.style.use('seaborn')\n",
    "%matplotlib inline"
   ]
  },
  {
   "cell_type": "markdown",
   "id": "090c6317",
   "metadata": {},
   "source": [
    "## Import Data"
   ]
  },
  {
   "cell_type": "code",
   "execution_count": 2,
   "id": "6bf69e5f",
   "metadata": {},
   "outputs": [],
   "source": [
    "#import train and test dataset\n",
    "train = pd.read_csv('train.csv')\n",
    "test = pd.read_csv('test.csv')\n",
    "df_all = pd.concat([train.drop(columns=['SalePrice', 'Id']), test.drop(columns='Id')])\n",
    "original_col = train.drop(columns=['SalePrice', 'Id']).columns"
   ]
  },
  {
   "cell_type": "code",
   "execution_count": 3,
   "id": "f574ca93",
   "metadata": {},
   "outputs": [],
   "source": [
    "# print(original_col)"
   ]
  },
  {
   "cell_type": "code",
   "execution_count": 4,
   "id": "9fa95008",
   "metadata": {},
   "outputs": [
    {
     "name": "stdout",
     "output_type": "stream",
     "text": [
      "Concated shape: (2919, 79)\n"
     ]
    }
   ],
   "source": [
    "print(f'Concated shape: {df_all.shape}')"
   ]
  },
  {
   "cell_type": "markdown",
   "id": "03cdd7d2",
   "metadata": {},
   "source": [
    "## Treat Missing Value"
   ]
  },
  {
   "cell_type": "code",
   "execution_count": 5,
   "id": "3f9c75c5",
   "metadata": {},
   "outputs": [
    {
     "data": {
      "text/plain": [
       "<AxesSubplot:>"
      ]
     },
     "execution_count": 5,
     "metadata": {},
     "output_type": "execute_result"
    },
    {
     "data": {
      "image/png": "[encoded data removed]",
      "text/plain": [
       "<Figure size 432x288 with 1 Axes>"
      ]
     },
     "metadata": {
      "needs_background": "light"
     },
     "output_type": "display_data"
    }
   ],
   "source": [
    "# Missing Value\n",
    "null_sum = df_all.isnull().sum()\n",
    "(null_sum[null_sum > 0]/(df_all.shape[0])*100).plot.bar()"
   ]
  },
  {
   "cell_type": "code",
   "execution_count": 6,
   "id": "f075f291",
   "metadata": {},
   "outputs": [
    {
     "name": "stdout",
     "output_type": "stream",
     "text": [
      "Index(['Alley', 'FireplaceQu', 'PoolQC', 'Fence', 'MiscFeature'], dtype='object')\n"
     ]
    }
   ],
   "source": [
    "# Removing missing value more than 20%\n",
    "null_perc = (null_sum[null_sum > 0]/(df_all.shape[0])*100)\n",
    "print(null_perc[null_perc>20].index)\n",
    "df_all = df_all.drop(columns=null_perc[null_perc>20].index)"
   ]
  },
  {
   "cell_type": "code",
   "execution_count": 7,
   "id": "fc046f55",
   "metadata": {
    "scrolled": true
   },
   "outputs": [
    {
     "name": "stdout",
     "output_type": "stream",
     "text": [
      "['MSZoning', 'LotFrontage', 'Utilities', 'Exterior1st', 'Exterior2nd', 'MasVnrType', 'MasVnrArea', 'BsmtQual', 'BsmtCond', 'BsmtExposure', 'BsmtFinType1', 'BsmtFinSF1', 'BsmtFinType2', 'BsmtFinSF2', 'BsmtUnfSF', 'TotalBsmtSF', 'Electrical', 'BsmtFullBath', 'BsmtHalfBath', 'KitchenQual', 'Functional', 'GarageType', 'GarageYrBlt', 'GarageFinish', 'GarageCars', 'GarageArea', 'GarageQual', 'GarageCond', 'SaleType']\n"
     ]
    }
   ],
   "source": [
    "null_columns = list(null_perc[null_perc<=20].index)\n",
    "print(null_columns)"
   ]
  },
  {
   "cell_type": "code",
   "execution_count": 8,
   "id": "e2830070",
   "metadata": {},
   "outputs": [
    {
     "name": "stdout",
     "output_type": "stream",
     "text": [
      "Series([], dtype: int64)\n"
     ]
    }
   ],
   "source": [
    "for c in null_columns:\n",
    "    if df_all[c].dtype == 'object':\n",
    "        df_all[c] = df_all[[c]].replace(np.NAN, df_all[c].mode()[0])\n",
    "    else:\n",
    "        df_all[c] = df_all[c].replace(np.NAN, df_all[c].mean())\n",
    "        \n",
    "print(df_all.isnull().sum()[df_all.isnull().sum() > 0])"
   ]
  },
  {
   "cell_type": "markdown",
   "id": "707c0661",
   "metadata": {},
   "source": [
    "## Simplify Qualitative Features "
   ]
  },
  {
   "cell_type": "code",
   "execution_count": 9,
   "id": "1328c2a1",
   "metadata": {},
   "outputs": [],
   "source": [
    "sim_qual = ['BsmtFinType1','BsmtFinType2','ExterQual','ExterCond','BsmtQual','BsmtCond',\n",
    "            'HeatingQC','KitchenQual','GarageCond','GarageQual','GarageFinish', 'BsmtExposure','PavedDrive']"
   ]
  },
  {
   "cell_type": "code",
   "execution_count": 10,
   "id": "b8100639",
   "metadata": {},
   "outputs": [
    {
     "name": "stdout",
     "output_type": "stream",
     "text": [
      "count: 0 ---- Simplified feature : BsmtFinType1\n",
      "count: 1 ---- Simplified feature : BsmtFinType2\n",
      "count: 2 ---- Simplified feature : ExterQual\n",
      "count: 3 ---- Simplified feature : ExterCond\n",
      "count: 4 ---- Simplified feature : BsmtQual\n",
      "count: 5 ---- Simplified feature : BsmtCond\n",
      "count: 6 ---- Simplified feature : HeatingQC\n",
      "count: 7 ---- Simplified feature : KitchenQual\n",
      "count: 8 ---- Simplified feature : GarageCond\n",
      "count: 9 ---- Simplified feature : GarageQual\n",
      "count: 10 ---- Simplified feature : GarageFinish\n",
      "count: 11 ---- Simplified feature : BsmtExposure\n",
      "count: 12 ---- Simplified feature : PavedDrive\n"
     ]
    }
   ],
   "source": [
    "count = 0\n",
    "for c in sim_qual:\n",
    "    if (count<2):\n",
    "        df_all[c] = df_all[c].replace(dict(GLQ=6, ALQ=5, BLQ=4, Rec=3, LwQ=2, Unf=1, NA=0))\n",
    "    if (count>=2 and count<10):\n",
    "        df_all[c] = df_all[c].replace(dict(Ex=5, Gd=4, TA=3, Fa=2, Po=1, NA=0))\n",
    "    if (count == 10):\n",
    "        df_all[c] = df_all[c].replace(dict(Fin=3, RFn=2, Unf=1, NA=0))\n",
    "    if (count == 11):\n",
    "        df_all[c] = df_all[c].replace(dict(Gd=4, Av=3, Mn=2, No=1, NA=0))\n",
    "    if (count == 12):\n",
    "        df_all[c] = df_all[c].replace(dict(Y=2, P=1, N=0))\n",
    "    print(f'count: {count} ---- Simplified feature : {c}')\n",
    "    count+=1\n",
    "    "
   ]
  },
  {
   "cell_type": "code",
   "execution_count": 11,
   "id": "f58e00b1",
   "metadata": {},
   "outputs": [],
   "source": [
    "#Quantitative and Qualitative features\n",
    "quantitative = [f for f in df_all.columns if df_all.dtypes[f] != 'object']\n",
    "qualitative = [f for f in df_all.columns if df_all.dtypes[f] == 'object']"
   ]
  },
  {
   "cell_type": "code",
   "execution_count": 12,
   "id": "a4f5dc98",
   "metadata": {},
   "outputs": [
    {
     "name": "stdout",
     "output_type": "stream",
     "text": [
      "Quantitative features : ['MSSubClass', 'LotFrontage', 'LotArea', 'OverallQual', 'OverallCond', 'YearBuilt', 'YearRemodAdd', 'MasVnrArea', 'ExterQual', 'ExterCond', 'BsmtQual', 'BsmtCond', 'BsmtExposure', 'BsmtFinType1', 'BsmtFinSF1', 'BsmtFinType2', 'BsmtFinSF2', 'BsmtUnfSF', 'TotalBsmtSF', 'HeatingQC', '1stFlrSF', '2ndFlrSF', 'LowQualFinSF', 'GrLivArea', 'BsmtFullBath', 'BsmtHalfBath', 'FullBath', 'HalfBath', 'BedroomAbvGr', 'KitchenAbvGr', 'KitchenQual', 'TotRmsAbvGrd', 'Fireplaces', 'GarageYrBlt', 'GarageFinish', 'GarageCars', 'GarageArea', 'GarageQual', 'GarageCond', 'PavedDrive', 'WoodDeckSF', 'OpenPorchSF', 'EnclosedPorch', '3SsnPorch', 'ScreenPorch', 'PoolArea', 'MiscVal', 'MoSold', 'YrSold']\n",
      "Qualitative features : ['MSZoning', 'Street', 'LotShape', 'LandContour', 'Utilities', 'LotConfig', 'LandSlope', 'Neighborhood', 'Condition1', 'Condition2', 'BldgType', 'HouseStyle', 'RoofStyle', 'RoofMatl', 'Exterior1st', 'Exterior2nd', 'MasVnrType', 'Foundation', 'Heating', 'CentralAir', 'Electrical', 'Functional', 'GarageType', 'SaleType', 'SaleCondition']\n"
     ]
    }
   ],
   "source": [
    "print(f'Quantitative features : {quantitative}')\n",
    "print(f'Qualitative features : {qualitative}')"
   ]
  },
  {
   "cell_type": "markdown",
   "id": "99fedfc4",
   "metadata": {},
   "source": [
    "## Binning Year Features "
   ]
  },
  {
   "cell_type": "code",
   "execution_count": 13,
   "id": "3d0cd003",
   "metadata": {},
   "outputs": [],
   "source": [
    "#   Feature Engineering : 1. Creating new features\n",
    "#     Using binned technique for \"YearBuilt\", \"YearRemodAdd\" & \"YrSold\"\n",
    "col = ['YearBuilt', 'YearRemodAdd', 'YrSold', 'GarageYrBlt']\n",
    "for c in col:\n",
    "    df_all[c] = pd.qcut(df_all[c], 10, duplicates='drop')"
   ]
  },
  {
   "cell_type": "code",
   "execution_count": 14,
   "id": "4de89832",
   "metadata": {},
   "outputs": [],
   "source": [
    "#     Encode categorical features to numeric feature\n",
    "for c in col:\n",
    "    df_all[c] = preprocessing.LabelEncoder().fit_transform(df_all[c].values)"
   ]
  },
  {
   "cell_type": "code",
   "execution_count": 15,
   "id": "3324a9d4",
   "metadata": {},
   "outputs": [
    {
     "data": {
      "text/html": [
       "<div>\n",
       "<style scoped>\n",
       "    .dataframe tbody tr th:only-of-type {\n",
       "        vertical-align: middle;\n",
       "    }\n",
       "\n",
       "    .dataframe tbody tr th {\n",
       "        vertical-align: top;\n",
       "    }\n",
       "\n",
       "    .dataframe thead th {\n",
       "        text-align: right;\n",
       "    }\n",
       "</style>\n",
       "<table border=\"1\" class=\"dataframe\">\n",
       "  <thead>\n",
       "    <tr style=\"text-align: right;\">\n",
       "      <th></th>\n",
       "      <th>YearBuilt</th>\n",
       "      <th>YearRemodAdd</th>\n",
       "      <th>YrSold</th>\n",
       "      <th>GarageYrBlt</th>\n",
       "    </tr>\n",
       "  </thead>\n",
       "  <tbody>\n",
       "    <tr>\n",
       "      <th>0</th>\n",
       "      <td>7</td>\n",
       "      <td>6</td>\n",
       "      <td>1</td>\n",
       "      <td>7</td>\n",
       "    </tr>\n",
       "    <tr>\n",
       "      <th>1</th>\n",
       "      <td>5</td>\n",
       "      <td>2</td>\n",
       "      <td>0</td>\n",
       "      <td>4</td>\n",
       "    </tr>\n",
       "    <tr>\n",
       "      <th>2</th>\n",
       "      <td>7</td>\n",
       "      <td>5</td>\n",
       "      <td>1</td>\n",
       "      <td>7</td>\n",
       "    </tr>\n",
       "    <tr>\n",
       "      <th>3</th>\n",
       "      <td>0</td>\n",
       "      <td>1</td>\n",
       "      <td>0</td>\n",
       "      <td>6</td>\n",
       "    </tr>\n",
       "    <tr>\n",
       "      <th>4</th>\n",
       "      <td>7</td>\n",
       "      <td>5</td>\n",
       "      <td>1</td>\n",
       "      <td>7</td>\n",
       "    </tr>\n",
       "  </tbody>\n",
       "</table>\n",
       "</div>"
      ],
      "text/plain": [
       "   YearBuilt  YearRemodAdd  YrSold  GarageYrBlt\n",
       "0          7             6       1            7\n",
       "1          5             2       0            4\n",
       "2          7             5       1            7\n",
       "3          0             1       0            6\n",
       "4          7             5       1            7"
      ]
     },
     "execution_count": 15,
     "metadata": {},
     "output_type": "execute_result"
    }
   ],
   "source": [
    "#     Check values\n",
    "df_all[col] = df_all[col]\n",
    "df_all[col].head()"
   ]
  },
  {
   "cell_type": "markdown",
   "id": "8c10fac8",
   "metadata": {},
   "source": [
    "## Creating Combination Features "
   ]
  },
  {
   "cell_type": "code",
   "execution_count": 16,
   "id": "3471257c",
   "metadata": {},
   "outputs": [],
   "source": [
    "#    New Features\n",
    "\n",
    "#Total Lot Area\n",
    "df_all['TotalLot'] = df_all['LotFrontage'] + df_all['LotArea']\n",
    "\n",
    "#Overall House Quality&Condition\n",
    "# df_all['Overall'] = df_all['OverallCond'] + df_all['OverallQual']\n",
    "\n",
    "#Total number of basement bathroom\n",
    "df_all['BsmtBath'] = df_all['BsmtFullBath'] + df_all['BsmtHalfBath']\n",
    "\n",
    "#Total number of bathroom above grade\n",
    "df_all['Bath'] = df_all['FullBath'] + df_all['HalfBath']\n",
    "\n",
    "#total number of bathroom\n",
    "df_all['TotalBath'] = (df_all['FullBath'] + 0.5*df_all['HalfBath'] \n",
    "                        + df_all['BsmtFullBath'] + 0.5*df_all['BsmtHalfBath'])\n",
    "\n",
    "# #Total Finished Square Feet Above Grade\n",
    "# df_all['FloorFinSF'] = df_all['1stFlrSF'] + df_all['2ndFlrSF']\n",
    "\n",
    "#Ratio of Low Quality Squared Feet to Total Finished Square Feet Above Grade\n",
    "# df_all['R_LowQual_FloorFinSF'] = df_all['LowQualFinSF'] / df_all['FloorFinSF']\n",
    "\n",
    "#Ratio of Basement Unfinished Squared Feet to Total Basement Squared feet\n",
    "# df_all['R_BsmtUnfSF_TotalBsmtSF'] = df_all['BsmtUnfSF'] / df_all['TotalBsmtSF']\n",
    "\n",
    "#Total Basement Fin SF\n",
    "df_all['TotalBsmtFinSF'] = df_all['BsmtFinSF1'] + df_all['BsmtFinSF2']\n",
    "\n",
    "#Total Finished Squared feet\n",
    "df_all['TotalFinSF'] = df_all['BsmtFinSF1'] + df_all['BsmtFinSF2'] + df_all['1stFlrSF'] + df_all['2ndFlrSF']\n",
    "\n",
    "# Total SF for house (incl. basement)\n",
    "df_all[\"AllSF\"] = df_all[\"GrLivArea\"] + df_all[\"TotalBsmtSF\"]\n",
    "\n",
    "# Total SF for 1st + 2nd floors\n",
    "df_all[\"AllFlrsSF\"] = df_all[\"1stFlrSF\"] + df_all[\"2ndFlrSF\"]\n",
    "\n",
    "#Total Basement Unfinish SF and Low Quality Finished SF\n",
    "df_all['Total_BsmtUnfSf_LowQualFinSF'] = df_all['BsmtUnfSF'] + df_all['LowQualFinSF']\n",
    "\n",
    "#Total Porch SF\n",
    "df_all['TotalPorchSF'] = (df_all['OpenPorchSF'] + df_all['3SsnPorch'] + df_all['EnclosedPorch'] \n",
    "                            + df_all['ScreenPorch'] + df_all['WoodDeckSF'])\n",
    "df_all = df_all.drop(columns=['OpenPorchSF','3SsnPorch','EnclosedPorch','ScreenPorch','WoodDeckSF'])\n",
    "\n",
    "#Garage\n",
    "df_all['GarageArea'] = df_all['GarageArea'].apply(lambda x: 1 if x>0 else 0)\n",
    "\n",
    "#Pool\n",
    "df_all['PoolArea'] = df_all['PoolArea'].apply(lambda x: 1 if x>0 else 0)\n"
   ]
  },
  {
   "cell_type": "code",
   "execution_count": 17,
   "id": "7a023dc2",
   "metadata": {},
   "outputs": [],
   "source": [
    "#Ratio of Low Quality Squared Feet to Total Finished Square Feet Above Grade\n",
    "# df_all['R_LowQual_FloorFinSF'] = df_all['LowQualFinSF'] / df_all['FloorFinSF']\n",
    "\n",
    "#Ratio of Basement Unfinished Squared Feet to Total Basement Squared feet\n",
    "# df_all['R_BsmtUnfSF_TotalBsmtSF'] = df_all['BsmtUnfSF'] / df_all['TotalBsmtSF']\n",
    "\n",
    "#Cars per Garage Area\n",
    "# df_all['CarsPerGarageArea'] = df_all['GarageCars'] / df_all['GarageArea']\n",
    "\n",
    "#Ratio of Total Finished Square Feet Above Grade to \n",
    "# df_all['R_FloorFinSF_'] = df_all['FloorFinSF'] / df_all['BedroomAbvGr']"
   ]
  },
  {
   "cell_type": "code",
   "execution_count": 18,
   "id": "cf28408d",
   "metadata": {},
   "outputs": [],
   "source": [
    "#Overall House Quality and Condition Score\n",
    "df_all['OverallScore'] = df_all['OverallCond'] * df_all['OverallQual']\n",
    "\n",
    "#Overall Kitchen Score \n",
    "df_all['KitchenScore'] = df_all['KitchenAbvGr'] * df_all['KitchenQual']\n",
    "\n",
    "#Overall Exter Score\n",
    "df_all['ExterScore'] = df_all['ExterCond'] * df_all['ExterQual']\n",
    "\n",
    "#Basement Finished Type Score\n",
    "df_all['BsmtFinTypeScore'] = (df_all['BsmtFinType1'] + df_all['BsmtFinType2']) * df_all['BsmtExposure']\n",
    "\n",
    "#Basement Score\n",
    "df_all['BsmtScore'] = df_all['BsmtQual'] * df_all['BsmtCond'] \n",
    "\n",
    "#Overall Garage Score\n",
    "df_all['GarageScore'] = df_all['GarageQual'] * df_all['GarageCond']"
   ]
  },
  {
   "cell_type": "code",
   "execution_count": 19,
   "id": "b691ce04",
   "metadata": {},
   "outputs": [],
   "source": [
    "# #Basement score and SF\n",
    "# df_all['BsmtScore_andFinSF'] = df_all['BsmtScore']+df_all['TotalBsmtFinSF']\n",
    "\n",
    "# #Overall Score per GrLivArea\n",
    "# df_all['OverallScore_andGrLivArea'] =  df_all['GrLivArea'] * df_all['OverallScore']\n",
    "\n",
    "# #OverallScore and BsmtScore\n",
    "# df_all['OverallScore_andBsmtScore'] = df_all['OverallScore'] + df_all['BsmtScore']\n",
    "\n",
    "# #OverallScore and KitchenScore \n",
    "# df_all['OverallScore_andKitchenScore'] = df_all['OverallScore'] + df_all['KitchenScore']\n",
    "\n",
    "# #OverallScore and ExterScore\n",
    "# df_all['OverallScore_andExterScore'] = df_all['OverallScore'] + df_all['ExterScore']\n",
    "\n",
    "# #OverallScore and GarageScore\n",
    "# df_all['OverallScore_andGarageScore'] = df_all['OverallScore'] + df_all['GarageScore']"
   ]
  },
  {
   "cell_type": "code",
   "execution_count": 20,
   "id": "e353b4e1",
   "metadata": {},
   "outputs": [
    {
     "name": "stdout",
     "output_type": "stream",
     "text": [
      "Feature created:  OverallScore_andKitchenScore\n",
      "Feature created:  OverallScore_andExterScore\n",
      "Feature created:  OverallScore_andBsmtFinTypeScore\n",
      "Feature created:  OverallScore_andBsmtScore\n",
      "Feature created:  OverallScore_andGarageScore\n",
      "Feature created:  KitchenScore_andExterScore\n",
      "Feature created:  KitchenScore_andBsmtFinTypeScore\n",
      "Feature created:  KitchenScore_andBsmtScore\n",
      "Feature created:  KitchenScore_andGarageScore\n",
      "Feature created:  ExterScore_andBsmtFinTypeScore\n",
      "Feature created:  ExterScore_andBsmtScore\n",
      "Feature created:  ExterScore_andGarageScore\n",
      "Feature created:  BsmtFinTypeScore_andBsmtScore\n",
      "Feature created:  BsmtFinTypeScore_andGarageScore\n",
      "Feature created:  BsmtScore_andGarageScore\n"
     ]
    }
   ],
   "source": [
    "#Scoring multiply\n",
    "scoring_multiply = ['OverallScore', 'KitchenScore', 'ExterScore', 'BsmtFinTypeScore', 'BsmtScore', 'GarageScore']\n",
    "for c in range(0,5):\n",
    "    for updated in range(1,len(scoring_multiply)):\n",
    "        name = scoring_multiply[0]+'_and'+scoring_multiply[updated]\n",
    "        value = df_all[scoring_multiply[0]] + df_all[scoring_multiply[updated]]\n",
    "        df_all[name] = value\n",
    "        print('Feature created: ',name)\n",
    "    scoring_multiply.remove(scoring_multiply[0])"
   ]
  },
  {
   "cell_type": "code",
   "execution_count": 21,
   "id": "19200533",
   "metadata": {},
   "outputs": [
    {
     "name": "stdout",
     "output_type": "stream",
     "text": [
      "['YearBuilt', 'YearRemodAdd', 'YrSold', 'GarageYrBlt', 'GarageArea', 'PoolArea', 'MoSold']\n"
     ]
    }
   ],
   "source": [
    "col.extend(['GarageArea', 'PoolArea', 'MoSold'])\n",
    "print(col)"
   ]
  },
  {
   "cell_type": "markdown",
   "id": "33e25d55",
   "metadata": {},
   "source": [
    "## Creating New Polynomial Features "
   ]
  },
  {
   "cell_type": "code",
   "execution_count": 22,
   "id": "9c4b09a2",
   "metadata": {},
   "outputs": [],
   "source": [
    "quantitative = [f for f in df_all.columns if df_all.dtypes[f] != 'object']\n",
    "\n",
    "###SUSPECT####\n",
    "for c in col:\n",
    "    quantitative.remove(c)\n",
    "    \n",
    "train = pd.concat([train[['Id','SalePrice']], df_all[:1460]], axis=1)\n"
   ]
  },
  {
   "cell_type": "code",
   "execution_count": 23,
   "id": "f474b22c",
   "metadata": {},
   "outputs": [
    {
     "data": {
      "text/plain": [
       "<matplotlib.collections.PathCollection at 0x7fb4b417efa0>"
      ]
     },
     "execution_count": 23,
     "metadata": {},
     "output_type": "execute_result"
    },
    {
     "data": {
      "image/png": "[encoded data removed]",
      "text/plain": [
       "<Figure size 432x288 with 1 Axes>"
      ]
     },
     "metadata": {
      "needs_background": "light"
     },
     "output_type": "display_data"
    }
   ],
   "source": [
    "plt.scatter(x=np.log1p(train.SalePrice), y=train.OverallScore)"
   ]
  },
  {
   "cell_type": "code",
   "execution_count": 24,
   "id": "f56a3ce1",
   "metadata": {
    "scrolled": false
   },
   "outputs": [
    {
     "data": {
      "text/plain": [
       "SalePrice                           1.000000\n",
       "OverallQual                         0.790982\n",
       "AllSF                               0.778959\n",
       "AllFlrsSF                           0.716883\n",
       "GrLivArea                           0.708624\n",
       "TotalFinSF                          0.708047\n",
       "ExterScore_andBsmtScore             0.684020\n",
       "ExterQual                           0.682639\n",
       "KitchenQual                         0.659600\n",
       "BsmtQual                            0.650138\n",
       "OverallScore_andBsmtScore           0.649221\n",
       "KitchenScore_andBsmtScore           0.647773\n",
       "GarageCars                          0.640409\n",
       "TotalBath                           0.631731\n",
       "OverallScore_andBsmtFinTypeScore    0.617242\n",
       "TotalBsmtSF                         0.613581\n",
       "Name: SalePrice, dtype: float64"
      ]
     },
     "execution_count": 24,
     "metadata": {},
     "output_type": "execute_result"
    }
   ],
   "source": [
    "quantitative.append('SalePrice')\n",
    "corr = train[quantitative].corr()\n",
    "corr.sort_values(['SalePrice'], ascending=False, inplace=True)\n",
    "corr.SalePrice.head(16)"
   ]
  },
  {
   "cell_type": "code",
   "execution_count": 25,
   "id": "bc03a6ab",
   "metadata": {},
   "outputs": [],
   "source": [
    "# Create Polynomials Features\n",
    "for c in corr.SalePrice[1:15].index:\n",
    "    df_all[c + '_s2'] = df_all[c] ** 2\n",
    "    df_all[c + '_s3'] = df_all[c] ** 3\n",
    "    df_all[c + '_sqrt'] = np.sqrt(df_all[c])\n",
    "#     df_all[c + '_cbrt'] = np.cbrt(df_all[c])"
   ]
  },
  {
   "cell_type": "markdown",
   "id": "73e0e74b",
   "metadata": {},
   "source": [
    "## Skew"
   ]
  },
  {
   "cell_type": "code",
   "execution_count": 26,
   "id": "19dc1b0c",
   "metadata": {},
   "outputs": [
    {
     "name": "stdout",
     "output_type": "stream",
     "text": [
      "MiscVal                             21.947195\n",
      "LotArea                             12.822431\n",
      "TotalLot                            12.793661\n",
      "LowQualFinSF                        12.088761\n",
      "KitchenAbvGr                         4.302254\n",
      "BsmtFinSF2                           4.146034\n",
      "BsmtHalfBath                         3.931343\n",
      "BsmtFinType2                         3.371116\n",
      "MasVnrArea                           2.611549\n",
      "TotalFinSF                           1.835969\n",
      "LotFrontage                          1.645574\n",
      "AllSF                                1.515497\n",
      "1stFlrSF                             1.469604\n",
      "BsmtFinSF1                           1.425233\n",
      "BsmtFinTypeScore                     1.408689\n",
      "KitchenScore_andBsmtFinTypeScore     1.396594\n",
      "TotalPorchSF                         1.376649\n",
      "MSSubClass                           1.375457\n",
      "ExterCond                            1.315913\n",
      "BsmtFinTypeScore_andGarageScore      1.309428\n",
      "ExterScore_andBsmtFinTypeScore       1.302848\n",
      "GrLivArea                            1.269358\n",
      "AllFlrsSF                            1.252036\n",
      "BsmtExposure                         1.237196\n",
      "BsmtFinTypeScore_andBsmtScore        1.230268\n",
      "TotalBsmtFinSF                       1.178603\n",
      "TotalBsmtSF                          1.162484\n",
      "KitchenScore                         1.138671\n",
      "Total_BsmtUnfSf_LowQualFinSF         0.928005\n",
      "BsmtUnfSF                            0.919508\n",
      "2ndFlrSF                             0.861675\n",
      "ExterQual                            0.786382\n",
      "ExterScore                           0.781103\n",
      "TotRmsAbvGrd                         0.758367\n",
      "Fireplaces                           0.733495\n",
      "HalfBath                             0.694566\n",
      "BsmtFullBath                         0.623955\n",
      "KitchenScore_andExterScore           0.618866\n",
      "OverallCond                          0.570312\n",
      "OverallScore_andBsmtFinTypeScore     0.513259\n",
      "BsmtBath                             0.510790\n",
      "HeatingQC                           -0.549910\n",
      "GarageQual                          -2.239444\n",
      "PavedDrive                          -2.979084\n",
      "GarageCond                          -3.762217\n",
      "dtype: float64\n"
     ]
    }
   ],
   "source": [
    "#   Log Transform Low and High Skewness of Features\n",
    "quantitative.remove('SalePrice')\n",
    "skewness = (df_all[quantitative]).apply(lambda x: skew(x))\n",
    "\n",
    "skewness = skewness[abs(skewness) > 0.5]\n",
    "print(skewness.sort_values(ascending=False))\n",
    "df_all[skewness.index] = np.log1p(df_all[skewness.index])"
   ]
  },
  {
   "cell_type": "code",
   "execution_count": null,
   "id": "d329ea7a",
   "metadata": {},
   "outputs": [],
   "source": []
  },
  {
   "cell_type": "markdown",
   "id": "685fe626",
   "metadata": {},
   "source": [
    "## Fillna(0) "
   ]
  },
  {
   "cell_type": "code",
   "execution_count": 27,
   "id": "e02a936f",
   "metadata": {},
   "outputs": [
    {
     "data": {
      "text/plain": [
       "Series([], dtype: int64)"
      ]
     },
     "execution_count": 27,
     "metadata": {},
     "output_type": "execute_result"
    }
   ],
   "source": [
    "n = df_all.isnull().sum()\n",
    "n[n> 0]"
   ]
  },
  {
   "cell_type": "code",
   "execution_count": 28,
   "id": "3c0aa239",
   "metadata": {},
   "outputs": [],
   "source": [
    "df_all = df_all.fillna(0)"
   ]
  },
  {
   "cell_type": "code",
   "execution_count": 29,
   "id": "be70b4d5",
   "metadata": {},
   "outputs": [
    {
     "data": {
      "text/plain": [
       "Series([], dtype: int64)"
      ]
     },
     "execution_count": 29,
     "metadata": {},
     "output_type": "execute_result"
    }
   ],
   "source": [
    "n = df_all.isnull().sum()\n",
    "n[n> 0]"
   ]
  },
  {
   "cell_type": "markdown",
   "id": "988f688f",
   "metadata": {},
   "source": [
    "## Dummy Features "
   ]
  },
  {
   "cell_type": "code",
   "execution_count": 30,
   "id": "a3cb6414",
   "metadata": {
    "scrolled": true
   },
   "outputs": [
    {
     "name": "stdout",
     "output_type": "stream",
     "text": [
      "['MSZoning', 'Street', 'LotShape', 'LandContour', 'Utilities', 'LotConfig', 'LandSlope', 'Neighborhood', 'Condition1', 'Condition2', 'BldgType', 'HouseStyle', 'RoofStyle', 'RoofMatl', 'Exterior1st', 'Exterior2nd', 'MasVnrType', 'Foundation', 'Heating', 'CentralAir', 'Electrical', 'Functional', 'GarageType', 'SaleType', 'SaleCondition']\n"
     ]
    }
   ],
   "source": [
    "# qualitative.extend(col)\n",
    "print(qualitative)"
   ]
  },
  {
   "cell_type": "code",
   "execution_count": 31,
   "id": "20687472",
   "metadata": {},
   "outputs": [
    {
     "name": "stdout",
     "output_type": "stream",
     "text": [
      "['MSZoning', 'Street', 'LotShape', 'LandContour', 'Utilities', 'LotConfig', 'LandSlope', 'Neighborhood', 'Condition1', 'Condition2', 'BldgType', 'HouseStyle', 'RoofStyle', 'RoofMatl', 'Exterior1st', 'Exterior2nd', 'MasVnrType', 'Foundation', 'Heating', 'CentralAir', 'Electrical', 'Functional', 'GarageType', 'SaleType', 'SaleCondition', 'YearBuilt', 'YearRemodAdd', 'YrSold', 'GarageYrBlt', 'GarageArea', 'PoolArea', 'MoSold']\n"
     ]
    }
   ],
   "source": [
    "qualitative = [f for f in df_all.columns if df_all.dtypes[f] == 'object']\n",
    "qualitative.extend(col)\n",
    "print(qualitative)"
   ]
  },
  {
   "cell_type": "code",
   "execution_count": 32,
   "id": "af77c596",
   "metadata": {},
   "outputs": [
    {
     "name": "stdout",
     "output_type": "stream",
     "text": [
      "Before dummy feature: (2919, 142)\n",
      "Before dummy feature: (2919, 335)\n"
     ]
    }
   ],
   "source": [
    "# Dummy Features\n",
    "print(f'Before dummy feature: {df_all.shape}')\n",
    "df_all = pd.get_dummies(df_all, columns=qualitative)\n",
    "print(f'Before dummy feature: {df_all.shape}')\n",
    "# print(\"Remaining NAs for categorical features in train : \" + str(df.isnull().values.sum()))"
   ]
  },
  {
   "cell_type": "markdown",
   "id": "84271b14",
   "metadata": {},
   "source": [
    "## Outliers "
   ]
  },
  {
   "cell_type": "code",
   "execution_count": 33,
   "id": "40d3adc5",
   "metadata": {},
   "outputs": [],
   "source": [
    "# Check SalePrice Skewness\n",
    "train = pd.concat([train[['Id','SalePrice']], df_all[:1460]],axis=1)"
   ]
  },
  {
   "cell_type": "code",
   "execution_count": 34,
   "id": "76eb4815",
   "metadata": {},
   "outputs": [
    {
     "data": {
      "text/plain": [
       "<AxesSubplot:xlabel='SalePrice', ylabel='Count'>"
      ]
     },
     "execution_count": 34,
     "metadata": {},
     "output_type": "execute_result"
    },
    {
     "data": {
      "image/png": "[encoded data removed]",
      "text/plain": [
       "<Figure size 432x288 with 1 Axes>"
      ]
     },
     "metadata": {
      "needs_background": "light"
     },
     "output_type": "display_data"
    }
   ],
   "source": [
    "train['SalePrice'] = np.log1p(train.SalePrice)\n",
    "y = train['SalePrice']\n",
    "sns.histplot(x=y)"
   ]
  },
  {
   "cell_type": "code",
   "execution_count": 35,
   "id": "c8d65b5b",
   "metadata": {},
   "outputs": [
    {
     "data": {
      "text/plain": [
       "<AxesSubplot:xlabel='SalePrice', ylabel='GrLivArea'>"
      ]
     },
     "execution_count": 35,
     "metadata": {},
     "output_type": "execute_result"
    },
    {
     "data": {
      "image/png": "[encoded data removed]",
      "text/plain": [
       "<Figure size 432x288 with 1 Axes>"
      ]
     },
     "metadata": {
      "needs_background": "light"
     },
     "output_type": "display_data"
    }
   ],
   "source": [
    "# Remove Outliers\n",
    "sns.scatterplot(data=train, x='SalePrice', y='GrLivArea')"
   ]
  },
  {
   "cell_type": "code",
   "execution_count": 36,
   "id": "34cc018d",
   "metadata": {},
   "outputs": [],
   "source": [
    "train = train[train.SalePrice<13.5]\n",
    "train = train[train.SalePrice>10.75]\n",
    "train = train[train.GrLivArea<8.25]"
   ]
  },
  {
   "cell_type": "code",
   "execution_count": 37,
   "id": "098c64db",
   "metadata": {
    "scrolled": true
   },
   "outputs": [
    {
     "data": {
      "text/plain": [
       "<AxesSubplot:xlabel='SalePrice', ylabel='GrLivArea'>"
      ]
     },
     "execution_count": 37,
     "metadata": {},
     "output_type": "execute_result"
    },
    {
     "data": {
      "image/png": "[encoded data removed]",
      "text/plain": [
       "<Figure size 432x288 with 1 Axes>"
      ]
     },
     "metadata": {
      "needs_background": "light"
     },
     "output_type": "display_data"
    }
   ],
   "source": [
    "sns.scatterplot(data=train, x='SalePrice', y='GrLivArea')"
   ]
  },
  {
   "cell_type": "code",
   "execution_count": 38,
   "id": "63d423c9",
   "metadata": {},
   "outputs": [],
   "source": [
    "train.to_csv('train_v2.csv',index=False)\n",
    "test = df_all[1460:]\n",
    "test.to_csv('test_v2.csv', index=False)"
   ]
  },
  {
   "cell_type": "code",
   "execution_count": 39,
   "id": "5f531d82",
   "metadata": {
    "scrolled": true
   },
   "outputs": [
    {
     "data": {
      "text/html": [
       "<div>\n",
       "<style scoped>\n",
       "    .dataframe tbody tr th:only-of-type {\n",
       "        vertical-align: middle;\n",
       "    }\n",
       "\n",
       "    .dataframe tbody tr th {\n",
       "        vertical-align: top;\n",
       "    }\n",
       "\n",
       "    .dataframe thead th {\n",
       "        text-align: right;\n",
       "    }\n",
       "</style>\n",
       "<table border=\"1\" class=\"dataframe\">\n",
       "  <thead>\n",
       "    <tr style=\"text-align: right;\">\n",
       "      <th></th>\n",
       "      <th>MSSubClass</th>\n",
       "      <th>LotFrontage</th>\n",
       "      <th>LotArea</th>\n",
       "      <th>OverallQual</th>\n",
       "      <th>OverallCond</th>\n",
       "      <th>MasVnrArea</th>\n",
       "      <th>ExterQual</th>\n",
       "      <th>ExterCond</th>\n",
       "      <th>BsmtQual</th>\n",
       "      <th>BsmtCond</th>\n",
       "      <th>...</th>\n",
       "      <th>MoSold_3</th>\n",
       "      <th>MoSold_4</th>\n",
       "      <th>MoSold_5</th>\n",
       "      <th>MoSold_6</th>\n",
       "      <th>MoSold_7</th>\n",
       "      <th>MoSold_8</th>\n",
       "      <th>MoSold_9</th>\n",
       "      <th>MoSold_10</th>\n",
       "      <th>MoSold_11</th>\n",
       "      <th>MoSold_12</th>\n",
       "    </tr>\n",
       "  </thead>\n",
       "  <tbody>\n",
       "    <tr>\n",
       "      <th>0</th>\n",
       "      <td>4.110874</td>\n",
       "      <td>4.189655</td>\n",
       "      <td>9.042040</td>\n",
       "      <td>7</td>\n",
       "      <td>1.791759</td>\n",
       "      <td>5.283204</td>\n",
       "      <td>1.609438</td>\n",
       "      <td>1.386294</td>\n",
       "      <td>4</td>\n",
       "      <td>3</td>\n",
       "      <td>...</td>\n",
       "      <td>0</td>\n",
       "      <td>0</td>\n",
       "      <td>0</td>\n",
       "      <td>0</td>\n",
       "      <td>0</td>\n",
       "      <td>0</td>\n",
       "      <td>0</td>\n",
       "      <td>0</td>\n",
       "      <td>0</td>\n",
       "      <td>0</td>\n",
       "    </tr>\n",
       "    <tr>\n",
       "      <th>1</th>\n",
       "      <td>3.044522</td>\n",
       "      <td>4.394449</td>\n",
       "      <td>9.169623</td>\n",
       "      <td>6</td>\n",
       "      <td>2.197225</td>\n",
       "      <td>0.000000</td>\n",
       "      <td>1.386294</td>\n",
       "      <td>1.386294</td>\n",
       "      <td>4</td>\n",
       "      <td>3</td>\n",
       "      <td>...</td>\n",
       "      <td>0</td>\n",
       "      <td>0</td>\n",
       "      <td>1</td>\n",
       "      <td>0</td>\n",
       "      <td>0</td>\n",
       "      <td>0</td>\n",
       "      <td>0</td>\n",
       "      <td>0</td>\n",
       "      <td>0</td>\n",
       "      <td>0</td>\n",
       "    </tr>\n",
       "    <tr>\n",
       "      <th>2</th>\n",
       "      <td>4.110874</td>\n",
       "      <td>4.234107</td>\n",
       "      <td>9.328212</td>\n",
       "      <td>7</td>\n",
       "      <td>1.791759</td>\n",
       "      <td>5.093750</td>\n",
       "      <td>1.609438</td>\n",
       "      <td>1.386294</td>\n",
       "      <td>4</td>\n",
       "      <td>3</td>\n",
       "      <td>...</td>\n",
       "      <td>0</td>\n",
       "      <td>0</td>\n",
       "      <td>0</td>\n",
       "      <td>0</td>\n",
       "      <td>0</td>\n",
       "      <td>0</td>\n",
       "      <td>1</td>\n",
       "      <td>0</td>\n",
       "      <td>0</td>\n",
       "      <td>0</td>\n",
       "    </tr>\n",
       "    <tr>\n",
       "      <th>3</th>\n",
       "      <td>4.262680</td>\n",
       "      <td>4.110874</td>\n",
       "      <td>9.164401</td>\n",
       "      <td>7</td>\n",
       "      <td>1.791759</td>\n",
       "      <td>0.000000</td>\n",
       "      <td>1.386294</td>\n",
       "      <td>1.386294</td>\n",
       "      <td>3</td>\n",
       "      <td>4</td>\n",
       "      <td>...</td>\n",
       "      <td>0</td>\n",
       "      <td>0</td>\n",
       "      <td>0</td>\n",
       "      <td>0</td>\n",
       "      <td>0</td>\n",
       "      <td>0</td>\n",
       "      <td>0</td>\n",
       "      <td>0</td>\n",
       "      <td>0</td>\n",
       "      <td>0</td>\n",
       "    </tr>\n",
       "    <tr>\n",
       "      <th>4</th>\n",
       "      <td>4.110874</td>\n",
       "      <td>4.442651</td>\n",
       "      <td>9.565284</td>\n",
       "      <td>8</td>\n",
       "      <td>1.791759</td>\n",
       "      <td>5.860786</td>\n",
       "      <td>1.609438</td>\n",
       "      <td>1.386294</td>\n",
       "      <td>4</td>\n",
       "      <td>3</td>\n",
       "      <td>...</td>\n",
       "      <td>0</td>\n",
       "      <td>0</td>\n",
       "      <td>0</td>\n",
       "      <td>0</td>\n",
       "      <td>0</td>\n",
       "      <td>0</td>\n",
       "      <td>0</td>\n",
       "      <td>0</td>\n",
       "      <td>0</td>\n",
       "      <td>1</td>\n",
       "    </tr>\n",
       "  </tbody>\n",
       "</table>\n",
       "<p>5 rows × 335 columns</p>\n",
       "</div>"
      ],
      "text/plain": [
       "   MSSubClass  LotFrontage   LotArea  OverallQual  OverallCond  MasVnrArea  \\\n",
       "0    4.110874     4.189655  9.042040            7     1.791759    5.283204   \n",
       "1    3.044522     4.394449  9.169623            6     2.197225    0.000000   \n",
       "2    4.110874     4.234107  9.328212            7     1.791759    5.093750   \n",
       "3    4.262680     4.110874  9.164401            7     1.791759    0.000000   \n",
       "4    4.110874     4.442651  9.565284            8     1.791759    5.860786   \n",
       "\n",
       "   ExterQual  ExterCond  BsmtQual  BsmtCond  ...  MoSold_3  MoSold_4  \\\n",
       "0   1.609438   1.386294         4         3  ...         0         0   \n",
       "1   1.386294   1.386294         4         3  ...         0         0   \n",
       "2   1.609438   1.386294         4         3  ...         0         0   \n",
       "3   1.386294   1.386294         3         4  ...         0         0   \n",
       "4   1.609438   1.386294         4         3  ...         0         0   \n",
       "\n",
       "   MoSold_5  MoSold_6  MoSold_7  MoSold_8  MoSold_9  MoSold_10  MoSold_11  \\\n",
       "0         0         0         0         0         0          0          0   \n",
       "1         1         0         0         0         0          0          0   \n",
       "2         0         0         0         0         1          0          0   \n",
       "3         0         0         0         0         0          0          0   \n",
       "4         0         0         0         0         0          0          0   \n",
       "\n",
       "   MoSold_12  \n",
       "0          0  \n",
       "1          0  \n",
       "2          0  \n",
       "3          0  \n",
       "4          1  \n",
       "\n",
       "[5 rows x 335 columns]"
      ]
     },
     "execution_count": 39,
     "metadata": {},
     "output_type": "execute_result"
    }
   ],
   "source": [
    "y = train.SalePrice\n",
    "train = train.drop(columns=['Id','SalePrice'])\n",
    "train.head()"
   ]
  },
  {
   "cell_type": "code",
   "execution_count": null,
   "id": "5413153e",
   "metadata": {},
   "outputs": [],
   "source": []
  },
  {
   "cell_type": "markdown",
   "id": "069014fa",
   "metadata": {},
   "source": [
    "# ElasticNet "
   ]
  },
  {
   "cell_type": "code",
   "execution_count": null,
   "id": "1e282ba8",
   "metadata": {},
   "outputs": [],
   "source": [
    "print(f'Train: {train.shape}')\n",
    "X_train, X_test, y_train, y_test = train_test_split(train, y, test_size = 0.30, random_state=0)\n",
    "print(f'X_train : {X_train.shape}')\n",
    "print(f'X_test : {X_test.shape}')\n",
    "print(f'y_train : {y_train.shape}')\n",
    "print(f'y_test : {y_test.shape}')"
   ]
  },
  {
   "cell_type": "code",
   "execution_count": null,
   "id": "8120d59d",
   "metadata": {},
   "outputs": [],
   "source": [
    "# Standardize numerical features\n",
    "stdSc = StandardScaler()\n",
    "X_train = pd.DataFrame(stdSc.fit_transform(X_train), columns=X_train.columns, index=X_train.index)\n",
    "X_test = pd.DataFrame(stdSc.transform(X_test), columns=X_test.columns, index=X_test.index)"
   ]
  },
  {
   "cell_type": "code",
   "execution_count": null,
   "id": "9de93738",
   "metadata": {},
   "outputs": [],
   "source": [
    "scorer = make_scorer(mean_squared_error, greater_is_better = False)\n",
    "\n",
    "def rmse_cv_train(model):\n",
    "    rmse= np.sqrt(-cross_val_score(model, X_train, y_train, scoring = scorer, cv = 10))\n",
    "    return(rmse)\n",
    "\n",
    "def rmse_cv_test(model):\n",
    "    rmse= np.sqrt(-cross_val_score(model, X_test, y_test, scoring = scorer, cv = 10))\n",
    "    return(rmse)"
   ]
  },
  {
   "cell_type": "code",
   "execution_count": null,
   "id": "efa134cc",
   "metadata": {},
   "outputs": [],
   "source": [
    "# Modelling\n",
    "elasticNet = ElasticNetCV(l1_ratio = [0.1, 0.3, 0.5, 0.6, 0.7, 0.8, 0.85, 0.9, 0.95, 1],\n",
    "                          alphas = [0.0001, 0.0003, 0.0006, 0.001, 0.003, 0.006, \n",
    "                                    0.01, 0.03, 0.06, 0.1, 0.3, 0.6, 1, 3, 6], \n",
    "                          max_iter = 100000, cv = 10)"
   ]
  },
  {
   "cell_type": "code",
   "execution_count": null,
   "id": "1b4176f0",
   "metadata": {},
   "outputs": [],
   "source": [
    "elasticNet.fit(X_train, y_train)\n",
    "alpha = elasticNet.alpha_\n",
    "ratio = elasticNet.l1_ratio_\n",
    "print(\"Best l1_ratio :\", ratio)\n",
    "print(\"Best alpha :\", alpha )"
   ]
  },
  {
   "cell_type": "code",
   "execution_count": null,
   "id": "7cc02fe9",
   "metadata": {},
   "outputs": [],
   "source": [
    "print(\"Try again for more precision with l1_ratio centered around \" + str(ratio))\n",
    "elasticNet = ElasticNetCV(l1_ratio = [ratio * .85, ratio * .9, ratio * .95, ratio, ratio * 1.05, ratio * 1.1, ratio * 1.15],\n",
    "                          alphas = [0.0001, 0.0003, 0.0006, 0.001, 0.003, 0.006, 0.01, 0.03, 0.06, 0.1, 0.3, 0.6, 1, 3, 6], \n",
    "                          max_iter = 100000, cv = 10)"
   ]
  },
  {
   "cell_type": "code",
   "execution_count": null,
   "id": "525d7ec1",
   "metadata": {},
   "outputs": [],
   "source": [
    "elasticNet.fit(X_train, y_train)\n",
    "if (elasticNet.l1_ratio_ > 1):\n",
    "    elasticNet.l1_ratio_ = 1    \n",
    "alpha = elasticNet.alpha_\n",
    "ratio = elasticNet.l1_ratio_\n",
    "print(\"Best l1_ratio :\", ratio)\n",
    "print(\"Best alpha :\", alpha )"
   ]
  },
  {
   "cell_type": "code",
   "execution_count": null,
   "id": "430db71c",
   "metadata": {},
   "outputs": [],
   "source": [
    "print(\"Now try again for more precision on alpha, with l1_ratio fixed at \" + str(ratio) + \n",
    "      \" and alpha centered around \" + str(alpha))\n",
    "elasticNet = ElasticNetCV(l1_ratio = ratio,\n",
    "                          alphas = [alpha * .6, alpha * .65, alpha * .7, alpha * .75, alpha * .8, alpha * .85, alpha * .9, \n",
    "                                    alpha * .95, alpha, alpha * 1.05, alpha * 1.1, alpha * 1.15, alpha * 1.25, alpha * 1.3, \n",
    "                                    alpha * 1.35, alpha * 1.4], \n",
    "                          max_iter = 100000, cv = 10)\n",
    "elasticNet.fit(X_train, y_train)\n",
    "if (elasticNet.l1_ratio_ > 1):\n",
    "    elasticNet.l1_ratio_ = 1    \n",
    "alpha = elasticNet.alpha_\n",
    "ratio = elasticNet.l1_ratio_\n",
    "print(\"Best l1_ratio :\", ratio)\n",
    "print(\"Best alpha :\", alpha )"
   ]
  },
  {
   "cell_type": "code",
   "execution_count": null,
   "id": "cbfafa4c",
   "metadata": {},
   "outputs": [],
   "source": [
    "print(\"ElasticNet RMSE on Training set :\", rmse_cv_train(elasticNet).mean())\n",
    "print(\"ElasticNet RMSE on Test set :\", rmse_cv_test(elasticNet).mean())\n",
    "y_train_ela = elasticNet.predict(X_train)\n",
    "y_test_ela = elasticNet.predict(X_test)\n",
    "\n",
    "# Plot residuals\n",
    "plt.scatter(y_train_ela, y_train_ela - y_train, c = \"blue\", marker = \"s\", label = \"Training data\")\n",
    "plt.scatter(y_test_ela, y_test_ela - y_test, c = \"lightgreen\", marker = \"s\", label = \"Validation data\")\n",
    "plt.title(\"Linear regression with ElasticNet regularization\")\n",
    "plt.xlabel(\"Predicted values\")\n",
    "plt.ylabel(\"Residuals\")\n",
    "plt.legend(loc = \"upper left\")\n",
    "plt.hlines(y = 0, xmin = 10.5, xmax = 13.5, color = \"red\")\n",
    "plt.show()\n",
    "\n",
    "# Plot predictions\n",
    "plt.scatter(y_train, y_train_ela, c = \"blue\", marker = \"s\", label = \"Training data\")\n",
    "plt.scatter(y_test, y_test_ela, c = \"lightgreen\", marker = \"s\", label = \"Validation data\")\n",
    "plt.title(\"Linear regression with ElasticNet regularization\")\n",
    "plt.xlabel(\"Predicted values\")\n",
    "plt.ylabel(\"Real values\")\n",
    "plt.legend(loc = \"upper left\")\n",
    "plt.plot([10.5, 13.5], [10.5, 13.5], c = \"red\")\n",
    "plt.show()\n",
    "\n",
    "# Plot important coefficients\n",
    "coefs = pd.Series(elasticNet.coef_, index = X_train.columns)\n",
    "print(\"ElasticNet picked \" + str(sum(coefs != 0)) + \" features and eliminated the other \" +  str(sum(coefs == 0)) + \" features\")\n",
    "imp_coefs = pd.concat([coefs.sort_values().head(10),\n",
    "                     coefs.sort_values().tail(10)])\n",
    "imp_coefs.plot(kind = \"barh\")\n",
    "plt.title(\"Coefficients in the ElasticNet Model\")\n",
    "plt.show()"
   ]
  },
  {
   "cell_type": "markdown",
   "id": "ab9710af",
   "metadata": {},
   "source": [
    "# 6. Test set prediction "
   ]
  },
  {
   "cell_type": "code",
   "execution_count": null,
   "id": "1bad02bd",
   "metadata": {},
   "outputs": [],
   "source": [
    "df_all.shape"
   ]
  },
  {
   "cell_type": "code",
   "execution_count": null,
   "id": "7e63c6a2",
   "metadata": {},
   "outputs": [],
   "source": [
    "test = df_all[1460:]\n",
    "test.head()"
   ]
  },
  {
   "cell_type": "code",
   "execution_count": null,
   "id": "93596501",
   "metadata": {},
   "outputs": [],
   "source": [
    "test = pd.DataFrame(stdSc.transform(test), columns=test.columns, index=test.index)"
   ]
  },
  {
   "cell_type": "code",
   "execution_count": null,
   "id": "2c798a0b",
   "metadata": {},
   "outputs": [],
   "source": [
    "print(f'Test Shape: {test.shape}')"
   ]
  },
  {
   "cell_type": "code",
   "execution_count": null,
   "id": "6e1bc826",
   "metadata": {},
   "outputs": [],
   "source": [
    "test_pred = elasticNet.predict(test)\n",
    "print(test_pred)"
   ]
  },
  {
   "cell_type": "code",
   "execution_count": null,
   "id": "12f88eeb",
   "metadata": {},
   "outputs": [],
   "source": [
    "test_pred = np.expm1(test_pred)\n",
    "print(test_pred)"
   ]
  },
  {
   "cell_type": "code",
   "execution_count": null,
   "id": "3764745f",
   "metadata": {},
   "outputs": [],
   "source": [
    "submission = pd.concat([pd.read_csv('test.csv').Id, pd.DataFrame(test_pred, columns=['SalePrice'])], axis=1)"
   ]
  },
  {
   "cell_type": "code",
   "execution_count": null,
   "id": "f372778c",
   "metadata": {},
   "outputs": [],
   "source": [
    "submission.to_csv('Aug16_v11.csv',index=False)"
   ]
  },
  {
   "cell_type": "code",
   "execution_count": null,
   "id": "70684295",
   "metadata": {},
   "outputs": [],
   "source": []
  },
  {
   "cell_type": "code",
   "execution_count": null,
   "id": "07365875",
   "metadata": {},
   "outputs": [],
   "source": []
  },
  {
   "cell_type": "code",
   "execution_count": null,
   "id": "56b76ab2",
   "metadata": {},
   "outputs": [],
   "source": []
  },
  {
   "cell_type": "code",
   "execution_count": null,
   "id": "ef2703bc",
   "metadata": {},
   "outputs": [],
   "source": []
  },
  {
   "cell_type": "code",
   "execution_count": null,
   "id": "4601da50",
   "metadata": {},
   "outputs": [],
   "source": []
  }
 ],
 "metadata": {
  "kernelspec": {
   "display_name": "Python 3 (ipykernel)",
   "language": "python",
   "name": "python3"
  },
  "language_info": {
   "codemirror_mode": {
    "name": "ipython",
    "version": 3
   },
   "file_extension": ".py",
   "mimetype": "text/x-python",
   "name": "python",
   "nbconvert_exporter": "python",
   "pygments_lexer": "ipython3",
   "version": "3.9.6"
  }
 },
 "nbformat": 4,
 "nbformat_minor": 5
}
