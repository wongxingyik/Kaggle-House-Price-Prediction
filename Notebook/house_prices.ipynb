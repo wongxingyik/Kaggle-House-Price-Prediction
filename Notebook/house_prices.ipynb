{
 "cells": [
  {
   "cell_type": "code",
   "execution_count": 1,
   "id": "6cf2fc2b",
   "metadata": {},
   "outputs": [],
   "source": [
    "import numpy as np\n",
    "import pandas as pd\n",
    "import seaborn as sb\n",
    "import matplotlib.pyplot as plt\n",
    "\n",
    "%matplotlib inline"
   ]
  },
  {
   "cell_type": "markdown",
   "id": "2e4bbaba",
   "metadata": {},
   "source": [
    "# 1. Data Import, Understanding and Cleaning\n",
    "\n",
    "## 1.1 Understand the dataset\n",
    "1. shape\n",
    "2. columns' name\n",
    "3. data types"
   ]
  },
  {
   "cell_type": "code",
   "execution_count": 2,
   "id": "60257d32",
   "metadata": {},
   "outputs": [
    {
     "data": {
      "text/html": [
       "<div>\n",
       "<style scoped>\n",
       "    .dataframe tbody tr th:only-of-type {\n",
       "        vertical-align: middle;\n",
       "    }\n",
       "\n",
       "    .dataframe tbody tr th {\n",
       "        vertical-align: top;\n",
       "    }\n",
       "\n",
       "    .dataframe thead th {\n",
       "        text-align: right;\n",
       "    }\n",
       "</style>\n",
       "<table border=\"1\" class=\"dataframe\">\n",
       "  <thead>\n",
       "    <tr style=\"text-align: right;\">\n",
       "      <th></th>\n",
       "      <th>Id</th>\n",
       "      <th>MSSubClass</th>\n",
       "      <th>MSZoning</th>\n",
       "      <th>LotFrontage</th>\n",
       "      <th>LotArea</th>\n",
       "      <th>Street</th>\n",
       "      <th>Alley</th>\n",
       "      <th>LotShape</th>\n",
       "      <th>LandContour</th>\n",
       "      <th>Utilities</th>\n",
       "      <th>...</th>\n",
       "      <th>PoolArea</th>\n",
       "      <th>PoolQC</th>\n",
       "      <th>Fence</th>\n",
       "      <th>MiscFeature</th>\n",
       "      <th>MiscVal</th>\n",
       "      <th>MoSold</th>\n",
       "      <th>YrSold</th>\n",
       "      <th>SaleType</th>\n",
       "      <th>SaleCondition</th>\n",
       "      <th>SalePrice</th>\n",
       "    </tr>\n",
       "  </thead>\n",
       "  <tbody>\n",
       "    <tr>\n",
       "      <th>0</th>\n",
       "      <td>1</td>\n",
       "      <td>60</td>\n",
       "      <td>RL</td>\n",
       "      <td>65.0</td>\n",
       "      <td>8450</td>\n",
       "      <td>Pave</td>\n",
       "      <td>NaN</td>\n",
       "      <td>Reg</td>\n",
       "      <td>Lvl</td>\n",
       "      <td>AllPub</td>\n",
       "      <td>...</td>\n",
       "      <td>0</td>\n",
       "      <td>NaN</td>\n",
       "      <td>NaN</td>\n",
       "      <td>NaN</td>\n",
       "      <td>0</td>\n",
       "      <td>2</td>\n",
       "      <td>2008</td>\n",
       "      <td>WD</td>\n",
       "      <td>Normal</td>\n",
       "      <td>208500</td>\n",
       "    </tr>\n",
       "    <tr>\n",
       "      <th>1</th>\n",
       "      <td>2</td>\n",
       "      <td>20</td>\n",
       "      <td>RL</td>\n",
       "      <td>80.0</td>\n",
       "      <td>9600</td>\n",
       "      <td>Pave</td>\n",
       "      <td>NaN</td>\n",
       "      <td>Reg</td>\n",
       "      <td>Lvl</td>\n",
       "      <td>AllPub</td>\n",
       "      <td>...</td>\n",
       "      <td>0</td>\n",
       "      <td>NaN</td>\n",
       "      <td>NaN</td>\n",
       "      <td>NaN</td>\n",
       "      <td>0</td>\n",
       "      <td>5</td>\n",
       "      <td>2007</td>\n",
       "      <td>WD</td>\n",
       "      <td>Normal</td>\n",
       "      <td>181500</td>\n",
       "    </tr>\n",
       "    <tr>\n",
       "      <th>2</th>\n",
       "      <td>3</td>\n",
       "      <td>60</td>\n",
       "      <td>RL</td>\n",
       "      <td>68.0</td>\n",
       "      <td>11250</td>\n",
       "      <td>Pave</td>\n",
       "      <td>NaN</td>\n",
       "      <td>IR1</td>\n",
       "      <td>Lvl</td>\n",
       "      <td>AllPub</td>\n",
       "      <td>...</td>\n",
       "      <td>0</td>\n",
       "      <td>NaN</td>\n",
       "      <td>NaN</td>\n",
       "      <td>NaN</td>\n",
       "      <td>0</td>\n",
       "      <td>9</td>\n",
       "      <td>2008</td>\n",
       "      <td>WD</td>\n",
       "      <td>Normal</td>\n",
       "      <td>223500</td>\n",
       "    </tr>\n",
       "    <tr>\n",
       "      <th>3</th>\n",
       "      <td>4</td>\n",
       "      <td>70</td>\n",
       "      <td>RL</td>\n",
       "      <td>60.0</td>\n",
       "      <td>9550</td>\n",
       "      <td>Pave</td>\n",
       "      <td>NaN</td>\n",
       "      <td>IR1</td>\n",
       "      <td>Lvl</td>\n",
       "      <td>AllPub</td>\n",
       "      <td>...</td>\n",
       "      <td>0</td>\n",
       "      <td>NaN</td>\n",
       "      <td>NaN</td>\n",
       "      <td>NaN</td>\n",
       "      <td>0</td>\n",
       "      <td>2</td>\n",
       "      <td>2006</td>\n",
       "      <td>WD</td>\n",
       "      <td>Abnorml</td>\n",
       "      <td>140000</td>\n",
       "    </tr>\n",
       "    <tr>\n",
       "      <th>4</th>\n",
       "      <td>5</td>\n",
       "      <td>60</td>\n",
       "      <td>RL</td>\n",
       "      <td>84.0</td>\n",
       "      <td>14260</td>\n",
       "      <td>Pave</td>\n",
       "      <td>NaN</td>\n",
       "      <td>IR1</td>\n",
       "      <td>Lvl</td>\n",
       "      <td>AllPub</td>\n",
       "      <td>...</td>\n",
       "      <td>0</td>\n",
       "      <td>NaN</td>\n",
       "      <td>NaN</td>\n",
       "      <td>NaN</td>\n",
       "      <td>0</td>\n",
       "      <td>12</td>\n",
       "      <td>2008</td>\n",
       "      <td>WD</td>\n",
       "      <td>Normal</td>\n",
       "      <td>250000</td>\n",
       "    </tr>\n",
       "  </tbody>\n",
       "</table>\n",
       "<p>5 rows × 81 columns</p>\n",
       "</div>"
      ],
      "text/plain": [
       "   Id  MSSubClass MSZoning  LotFrontage  LotArea Street Alley LotShape  \\\n",
       "0   1          60       RL         65.0     8450   Pave   NaN      Reg   \n",
       "1   2          20       RL         80.0     9600   Pave   NaN      Reg   \n",
       "2   3          60       RL         68.0    11250   Pave   NaN      IR1   \n",
       "3   4          70       RL         60.0     9550   Pave   NaN      IR1   \n",
       "4   5          60       RL         84.0    14260   Pave   NaN      IR1   \n",
       "\n",
       "  LandContour Utilities  ... PoolArea PoolQC Fence MiscFeature MiscVal MoSold  \\\n",
       "0         Lvl    AllPub  ...        0    NaN   NaN         NaN       0      2   \n",
       "1         Lvl    AllPub  ...        0    NaN   NaN         NaN       0      5   \n",
       "2         Lvl    AllPub  ...        0    NaN   NaN         NaN       0      9   \n",
       "3         Lvl    AllPub  ...        0    NaN   NaN         NaN       0      2   \n",
       "4         Lvl    AllPub  ...        0    NaN   NaN         NaN       0     12   \n",
       "\n",
       "  YrSold  SaleType  SaleCondition  SalePrice  \n",
       "0   2008        WD         Normal     208500  \n",
       "1   2007        WD         Normal     181500  \n",
       "2   2008        WD         Normal     223500  \n",
       "3   2006        WD        Abnorml     140000  \n",
       "4   2008        WD         Normal     250000  \n",
       "\n",
       "[5 rows x 81 columns]"
      ]
     },
     "execution_count": 2,
     "metadata": {},
     "output_type": "execute_result"
    }
   ],
   "source": [
    "df_train = pd.read_csv('train.csv')\n",
    "df_train.head()"
   ]
  },
  {
   "cell_type": "code",
   "execution_count": 3,
   "id": "fad0b2a9",
   "metadata": {},
   "outputs": [
    {
     "data": {
      "text/plain": [
       "(1460, 81)"
      ]
     },
     "execution_count": 3,
     "metadata": {},
     "output_type": "execute_result"
    }
   ],
   "source": [
    "df_train.shape"
   ]
  },
  {
   "cell_type": "code",
   "execution_count": 4,
   "id": "2dc01b2f",
   "metadata": {},
   "outputs": [
    {
     "data": {
      "text/plain": [
       "Index(['Id', 'MSSubClass', 'MSZoning', 'LotFrontage', 'LotArea', 'Street',\n",
       "       'Alley', 'LotShape', 'LandContour', 'Utilities', 'LotConfig',\n",
       "       'LandSlope', 'Neighborhood', 'Condition1', 'Condition2', 'BldgType',\n",
       "       'HouseStyle', 'OverallQual', 'OverallCond', 'YearBuilt', 'YearRemodAdd',\n",
       "       'RoofStyle', 'RoofMatl', 'Exterior1st', 'Exterior2nd', 'MasVnrType',\n",
       "       'MasVnrArea', 'ExterQual', 'ExterCond', 'Foundation', 'BsmtQual',\n",
       "       'BsmtCond', 'BsmtExposure', 'BsmtFinType1', 'BsmtFinSF1',\n",
       "       'BsmtFinType2', 'BsmtFinSF2', 'BsmtUnfSF', 'TotalBsmtSF', 'Heating',\n",
       "       'HeatingQC', 'CentralAir', 'Electrical', '1stFlrSF', '2ndFlrSF',\n",
       "       'LowQualFinSF', 'GrLivArea', 'BsmtFullBath', 'BsmtHalfBath', 'FullBath',\n",
       "       'HalfBath', 'BedroomAbvGr', 'KitchenAbvGr', 'KitchenQual',\n",
       "       'TotRmsAbvGrd', 'Functional', 'Fireplaces', 'FireplaceQu', 'GarageType',\n",
       "       'GarageYrBlt', 'GarageFinish', 'GarageCars', 'GarageArea', 'GarageQual',\n",
       "       'GarageCond', 'PavedDrive', 'WoodDeckSF', 'OpenPorchSF',\n",
       "       'EnclosedPorch', '3SsnPorch', 'ScreenPorch', 'PoolArea', 'PoolQC',\n",
       "       'Fence', 'MiscFeature', 'MiscVal', 'MoSold', 'YrSold', 'SaleType',\n",
       "       'SaleCondition', 'SalePrice'],\n",
       "      dtype='object')"
      ]
     },
     "execution_count": 4,
     "metadata": {},
     "output_type": "execute_result"
    }
   ],
   "source": [
    "df_train.columns"
   ]
  },
  {
   "cell_type": "code",
   "execution_count": 5,
   "id": "09973488",
   "metadata": {},
   "outputs": [
    {
     "name": "stdout",
     "output_type": "stream",
     "text": [
      "(1456, 81)\n"
     ]
    }
   ],
   "source": [
    "(df_train['GrLivArea']>4000).sum()\n",
    "\n",
    "df_train = df_train[df_train.GrLivArea < 4000]\n",
    "print(df_train.shape)"
   ]
  },
  {
   "cell_type": "markdown",
   "id": "30dfc62a",
   "metadata": {},
   "source": [
    "## 1.2 Check null and missing value in your data\n",
    "Steps: \n",
    "1. use null to check value\n",
    "2. get null columns name\n",
    "3. get null data types"
   ]
  },
  {
   "cell_type": "code",
   "execution_count": 6,
   "id": "a1c04533",
   "metadata": {},
   "outputs": [
    {
     "data": {
      "text/plain": [
       "<AxesSubplot:>"
      ]
     },
     "execution_count": 6,
     "metadata": {},
     "output_type": "execute_result"
    },
    {
     "data": {
      "image/png": "[encoded data removed]",
      "text/plain": [
       "<Figure size 432x288 with 1 Axes>"
      ]
     },
     "metadata": {
      "needs_background": "light"
     },
     "output_type": "display_data"
    }
   ],
   "source": [
    "null_sum = df_train.isnull().sum()\n",
    "null_sum[null_sum > 0].plot.bar()"
   ]
  },
  {
   "cell_type": "code",
   "execution_count": 7,
   "id": "faaa1056",
   "metadata": {},
   "outputs": [],
   "source": [
    "null_columns = list(pd.DataFrame(null_sum[null_sum > 0]).index)"
   ]
  },
  {
   "cell_type": "code",
   "execution_count": 8,
   "id": "494533fd",
   "metadata": {},
   "outputs": [
    {
     "data": {
      "text/plain": [
       "LotFrontage     float64\n",
       "Alley            object\n",
       "MasVnrType       object\n",
       "MasVnrArea      float64\n",
       "BsmtQual         object\n",
       "BsmtCond         object\n",
       "BsmtExposure     object\n",
       "BsmtFinType1     object\n",
       "BsmtFinType2     object\n",
       "Electrical       object\n",
       "FireplaceQu      object\n",
       "GarageType       object\n",
       "GarageYrBlt     float64\n",
       "GarageFinish     object\n",
       "GarageQual       object\n",
       "GarageCond       object\n",
       "PoolQC           object\n",
       "Fence            object\n",
       "MiscFeature      object\n",
       "dtype: object"
      ]
     },
     "execution_count": 8,
     "metadata": {},
     "output_type": "execute_result"
    }
   ],
   "source": [
    "df_train[null_columns].dtypes"
   ]
  },
  {
   "cell_type": "code",
   "execution_count": 9,
   "id": "e115ecd3",
   "metadata": {},
   "outputs": [
    {
     "name": "stdout",
     "output_type": "stream",
     "text": [
      "0       208500\n",
      "1       181500\n",
      "2       223500\n",
      "3       140000\n",
      "4       250000\n",
      "         ...  \n",
      "1455    175000\n",
      "1456    210000\n",
      "1457    266500\n",
      "1458    142125\n",
      "1459    147500\n",
      "Name: SalePrice, Length: 1456, dtype: int64\n"
     ]
    }
   ],
   "source": [
    "print(df_train.SalePrice)"
   ]
  },
  {
   "cell_type": "code",
   "execution_count": 10,
   "id": "e161dd55",
   "metadata": {},
   "outputs": [
    {
     "name": "stdout",
     "output_type": "stream",
     "text": [
      "0       12.247699\n",
      "1       12.109016\n",
      "2       12.317171\n",
      "3       11.849405\n",
      "4       12.429220\n",
      "          ...    \n",
      "1455    12.072547\n",
      "1456    12.254868\n",
      "1457    12.493133\n",
      "1458    11.864469\n",
      "1459    11.901590\n",
      "Name: SalePrice, Length: 1456, dtype: float64\n"
     ]
    }
   ],
   "source": [
    "df_train.SalePrice = np.log1p(df_train.SalePrice)\n",
    "y = df_train.SalePrice\n",
    "print(y)"
   ]
  },
  {
   "cell_type": "markdown",
   "id": "1f35179a",
   "metadata": {},
   "source": [
    "## 1.3 Replace NAN value to mean\n",
    "- float64 type use .mean()\n",
    "- object use .mode()[0]\n",
    "- do the same for test set"
   ]
  },
  {
   "cell_type": "code",
   "execution_count": 11,
   "id": "a2d01f1c",
   "metadata": {},
   "outputs": [],
   "source": [
    "for c in null_columns:\n",
    "    if df_train[c].dtype == 'object':\n",
    "        df_train[c] = df_train[[c]].replace(np.NAN, df_train[c].mode()[0])\n",
    "    else:\n",
    "        df_train[c] = df_train[c].replace(np.NAN, df_train[c].mean())"
   ]
  },
  {
   "cell_type": "code",
   "execution_count": 12,
   "id": "5ca8433e",
   "metadata": {},
   "outputs": [
    {
     "name": "stdout",
     "output_type": "stream",
     "text": [
      "Series([], dtype: int64)\n"
     ]
    }
   ],
   "source": [
    "print(df_train.isnull().sum()[df_train.isnull().sum() > 0])"
   ]
  },
  {
   "cell_type": "code",
   "execution_count": 13,
   "id": "9d867da7",
   "metadata": {},
   "outputs": [
    {
     "name": "stdout",
     "output_type": "stream",
     "text": [
      "Series([], dtype: int64)\n"
     ]
    }
   ],
   "source": [
    "df_test = pd.read_csv('test.csv')\n",
    "null_sum = df_test.isnull().sum()\n",
    "null_columns = list(pd.DataFrame(null_sum[null_sum > 0]).index)\n",
    "\n",
    "for c in null_columns:\n",
    "    if df_test[c].dtype == 'object':\n",
    "        df_test[c] = df_test[[c]].replace(np.NAN, df_test[c].mode()[0])\n",
    "    else:\n",
    "        df_test[c] = df_test[c].replace(np.NAN, df_test[c].mean())\n",
    "        \n",
    "print(df_test.isnull().sum()[df_test.isnull().sum() > 0])"
   ]
  },
  {
   "cell_type": "markdown",
   "id": "37e7bd84",
   "metadata": {},
   "source": [
    "## 1.4 Understand catergorical (quanlitative) and numerical (quantitative) data\n",
    "1. extract quantitative and qualitative\n",
    "2. study quantitative\n",
    "3. study quanlitative"
   ]
  },
  {
   "cell_type": "markdown",
   "id": "4c18e697",
   "metadata": {},
   "source": [
    "### 1.4.1 Extract quantitative and qualitative"
   ]
  },
  {
   "cell_type": "code",
   "execution_count": 14,
   "id": "aa6b33c5",
   "metadata": {},
   "outputs": [
    {
     "name": "stdout",
     "output_type": "stream",
     "text": [
      "Quantitative: ['1stFlrSF', '2ndFlrSF', '3SsnPorch', 'BedroomAbvGr', 'BsmtFinSF1', 'BsmtFinSF2', 'BsmtFullBath', 'BsmtHalfBath', 'BsmtUnfSF', 'EnclosedPorch', 'Fireplaces', 'FullBath', 'GarageArea', 'GarageCars', 'GarageYrBlt', 'GrLivArea', 'HalfBath', 'KitchenAbvGr', 'LotArea', 'LotFrontage', 'LowQualFinSF', 'MSSubClass', 'MasVnrArea', 'MiscVal', 'MoSold', 'OpenPorchSF', 'OverallCond', 'OverallQual', 'PoolArea', 'ScreenPorch', 'TotRmsAbvGrd', 'TotalBsmtSF', 'WoodDeckSF', 'YearBuilt', 'YearRemodAdd', 'YrSold']\n",
      "\n",
      "Qualitative: ['Alley', 'BldgType', 'BsmtCond', 'BsmtExposure', 'BsmtFinType1', 'BsmtFinType2', 'BsmtQual', 'CentralAir', 'Condition1', 'Condition2', 'Electrical', 'ExterCond', 'ExterQual', 'Exterior1st', 'Exterior2nd', 'Fence', 'FireplaceQu', 'Foundation', 'Functional', 'GarageCond', 'GarageFinish', 'GarageQual', 'GarageType', 'Heating', 'HeatingQC', 'HouseStyle', 'KitchenQual', 'LandContour', 'LandSlope', 'LotConfig', 'LotShape', 'MSZoning', 'MasVnrType', 'MiscFeature', 'Neighborhood', 'PavedDrive', 'PoolQC', 'RoofMatl', 'RoofStyle', 'SaleCondition', 'SaleType', 'Street', 'Utilities']\n"
     ]
    }
   ],
   "source": [
    "quantitative = [f for f in df_train.columns if df_train.dtypes[f] != 'object']\n",
    "quantitative.remove('SalePrice')\n",
    "quantitative.remove('Id')\n",
    "qualitative = [f for f in df_train.columns if df_train.dtypes[f] == 'object']\n",
    "\n",
    "quantitative.sort()\n",
    "qualitative.sort()\n",
    "\n",
    "print('Quantitative:', quantitative)\n",
    "print('\\nQualitative:', qualitative)"
   ]
  },
  {
   "cell_type": "markdown",
   "id": "7cb0c852",
   "metadata": {},
   "source": [
    "### 1.4.2 Study Quantitative"
   ]
  },
  {
   "cell_type": "code",
   "execution_count": null,
   "id": "27986836",
   "metadata": {},
   "outputs": [],
   "source": []
  },
  {
   "cell_type": "code",
   "execution_count": null,
   "id": "c571b5fd",
   "metadata": {},
   "outputs": [],
   "source": []
  },
  {
   "cell_type": "markdown",
   "id": "dadf16db",
   "metadata": {},
   "source": [
    "## 1.5 Study Correlation \n",
    "1. most important data -> sale price\n",
    "2. study correlation of sale price towards other data"
   ]
  },
  {
   "cell_type": "code",
   "execution_count": 15,
   "id": "dd478cc8",
   "metadata": {},
   "outputs": [
    {
     "data": {
      "text/plain": [
       "count    1456.000000\n",
       "mean       12.021950\n",
       "std         0.396077\n",
       "min        10.460271\n",
       "25%        11.774528\n",
       "50%        12.001512\n",
       "75%        12.273736\n",
       "max        13.345509\n",
       "Name: SalePrice, dtype: float64"
      ]
     },
     "execution_count": 15,
     "metadata": {},
     "output_type": "execute_result"
    }
   ],
   "source": [
    "df_train['SalePrice'].describe()"
   ]
  },
  {
   "cell_type": "code",
   "execution_count": 16,
   "id": "6a7320e0",
   "metadata": {},
   "outputs": [
    {
     "data": {
      "text/plain": [
       "<AxesSubplot:>"
      ]
     },
     "execution_count": 16,
     "metadata": {},
     "output_type": "execute_result"
    },
    {
     "data": {
      "image/png": "[encoded data removed]",
      "text/plain": [
       "<Figure size 432x288 with 2 Axes>"
      ]
     },
     "metadata": {
      "needs_background": "light"
     },
     "output_type": "display_data"
    }
   ],
   "source": [
    "corr = df_train.corr()\n",
    "sb.heatmap(corr)"
   ]
  },
  {
   "cell_type": "code",
   "execution_count": 17,
   "id": "30bf1f24",
   "metadata": {},
   "outputs": [
    {
     "data": {
      "text/plain": [
       "SalePrice       1.000000\n",
       "OverallQual     0.819240\n",
       "GrLivArea       0.718844\n",
       "GarageCars      0.680408\n",
       "GarageArea      0.655212\n",
       "TotalBsmtSF     0.641553\n",
       "1stFlrSF        0.613742\n",
       "FullBath        0.590919\n",
       "YearBuilt       0.588977\n",
       "YearRemodAdd    0.568986\n",
       "TotRmsAbvGrd    0.533446\n",
       "Name: SalePrice, dtype: float64"
      ]
     },
     "execution_count": 17,
     "metadata": {},
     "output_type": "execute_result"
    }
   ],
   "source": [
    "corr.sort_values(['SalePrice'], ascending=False, inplace=True)\n",
    "corr.SalePrice.head(11)"
   ]
  },
  {
   "cell_type": "code",
   "execution_count": 18,
   "id": "e7032ccb",
   "metadata": {},
   "outputs": [
    {
     "data": {
      "text/html": [
       "<div>\n",
       "<style scoped>\n",
       "    .dataframe tbody tr th:only-of-type {\n",
       "        vertical-align: middle;\n",
       "    }\n",
       "\n",
       "    .dataframe tbody tr th {\n",
       "        vertical-align: top;\n",
       "    }\n",
       "\n",
       "    .dataframe thead th {\n",
       "        text-align: right;\n",
       "    }\n",
       "</style>\n",
       "<table border=\"1\" class=\"dataframe\">\n",
       "  <thead>\n",
       "    <tr style=\"text-align: right;\">\n",
       "      <th></th>\n",
       "      <th>SalePrice</th>\n",
       "      <th>OverallQual</th>\n",
       "      <th>GrLivArea</th>\n",
       "      <th>GarageCars</th>\n",
       "      <th>GarageArea</th>\n",
       "      <th>TotalBsmtSF</th>\n",
       "      <th>1stFlrSF</th>\n",
       "      <th>FullBath</th>\n",
       "      <th>YearBuilt</th>\n",
       "      <th>YearRemodAdd</th>\n",
       "      <th>TotRmsAbvGrd</th>\n",
       "    </tr>\n",
       "  </thead>\n",
       "  <tbody>\n",
       "    <tr>\n",
       "      <th>0</th>\n",
       "      <td>12.247699</td>\n",
       "      <td>7</td>\n",
       "      <td>1710</td>\n",
       "      <td>2</td>\n",
       "      <td>548</td>\n",
       "      <td>856</td>\n",
       "      <td>856</td>\n",
       "      <td>2</td>\n",
       "      <td>2003</td>\n",
       "      <td>2003</td>\n",
       "      <td>8</td>\n",
       "    </tr>\n",
       "    <tr>\n",
       "      <th>1</th>\n",
       "      <td>12.109016</td>\n",
       "      <td>6</td>\n",
       "      <td>1262</td>\n",
       "      <td>2</td>\n",
       "      <td>460</td>\n",
       "      <td>1262</td>\n",
       "      <td>1262</td>\n",
       "      <td>2</td>\n",
       "      <td>1976</td>\n",
       "      <td>1976</td>\n",
       "      <td>6</td>\n",
       "    </tr>\n",
       "    <tr>\n",
       "      <th>2</th>\n",
       "      <td>12.317171</td>\n",
       "      <td>7</td>\n",
       "      <td>1786</td>\n",
       "      <td>2</td>\n",
       "      <td>608</td>\n",
       "      <td>920</td>\n",
       "      <td>920</td>\n",
       "      <td>2</td>\n",
       "      <td>2001</td>\n",
       "      <td>2002</td>\n",
       "      <td>6</td>\n",
       "    </tr>\n",
       "    <tr>\n",
       "      <th>3</th>\n",
       "      <td>11.849405</td>\n",
       "      <td>7</td>\n",
       "      <td>1717</td>\n",
       "      <td>3</td>\n",
       "      <td>642</td>\n",
       "      <td>756</td>\n",
       "      <td>961</td>\n",
       "      <td>1</td>\n",
       "      <td>1915</td>\n",
       "      <td>1970</td>\n",
       "      <td>7</td>\n",
       "    </tr>\n",
       "    <tr>\n",
       "      <th>4</th>\n",
       "      <td>12.429220</td>\n",
       "      <td>8</td>\n",
       "      <td>2198</td>\n",
       "      <td>3</td>\n",
       "      <td>836</td>\n",
       "      <td>1145</td>\n",
       "      <td>1145</td>\n",
       "      <td>2</td>\n",
       "      <td>2000</td>\n",
       "      <td>2000</td>\n",
       "      <td>9</td>\n",
       "    </tr>\n",
       "  </tbody>\n",
       "</table>\n",
       "</div>"
      ],
      "text/plain": [
       "   SalePrice  OverallQual  GrLivArea  GarageCars  GarageArea  TotalBsmtSF  \\\n",
       "0  12.247699            7       1710           2         548          856   \n",
       "1  12.109016            6       1262           2         460         1262   \n",
       "2  12.317171            7       1786           2         608          920   \n",
       "3  11.849405            7       1717           3         642          756   \n",
       "4  12.429220            8       2198           3         836         1145   \n",
       "\n",
       "   1stFlrSF  FullBath  YearBuilt  YearRemodAdd  TotRmsAbvGrd  \n",
       "0       856         2       2003          2003             8  \n",
       "1      1262         2       1976          1976             6  \n",
       "2       920         2       2001          2002             6  \n",
       "3       961         1       1915          1970             7  \n",
       "4      1145         2       2000          2000             9  "
      ]
     },
     "execution_count": 18,
     "metadata": {},
     "output_type": "execute_result"
    }
   ],
   "source": [
    "top10 = [f for f in corr.SalePrice.index[0:11]]\n",
    "new_df = pd.DataFrame(data=df_train, columns=top10)\n",
    "new_df.head()"
   ]
  },
  {
   "cell_type": "code",
   "execution_count": 19,
   "id": "7b97ceda",
   "metadata": {},
   "outputs": [],
   "source": [
    "# pd.DataFrame?"
   ]
  },
  {
   "cell_type": "code",
   "execution_count": 20,
   "id": "b95b34ee",
   "metadata": {},
   "outputs": [
    {
     "data": {
      "text/plain": [
       "[]"
      ]
     },
     "execution_count": 20,
     "metadata": {},
     "output_type": "execute_result"
    }
   ],
   "source": [
    "[f for f in new_df.columns if f in qualitative]"
   ]
  },
  {
   "cell_type": "code",
   "execution_count": 21,
   "id": "50a3fbe1",
   "metadata": {},
   "outputs": [
    {
     "data": {
      "text/plain": [
       "['OverallQual',\n",
       " 'GrLivArea',\n",
       " 'GarageCars',\n",
       " 'GarageArea',\n",
       " 'TotalBsmtSF',\n",
       " '1stFlrSF',\n",
       " 'FullBath',\n",
       " 'YearBuilt',\n",
       " 'YearRemodAdd',\n",
       " 'TotRmsAbvGrd']"
      ]
     },
     "execution_count": 21,
     "metadata": {},
     "output_type": "execute_result"
    }
   ],
   "source": [
    "[f for f in new_df.columns if f in quantitative]"
   ]
  },
  {
   "cell_type": "code",
   "execution_count": 22,
   "id": "49606372",
   "metadata": {},
   "outputs": [
    {
     "data": {
      "image/png": "[encoded data removed]",
      "text/plain": [
       "<Figure size 720x1800 with 10 Axes>"
      ]
     },
     "metadata": {
      "needs_background": "light"
     },
     "output_type": "display_data"
    }
   ],
   "source": [
    "def pairplot(x, y, **kwargs):\n",
    "    ax = plt.gca()\n",
    "    ts = pd.DataFrame({'time': x, 'val': y})\n",
    "    ts = ts.groupby('time').mean()\n",
    "    ts.plot(ax=ax)\n",
    "    plt.xticks(rotation=90)\n",
    "\n",
    "f = pd.melt(new_df, id_vars=['SalePrice'], value_vars=[f for f in new_df.columns])\n",
    "g = sb.FacetGrid(f, col=\"variable\",  col_wrap=2, sharex=False, sharey=False, height=5)\n",
    "g = g.map(pairplot, \"value\", \"SalePrice\")"
   ]
  },
  {
   "cell_type": "markdown",
   "id": "907ebee8",
   "metadata": {},
   "source": [
    "## 1.6 Polynomial Features\n",
    "add each feature's polynomial of 2 and 3"
   ]
  },
  {
   "cell_type": "code",
   "execution_count": 23,
   "id": "096a2aed",
   "metadata": {
    "scrolled": true
   },
   "outputs": [],
   "source": [
    "#2nd polynomial\n",
    "for c in new_df.columns.drop('SalePrice'):\n",
    "    new_df[c + '_s2'] = new_df[c] ** 2\n",
    "    new_df[c + '_s3'] = new_df[c] ** 3\n",
    "    new_df[c + '_sqrt'] = np.sqrt(new_df[c])"
   ]
  },
  {
   "cell_type": "code",
   "execution_count": 24,
   "id": "13bdb1f7",
   "metadata": {},
   "outputs": [
    {
     "name": "stdout",
     "output_type": "stream",
     "text": [
      "Index(['SalePrice', 'OverallQual', 'GrLivArea', 'GarageCars', 'GarageArea',\n",
      "       'TotalBsmtSF', '1stFlrSF', 'FullBath', 'YearBuilt', 'YearRemodAdd',\n",
      "       'TotRmsAbvGrd', 'OverallQual_s2', 'OverallQual_s3', 'OverallQual_sqrt',\n",
      "       'GrLivArea_s2', 'GrLivArea_s3', 'GrLivArea_sqrt', 'GarageCars_s2',\n",
      "       'GarageCars_s3', 'GarageCars_sqrt', 'GarageArea_s2', 'GarageArea_s3',\n",
      "       'GarageArea_sqrt', 'TotalBsmtSF_s2', 'TotalBsmtSF_s3',\n",
      "       'TotalBsmtSF_sqrt', '1stFlrSF_s2', '1stFlrSF_s3', '1stFlrSF_sqrt',\n",
      "       'FullBath_s2', 'FullBath_s3', 'FullBath_sqrt', 'YearBuilt_s2',\n",
      "       'YearBuilt_s3', 'YearBuilt_sqrt', 'YearRemodAdd_s2', 'YearRemodAdd_s3',\n",
      "       'YearRemodAdd_sqrt', 'TotRmsAbvGrd_s2', 'TotRmsAbvGrd_s3',\n",
      "       'TotRmsAbvGrd_sqrt'],\n",
      "      dtype='object')\n"
     ]
    }
   ],
   "source": [
    "print(new_df.columns)"
   ]
  },
  {
   "cell_type": "code",
   "execution_count": 25,
   "id": "e1e9febc",
   "metadata": {},
   "outputs": [],
   "source": [
    "from sklearn.model_selection import cross_val_score, train_test_split\n",
    "from sklearn.preprocessing import StandardScaler\n",
    "from sklearn.linear_model import LinearRegression, RidgeCV, LassoCV, ElasticNetCV\n",
    "from sklearn.metrics import mean_squared_error, make_scorer"
   ]
  },
  {
   "cell_type": "code",
   "execution_count": 26,
   "id": "7dec7817",
   "metadata": {},
   "outputs": [
    {
     "data": {
      "text/html": [
       "<div>\n",
       "<style scoped>\n",
       "    .dataframe tbody tr th:only-of-type {\n",
       "        vertical-align: middle;\n",
       "    }\n",
       "\n",
       "    .dataframe tbody tr th {\n",
       "        vertical-align: top;\n",
       "    }\n",
       "\n",
       "    .dataframe thead th {\n",
       "        text-align: right;\n",
       "    }\n",
       "</style>\n",
       "<table border=\"1\" class=\"dataframe\">\n",
       "  <thead>\n",
       "    <tr style=\"text-align: right;\">\n",
       "      <th></th>\n",
       "      <th>OverallQual</th>\n",
       "      <th>GrLivArea</th>\n",
       "      <th>GarageCars</th>\n",
       "      <th>GarageArea</th>\n",
       "      <th>TotalBsmtSF</th>\n",
       "      <th>1stFlrSF</th>\n",
       "      <th>FullBath</th>\n",
       "      <th>YearBuilt</th>\n",
       "      <th>YearRemodAdd</th>\n",
       "      <th>TotRmsAbvGrd</th>\n",
       "      <th>...</th>\n",
       "      <th>FullBath_sqrt</th>\n",
       "      <th>YearBuilt_s2</th>\n",
       "      <th>YearBuilt_s3</th>\n",
       "      <th>YearBuilt_sqrt</th>\n",
       "      <th>YearRemodAdd_s2</th>\n",
       "      <th>YearRemodAdd_s3</th>\n",
       "      <th>YearRemodAdd_sqrt</th>\n",
       "      <th>TotRmsAbvGrd_s2</th>\n",
       "      <th>TotRmsAbvGrd_s3</th>\n",
       "      <th>TotRmsAbvGrd_sqrt</th>\n",
       "    </tr>\n",
       "  </thead>\n",
       "  <tbody>\n",
       "    <tr>\n",
       "      <th>0</th>\n",
       "      <td>7</td>\n",
       "      <td>1710</td>\n",
       "      <td>2</td>\n",
       "      <td>548</td>\n",
       "      <td>856</td>\n",
       "      <td>856</td>\n",
       "      <td>2</td>\n",
       "      <td>2003</td>\n",
       "      <td>2003</td>\n",
       "      <td>8</td>\n",
       "      <td>...</td>\n",
       "      <td>1.414214</td>\n",
       "      <td>4012009</td>\n",
       "      <td>8036054027</td>\n",
       "      <td>44.754888</td>\n",
       "      <td>4012009</td>\n",
       "      <td>8036054027</td>\n",
       "      <td>44.754888</td>\n",
       "      <td>64</td>\n",
       "      <td>512</td>\n",
       "      <td>2.828427</td>\n",
       "    </tr>\n",
       "    <tr>\n",
       "      <th>1</th>\n",
       "      <td>6</td>\n",
       "      <td>1262</td>\n",
       "      <td>2</td>\n",
       "      <td>460</td>\n",
       "      <td>1262</td>\n",
       "      <td>1262</td>\n",
       "      <td>2</td>\n",
       "      <td>1976</td>\n",
       "      <td>1976</td>\n",
       "      <td>6</td>\n",
       "      <td>...</td>\n",
       "      <td>1.414214</td>\n",
       "      <td>3904576</td>\n",
       "      <td>7715442176</td>\n",
       "      <td>44.452222</td>\n",
       "      <td>3904576</td>\n",
       "      <td>7715442176</td>\n",
       "      <td>44.452222</td>\n",
       "      <td>36</td>\n",
       "      <td>216</td>\n",
       "      <td>2.449490</td>\n",
       "    </tr>\n",
       "    <tr>\n",
       "      <th>2</th>\n",
       "      <td>7</td>\n",
       "      <td>1786</td>\n",
       "      <td>2</td>\n",
       "      <td>608</td>\n",
       "      <td>920</td>\n",
       "      <td>920</td>\n",
       "      <td>2</td>\n",
       "      <td>2001</td>\n",
       "      <td>2002</td>\n",
       "      <td>6</td>\n",
       "      <td>...</td>\n",
       "      <td>1.414214</td>\n",
       "      <td>4004001</td>\n",
       "      <td>8012006001</td>\n",
       "      <td>44.732538</td>\n",
       "      <td>4008004</td>\n",
       "      <td>8024024008</td>\n",
       "      <td>44.743715</td>\n",
       "      <td>36</td>\n",
       "      <td>216</td>\n",
       "      <td>2.449490</td>\n",
       "    </tr>\n",
       "    <tr>\n",
       "      <th>3</th>\n",
       "      <td>7</td>\n",
       "      <td>1717</td>\n",
       "      <td>3</td>\n",
       "      <td>642</td>\n",
       "      <td>756</td>\n",
       "      <td>961</td>\n",
       "      <td>1</td>\n",
       "      <td>1915</td>\n",
       "      <td>1970</td>\n",
       "      <td>7</td>\n",
       "      <td>...</td>\n",
       "      <td>1.000000</td>\n",
       "      <td>3667225</td>\n",
       "      <td>7022735875</td>\n",
       "      <td>43.760713</td>\n",
       "      <td>3880900</td>\n",
       "      <td>7645373000</td>\n",
       "      <td>44.384682</td>\n",
       "      <td>49</td>\n",
       "      <td>343</td>\n",
       "      <td>2.645751</td>\n",
       "    </tr>\n",
       "    <tr>\n",
       "      <th>4</th>\n",
       "      <td>8</td>\n",
       "      <td>2198</td>\n",
       "      <td>3</td>\n",
       "      <td>836</td>\n",
       "      <td>1145</td>\n",
       "      <td>1145</td>\n",
       "      <td>2</td>\n",
       "      <td>2000</td>\n",
       "      <td>2000</td>\n",
       "      <td>9</td>\n",
       "      <td>...</td>\n",
       "      <td>1.414214</td>\n",
       "      <td>4000000</td>\n",
       "      <td>8000000000</td>\n",
       "      <td>44.721360</td>\n",
       "      <td>4000000</td>\n",
       "      <td>8000000000</td>\n",
       "      <td>44.721360</td>\n",
       "      <td>81</td>\n",
       "      <td>729</td>\n",
       "      <td>3.000000</td>\n",
       "    </tr>\n",
       "  </tbody>\n",
       "</table>\n",
       "<p>5 rows × 40 columns</p>\n",
       "</div>"
      ],
      "text/plain": [
       "   OverallQual  GrLivArea  GarageCars  GarageArea  TotalBsmtSF  1stFlrSF  \\\n",
       "0            7       1710           2         548          856       856   \n",
       "1            6       1262           2         460         1262      1262   \n",
       "2            7       1786           2         608          920       920   \n",
       "3            7       1717           3         642          756       961   \n",
       "4            8       2198           3         836         1145      1145   \n",
       "\n",
       "   FullBath  YearBuilt  YearRemodAdd  TotRmsAbvGrd  ...  FullBath_sqrt  \\\n",
       "0         2       2003          2003             8  ...       1.414214   \n",
       "1         2       1976          1976             6  ...       1.414214   \n",
       "2         2       2001          2002             6  ...       1.414214   \n",
       "3         1       1915          1970             7  ...       1.000000   \n",
       "4         2       2000          2000             9  ...       1.414214   \n",
       "\n",
       "   YearBuilt_s2  YearBuilt_s3  YearBuilt_sqrt  YearRemodAdd_s2  \\\n",
       "0       4012009    8036054027       44.754888          4012009   \n",
       "1       3904576    7715442176       44.452222          3904576   \n",
       "2       4004001    8012006001       44.732538          4008004   \n",
       "3       3667225    7022735875       43.760713          3880900   \n",
       "4       4000000    8000000000       44.721360          4000000   \n",
       "\n",
       "   YearRemodAdd_s3  YearRemodAdd_sqrt  TotRmsAbvGrd_s2  TotRmsAbvGrd_s3  \\\n",
       "0       8036054027          44.754888               64              512   \n",
       "1       7715442176          44.452222               36              216   \n",
       "2       8024024008          44.743715               36              216   \n",
       "3       7645373000          44.384682               49              343   \n",
       "4       8000000000          44.721360               81              729   \n",
       "\n",
       "   TotRmsAbvGrd_sqrt  \n",
       "0           2.828427  \n",
       "1           2.449490  \n",
       "2           2.449490  \n",
       "3           2.645751  \n",
       "4           3.000000  \n",
       "\n",
       "[5 rows x 40 columns]"
      ]
     },
     "execution_count": 26,
     "metadata": {},
     "output_type": "execute_result"
    }
   ],
   "source": [
    "new_df = new_df.drop(columns=['SalePrice'])\n",
    "new_df.head()"
   ]
  },
  {
   "cell_type": "code",
   "execution_count": 27,
   "id": "90b140c5",
   "metadata": {},
   "outputs": [
    {
     "name": "stdout",
     "output_type": "stream",
     "text": [
      "Total numbers of features : 40\n"
     ]
    }
   ],
   "source": [
    "print(f'Total numbers of features : {new_df.shape[1]}')"
   ]
  },
  {
   "cell_type": "code",
   "execution_count": 28,
   "id": "3f39a5d6",
   "metadata": {},
   "outputs": [
    {
     "name": "stdout",
     "output_type": "stream",
     "text": [
      "X_train : (1019, 40)\n",
      "X_test : (437, 40)\n",
      "y_train : (1019,)\n",
      "y_test : (437,)\n"
     ]
    }
   ],
   "source": [
    "X_train, X_test, y_train, y_test = train_test_split(new_df, y, test_size = 0.3, random_state = 0)\n",
    "print(f'X_train : {X_train.shape}')\n",
    "print(f'X_test : {X_test.shape}')\n",
    "print(f'y_train : {y_train.shape}')\n",
    "print(f'y_test : {y_test.shape}')"
   ]
  },
  {
   "cell_type": "code",
   "execution_count": 29,
   "id": "6680a1c1",
   "metadata": {},
   "outputs": [],
   "source": [
    "# Define error measure for official scoring : RMSE\n",
    "scorer = make_scorer(mean_squared_error, greater_is_better = False)\n",
    "\n",
    "def rmse_cv_train(model):\n",
    "    rmse= np.sqrt(-cross_val_score(model, X_train, y_train, scoring = scorer, cv = 10))\n",
    "    return(rmse)\n",
    "\n",
    "def rmse_cv_test(model):\n",
    "    rmse= np.sqrt(-cross_val_score(model, X_test, y_test, scoring = scorer, cv = 10))\n",
    "    return(rmse)"
   ]
  },
  {
   "cell_type": "code",
   "execution_count": 30,
   "id": "4357e248",
   "metadata": {},
   "outputs": [
    {
     "name": "stdout",
     "output_type": "stream",
     "text": [
      "RMSE on Training set : 0.1542783856483705\n",
      "RMSE on Test set : 0.15271740889440416\n"
     ]
    },
    {
     "data": {
      "image/png": "[encoded data removed]",
      "text/plain": [
       "<Figure size 432x288 with 1 Axes>"
      ]
     },
     "metadata": {
      "needs_background": "light"
     },
     "output_type": "display_data"
    },
    {
     "data": {
      "image/png": "[encoded data removed]",
      "text/plain": [
       "<Figure size 432x288 with 1 Axes>"
      ]
     },
     "metadata": {
      "needs_background": "light"
     },
     "output_type": "display_data"
    }
   ],
   "source": [
    "# Linear Regression\n",
    "lr = LinearRegression()\n",
    "lr.fit(X_train, y_train)\n",
    "\n",
    "# Look at predictions on training and validation set\n",
    "print(\"RMSE on Training set :\", rmse_cv_train(lr).mean())\n",
    "print(\"RMSE on Test set :\", rmse_cv_test(lr).mean())\n",
    "y_train_pred = lr.predict(X_train)\n",
    "y_test_pred = lr.predict(X_test)\n",
    "\n",
    "# Plot residuals\n",
    "plt.scatter(y_train_pred, y_train_pred - y_train, c = \"blue\", marker = \"s\", label = \"Training data\", edgecolors='black')\n",
    "plt.scatter(y_test_pred, y_test_pred - y_test, c = \"lightgreen\", marker = \"s\", label = \"Validation data\", edgecolors='black')\n",
    "plt.title(\"Linear regression\")\n",
    "plt.xlabel(\"Predicted values\")\n",
    "plt.ylabel(\"Residuals\")\n",
    "plt.legend(loc = \"upper left\")\n",
    "plt.hlines(y=0, xmin=10.5, xmax=14, color='red', linestyles='--', linewidth=4)\n",
    "# plt.hlines(y = 0, xmin = 10.5, xmax = 13.5, color = \"red\")\n",
    "plt.show()\n",
    "\n",
    "# Plot predictions\n",
    "plt.scatter(y_train_pred, y_train, c = \"blue\", marker = \"s\", label = \"Training data\", edgecolors='black')\n",
    "plt.scatter(y_test_pred, y_test, c = \"lightgreen\", marker = \"s\", label = \"Validation data\", edgecolors='black')\n",
    "plt.title(\"Linear regression\")\n",
    "plt.xlabel(\"Predicted values\")\n",
    "plt.ylabel(\"Real values\")\n",
    "plt.legend(loc = \"upper left\")\n",
    "plt.plot([y.min(), y.max()], [y.min(), y.max()], 'r--', lw=4)\n",
    "plt.show()"
   ]
  },
  {
   "cell_type": "markdown",
   "id": "9624faf3",
   "metadata": {},
   "source": [
    "# 2. Test set"
   ]
  },
  {
   "cell_type": "code",
   "execution_count": 31,
   "id": "7c86eb65",
   "metadata": {
    "scrolled": false
   },
   "outputs": [
    {
     "data": {
      "text/html": [
       "<div>\n",
       "<style scoped>\n",
       "    .dataframe tbody tr th:only-of-type {\n",
       "        vertical-align: middle;\n",
       "    }\n",
       "\n",
       "    .dataframe tbody tr th {\n",
       "        vertical-align: top;\n",
       "    }\n",
       "\n",
       "    .dataframe thead th {\n",
       "        text-align: right;\n",
       "    }\n",
       "</style>\n",
       "<table border=\"1\" class=\"dataframe\">\n",
       "  <thead>\n",
       "    <tr style=\"text-align: right;\">\n",
       "      <th></th>\n",
       "      <th>Id</th>\n",
       "      <th>MSSubClass</th>\n",
       "      <th>MSZoning</th>\n",
       "      <th>LotFrontage</th>\n",
       "      <th>LotArea</th>\n",
       "      <th>Street</th>\n",
       "      <th>Alley</th>\n",
       "      <th>LotShape</th>\n",
       "      <th>LandContour</th>\n",
       "      <th>Utilities</th>\n",
       "      <th>...</th>\n",
       "      <th>ScreenPorch</th>\n",
       "      <th>PoolArea</th>\n",
       "      <th>PoolQC</th>\n",
       "      <th>Fence</th>\n",
       "      <th>MiscFeature</th>\n",
       "      <th>MiscVal</th>\n",
       "      <th>MoSold</th>\n",
       "      <th>YrSold</th>\n",
       "      <th>SaleType</th>\n",
       "      <th>SaleCondition</th>\n",
       "    </tr>\n",
       "  </thead>\n",
       "  <tbody>\n",
       "    <tr>\n",
       "      <th>0</th>\n",
       "      <td>1461</td>\n",
       "      <td>20</td>\n",
       "      <td>RH</td>\n",
       "      <td>80.0</td>\n",
       "      <td>11622</td>\n",
       "      <td>Pave</td>\n",
       "      <td>NaN</td>\n",
       "      <td>Reg</td>\n",
       "      <td>Lvl</td>\n",
       "      <td>AllPub</td>\n",
       "      <td>...</td>\n",
       "      <td>120</td>\n",
       "      <td>0</td>\n",
       "      <td>NaN</td>\n",
       "      <td>MnPrv</td>\n",
       "      <td>NaN</td>\n",
       "      <td>0</td>\n",
       "      <td>6</td>\n",
       "      <td>2010</td>\n",
       "      <td>WD</td>\n",
       "      <td>Normal</td>\n",
       "    </tr>\n",
       "    <tr>\n",
       "      <th>1</th>\n",
       "      <td>1462</td>\n",
       "      <td>20</td>\n",
       "      <td>RL</td>\n",
       "      <td>81.0</td>\n",
       "      <td>14267</td>\n",
       "      <td>Pave</td>\n",
       "      <td>NaN</td>\n",
       "      <td>IR1</td>\n",
       "      <td>Lvl</td>\n",
       "      <td>AllPub</td>\n",
       "      <td>...</td>\n",
       "      <td>0</td>\n",
       "      <td>0</td>\n",
       "      <td>NaN</td>\n",
       "      <td>NaN</td>\n",
       "      <td>Gar2</td>\n",
       "      <td>12500</td>\n",
       "      <td>6</td>\n",
       "      <td>2010</td>\n",
       "      <td>WD</td>\n",
       "      <td>Normal</td>\n",
       "    </tr>\n",
       "    <tr>\n",
       "      <th>2</th>\n",
       "      <td>1463</td>\n",
       "      <td>60</td>\n",
       "      <td>RL</td>\n",
       "      <td>74.0</td>\n",
       "      <td>13830</td>\n",
       "      <td>Pave</td>\n",
       "      <td>NaN</td>\n",
       "      <td>IR1</td>\n",
       "      <td>Lvl</td>\n",
       "      <td>AllPub</td>\n",
       "      <td>...</td>\n",
       "      <td>0</td>\n",
       "      <td>0</td>\n",
       "      <td>NaN</td>\n",
       "      <td>MnPrv</td>\n",
       "      <td>NaN</td>\n",
       "      <td>0</td>\n",
       "      <td>3</td>\n",
       "      <td>2010</td>\n",
       "      <td>WD</td>\n",
       "      <td>Normal</td>\n",
       "    </tr>\n",
       "    <tr>\n",
       "      <th>3</th>\n",
       "      <td>1464</td>\n",
       "      <td>60</td>\n",
       "      <td>RL</td>\n",
       "      <td>78.0</td>\n",
       "      <td>9978</td>\n",
       "      <td>Pave</td>\n",
       "      <td>NaN</td>\n",
       "      <td>IR1</td>\n",
       "      <td>Lvl</td>\n",
       "      <td>AllPub</td>\n",
       "      <td>...</td>\n",
       "      <td>0</td>\n",
       "      <td>0</td>\n",
       "      <td>NaN</td>\n",
       "      <td>NaN</td>\n",
       "      <td>NaN</td>\n",
       "      <td>0</td>\n",
       "      <td>6</td>\n",
       "      <td>2010</td>\n",
       "      <td>WD</td>\n",
       "      <td>Normal</td>\n",
       "    </tr>\n",
       "    <tr>\n",
       "      <th>4</th>\n",
       "      <td>1465</td>\n",
       "      <td>120</td>\n",
       "      <td>RL</td>\n",
       "      <td>43.0</td>\n",
       "      <td>5005</td>\n",
       "      <td>Pave</td>\n",
       "      <td>NaN</td>\n",
       "      <td>IR1</td>\n",
       "      <td>HLS</td>\n",
       "      <td>AllPub</td>\n",
       "      <td>...</td>\n",
       "      <td>144</td>\n",
       "      <td>0</td>\n",
       "      <td>NaN</td>\n",
       "      <td>NaN</td>\n",
       "      <td>NaN</td>\n",
       "      <td>0</td>\n",
       "      <td>1</td>\n",
       "      <td>2010</td>\n",
       "      <td>WD</td>\n",
       "      <td>Normal</td>\n",
       "    </tr>\n",
       "  </tbody>\n",
       "</table>\n",
       "<p>5 rows × 80 columns</p>\n",
       "</div>"
      ],
      "text/plain": [
       "     Id  MSSubClass MSZoning  LotFrontage  LotArea Street Alley LotShape  \\\n",
       "0  1461          20       RH         80.0    11622   Pave   NaN      Reg   \n",
       "1  1462          20       RL         81.0    14267   Pave   NaN      IR1   \n",
       "2  1463          60       RL         74.0    13830   Pave   NaN      IR1   \n",
       "3  1464          60       RL         78.0     9978   Pave   NaN      IR1   \n",
       "4  1465         120       RL         43.0     5005   Pave   NaN      IR1   \n",
       "\n",
       "  LandContour Utilities  ... ScreenPorch PoolArea PoolQC  Fence MiscFeature  \\\n",
       "0         Lvl    AllPub  ...         120        0    NaN  MnPrv         NaN   \n",
       "1         Lvl    AllPub  ...           0        0    NaN    NaN        Gar2   \n",
       "2         Lvl    AllPub  ...           0        0    NaN  MnPrv         NaN   \n",
       "3         Lvl    AllPub  ...           0        0    NaN    NaN         NaN   \n",
       "4         HLS    AllPub  ...         144        0    NaN    NaN         NaN   \n",
       "\n",
       "  MiscVal MoSold  YrSold  SaleType  SaleCondition  \n",
       "0       0      6    2010        WD         Normal  \n",
       "1   12500      6    2010        WD         Normal  \n",
       "2       0      3    2010        WD         Normal  \n",
       "3       0      6    2010        WD         Normal  \n",
       "4       0      1    2010        WD         Normal  \n",
       "\n",
       "[5 rows x 80 columns]"
      ]
     },
     "execution_count": 31,
     "metadata": {},
     "output_type": "execute_result"
    }
   ],
   "source": [
    "df_test = pd.read_csv('test.csv')\n",
    "df_test.head()"
   ]
  },
  {
   "cell_type": "code",
   "execution_count": 32,
   "id": "6667ee7d",
   "metadata": {},
   "outputs": [
    {
     "name": "stdout",
     "output_type": "stream",
     "text": [
      "Test dataset shape: (1459, 80)\n"
     ]
    }
   ],
   "source": [
    "print(f'Test dataset shape: {df_test.shape}')"
   ]
  },
  {
   "cell_type": "code",
   "execution_count": 33,
   "id": "02a120fd",
   "metadata": {},
   "outputs": [
    {
     "data": {
      "text/html": [
       "<div>\n",
       "<style scoped>\n",
       "    .dataframe tbody tr th:only-of-type {\n",
       "        vertical-align: middle;\n",
       "    }\n",
       "\n",
       "    .dataframe tbody tr th {\n",
       "        vertical-align: top;\n",
       "    }\n",
       "\n",
       "    .dataframe thead th {\n",
       "        text-align: right;\n",
       "    }\n",
       "</style>\n",
       "<table border=\"1\" class=\"dataframe\">\n",
       "  <thead>\n",
       "    <tr style=\"text-align: right;\">\n",
       "      <th></th>\n",
       "      <th>OverallQual</th>\n",
       "      <th>GrLivArea</th>\n",
       "      <th>GarageCars</th>\n",
       "      <th>GarageArea</th>\n",
       "      <th>TotalBsmtSF</th>\n",
       "      <th>1stFlrSF</th>\n",
       "      <th>FullBath</th>\n",
       "      <th>YearBuilt</th>\n",
       "      <th>YearRemodAdd</th>\n",
       "      <th>TotRmsAbvGrd</th>\n",
       "    </tr>\n",
       "  </thead>\n",
       "  <tbody>\n",
       "    <tr>\n",
       "      <th>0</th>\n",
       "      <td>5</td>\n",
       "      <td>896</td>\n",
       "      <td>1.0</td>\n",
       "      <td>730.0</td>\n",
       "      <td>882.0</td>\n",
       "      <td>896</td>\n",
       "      <td>1</td>\n",
       "      <td>1961</td>\n",
       "      <td>1961</td>\n",
       "      <td>5</td>\n",
       "    </tr>\n",
       "    <tr>\n",
       "      <th>1</th>\n",
       "      <td>6</td>\n",
       "      <td>1329</td>\n",
       "      <td>1.0</td>\n",
       "      <td>312.0</td>\n",
       "      <td>1329.0</td>\n",
       "      <td>1329</td>\n",
       "      <td>1</td>\n",
       "      <td>1958</td>\n",
       "      <td>1958</td>\n",
       "      <td>6</td>\n",
       "    </tr>\n",
       "    <tr>\n",
       "      <th>2</th>\n",
       "      <td>5</td>\n",
       "      <td>1629</td>\n",
       "      <td>2.0</td>\n",
       "      <td>482.0</td>\n",
       "      <td>928.0</td>\n",
       "      <td>928</td>\n",
       "      <td>2</td>\n",
       "      <td>1997</td>\n",
       "      <td>1998</td>\n",
       "      <td>6</td>\n",
       "    </tr>\n",
       "    <tr>\n",
       "      <th>3</th>\n",
       "      <td>6</td>\n",
       "      <td>1604</td>\n",
       "      <td>2.0</td>\n",
       "      <td>470.0</td>\n",
       "      <td>926.0</td>\n",
       "      <td>926</td>\n",
       "      <td>2</td>\n",
       "      <td>1998</td>\n",
       "      <td>1998</td>\n",
       "      <td>7</td>\n",
       "    </tr>\n",
       "    <tr>\n",
       "      <th>4</th>\n",
       "      <td>8</td>\n",
       "      <td>1280</td>\n",
       "      <td>2.0</td>\n",
       "      <td>506.0</td>\n",
       "      <td>1280.0</td>\n",
       "      <td>1280</td>\n",
       "      <td>2</td>\n",
       "      <td>1992</td>\n",
       "      <td>1992</td>\n",
       "      <td>5</td>\n",
       "    </tr>\n",
       "  </tbody>\n",
       "</table>\n",
       "</div>"
      ],
      "text/plain": [
       "   OverallQual  GrLivArea  GarageCars  GarageArea  TotalBsmtSF  1stFlrSF  \\\n",
       "0            5        896         1.0       730.0        882.0       896   \n",
       "1            6       1329         1.0       312.0       1329.0      1329   \n",
       "2            5       1629         2.0       482.0        928.0       928   \n",
       "3            6       1604         2.0       470.0        926.0       926   \n",
       "4            8       1280         2.0       506.0       1280.0      1280   \n",
       "\n",
       "   FullBath  YearBuilt  YearRemodAdd  TotRmsAbvGrd  \n",
       "0         1       1961          1961             5  \n",
       "1         1       1958          1958             6  \n",
       "2         2       1997          1998             6  \n",
       "3         2       1998          1998             7  \n",
       "4         2       1992          1992             5  "
      ]
     },
     "execution_count": 33,
     "metadata": {},
     "output_type": "execute_result"
    }
   ],
   "source": [
    "df_test = pd.DataFrame(data=df_test, columns=top10[1:])\n",
    "df_test.head()"
   ]
  },
  {
   "cell_type": "code",
   "execution_count": 34,
   "id": "5ffb92be",
   "metadata": {},
   "outputs": [
    {
     "data": {
      "text/plain": [
       "<AxesSubplot:>"
      ]
     },
     "execution_count": 34,
     "metadata": {},
     "output_type": "execute_result"
    },
    {
     "data": {
      "image/png": "[encoded data removed]",
      "text/plain": [
       "<Figure size 432x288 with 1 Axes>"
      ]
     },
     "metadata": {
      "needs_background": "light"
     },
     "output_type": "display_data"
    }
   ],
   "source": [
    "null_sum = df_test.isnull().sum()\n",
    "null_sum[null_sum > 0].plot.bar()"
   ]
  },
  {
   "cell_type": "code",
   "execution_count": 35,
   "id": "7b7c06f5",
   "metadata": {},
   "outputs": [
    {
     "name": "stdout",
     "output_type": "stream",
     "text": [
      "Series([], dtype: int64)\n"
     ]
    }
   ],
   "source": [
    "null_columns = list(pd.DataFrame(null_sum[null_sum > 0]).index)\n",
    "\n",
    "for c in null_columns:\n",
    "    if df_test[c].dtype == 'object':\n",
    "        df_test[c] = df_test[[c]].replace(np.NAN, df_test[c].mode()[0])\n",
    "    else:\n",
    "        df_test[c] = df_test[c].replace(np.NAN, df_test[c].mean())\n",
    "        \n",
    "print(df_test.isnull().sum()[df_test.isnull().sum() > 0])"
   ]
  },
  {
   "cell_type": "code",
   "execution_count": 36,
   "id": "eba5d134",
   "metadata": {},
   "outputs": [],
   "source": [
    "for c in df_test.columns:\n",
    "    df_test[c + '_s2'] = df_test[c] ** 2\n",
    "    df_test[c + '_s3'] = df_test[c] ** 3\n",
    "    df_test[c + '_sqrt'] = np.sqrt(df_test[c])"
   ]
  },
  {
   "cell_type": "code",
   "execution_count": 37,
   "id": "7adb0a88",
   "metadata": {},
   "outputs": [
    {
     "name": "stdout",
     "output_type": "stream",
     "text": [
      "Index(['OverallQual', 'GrLivArea', 'GarageCars', 'GarageArea', 'TotalBsmtSF',\n",
      "       '1stFlrSF', 'FullBath', 'YearBuilt', 'YearRemodAdd', 'TotRmsAbvGrd',\n",
      "       'OverallQual_s2', 'OverallQual_s3', 'OverallQual_sqrt', 'GrLivArea_s2',\n",
      "       'GrLivArea_s3', 'GrLivArea_sqrt', 'GarageCars_s2', 'GarageCars_s3',\n",
      "       'GarageCars_sqrt', 'GarageArea_s2', 'GarageArea_s3', 'GarageArea_sqrt',\n",
      "       'TotalBsmtSF_s2', 'TotalBsmtSF_s3', 'TotalBsmtSF_sqrt', '1stFlrSF_s2',\n",
      "       '1stFlrSF_s3', '1stFlrSF_sqrt', 'FullBath_s2', 'FullBath_s3',\n",
      "       'FullBath_sqrt', 'YearBuilt_s2', 'YearBuilt_s3', 'YearBuilt_sqrt',\n",
      "       'YearRemodAdd_s2', 'YearRemodAdd_s3', 'YearRemodAdd_sqrt',\n",
      "       'TotRmsAbvGrd_s2', 'TotRmsAbvGrd_s3', 'TotRmsAbvGrd_sqrt'],\n",
      "      dtype='object')\n"
     ]
    }
   ],
   "source": [
    "print(df_test.columns)"
   ]
  },
  {
   "cell_type": "code",
   "execution_count": 38,
   "id": "70be7634",
   "metadata": {},
   "outputs": [],
   "source": [
    "test_pred = lr.predict(df_test)"
   ]
  },
  {
   "cell_type": "code",
   "execution_count": 39,
   "id": "b524395a",
   "metadata": {},
   "outputs": [
    {
     "name": "stdout",
     "output_type": "stream",
     "text": [
      "(1459,)\n"
     ]
    }
   ],
   "source": [
    "print(test_pred.shape)"
   ]
  },
  {
   "cell_type": "code",
   "execution_count": 40,
   "id": "4dc241b9",
   "metadata": {},
   "outputs": [
    {
     "name": "stdout",
     "output_type": "stream",
     "text": [
      "[11.66801365 11.92055396 12.04529619 ... 11.95882339 11.64114754\n",
      " 12.33807244]\n"
     ]
    }
   ],
   "source": [
    "print(test_pred)"
   ]
  },
  {
   "cell_type": "code",
   "execution_count": 41,
   "id": "83e99b92",
   "metadata": {},
   "outputs": [
    {
     "name": "stdout",
     "output_type": "stream",
     "text": [
      "[116775.09357068 150323.85971015 170295.4786922  ... 156188.20219835\n",
      " 113679.54325701 228220.61611019]\n"
     ]
    }
   ],
   "source": [
    "print(np.expm1(test_pred))"
   ]
  },
  {
   "cell_type": "code",
   "execution_count": 42,
   "id": "1ff95787",
   "metadata": {},
   "outputs": [],
   "source": [
    "pred = np.expm1(test_pred)"
   ]
  },
  {
   "cell_type": "code",
   "execution_count": 45,
   "id": "9cbec5fe",
   "metadata": {},
   "outputs": [
    {
     "data": {
      "text/plain": [
       "(1459,)"
      ]
     },
     "execution_count": 45,
     "metadata": {},
     "output_type": "execute_result"
    }
   ],
   "source": [
    "pred.shape"
   ]
  },
  {
   "cell_type": "code",
   "execution_count": 50,
   "id": "00b7c22f",
   "metadata": {},
   "outputs": [
    {
     "data": {
      "text/html": [
       "<div>\n",
       "<style scoped>\n",
       "    .dataframe tbody tr th:only-of-type {\n",
       "        vertical-align: middle;\n",
       "    }\n",
       "\n",
       "    .dataframe tbody tr th {\n",
       "        vertical-align: top;\n",
       "    }\n",
       "\n",
       "    .dataframe thead th {\n",
       "        text-align: right;\n",
       "    }\n",
       "</style>\n",
       "<table border=\"1\" class=\"dataframe\">\n",
       "  <thead>\n",
       "    <tr style=\"text-align: right;\">\n",
       "      <th></th>\n",
       "      <th>OverallQual</th>\n",
       "      <th>GrLivArea</th>\n",
       "      <th>GarageCars</th>\n",
       "      <th>GarageArea</th>\n",
       "      <th>TotalBsmtSF</th>\n",
       "      <th>1stFlrSF</th>\n",
       "      <th>FullBath</th>\n",
       "      <th>YearBuilt</th>\n",
       "      <th>YearRemodAdd</th>\n",
       "      <th>TotRmsAbvGrd</th>\n",
       "      <th>...</th>\n",
       "      <th>FullBath_sqrt</th>\n",
       "      <th>YearBuilt_s2</th>\n",
       "      <th>YearBuilt_s3</th>\n",
       "      <th>YearBuilt_sqrt</th>\n",
       "      <th>YearRemodAdd_s2</th>\n",
       "      <th>YearRemodAdd_s3</th>\n",
       "      <th>YearRemodAdd_sqrt</th>\n",
       "      <th>TotRmsAbvGrd_s2</th>\n",
       "      <th>TotRmsAbvGrd_s3</th>\n",
       "      <th>TotRmsAbvGrd_sqrt</th>\n",
       "    </tr>\n",
       "  </thead>\n",
       "  <tbody>\n",
       "    <tr>\n",
       "      <th>0</th>\n",
       "      <td>5</td>\n",
       "      <td>896</td>\n",
       "      <td>1.0</td>\n",
       "      <td>730.0</td>\n",
       "      <td>882.0</td>\n",
       "      <td>896</td>\n",
       "      <td>1</td>\n",
       "      <td>1961</td>\n",
       "      <td>1961</td>\n",
       "      <td>5</td>\n",
       "      <td>...</td>\n",
       "      <td>1.000000</td>\n",
       "      <td>3845521</td>\n",
       "      <td>7541066681</td>\n",
       "      <td>44.283180</td>\n",
       "      <td>3845521</td>\n",
       "      <td>7541066681</td>\n",
       "      <td>44.283180</td>\n",
       "      <td>25</td>\n",
       "      <td>125</td>\n",
       "      <td>2.236068</td>\n",
       "    </tr>\n",
       "    <tr>\n",
       "      <th>1</th>\n",
       "      <td>6</td>\n",
       "      <td>1329</td>\n",
       "      <td>1.0</td>\n",
       "      <td>312.0</td>\n",
       "      <td>1329.0</td>\n",
       "      <td>1329</td>\n",
       "      <td>1</td>\n",
       "      <td>1958</td>\n",
       "      <td>1958</td>\n",
       "      <td>6</td>\n",
       "      <td>...</td>\n",
       "      <td>1.000000</td>\n",
       "      <td>3833764</td>\n",
       "      <td>7506509912</td>\n",
       "      <td>44.249294</td>\n",
       "      <td>3833764</td>\n",
       "      <td>7506509912</td>\n",
       "      <td>44.249294</td>\n",
       "      <td>36</td>\n",
       "      <td>216</td>\n",
       "      <td>2.449490</td>\n",
       "    </tr>\n",
       "    <tr>\n",
       "      <th>2</th>\n",
       "      <td>5</td>\n",
       "      <td>1629</td>\n",
       "      <td>2.0</td>\n",
       "      <td>482.0</td>\n",
       "      <td>928.0</td>\n",
       "      <td>928</td>\n",
       "      <td>2</td>\n",
       "      <td>1997</td>\n",
       "      <td>1998</td>\n",
       "      <td>6</td>\n",
       "      <td>...</td>\n",
       "      <td>1.414214</td>\n",
       "      <td>3988009</td>\n",
       "      <td>7964053973</td>\n",
       "      <td>44.687806</td>\n",
       "      <td>3992004</td>\n",
       "      <td>7976023992</td>\n",
       "      <td>44.698993</td>\n",
       "      <td>36</td>\n",
       "      <td>216</td>\n",
       "      <td>2.449490</td>\n",
       "    </tr>\n",
       "    <tr>\n",
       "      <th>3</th>\n",
       "      <td>6</td>\n",
       "      <td>1604</td>\n",
       "      <td>2.0</td>\n",
       "      <td>470.0</td>\n",
       "      <td>926.0</td>\n",
       "      <td>926</td>\n",
       "      <td>2</td>\n",
       "      <td>1998</td>\n",
       "      <td>1998</td>\n",
       "      <td>7</td>\n",
       "      <td>...</td>\n",
       "      <td>1.414214</td>\n",
       "      <td>3992004</td>\n",
       "      <td>7976023992</td>\n",
       "      <td>44.698993</td>\n",
       "      <td>3992004</td>\n",
       "      <td>7976023992</td>\n",
       "      <td>44.698993</td>\n",
       "      <td>49</td>\n",
       "      <td>343</td>\n",
       "      <td>2.645751</td>\n",
       "    </tr>\n",
       "    <tr>\n",
       "      <th>4</th>\n",
       "      <td>8</td>\n",
       "      <td>1280</td>\n",
       "      <td>2.0</td>\n",
       "      <td>506.0</td>\n",
       "      <td>1280.0</td>\n",
       "      <td>1280</td>\n",
       "      <td>2</td>\n",
       "      <td>1992</td>\n",
       "      <td>1992</td>\n",
       "      <td>5</td>\n",
       "      <td>...</td>\n",
       "      <td>1.414214</td>\n",
       "      <td>3968064</td>\n",
       "      <td>7904383488</td>\n",
       "      <td>44.631827</td>\n",
       "      <td>3968064</td>\n",
       "      <td>7904383488</td>\n",
       "      <td>44.631827</td>\n",
       "      <td>25</td>\n",
       "      <td>125</td>\n",
       "      <td>2.236068</td>\n",
       "    </tr>\n",
       "  </tbody>\n",
       "</table>\n",
       "<p>5 rows × 40 columns</p>\n",
       "</div>"
      ],
      "text/plain": [
       "   OverallQual  GrLivArea  GarageCars  GarageArea  TotalBsmtSF  1stFlrSF  \\\n",
       "0            5        896         1.0       730.0        882.0       896   \n",
       "1            6       1329         1.0       312.0       1329.0      1329   \n",
       "2            5       1629         2.0       482.0        928.0       928   \n",
       "3            6       1604         2.0       470.0        926.0       926   \n",
       "4            8       1280         2.0       506.0       1280.0      1280   \n",
       "\n",
       "   FullBath  YearBuilt  YearRemodAdd  TotRmsAbvGrd  ...  FullBath_sqrt  \\\n",
       "0         1       1961          1961             5  ...       1.000000   \n",
       "1         1       1958          1958             6  ...       1.000000   \n",
       "2         2       1997          1998             6  ...       1.414214   \n",
       "3         2       1998          1998             7  ...       1.414214   \n",
       "4         2       1992          1992             5  ...       1.414214   \n",
       "\n",
       "   YearBuilt_s2  YearBuilt_s3  YearBuilt_sqrt  YearRemodAdd_s2  \\\n",
       "0       3845521    7541066681       44.283180          3845521   \n",
       "1       3833764    7506509912       44.249294          3833764   \n",
       "2       3988009    7964053973       44.687806          3992004   \n",
       "3       3992004    7976023992       44.698993          3992004   \n",
       "4       3968064    7904383488       44.631827          3968064   \n",
       "\n",
       "   YearRemodAdd_s3  YearRemodAdd_sqrt  TotRmsAbvGrd_s2  TotRmsAbvGrd_s3  \\\n",
       "0       7541066681          44.283180               25              125   \n",
       "1       7506509912          44.249294               36              216   \n",
       "2       7976023992          44.698993               36              216   \n",
       "3       7976023992          44.698993               49              343   \n",
       "4       7904383488          44.631827               25              125   \n",
       "\n",
       "   TotRmsAbvGrd_sqrt  \n",
       "0           2.236068  \n",
       "1           2.449490  \n",
       "2           2.449490  \n",
       "3           2.645751  \n",
       "4           2.236068  \n",
       "\n",
       "[5 rows x 40 columns]"
      ]
     },
     "execution_count": 50,
     "metadata": {},
     "output_type": "execute_result"
    }
   ],
   "source": [
    "df_test.head()"
   ]
  },
  {
   "cell_type": "code",
   "execution_count": 51,
   "id": "c136640d",
   "metadata": {},
   "outputs": [],
   "source": [
    "submission = pd.concat([pd.read_csv('test.csv').Id, pd.DataFrame(pred, columns=['SalePrice'])], axis=1)"
   ]
  },
  {
   "cell_type": "code",
   "execution_count": 55,
   "id": "55f8e8ff",
   "metadata": {},
   "outputs": [
    {
     "data": {
      "text/html": [
       "<div>\n",
       "<style scoped>\n",
       "    .dataframe tbody tr th:only-of-type {\n",
       "        vertical-align: middle;\n",
       "    }\n",
       "\n",
       "    .dataframe tbody tr th {\n",
       "        vertical-align: top;\n",
       "    }\n",
       "\n",
       "    .dataframe thead th {\n",
       "        text-align: right;\n",
       "    }\n",
       "</style>\n",
       "<table border=\"1\" class=\"dataframe\">\n",
       "  <thead>\n",
       "    <tr style=\"text-align: right;\">\n",
       "      <th></th>\n",
       "      <th>Id</th>\n",
       "      <th>SalePrice</th>\n",
       "    </tr>\n",
       "  </thead>\n",
       "  <tbody>\n",
       "    <tr>\n",
       "      <th>0</th>\n",
       "      <td>1461</td>\n",
       "      <td>116775.093571</td>\n",
       "    </tr>\n",
       "    <tr>\n",
       "      <th>1</th>\n",
       "      <td>1462</td>\n",
       "      <td>150323.859710</td>\n",
       "    </tr>\n",
       "    <tr>\n",
       "      <th>2</th>\n",
       "      <td>1463</td>\n",
       "      <td>170295.478692</td>\n",
       "    </tr>\n",
       "    <tr>\n",
       "      <th>3</th>\n",
       "      <td>1464</td>\n",
       "      <td>182383.113704</td>\n",
       "    </tr>\n",
       "    <tr>\n",
       "      <th>4</th>\n",
       "      <td>1465</td>\n",
       "      <td>203187.242069</td>\n",
       "    </tr>\n",
       "  </tbody>\n",
       "</table>\n",
       "</div>"
      ],
      "text/plain": [
       "     Id      SalePrice\n",
       "0  1461  116775.093571\n",
       "1  1462  150323.859710\n",
       "2  1463  170295.478692\n",
       "3  1464  182383.113704\n",
       "4  1465  203187.242069"
      ]
     },
     "execution_count": 55,
     "metadata": {},
     "output_type": "execute_result"
    }
   ],
   "source": [
    "submission.head()"
   ]
  },
  {
   "cell_type": "code",
   "execution_count": 56,
   "id": "f8238821",
   "metadata": {},
   "outputs": [],
   "source": [
    "submission.to_csv('Prediction1.csv',index=False)"
   ]
  },
  {
   "cell_type": "code",
   "execution_count": 57,
   "id": "316fc88d",
   "metadata": {},
   "outputs": [
    {
     "data": {
      "text/html": [
       "<div>\n",
       "<style scoped>\n",
       "    .dataframe tbody tr th:only-of-type {\n",
       "        vertical-align: middle;\n",
       "    }\n",
       "\n",
       "    .dataframe tbody tr th {\n",
       "        vertical-align: top;\n",
       "    }\n",
       "\n",
       "    .dataframe thead th {\n",
       "        text-align: right;\n",
       "    }\n",
       "</style>\n",
       "<table border=\"1\" class=\"dataframe\">\n",
       "  <thead>\n",
       "    <tr style=\"text-align: right;\">\n",
       "      <th></th>\n",
       "      <th>Id</th>\n",
       "      <th>SalePrice</th>\n",
       "    </tr>\n",
       "  </thead>\n",
       "  <tbody>\n",
       "    <tr>\n",
       "      <th>0</th>\n",
       "      <td>1461</td>\n",
       "      <td>116775.093571</td>\n",
       "    </tr>\n",
       "    <tr>\n",
       "      <th>1</th>\n",
       "      <td>1462</td>\n",
       "      <td>150323.859710</td>\n",
       "    </tr>\n",
       "    <tr>\n",
       "      <th>2</th>\n",
       "      <td>1463</td>\n",
       "      <td>170295.478692</td>\n",
       "    </tr>\n",
       "    <tr>\n",
       "      <th>3</th>\n",
       "      <td>1464</td>\n",
       "      <td>182383.113704</td>\n",
       "    </tr>\n",
       "    <tr>\n",
       "      <th>4</th>\n",
       "      <td>1465</td>\n",
       "      <td>203187.242069</td>\n",
       "    </tr>\n",
       "  </tbody>\n",
       "</table>\n",
       "</div>"
      ],
      "text/plain": [
       "     Id      SalePrice\n",
       "0  1461  116775.093571\n",
       "1  1462  150323.859710\n",
       "2  1463  170295.478692\n",
       "3  1464  182383.113704\n",
       "4  1465  203187.242069"
      ]
     },
     "execution_count": 57,
     "metadata": {},
     "output_type": "execute_result"
    }
   ],
   "source": [
    "pd.read_csv('Prediction1.csv').head()"
   ]
  },
  {
   "cell_type": "code",
   "execution_count": null,
   "id": "a05d34aa",
   "metadata": {},
   "outputs": [],
   "source": []
  }
 ],
 "metadata": {
  "kernelspec": {
   "display_name": "Python 3 (ipykernel)",
   "language": "python",
   "name": "python3"
  },
  "language_info": {
   "codemirror_mode": {
    "name": "ipython",
    "version": 3
   },
   "file_extension": ".py",
   "mimetype": "text/x-python",
   "name": "python",
   "nbconvert_exporter": "python",
   "pygments_lexer": "ipython3",
   "version": "3.9.6"
  }
 },
 "nbformat": 4,
 "nbformat_minor": 5
}
