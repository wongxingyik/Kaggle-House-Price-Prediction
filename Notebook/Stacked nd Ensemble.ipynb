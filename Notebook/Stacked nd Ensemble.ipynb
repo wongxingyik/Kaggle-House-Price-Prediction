{
 "cells": [
  {
   "cell_type": "code",
   "execution_count": 1,
   "id": "db5a0975",
   "metadata": {},
   "outputs": [],
   "source": [
    "import numpy as np\n",
    "import pandas as pd\n",
    "\n",
    "import matplotlib.pyplot as plt"
   ]
  },
  {
   "cell_type": "code",
   "execution_count": 2,
   "id": "e38cea3f",
   "metadata": {},
   "outputs": [],
   "source": [
    "from sklearn.linear_model import ElasticNet, Lasso,  BayesianRidge, LassoLarsIC\n",
    "from sklearn.ensemble import RandomForestRegressor,  GradientBoostingRegressor\n",
    "from sklearn.kernel_ridge import KernelRidge\n",
    "\n",
    "from sklearn.preprocessing import RobustScaler, StandardScaler\n",
    "from sklearn.base import BaseEstimator, TransformerMixin, RegressorMixin, clone\n",
    "from sklearn.model_selection import KFold, cross_val_score, train_test_split\n",
    "from sklearn.metrics import mean_squared_error\n",
    "import xgboost as xgb\n",
    "import lightgbm as lgb"
   ]
  },
  {
   "cell_type": "markdown",
   "id": "c4e5d925",
   "metadata": {},
   "source": [
    "## Import Cleaned Data"
   ]
  },
  {
   "cell_type": "code",
   "execution_count": 3,
   "id": "c77dc0a0",
   "metadata": {},
   "outputs": [],
   "source": [
    "train = pd.read_csv('train_new.csv')\n",
    "test = pd.read_csv('test_new.csv')"
   ]
  },
  {
   "cell_type": "code",
   "execution_count": 5,
   "id": "f98577d4",
   "metadata": {},
   "outputs": [],
   "source": [
    "y = train.SalePrice\n",
    "train = train.drop(columns=['Id', 'SalePrice'])"
   ]
  },
  {
   "cell_type": "code",
   "execution_count": 6,
   "id": "b234a83e",
   "metadata": {},
   "outputs": [
    {
     "name": "stdout",
     "output_type": "stream",
     "text": [
      "Train shape: (1451, 341)\n",
      "Test shape: (1459, 341)\n"
     ]
    }
   ],
   "source": [
    "print(f'Train shape: {train.shape}')\n",
    "print(f'Test shape: {test.shape}')"
   ]
  },
  {
   "cell_type": "code",
   "execution_count": null,
   "id": "07c30535",
   "metadata": {},
   "outputs": [],
   "source": []
  },
  {
   "cell_type": "code",
   "execution_count": 7,
   "id": "d08d4a0b",
   "metadata": {},
   "outputs": [
    {
     "name": "stdout",
     "output_type": "stream",
     "text": [
      "X_train : (1015, 341)\n",
      "X_test : (436, 341)\n",
      "y_train : (1015,)\n",
      "y_test : (436,)\n"
     ]
    }
   ],
   "source": [
    "X_train, X_test, y_train, y_test = train_test_split(train, y, test_size = 0.30, random_state=0)\n",
    "print(f'X_train : {X_train.shape}')\n",
    "print(f'X_test : {X_test.shape}')\n",
    "print(f'y_train : {y_train.shape}')\n",
    "print(f'y_test : {y_test.shape}')"
   ]
  },
  {
   "cell_type": "code",
   "execution_count": 8,
   "id": "dec6fb1b",
   "metadata": {},
   "outputs": [],
   "source": [
    "stdSc = StandardScaler()\n",
    "X_train = pd.DataFrame(stdSc.fit_transform(X_train), columns=X_train.columns, index=X_train.index)\n",
    "X_test = pd.DataFrame(stdSc.transform(X_test), columns=X_test.columns, index=X_test.index)"
   ]
  },
  {
   "cell_type": "code",
   "execution_count": 9,
   "id": "9edee949",
   "metadata": {},
   "outputs": [],
   "source": [
    "from sklearn.model_selection import KFold # for repeated K-fold cross validation\n",
    "from sklearn.model_selection import cross_val_score # score evaluation\n",
    "from sklearn.model_selection import cross_val_predict # prediction\n",
    "from sklearn.linear_model import ElasticNetCV, LassoCV, RidgeCV\n",
    "from sklearn.svm import SVR\n",
    "from sklearn.metrics import mean_squared_error\n",
    "\n",
    "from sklearn.ensemble import GradientBoostingRegressor\n",
    "from mlxtend.regressor import StackingCVRegressor\n",
    "from sklearn.ensemble import StackingRegressor\n",
    "from xgboost import XGBRegressor\n",
    "from lightgbm import LGBMRegressor\n",
    "import time\n",
    "SEED = 42"
   ]
  },
  {
   "cell_type": "code",
   "execution_count": 10,
   "id": "63412bf3",
   "metadata": {},
   "outputs": [],
   "source": [
    "# Repeated K-fold cross validation\n",
    "kfolds = KFold(n_splits=10, shuffle=True, random_state=SEED)\n",
    "\n",
    "# Return root mean square error of model prediction (Used for test prediction)\n",
    "def rmse(y, y_pred):\n",
    "    return np.sqrt(mean_squared_error(y, y_pred))\n",
    "\n",
    "# Return root mean square error applied cross validation (Used for training prediction)\n",
    "def evaluate_model_cv(model, X, y):\n",
    "    rmse = np.sqrt(-cross_val_score(model, X, y, scoring=\"neg_mean_squared_error\", cv=kfolds))\n",
    "    return (rmse)"
   ]
  },
  {
   "cell_type": "code",
   "execution_count": 29,
   "id": "45fd938f",
   "metadata": {},
   "outputs": [],
   "source": [
    "def construct_models():\n",
    "    # Initialize parameters for models\n",
    "    alphas_ridge = [0.005, 0.01, 0.1, 1, 5, 10, 15]\n",
    "    alphas_lasso = [5e-05, 0.0001, 0.0002, 0.0003, 0.0004, 0.0005, 0.0006, 0.0007, 0.0008]\n",
    "    e_alphas_elas = [0.0001, 0.0002, 0.0003, 0.0004, 0.0005, 0.0006, 0.0007]\n",
    "    e_l1ratio_elas = [0.8, 0.85, 0.9, 0.95, 0.99, 1]\n",
    "    \n",
    "    # Constructing the models\n",
    "    models = dict()\n",
    "    \n",
    "    models['ridge'] = RidgeCV(alphas=alphas_ridge, cv=kfolds)\n",
    "    models['lasso'] = LassoCV(alphas=alphas_lasso, random_state=SEED, cv=kfolds, max_iter=100000)\n",
    "    models['elasticnet'] = ElasticNetCV(alphas=e_alphas_elas, cv=kfolds, l1_ratio=e_l1ratio_elas, max_iter=100000)\n",
    "    models['svr'] = SVR(C = 20, epsilon = 0.008, gamma =0.0003)\n",
    "    models['gbr'] = GradientBoostingRegressor(n_estimators=3000, learning_rate=0.05, \n",
    "                                              max_depth=4, max_features='sqrt',\n",
    "                                              min_samples_leaf=15, min_samples_split=10, \n",
    "                                              loss='huber',random_state =SEED) \n",
    "    models['lgbm'] = LGBMRegressor(objective='regression', num_leaves=4,\n",
    "                                   learning_rate=0.01, n_estimators=5000,\n",
    "                                   max_bin=200, bagging_fraction=0.75,\n",
    "                                   bagging_freq=5, bagging_seed=7,\n",
    "                                   feature_fraction=0.2,\n",
    "                                   feature_fraction_seed=7, verbose=-1,\n",
    "                                  colsample_bytree=None, subsample=None, subsample_freq=None)\n",
    "    models['xgboost'] = XGBRegressor(learning_rate=0.01, n_estimators=3460,\n",
    "                                     max_depth=3, min_child_weight=0,\n",
    "                                     gamma=0, subsample=0.7,\n",
    "                                     colsample_bytree=0.7, verbosity = 0,\n",
    "                                     objective='reg:squarederror', nthread=-1,\n",
    "                                     scale_pos_weight=1, seed=SEED, reg_alpha=0.00006)\n",
    "    return models\n",
    "\n",
    "# Construct the set of model\n",
    "models = construct_models()"
   ]
  },
  {
   "cell_type": "code",
   "execution_count": 30,
   "id": "a490196a",
   "metadata": {},
   "outputs": [
    {
     "name": "stdout",
     "output_type": "stream",
     "text": [
      "ridge's rmse after training: 0.08155772280917212\n",
      "Computational runtime of this algo: 1.84 seconds\n",
      "\n",
      "lasso's rmse after training: 0.08392343814400487\n",
      "Computational runtime of this algo: 7.3 seconds\n",
      "\n",
      "elasticnet's rmse after training: 0.0835580227754813\n",
      "Computational runtime of this algo: 31.65 seconds\n",
      "\n",
      "svr's rmse after training: 0.04139831980774069\n",
      "Computational runtime of this algo: 0.86 seconds\n",
      "\n",
      "gbr's rmse after training: 0.03602560608418233\n",
      "Computational runtime of this algo: 14.47 seconds\n",
      "\n",
      "lgbm's rmse after training: 0.06458878955879056\n",
      "Computational runtime of this algo: 3.94 seconds\n",
      "\n",
      "xgboost's rmse after training: 0.04056840334885486\n",
      "Computational runtime of this algo: 19.69 seconds\n",
      "\n"
     ]
    }
   ],
   "source": [
    "for name, model in models.items():\n",
    "    # Start counting time\n",
    "    start = time.perf_counter()\n",
    "    \n",
    "    model = model.fit(X_train, y_train)\n",
    "    rmse_result = rmse(y_train, model.predict(np.array(X_train)))\n",
    "    print(f'{name}\\'s rmse after training: {rmse_result}')\n",
    "    \n",
    "    # Compute time for executing each algo\n",
    "    run = time.perf_counter() - start\n",
    "    print(f'Computational runtime of this algo: {round(run, 2)} seconds\\n')"
   ]
  },
  {
   "cell_type": "code",
   "execution_count": 31,
   "id": "e3cd778c",
   "metadata": {},
   "outputs": [
    {
     "name": "stdout",
     "output_type": "stream",
     "text": [
      "Finish ridge's model\n",
      "Computational runtime of this algo: 19.52 seconds\n",
      "\n",
      "Finish lasso's model\n",
      "Computational runtime of this algo: 78.24 seconds\n",
      "\n",
      "Finish elasticnet's model\n",
      "Computational runtime of this algo: 199.14 seconds\n",
      "\n",
      "Finish svr's model\n",
      "Computational runtime of this algo: 2.94 seconds\n",
      "\n",
      "Finish gbr's model\n",
      "Computational runtime of this algo: 150.2 seconds\n",
      "\n",
      "Finish lgbm's model\n",
      "Computational runtime of this algo: 42.94 seconds\n",
      "\n",
      "Finish xgboost's model\n",
      "Computational runtime of this algo: 187.4 seconds\n",
      "\n"
     ]
    }
   ],
   "source": [
    "cv_rmse_result = dict()\n",
    "cv_rmse_mean = dict()\n",
    "cv_rmse_std = dict()\n",
    "\n",
    "for name, model in models.items():\n",
    "    # Start counting time\n",
    "    start = time.perf_counter()\n",
    "    \n",
    "    cv_rmse_result[name] = evaluate_model_cv(model, X_train, y_train)\n",
    "    cv_rmse_mean[name] = cv_rmse_result[name].mean()\n",
    "    cv_rmse_std[name] = cv_rmse_result[name].std()\n",
    "    print(f'Finish {name}\\'s model')\n",
    "    \n",
    "    # Compute time for executing each algo\n",
    "    run = time.perf_counter() - start\n",
    "    print(f'Computational runtime of this algo: {round(run, 2)} seconds\\n')"
   ]
  },
  {
   "cell_type": "code",
   "execution_count": 32,
   "id": "3228b9e3",
   "metadata": {},
   "outputs": [
    {
     "data": {
      "text/html": [
       "<div>\n",
       "<style scoped>\n",
       "    .dataframe tbody tr th:only-of-type {\n",
       "        vertical-align: middle;\n",
       "    }\n",
       "\n",
       "    .dataframe tbody tr th {\n",
       "        vertical-align: top;\n",
       "    }\n",
       "\n",
       "    .dataframe thead th {\n",
       "        text-align: right;\n",
       "    }\n",
       "</style>\n",
       "<table border=\"1\" class=\"dataframe\">\n",
       "  <thead>\n",
       "    <tr style=\"text-align: right;\">\n",
       "      <th></th>\n",
       "      <th>cv_rsme_mean</th>\n",
       "      <th>cv_rmse_std</th>\n",
       "    </tr>\n",
       "  </thead>\n",
       "  <tbody>\n",
       "    <tr>\n",
       "      <th>ridge</th>\n",
       "      <td>0.116259</td>\n",
       "      <td>0.008429</td>\n",
       "    </tr>\n",
       "    <tr>\n",
       "      <th>lasso</th>\n",
       "      <td>0.111549</td>\n",
       "      <td>0.008030</td>\n",
       "    </tr>\n",
       "    <tr>\n",
       "      <th>elasticnet</th>\n",
       "      <td>0.111875</td>\n",
       "      <td>0.008017</td>\n",
       "    </tr>\n",
       "    <tr>\n",
       "      <th>svr</th>\n",
       "      <td>0.116066</td>\n",
       "      <td>0.013142</td>\n",
       "    </tr>\n",
       "    <tr>\n",
       "      <th>gbr</th>\n",
       "      <td>0.113841</td>\n",
       "      <td>0.010256</td>\n",
       "    </tr>\n",
       "    <tr>\n",
       "      <th>lgbm</th>\n",
       "      <td>0.113976</td>\n",
       "      <td>0.009972</td>\n",
       "    </tr>\n",
       "    <tr>\n",
       "      <th>xgboost</th>\n",
       "      <td>0.112972</td>\n",
       "      <td>0.010082</td>\n",
       "    </tr>\n",
       "  </tbody>\n",
       "</table>\n",
       "</div>"
      ],
      "text/plain": [
       "            cv_rsme_mean  cv_rmse_std\n",
       "ridge           0.116259     0.008429\n",
       "lasso           0.111549     0.008030\n",
       "elasticnet      0.111875     0.008017\n",
       "svr             0.116066     0.013142\n",
       "gbr             0.113841     0.010256\n",
       "lgbm            0.113976     0.009972\n",
       "xgboost         0.112972     0.010082"
      ]
     },
     "execution_count": 32,
     "metadata": {},
     "output_type": "execute_result"
    }
   ],
   "source": [
    "ML_cv = pd.DataFrame({'cv_rsme_mean' : cv_rmse_mean, 'cv_rmse_std' : cv_rmse_std})\n",
    "ML_cv"
   ]
  },
  {
   "cell_type": "code",
   "execution_count": 33,
   "id": "829ab1cd",
   "metadata": {},
   "outputs": [],
   "source": [
    "# Type 1 stacking model\n",
    "stack_model = StackingCVRegressor(regressors=(models['ridge'], models['lasso'], models['xgboost'],\n",
    "                                              models['elasticnet'], models['gbr'], models['lgbm']),\n",
    "                                  meta_regressor=models['xgboost'], use_features_in_secondary=True)"
   ]
  },
  {
   "cell_type": "code",
   "execution_count": 34,
   "id": "8433117f",
   "metadata": {},
   "outputs": [
    {
     "name": "stdout",
     "output_type": "stream",
     "text": [
      "Finish training\n",
      "stack_model's rmse (using cv) after training: 0.035773373105488025\n",
      "Computational runtime of this algo: 407.66 seconds\n",
      "\n"
     ]
    }
   ],
   "source": [
    "# Time performance counter\n",
    "start = time.perf_counter()\n",
    "\n",
    "stack_model = stack_model.fit(X_train, y_train)\n",
    "print('Finish training')\n",
    "\n",
    "# Compute rmse with cross-validation technique\n",
    "# rmse_stack_cv = evaluate_model_cv(stack_model, np.array(df_train), y_train)\n",
    "# print(f'stack_model\\'s rmse (using cv) after training: {rmse_stack_cv.mean()}')\n",
    "\n",
    "# Compute rmse without cross-validation technique\n",
    "rmse_stack = rmse(y_train, stack_model.predict(X_train))\n",
    "print(f'stack_model\\'s rmse (using cv) after training: {rmse_stack}')\n",
    "\n",
    "# Compute time for executing each algo\n",
    "run = time.perf_counter() - start\n",
    "print(f'Computational runtime of this algo: {round(run, 2)} seconds\\n')"
   ]
  },
  {
   "cell_type": "code",
   "execution_count": 35,
   "id": "d21c8a90",
   "metadata": {},
   "outputs": [],
   "source": [
    "def blend_models_predict(X):\n",
    "    return ((0.05 * models['ridge'].predict(np.array(X))) + \\\n",
    "            (0.05 * models['lasso'].predict(np.array(X))) + \\\n",
    "            (0.05 * models['elasticnet'].predict(np.array(X))) + \\\n",
    "            (0.15 * models['gbr'].predict(np.array(X))) + \\\n",
    "            (0.15 * models['lgbm'].predict(np.array(X))) + \\\n",
    "            (0.25 * models['xgboost'].predict(np.array(X))) + \\\n",
    "            (0.3 * stack_model.predict(np.array(X))))"
   ]
  },
  {
   "cell_type": "code",
   "execution_count": 36,
   "id": "b17de65a",
   "metadata": {},
   "outputs": [
    {
     "name": "stdout",
     "output_type": "stream",
     "text": [
      "RMSLE score on train data:\n",
      "0.0421510285058451\n"
     ]
    }
   ],
   "source": [
    "print('RMSLE score on train data:')\n",
    "print(rmse(y_train, blend_models_predict(np.array(X_train))))"
   ]
  },
  {
   "cell_type": "code",
   "execution_count": 37,
   "id": "30166bea",
   "metadata": {},
   "outputs": [],
   "source": [
    "test = pd.DataFrame(stdSc.transform(test), columns=test.columns, index=test.index)\n",
    "\n",
    "test_pred = blend_models_predict(test)\n",
    "# submit = pd.concat((test, pd.Series(np.expm1(blend_models_predict(test)), \n",
    "#                                        name='SalePrice')), axis=1)\n"
   ]
  },
  {
   "cell_type": "code",
   "execution_count": 38,
   "id": "4b662ccd",
   "metadata": {},
   "outputs": [
    {
     "name": "stdout",
     "output_type": "stream",
     "text": [
      "[9.29641504 9.43226314 9.57495978 ... 9.62646897 9.17034131 9.84694192]\n"
     ]
    }
   ],
   "source": [
    "print(test_pred)"
   ]
  },
  {
   "cell_type": "code",
   "execution_count": 39,
   "id": "f6b8fce5",
   "metadata": {},
   "outputs": [],
   "source": [
    "test_pred = np.expm1(test_pred)"
   ]
  },
  {
   "cell_type": "code",
   "execution_count": 40,
   "id": "fcbfe98a",
   "metadata": {},
   "outputs": [],
   "source": [
    "submission = pd.concat([pd.read_csv('test.csv').Id, pd.DataFrame(test_pred, columns=['SalePrice'])], axis=1)"
   ]
  },
  {
   "cell_type": "code",
   "execution_count": 41,
   "id": "18595c60",
   "metadata": {},
   "outputs": [],
   "source": [
    "submission.to_csv('August17.csv', index=False)"
   ]
  },
  {
   "cell_type": "code",
   "execution_count": null,
   "id": "fd870c27",
   "metadata": {},
   "outputs": [],
   "source": []
  }
 ],
 "metadata": {
  "kernelspec": {
   "display_name": "Python 3 (ipykernel)",
   "language": "python",
   "name": "python3"
  },
  "language_info": {
   "codemirror_mode": {
    "name": "ipython",
    "version": 3
   },
   "file_extension": ".py",
   "mimetype": "text/x-python",
   "name": "python",
   "nbconvert_exporter": "python",
   "pygments_lexer": "ipython3",
   "version": "3.9.6"
  }
 },
 "nbformat": 4,
 "nbformat_minor": 5
}
