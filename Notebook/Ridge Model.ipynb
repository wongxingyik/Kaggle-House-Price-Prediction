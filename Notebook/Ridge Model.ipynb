{
 "cells": [
  {
   "cell_type": "code",
   "execution_count": 1,
   "id": "2afb6735",
   "metadata": {},
   "outputs": [],
   "source": [
    "import numpy as np\n",
    "import pandas as pd\n",
    "import matplotlib.pyplot as pp\n",
    "import seaborn as sns\n",
    "\n",
    "from sklearn.linear_model import RidgeCV\n",
    "from sklearn.preprocessing import StandardScaler\n",
    "from sklearn.model_selection import cross_val_score, train_test_split\n",
    "from sklearn.metrics import mean_squared_error, make_scorer\n",
    "from sklearn import preprocessing\n",
    "\n",
    "from scipy.stats import skew\n",
    "%matplotlib inline"
   ]
  },
  {
   "cell_type": "code",
   "execution_count": 2,
   "id": "67e59c72",
   "metadata": {},
   "outputs": [
    {
     "name": "stdout",
     "output_type": "stream",
     "text": [
      "Train shape : (1460, 81)\n"
     ]
    }
   ],
   "source": [
    "# 1. Import Dataset\n",
    "\n",
    "train = pd.read_csv('train.csv')\n",
    "test = pd.read_csv('test.csv')\n",
    "\n",
    "train.head()\n",
    "\n",
    "print(f'Train shape : {train.shape}')"
   ]
  },
  {
   "cell_type": "code",
   "execution_count": 3,
   "id": "7ae0c434",
   "metadata": {},
   "outputs": [
    {
     "name": "stdout",
     "output_type": "stream",
     "text": [
      "Removed outliers, train shape : (1454, 81)\n"
     ]
    },
    {
     "data": {
      "image/png": "[encoded data removed]",
      "text/plain": [
       "<Figure size 432x288 with 1 Axes>"
      ]
     },
     "metadata": {
      "needs_background": "light"
     },
     "output_type": "display_data"
    }
   ],
   "source": [
    "# 2. Outliers\n",
    "\n",
    "#Remove cheap and expensive house price\n",
    "\n",
    "sns.scatterplot(data=train, x='SalePrice', y='GrLivArea')\n",
    "\n",
    "#remove >600k SalePrice and >4000 GrLivArea\n",
    "train = train[train.SalePrice<600000]\n",
    "\n",
    "train = train[train.GrLivArea<4000]\n",
    "\n",
    "print(f'Removed outliers, train shape : {train.shape}')"
   ]
  },
  {
   "cell_type": "code",
   "execution_count": 11,
   "id": "85f0dfca",
   "metadata": {},
   "outputs": [
    {
     "ename": "SyntaxError",
     "evalue": "invalid syntax (2170786879.py, line 1)",
     "output_type": "error",
     "traceback": [
      "\u001b[0;36m  File \u001b[0;32m\"/var/folders/sy/z_sqwc6x3_x178gfny0xmkdh0000gn/T/ipykernel_1041/2170786879.py\"\u001b[0;36m, line \u001b[0;32m1\u001b[0m\n\u001b[0;31m    numerical_features = train[for f in train.columns]\u001b[0m\n\u001b[0m                               ^\u001b[0m\n\u001b[0;31mSyntaxError\u001b[0m\u001b[0;31m:\u001b[0m invalid syntax\n"
     ]
    }
   ],
   "source": [
    "numerical_features = train[f for f in train.columns if train[f].dtype != 'object']"
   ]
  },
  {
   "cell_type": "code",
   "execution_count": 23,
   "id": "7ffe67bb",
   "metadata": {},
   "outputs": [
    {
     "name": "stdout",
     "output_type": "stream",
     "text": [
      "['Id', 'MSSubClass', 'LotFrontage', 'LotArea', 'OverallQual', 'OverallCond', 'YearBuilt', 'YearRemodAdd', 'MasVnrArea', 'BsmtFinSF1', 'BsmtFinSF2', 'BsmtUnfSF', 'TotalBsmtSF', '1stFlrSF', '2ndFlrSF', 'LowQualFinSF', 'GrLivArea', 'BsmtFullBath', 'BsmtHalfBath', 'FullBath', 'HalfBath', 'BedroomAbvGr', 'KitchenAbvGr', 'TotRmsAbvGrd', 'Fireplaces', 'GarageYrBlt', 'GarageCars', 'GarageArea', 'WoodDeckSF', 'OpenPorchSF', 'EnclosedPorch', '3SsnPorch', 'ScreenPorch', 'PoolArea', 'MiscVal', 'MoSold', 'YrSold', 'SalePrice']\n"
     ]
    }
   ],
   "source": [
    "a = [f for f in train.columns if train[f].dtype != 'object']\n",
    "print(a)"
   ]
  },
  {
   "cell_type": "code",
   "execution_count": null,
   "id": "ab480c24",
   "metadata": {},
   "outputs": [],
   "source": [
    "# 3. Study dataset\n",
    "corr = train.corr()\n",
    "sns.heatmap(corr)"
   ]
  },
  {
   "cell_type": "code",
   "execution_count": null,
   "id": "cdd1375a",
   "metadata": {},
   "outputs": [],
   "source": [
    "corr.sort_values(['SalePrice'], ascending=False, inplace=True)\n",
    "corr.SalePrice.head(20)"
   ]
  },
  {
   "cell_type": "code",
   "execution_count": null,
   "id": "f95d0c9c",
   "metadata": {},
   "outputs": [],
   "source": [
    "selected_col = corr.SalePrice[corr.SalePrice > 0.4]\n",
    "print(selected_col)"
   ]
  },
  {
   "cell_type": "code",
   "execution_count": null,
   "id": "9f7e9c71",
   "metadata": {},
   "outputs": [],
   "source": [
    "train[selected_col.index].info()"
   ]
  },
  {
   "cell_type": "code",
   "execution_count": null,
   "id": "3620ce41",
   "metadata": {},
   "outputs": [],
   "source": [
    "train = train[selected_col.index]\n",
    "train.head()"
   ]
  },
  {
   "cell_type": "code",
   "execution_count": null,
   "id": "cb8a18de",
   "metadata": {},
   "outputs": [],
   "source": [
    "null_sum = train.isnull().sum()\n",
    "null_sum[null_sum > 0].plot.bar()"
   ]
  },
  {
   "cell_type": "code",
   "execution_count": null,
   "id": "ab9693a0",
   "metadata": {},
   "outputs": [],
   "source": [
    "null_columns = list(pd.DataFrame(null_sum[null_sum > 0]).index)\n",
    "\n",
    "for c in null_columns:\n",
    "    if train[c].dtype == 'object':\n",
    "        train[c] = train[[c]].replace(np.NAN, train[c].mode()[0])\n",
    "    else:\n",
    "        train[c] = train[c].replace(np.NAN, train[c].mean())\n",
    "        \n",
    "print(train.isnull().sum()[train.isnull().sum() > 0])"
   ]
  },
  {
   "cell_type": "code",
   "execution_count": null,
   "id": "2292ff60",
   "metadata": {},
   "outputs": [],
   "source": [
    "#Creating polynomials feature\n",
    "for c in train.drop(columns=['SalePrice']):\n",
    "    train[c + '_s2'] = train[c] ** 2\n",
    "    train[c + '_s3'] = train[c] ** 3\n",
    "    train[c + '_sqrt'] = np.sqrt(train[c])"
   ]
  },
  {
   "cell_type": "code",
   "execution_count": null,
   "id": "42e13d86",
   "metadata": {},
   "outputs": [],
   "source": [
    "len(train.columns)"
   ]
  },
  {
   "cell_type": "code",
   "execution_count": null,
   "id": "be53d0c3",
   "metadata": {},
   "outputs": [],
   "source": [
    "# 5 Check Skewness and Log Transform \n",
    "\n",
    "skewness = train.apply(lambda x: skew(x))\n",
    "\n",
    "skewness = skewness[abs(skewness) > 0.5]\n",
    "print(skewness)"
   ]
  },
  {
   "cell_type": "code",
   "execution_count": null,
   "id": "21bbadd4",
   "metadata": {},
   "outputs": [],
   "source": [
    "print(str(skewness.shape[0]) + \" skewed numerical features to log transform\")"
   ]
  },
  {
   "cell_type": "code",
   "execution_count": null,
   "id": "a048bf43",
   "metadata": {},
   "outputs": [],
   "source": [
    "skewed_features = skewness.index\n",
    "train[skewed_features] = np.log1p(train[skewed_features])"
   ]
  },
  {
   "cell_type": "code",
   "execution_count": null,
   "id": "6d7d3cc6",
   "metadata": {},
   "outputs": [],
   "source": [
    "y = train.SalePrice\n",
    "train=train.drop(columns=['SalePrice'])\n",
    "\n",
    "train.head()"
   ]
  },
  {
   "cell_type": "markdown",
   "id": "c6814dee",
   "metadata": {},
   "source": [
    "# 6. Ridge model "
   ]
  },
  {
   "cell_type": "code",
   "execution_count": null,
   "id": "6c3bd2bc",
   "metadata": {},
   "outputs": [],
   "source": []
  },
  {
   "cell_type": "code",
   "execution_count": null,
   "id": "1e282ba8",
   "metadata": {},
   "outputs": [],
   "source": [
    "X_train, X_test, y_train, y_test = train_test_split(train, y, test_size = 0.3, random_state=0)\n",
    "print(f'X_train : {X_train.shape}')\n",
    "print(f'X_test : {X_test.shape}')\n",
    "print(f'y_train : {y_train.shape}')\n",
    "print(f'y_test : {y_test.shape}')"
   ]
  },
  {
   "cell_type": "code",
   "execution_count": null,
   "id": "4d58a031",
   "metadata": {},
   "outputs": [],
   "source": [
    "X_train.head()"
   ]
  },
  {
   "cell_type": "code",
   "execution_count": null,
   "id": "8120d59d",
   "metadata": {},
   "outputs": [],
   "source": [
    "# Standardize numerical features\n",
    "stdSc = StandardScaler()\n",
    "X_train = pd.DataFrame(stdSc.fit_transform(X_train), columns=X_train.columns, index=X_train.index)\n",
    "X_test = pd.DataFrame(stdSc.fit_transform(X_test), columns=X_test.columns, index=X_test.index)"
   ]
  },
  {
   "cell_type": "code",
   "execution_count": null,
   "id": "bd2eec19",
   "metadata": {},
   "outputs": [],
   "source": [
    "# X_train = X_train.drop(columns=['SalePrice'])"
   ]
  },
  {
   "cell_type": "code",
   "execution_count": null,
   "id": "eb05fdf4",
   "metadata": {},
   "outputs": [],
   "source": [
    "X_train.head()"
   ]
  },
  {
   "cell_type": "code",
   "execution_count": null,
   "id": "d5fef05b",
   "metadata": {},
   "outputs": [],
   "source": [
    "X_test.head()"
   ]
  },
  {
   "cell_type": "code",
   "execution_count": null,
   "id": "9de93738",
   "metadata": {},
   "outputs": [],
   "source": [
    "scorer = make_scorer(mean_squared_error, greater_is_better = False)\n",
    "\n",
    "def rmse_cv_train(model):\n",
    "    rmse= np.sqrt(-cross_val_score(model, X_train, y_train, scoring = scorer, cv = 10))\n",
    "    return(rmse)\n",
    "\n",
    "def rmse_cv_test(model):\n",
    "    rmse= np.sqrt(-cross_val_score(model, X_test, y_test, scoring = scorer, cv = 10))\n",
    "    return(rmse)"
   ]
  },
  {
   "cell_type": "code",
   "execution_count": null,
   "id": "572f88cc",
   "metadata": {},
   "outputs": [],
   "source": [
    "ridge = RidgeCV(alphas = [0.01, 0.03, 0.1, 0.3, 1, 3, 10, 30, 100])\n",
    "ridge.fit(X_train, y_train)\n",
    "alpha = ridge.alpha_\n",
    "print(\"Best alpha :\", alpha)"
   ]
  },
  {
   "cell_type": "code",
   "execution_count": null,
   "id": "e0dd96a0",
   "metadata": {},
   "outputs": [],
   "source": [
    "alpha_list = list(alpha*np.arange(0.6,1.4,0.05))"
   ]
  },
  {
   "cell_type": "code",
   "execution_count": null,
   "id": "97be8de6",
   "metadata": {},
   "outputs": [],
   "source": [
    "alpha_list = [ '%.4f' % elem for elem in alpha_list ]\n",
    "print(alpha_list)"
   ]
  },
  {
   "cell_type": "code",
   "execution_count": null,
   "id": "b1492ff4",
   "metadata": {},
   "outputs": [],
   "source": [
    "ridge = RidgeCV(alphas = alpha_list, \n",
    "                cv = 10)"
   ]
  },
  {
   "cell_type": "code",
   "execution_count": null,
   "id": "458c38a7",
   "metadata": {},
   "outputs": [],
   "source": [
    "ridge.fit(X_train, y_train)\n",
    "alpha = ridge.alpha_\n",
    "print(\"Best alpha :\", alpha)"
   ]
  },
  {
   "cell_type": "code",
   "execution_count": null,
   "id": "8e56ab16",
   "metadata": {},
   "outputs": [],
   "source": []
  },
  {
   "cell_type": "code",
   "execution_count": null,
   "id": "ac363de8",
   "metadata": {},
   "outputs": [],
   "source": [
    "alpha_list = list(0.006*np.arange(0.05,0.95,0.05))\n",
    "alpha_list = [ '%.4f' % elem for elem in alpha_list ]\n",
    "print(alpha_list)"
   ]
  },
  {
   "cell_type": "code",
   "execution_count": null,
   "id": "2700a1c7",
   "metadata": {},
   "outputs": [],
   "source": [
    "ridge = RidgeCV(alphas = alpha_list, \n",
    "                cv = 10)"
   ]
  },
  {
   "cell_type": "code",
   "execution_count": null,
   "id": "a6172ce3",
   "metadata": {},
   "outputs": [],
   "source": [
    "ridge.fit(X_train, y_train)\n",
    "alpha = ridge.alpha_\n",
    "print(\"Best alpha :\", alpha)"
   ]
  },
  {
   "cell_type": "code",
   "execution_count": null,
   "id": "8345ed28",
   "metadata": {},
   "outputs": [],
   "source": [
    "print(\"Ridge RMSE on Training set :\", rmse_cv_train(ridge).mean())\n",
    "print(\"Ridge RMSE on Test set :\", rmse_cv_test(ridge).mean())\n",
    "y_train_rdg = ridge.predict(X_train)\n",
    "y_test_rdg = ridge.predict(X_test)\n",
    "\n",
    "# Plot residuals\n",
    "pp.scatter(y_train_rdg, y_train_rdg - y_train, c = \"blue\", marker = \"s\", label = \"Training data\")\n",
    "pp.scatter(y_test_rdg, y_test_rdg - y_test, c = \"lightgreen\", marker = \"s\", label = \"Validation data\")\n",
    "pp.title(\"Linear regression with Ridge regularization\")\n",
    "pp.xlabel(\"Predicted values\")\n",
    "pp.ylabel(\"Residuals\")\n",
    "pp.legend(loc = \"upper left\")\n",
    "pp.hlines(y = 0, xmin = 10.5, xmax = 13.5, color = \"red\")\n",
    "pp.show()\n",
    "\n",
    "# Plot predictions\n",
    "pp.scatter(y_train_rdg, y_train, c = \"blue\", marker = \"s\", label = \"Training data\")\n",
    "pp.scatter(y_test_rdg, y_test, c = \"lightgreen\", marker = \"s\", label = \"Validation data\")\n",
    "pp.title(\"Linear regression with Ridge regularization\")\n",
    "pp.xlabel(\"Predicted values\")\n",
    "pp.ylabel(\"Real values\")\n",
    "pp.legend(loc = \"upper left\")\n",
    "pp.plot([10.5, 13.5], [10.5, 13.5], c = \"red\")\n",
    "pp.show()\n",
    "\n",
    "# Plot important coefficients\n",
    "coefs = pd.Series(ridge.coef_, index = X_train.columns)\n",
    "print(\"Ridge picked \" + str(sum(coefs != 0)) + \" features and eliminated the other \" +  \\\n",
    "      str(sum(coefs == 0)) + \" features\")\n",
    "imp_coefs = pd.concat([coefs.sort_values().head(10),\n",
    "                     coefs.sort_values().tail(10)])\n",
    "imp_coefs.plot(kind = \"barh\")\n",
    "pp.title(\"Coefficients in the Ridge Model\")\n",
    "pp.show()"
   ]
  },
  {
   "cell_type": "markdown",
   "id": "eb982aa6",
   "metadata": {},
   "source": [
    "# 6. Test set prediction "
   ]
  },
  {
   "cell_type": "code",
   "execution_count": null,
   "id": "26c52810",
   "metadata": {},
   "outputs": [],
   "source": [
    "df_test = pd.read_csv('test.csv')\n",
    "df_test.head()"
   ]
  },
  {
   "cell_type": "code",
   "execution_count": null,
   "id": "c0917b79",
   "metadata": {},
   "outputs": [],
   "source": [
    "print(f'Test dataset shape: {df_test.shape}')"
   ]
  },
  {
   "cell_type": "code",
   "execution_count": null,
   "id": "e3253cd0",
   "metadata": {},
   "outputs": [],
   "source": [
    "selected_col.index"
   ]
  },
  {
   "cell_type": "code",
   "execution_count": null,
   "id": "082baceb",
   "metadata": {},
   "outputs": [],
   "source": [
    "df_test = pd.DataFrame(data=df_test, columns=selected_col.index[1:])\n",
    "df_test.head()"
   ]
  },
  {
   "cell_type": "code",
   "execution_count": null,
   "id": "2fa33515",
   "metadata": {},
   "outputs": [],
   "source": [
    "null_sum = df_test.isnull().sum()\n",
    "null_sum[null_sum > 0].plot.bar()"
   ]
  },
  {
   "cell_type": "code",
   "execution_count": null,
   "id": "5fca24e2",
   "metadata": {},
   "outputs": [],
   "source": [
    "null_columns = list(pd.DataFrame(null_sum[null_sum > 0]).index)\n",
    "\n",
    "for c in null_columns:\n",
    "    if df_test[c].dtype == 'object':\n",
    "        df_test[c] = df_test[[c]].replace(np.NAN, df_test[c].mode()[0])\n",
    "    else:\n",
    "        df_test[c] = df_test[c].replace(np.NAN, df_test[c].mean())\n",
    "        \n",
    "print(df_test.isnull().sum()[df_test.isnull().sum() > 0])"
   ]
  },
  {
   "cell_type": "code",
   "execution_count": null,
   "id": "f658784e",
   "metadata": {},
   "outputs": [],
   "source": [
    "df_test.columns"
   ]
  },
  {
   "cell_type": "code",
   "execution_count": null,
   "id": "b834ea61",
   "metadata": {},
   "outputs": [],
   "source": [
    "for c in df_test.columns:\n",
    "    df_test[c + '_s2'] = df_test[c] ** 2\n",
    "    df_test[c + '_s3'] = df_test[c] ** 3\n",
    "    df_test[c + '_sqrt'] = np.sqrt(df_test[c])"
   ]
  },
  {
   "cell_type": "code",
   "execution_count": null,
   "id": "494f8726",
   "metadata": {},
   "outputs": [],
   "source": [
    "print(df_test.columns)"
   ]
  },
  {
   "cell_type": "code",
   "execution_count": null,
   "id": "9e724112",
   "metadata": {},
   "outputs": [],
   "source": [
    "skewed_features = skewness.index\n",
    "skewed_features = skewed_features[1:]\n",
    "print(f'Features to be skewed: {skewed_features}')"
   ]
  },
  {
   "cell_type": "code",
   "execution_count": null,
   "id": "56ee37a1",
   "metadata": {},
   "outputs": [],
   "source": [
    "df_test[skewed_features] = np.log1p(df_test[skewed_features])"
   ]
  },
  {
   "cell_type": "code",
   "execution_count": null,
   "id": "76ee4667",
   "metadata": {},
   "outputs": [],
   "source": [
    "df_test.head()"
   ]
  },
  {
   "cell_type": "code",
   "execution_count": null,
   "id": "1fd2b37e",
   "metadata": {},
   "outputs": [],
   "source": [
    "df_test = pd.DataFrame(stdSc.fit_transform(df_test), columns=df_test.columns, index=df_test.index)"
   ]
  },
  {
   "cell_type": "code",
   "execution_count": null,
   "id": "aeddf3d8",
   "metadata": {},
   "outputs": [],
   "source": [
    "df_test.head()"
   ]
  },
  {
   "cell_type": "code",
   "execution_count": null,
   "id": "6e1bc826",
   "metadata": {},
   "outputs": [],
   "source": [
    "test_pred = ridge.predict(df_test)\n",
    "print(test_pred)"
   ]
  },
  {
   "cell_type": "code",
   "execution_count": null,
   "id": "12f88eeb",
   "metadata": {},
   "outputs": [],
   "source": [
    "test_pred = np.expm1(test_pred)\n",
    "print(test_pred)"
   ]
  },
  {
   "cell_type": "code",
   "execution_count": null,
   "id": "3764745f",
   "metadata": {},
   "outputs": [],
   "source": [
    "submission = pd.concat([pd.read_csv('test.csv').Id, pd.DataFrame(test_pred, columns=['SalePrice'])], axis=1)\n",
    "submission.head()"
   ]
  },
  {
   "cell_type": "code",
   "execution_count": null,
   "id": "f372778c",
   "metadata": {},
   "outputs": [],
   "source": [
    "submission.to_csv('Prediction5.csv',index=False)"
   ]
  },
  {
   "cell_type": "code",
   "execution_count": null,
   "id": "b35b4f41",
   "metadata": {},
   "outputs": [],
   "source": [
    "# pd.read_csv('Prediction2.csv').head()"
   ]
  },
  {
   "cell_type": "code",
   "execution_count": null,
   "id": "630e0dda",
   "metadata": {},
   "outputs": [],
   "source": []
  }
 ],
 "metadata": {
  "kernelspec": {
   "display_name": "Python 3 (ipykernel)",
   "language": "python",
   "name": "python3"
  },
  "language_info": {
   "codemirror_mode": {
    "name": "ipython",
    "version": 3
   },
   "file_extension": ".py",
   "mimetype": "text/x-python",
   "name": "python",
   "nbconvert_exporter": "python",
   "pygments_lexer": "ipython3",
   "version": "3.9.6"
  }
 },
 "nbformat": 4,
 "nbformat_minor": 5
}
