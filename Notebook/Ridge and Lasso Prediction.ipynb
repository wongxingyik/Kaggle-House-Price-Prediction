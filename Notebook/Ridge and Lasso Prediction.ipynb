{
 "cells": [
  {
   "cell_type": "code",
   "execution_count": null,
   "id": "f0cbd218",
   "metadata": {},
   "outputs": [],
   "source": [
    "import numpy as np\n",
    "import pandas as pd\n",
    "import matplotlib.pyplot as pp\n",
    "import seaborn as sns\n",
    "\n",
    "from sklearn.linear_model import RidgeCV, LinearRegression\n",
    "from sklearn.preprocessing import StandardScaler\n",
    "from sklearn.model_selection import cross_val_score, train_test_split\n",
    "from sklearn.metrics import mean_squared_error, make_scorer\n",
    "\n",
    "from scipy.stats import skew\n",
    "%matplotlib inline"
   ]
  },
  {
   "cell_type": "markdown",
   "id": "070355f7",
   "metadata": {},
   "source": [
    "# 1. Import Dataset"
   ]
  },
  {
   "cell_type": "code",
   "execution_count": null,
   "id": "fe735fe9",
   "metadata": {},
   "outputs": [],
   "source": [
    "train = pd.read_csv('train.csv')\n",
    "test = pd.read_csv('test.csv')"
   ]
  },
  {
   "cell_type": "code",
   "execution_count": null,
   "id": "6d930441",
   "metadata": {},
   "outputs": [],
   "source": [
    "train.head()"
   ]
  },
  {
   "cell_type": "code",
   "execution_count": null,
   "id": "9ffd4699",
   "metadata": {},
   "outputs": [],
   "source": [
    "print(f'Train shape : {train.shape}')"
   ]
  },
  {
   "cell_type": "markdown",
   "id": "a43c1095",
   "metadata": {},
   "source": [
    "# 2. Outliers\n",
    "\n",
    "Remove cheap and expensive house price"
   ]
  },
  {
   "cell_type": "code",
   "execution_count": null,
   "id": "4665eda2",
   "metadata": {},
   "outputs": [],
   "source": [
    "sns.scatterplot(data=train, x='SalePrice', y='GrLivArea')"
   ]
  },
  {
   "cell_type": "code",
   "execution_count": null,
   "id": "7057c0ff",
   "metadata": {},
   "outputs": [],
   "source": [
    "#remove >600k SalePrice and >4000 GrLivArea\n",
    "train = train[train.SalePrice<600000]"
   ]
  },
  {
   "cell_type": "code",
   "execution_count": null,
   "id": "b184a11d",
   "metadata": {},
   "outputs": [],
   "source": [
    "train = train[train.GrLivArea<4000]"
   ]
  },
  {
   "cell_type": "code",
   "execution_count": null,
   "id": "d0b8b1ec",
   "metadata": {},
   "outputs": [],
   "source": [
    "print(f'Removed outliers, train shape : {train.shape}')"
   ]
  },
  {
   "cell_type": "markdown",
   "id": "28b0cd5b",
   "metadata": {},
   "source": [
    "# 3. Study dataset"
   ]
  },
  {
   "cell_type": "code",
   "execution_count": null,
   "id": "d60009ac",
   "metadata": {},
   "outputs": [],
   "source": [
    "corr = train.corr()"
   ]
  },
  {
   "cell_type": "code",
   "execution_count": null,
   "id": "88868fb9",
   "metadata": {},
   "outputs": [],
   "source": [
    "sns.heatmap(corr)"
   ]
  },
  {
   "cell_type": "code",
   "execution_count": null,
   "id": "520e8792",
   "metadata": {},
   "outputs": [],
   "source": [
    "corr.sort_values(['SalePrice'], ascending=False, inplace=True)\n",
    "corr.SalePrice.head(11)"
   ]
  },
  {
   "cell_type": "code",
   "execution_count": null,
   "id": "81caf7b3",
   "metadata": {},
   "outputs": [],
   "source": [
    "top10_col = corr.SalePrice[0:11].index\n",
    "print(top10_col)"
   ]
  },
  {
   "cell_type": "code",
   "execution_count": null,
   "id": "ac4d156c",
   "metadata": {},
   "outputs": [],
   "source": [
    "train[top10_col].info()"
   ]
  },
  {
   "cell_type": "code",
   "execution_count": null,
   "id": "b2f75d69",
   "metadata": {},
   "outputs": [],
   "source": [
    "train = train[top10_col]"
   ]
  },
  {
   "cell_type": "code",
   "execution_count": null,
   "id": "8190a787",
   "metadata": {},
   "outputs": [],
   "source": [
    "train.head()"
   ]
  },
  {
   "cell_type": "code",
   "execution_count": null,
   "id": "2f4c45b5",
   "metadata": {},
   "outputs": [],
   "source": [
    "top10_col.drop('SalePrice')"
   ]
  },
  {
   "cell_type": "code",
   "execution_count": null,
   "id": "4033efbf",
   "metadata": {},
   "outputs": [],
   "source": [
    "#Creating polynomials feature\n",
    "for c in train.drop(columns=['SalePrice']):\n",
    "    train[c + '_s2'] = train[c] ** 2\n",
    "    train[c + '_s3'] = train[c] ** 3\n",
    "    train[c + '_sqrt'] = np.sqrt(train[c])"
   ]
  },
  {
   "cell_type": "code",
   "execution_count": null,
   "id": "ad6c6b8b",
   "metadata": {},
   "outputs": [],
   "source": [
    "train.columns"
   ]
  },
  {
   "cell_type": "markdown",
   "id": "6eefd09d",
   "metadata": {},
   "source": [
    "# 5 Check Skewness and Log Transform "
   ]
  },
  {
   "cell_type": "code",
   "execution_count": null,
   "id": "3f242267",
   "metadata": {},
   "outputs": [],
   "source": [
    "skewness = train.apply(lambda x: skew(x))"
   ]
  },
  {
   "cell_type": "code",
   "execution_count": null,
   "id": "2357f815",
   "metadata": {},
   "outputs": [],
   "source": [
    "skewness = skewness[abs(skewness) > 0.5]\n",
    "print(skewness)"
   ]
  },
  {
   "cell_type": "code",
   "execution_count": null,
   "id": "9ffd2ff8",
   "metadata": {},
   "outputs": [],
   "source": [
    "print(str(skewness.shape[0]) + \" skewed numerical features to log transform\")"
   ]
  },
  {
   "cell_type": "code",
   "execution_count": null,
   "id": "8455c031",
   "metadata": {},
   "outputs": [],
   "source": [
    "skewed_features = skewness.index\n",
    "train[skewed_features] = np.log1p(train[skewed_features])"
   ]
  },
  {
   "cell_type": "code",
   "execution_count": null,
   "id": "2b43d8c8",
   "metadata": {},
   "outputs": [],
   "source": [
    "y = train.SalePrice\n",
    "train=train.drop(columns=['SalePrice'])"
   ]
  },
  {
   "cell_type": "code",
   "execution_count": null,
   "id": "ebf00242",
   "metadata": {},
   "outputs": [],
   "source": [
    "train.head()"
   ]
  },
  {
   "cell_type": "markdown",
   "id": "c6814dee",
   "metadata": {},
   "source": [
    "# 6. Ridge model "
   ]
  },
  {
   "cell_type": "code",
   "execution_count": null,
   "id": "6c3bd2bc",
   "metadata": {},
   "outputs": [],
   "source": []
  },
  {
   "cell_type": "code",
   "execution_count": null,
   "id": "1e282ba8",
   "metadata": {},
   "outputs": [],
   "source": [
    "X_train, X_test, y_train, y_test = train_test_split(train, y, test_size = 0.2, random_state=0)\n",
    "print(f'X_train : {X_train.shape}')\n",
    "print(f'X_test : {X_test.shape}')\n",
    "print(f'y_train : {y_train.shape}')\n",
    "print(f'y_test : {y_test.shape}')"
   ]
  },
  {
   "cell_type": "code",
   "execution_count": null,
   "id": "4d58a031",
   "metadata": {},
   "outputs": [],
   "source": [
    "X_train.head()"
   ]
  },
  {
   "cell_type": "code",
   "execution_count": null,
   "id": "8120d59d",
   "metadata": {},
   "outputs": [],
   "source": [
    "# Standardize numerical features\n",
    "stdSc = StandardScaler()\n",
    "X_train = pd.DataFrame(stdSc.fit_transform(X_train), columns=X_train.columns, index=X_train.index)\n",
    "X_test = pd.DataFrame(stdSc.fit_transform(X_test), columns=X_test.columns, index=X_test.index)"
   ]
  },
  {
   "cell_type": "code",
   "execution_count": null,
   "id": "bd2eec19",
   "metadata": {},
   "outputs": [],
   "source": [
    "# X_train = X_train.drop(columns=['SalePrice'])"
   ]
  },
  {
   "cell_type": "code",
   "execution_count": null,
   "id": "eb05fdf4",
   "metadata": {},
   "outputs": [],
   "source": [
    "X_train.head()"
   ]
  },
  {
   "cell_type": "code",
   "execution_count": null,
   "id": "d5fef05b",
   "metadata": {},
   "outputs": [],
   "source": [
    "X_test.head()"
   ]
  },
  {
   "cell_type": "code",
   "execution_count": null,
   "id": "9de93738",
   "metadata": {},
   "outputs": [],
   "source": [
    "scorer = make_scorer(mean_squared_error, greater_is_better = False)\n",
    "\n",
    "def rmse_cv_train(model):\n",
    "    rmse= np.sqrt(-cross_val_score(model, X_train, y_train, scoring = scorer, cv = 10))\n",
    "    return(rmse)\n",
    "\n",
    "def rmse_cv_test(model):\n",
    "    rmse= np.sqrt(-cross_val_score(model, X_test, y_test, scoring = scorer, cv = 10))\n",
    "    return(rmse)"
   ]
  },
  {
   "cell_type": "code",
   "execution_count": null,
   "id": "572f88cc",
   "metadata": {},
   "outputs": [],
   "source": [
    "ridge = RidgeCV(alphas = [0.01, 0.03, 0.1, 0.3, 1, 3, 10, 30, 100])\n",
    "ridge.fit(X_train, y_train)\n",
    "alpha = ridge.alpha_\n",
    "print(\"Best alpha :\", alpha)"
   ]
  },
  {
   "cell_type": "code",
   "execution_count": null,
   "id": "e0dd96a0",
   "metadata": {},
   "outputs": [],
   "source": [
    "alpha_list = list(alpha*np.arange(0.6,1.4,0.05))"
   ]
  },
  {
   "cell_type": "code",
   "execution_count": null,
   "id": "97be8de6",
   "metadata": {},
   "outputs": [],
   "source": [
    "alpha_list = [ '%.4f' % elem for elem in alpha_list ]\n",
    "print(alpha_list)"
   ]
  },
  {
   "cell_type": "code",
   "execution_count": null,
   "id": "b1492ff4",
   "metadata": {},
   "outputs": [],
   "source": [
    "ridge = RidgeCV(alphas = alpha_list, \n",
    "                cv = 10)"
   ]
  },
  {
   "cell_type": "code",
   "execution_count": null,
   "id": "458c38a7",
   "metadata": {},
   "outputs": [],
   "source": [
    "ridge.fit(X_train, y_train)\n",
    "alpha = ridge.alpha_\n",
    "print(\"Best alpha :\", alpha)"
   ]
  },
  {
   "cell_type": "code",
   "execution_count": null,
   "id": "8e56ab16",
   "metadata": {},
   "outputs": [],
   "source": []
  },
  {
   "cell_type": "code",
   "execution_count": null,
   "id": "ac363de8",
   "metadata": {},
   "outputs": [],
   "source": [
    "alpha_list = list(0.006*np.arange(0.05,0.95,0.05))\n",
    "alpha_list = [ '%.4f' % elem for elem in alpha_list ]\n",
    "print(alpha_list)"
   ]
  },
  {
   "cell_type": "code",
   "execution_count": null,
   "id": "2700a1c7",
   "metadata": {},
   "outputs": [],
   "source": [
    "ridge = RidgeCV(alphas = alpha_list, \n",
    "                cv = 10)"
   ]
  },
  {
   "cell_type": "code",
   "execution_count": null,
   "id": "a6172ce3",
   "metadata": {},
   "outputs": [],
   "source": [
    "ridge.fit(X_train, y_train)\n",
    "alpha = ridge.alpha_\n",
    "print(\"Best alpha :\", alpha)"
   ]
  },
  {
   "cell_type": "code",
   "execution_count": null,
   "id": "8345ed28",
   "metadata": {},
   "outputs": [],
   "source": [
    "print(\"Ridge RMSE on Training set :\", rmse_cv_train(ridge).mean())\n",
    "print(\"Ridge RMSE on Test set :\", rmse_cv_test(ridge).mean())\n",
    "y_train_rdg = ridge.predict(X_train)\n",
    "y_test_rdg = ridge.predict(X_test)\n",
    "\n",
    "# Plot residuals\n",
    "pp.scatter(y_train_rdg, y_train_rdg - y_train, c = \"blue\", marker = \"s\", label = \"Training data\")\n",
    "pp.scatter(y_test_rdg, y_test_rdg - y_test, c = \"lightgreen\", marker = \"s\", label = \"Validation data\")\n",
    "pp.title(\"Linear regression with Ridge regularization\")\n",
    "pp.xlabel(\"Predicted values\")\n",
    "pp.ylabel(\"Residuals\")\n",
    "pp.legend(loc = \"upper left\")\n",
    "pp.hlines(y = 0, xmin = 10.5, xmax = 13.5, color = \"red\")\n",
    "pp.show()\n",
    "\n",
    "# Plot predictions\n",
    "pp.scatter(y_train_rdg, y_train, c = \"blue\", marker = \"s\", label = \"Training data\")\n",
    "pp.scatter(y_test_rdg, y_test, c = \"lightgreen\", marker = \"s\", label = \"Validation data\")\n",
    "pp.title(\"Linear regression with Ridge regularization\")\n",
    "pp.xlabel(\"Predicted values\")\n",
    "pp.ylabel(\"Real values\")\n",
    "pp.legend(loc = \"upper left\")\n",
    "pp.plot([10.5, 13.5], [10.5, 13.5], c = \"red\")\n",
    "pp.show()\n",
    "\n",
    "# Plot important coefficients\n",
    "coefs = pd.Series(ridge.coef_, index = X_train.columns)\n",
    "print(\"Ridge picked \" + str(sum(coefs != 0)) + \" features and eliminated the other \" +  \\\n",
    "      str(sum(coefs == 0)) + \" features\")\n",
    "imp_coefs = pd.concat([coefs.sort_values().head(10),\n",
    "                     coefs.sort_values().tail(10)])\n",
    "imp_coefs.plot(kind = \"barh\")\n",
    "pp.title(\"Coefficients in the Ridge Model\")\n",
    "pp.show()"
   ]
  },
  {
   "cell_type": "markdown",
   "id": "eb982aa6",
   "metadata": {},
   "source": [
    "# 6. Test set prediction "
   ]
  },
  {
   "cell_type": "code",
   "execution_count": null,
   "id": "26c52810",
   "metadata": {},
   "outputs": [],
   "source": [
    "df_test = pd.read_csv('test.csv')\n",
    "df_test.head()"
   ]
  },
  {
   "cell_type": "code",
   "execution_count": null,
   "id": "c0917b79",
   "metadata": {},
   "outputs": [],
   "source": [
    "print(f'Test dataset shape: {df_test.shape}')"
   ]
  },
  {
   "cell_type": "code",
   "execution_count": null,
   "id": "082baceb",
   "metadata": {},
   "outputs": [],
   "source": [
    "df_test = pd.DataFrame(data=df_test, columns=top10_col[1:])\n",
    "df_test.head()"
   ]
  },
  {
   "cell_type": "code",
   "execution_count": null,
   "id": "2fa33515",
   "metadata": {},
   "outputs": [],
   "source": [
    "null_sum = df_test.isnull().sum()\n",
    "null_sum[null_sum > 0].plot.bar()"
   ]
  },
  {
   "cell_type": "code",
   "execution_count": null,
   "id": "5fca24e2",
   "metadata": {},
   "outputs": [],
   "source": [
    "null_columns = list(pd.DataFrame(null_sum[null_sum > 0]).index)\n",
    "\n",
    "for c in null_columns:\n",
    "    if df_test[c].dtype == 'object':\n",
    "        df_test[c] = df_test[[c]].replace(np.NAN, df_test[c].mode()[0])\n",
    "    else:\n",
    "        df_test[c] = df_test[c].replace(np.NAN, df_test[c].mean())\n",
    "        \n",
    "print(df_test.isnull().sum()[df_test.isnull().sum() > 0])"
   ]
  },
  {
   "cell_type": "code",
   "execution_count": null,
   "id": "b834ea61",
   "metadata": {},
   "outputs": [],
   "source": [
    "for c in df_test.columns:\n",
    "    df_test[c + '_s2'] = df_test[c] ** 2\n",
    "    df_test[c + '_s3'] = df_test[c] ** 3\n",
    "    df_test[c + '_sqrt'] = np.sqrt(df_test[c])"
   ]
  },
  {
   "cell_type": "code",
   "execution_count": null,
   "id": "494f8726",
   "metadata": {},
   "outputs": [],
   "source": [
    "print(df_test.columns)"
   ]
  },
  {
   "cell_type": "code",
   "execution_count": null,
   "id": "9e724112",
   "metadata": {},
   "outputs": [],
   "source": [
    "skewed_features = skewness.index\n",
    "skewed_features = skewed_features[1:]\n",
    "print(f'Features to be skewed: {skewed_features}')"
   ]
  },
  {
   "cell_type": "code",
   "execution_count": null,
   "id": "56ee37a1",
   "metadata": {},
   "outputs": [],
   "source": [
    "df_test[skewed_features] = np.log1p(df_test[skewed_features])"
   ]
  },
  {
   "cell_type": "code",
   "execution_count": null,
   "id": "76ee4667",
   "metadata": {},
   "outputs": [],
   "source": [
    "df_test.head()"
   ]
  },
  {
   "cell_type": "code",
   "execution_count": null,
   "id": "1fd2b37e",
   "metadata": {},
   "outputs": [],
   "source": [
    "df_test = pd.DataFrame(stdSc.fit_transform(df_test), columns=df_test.columns, index=df_test.index)"
   ]
  },
  {
   "cell_type": "code",
   "execution_count": null,
   "id": "aeddf3d8",
   "metadata": {},
   "outputs": [],
   "source": [
    "df_test.head()"
   ]
  },
  {
   "cell_type": "code",
   "execution_count": null,
   "id": "6e1bc826",
   "metadata": {},
   "outputs": [],
   "source": [
    "test_pred = ridge.predict(df_test)\n",
    "print(test_pred)"
   ]
  },
  {
   "cell_type": "code",
   "execution_count": null,
   "id": "12f88eeb",
   "metadata": {},
   "outputs": [],
   "source": [
    "test_pred = np.expm1(test_pred)\n",
    "print(test_pred)"
   ]
  },
  {
   "cell_type": "code",
   "execution_count": null,
   "id": "3764745f",
   "metadata": {},
   "outputs": [],
   "source": [
    "submission = pd.concat([pd.read_csv('test.csv').Id, pd.DataFrame(test_pred, columns=['SalePrice'])], axis=1)\n",
    "submission.head()"
   ]
  },
  {
   "cell_type": "code",
   "execution_count": null,
   "id": "f372778c",
   "metadata": {},
   "outputs": [],
   "source": [
    "# submission.to_csv('Prediction2.csv',index=False)"
   ]
  },
  {
   "cell_type": "code",
   "execution_count": null,
   "id": "b35b4f41",
   "metadata": {},
   "outputs": [],
   "source": [
    "# pd.read_csv('Prediction2.csv').head()"
   ]
  },
  {
   "cell_type": "code",
   "execution_count": null,
   "id": "1724f84f",
   "metadata": {},
   "outputs": [],
   "source": []
  },
  {
   "cell_type": "code",
   "execution_count": null,
   "id": "44ae57c6",
   "metadata": {},
   "outputs": [],
   "source": []
  },
  {
   "cell_type": "markdown",
   "id": "3e7a939c",
   "metadata": {},
   "source": [
    "# LASSO (L1) penalty "
   ]
  },
  {
   "cell_type": "code",
   "execution_count": null,
   "id": "8b3243ae",
   "metadata": {},
   "outputs": [],
   "source": [
    "from sklearn.linear_model import LassoCV"
   ]
  },
  {
   "cell_type": "code",
   "execution_count": null,
   "id": "e8740ca7",
   "metadata": {},
   "outputs": [],
   "source": [
    "# 3* Lasso\n",
    "lasso = LassoCV(alphas = [0.0001, 0.0003, 0.0006, 0.001, 0.003, 0.006, 0.01, 0.03, 0.06, 0.1, \n",
    "                          0.3, 0.6, 1], \n",
    "                max_iter = 100000, cv = 10, tol = 0.001)\n",
    "lasso.fit(X_train, y_train)\n",
    "alpha = lasso.alpha_\n",
    "print(\"Best alpha :\", alpha)\n",
    "\n",
    "print(\"Try again for more precision with alphas centered around \" + str(alpha))\n",
    "lasso = LassoCV(alphas = [alpha * .6, alpha * .65, alpha * .7, alpha * .75, alpha * .8, \n",
    "                          alpha * .85, alpha * .9, alpha * .95, alpha, alpha * 1.05, \n",
    "                          alpha * 1.1, alpha * 1.15, alpha * 1.25, alpha * 1.3, alpha * 1.35, \n",
    "                          alpha * 1.4], \n",
    "                max_iter = 100000, cv = 10, tol = 0.001)\n",
    "lasso.fit(X_train, y_train)\n",
    "\n",
    "# for i in range(0,50):\n",
    "#     print(f'Iteration {i}, RMSE : {rmse_cv_train(lasso).mean()}')\n",
    "#     lasso.fit(X_train, y_train)\n",
    "\n",
    "alpha = lasso.alpha_\n",
    "print(\"Best alpha :\", alpha)\n",
    "\n",
    "print(\"Lasso RMSE on Training set :\", rmse_cv_train(lasso).mean())\n",
    "print(\"Lasso RMSE on Test set :\", rmse_cv_test(lasso).mean())\n",
    "y_train_las = lasso.predict(X_train)\n",
    "y_test_las = lasso.predict(X_test)\n",
    "\n",
    "# Plot residuals\n",
    "pp.scatter(y_train_las, y_train_las - y_train, c = \"blue\", marker = \"s\", label = \"Training data\")\n",
    "pp.scatter(y_test_las, y_test_las - y_test, c = \"lightgreen\", marker = \"s\", label = \"Validation data\")\n",
    "pp.title(\"Linear regression with Lasso regularization\")\n",
    "pp.xlabel(\"Predicted values\")\n",
    "pp.ylabel(\"Residuals\")\n",
    "pp.legend(loc = \"upper left\")\n",
    "pp.hlines(y = 0, xmin = 10.5, xmax = 13.5, color = \"red\")\n",
    "pp.show()\n",
    "\n",
    "# Plot predictions\n",
    "pp.scatter(y_train_las, y_train, c = \"blue\", marker = \"s\", label = \"Training data\")\n",
    "pp.scatter(y_test_las, y_test, c = \"lightgreen\", marker = \"s\", label = \"Validation data\")\n",
    "pp.title(\"Linear regression with Lasso regularization\")\n",
    "pp.xlabel(\"Predicted values\")\n",
    "pp.ylabel(\"Real values\")\n",
    "pp.legend(loc = \"upper left\")\n",
    "pp.plot([10.5, 13.5], [10.5, 13.5], c = \"red\")\n",
    "pp.show()\n",
    "\n",
    "# Plot important coefficients\n",
    "coefs = pd.Series(lasso.coef_, index = X_train.columns)\n",
    "print(\"Lasso picked \" + str(sum(coefs != 0)) + \" features and eliminated the other \" +  \\\n",
    "      str(sum(coefs == 0)) + \" features\")\n",
    "imp_coefs = pd.concat([coefs.sort_values().head(10),\n",
    "                     coefs.sort_values().tail(10)])\n",
    "imp_coefs.plot(kind = \"barh\")\n",
    "pp.title(\"Coefficients in the Lasso Model\")\n",
    "pp.show()"
   ]
  },
  {
   "cell_type": "code",
   "execution_count": null,
   "id": "fa0afd56",
   "metadata": {},
   "outputs": [],
   "source": [
    "test_pred = lasso.predict(df_test)"
   ]
  },
  {
   "cell_type": "code",
   "execution_count": null,
   "id": "0aa92300",
   "metadata": {},
   "outputs": [],
   "source": [
    "test_pred = np.expm1(test_pred)"
   ]
  },
  {
   "cell_type": "code",
   "execution_count": null,
   "id": "e7635625",
   "metadata": {},
   "outputs": [],
   "source": [
    "submission = pd.concat([pd.read_csv('test.csv').Id, pd.DataFrame(test_pred, columns=['SalePrice'])], axis=1)\n",
    "submission.head()"
   ]
  },
  {
   "cell_type": "code",
   "execution_count": null,
   "id": "c6c59181",
   "metadata": {},
   "outputs": [],
   "source": [
    "submission.to_csv('Prediction3.csv',index=False)"
   ]
  },
  {
   "cell_type": "code",
   "execution_count": null,
   "id": "eb022f4a",
   "metadata": {},
   "outputs": [],
   "source": []
  },
  {
   "cell_type": "code",
   "execution_count": null,
   "id": "5c682db2",
   "metadata": {},
   "outputs": [],
   "source": [
    "from sklearn.linear_model import ElasticNetCV"
   ]
  },
  {
   "cell_type": "code",
   "execution_count": null,
   "id": "6568c6fa",
   "metadata": {},
   "outputs": [],
   "source": [
    "# 4* ElasticNet\n",
    "elasticNet = ElasticNetCV(l1_ratio = [0.1, 0.3, 0.5, 0.6, 0.7, 0.8, 0.85, 0.9, 0.95, 1],\n",
    "                          alphas = [0.0001, 0.0003, 0.0006, 0.001, 0.003, 0.006, \n",
    "                                    0.01, 0.03, 0.06, 0.1, 0.3, 0.6, 1, 3, 6], \n",
    "                          max_iter = 100000, cv = 10)\n",
    "elasticNet.fit(X_train, y_train)\n",
    "alpha = elasticNet.alpha_\n",
    "ratio = elasticNet.l1_ratio_\n",
    "print(\"Best l1_ratio :\", ratio)\n",
    "print(\"Best alpha :\", alpha )\n",
    "\n",
    "print(\"Try again for more precision with l1_ratio centered around \" + str(ratio))\n",
    "elasticNet = ElasticNetCV(l1_ratio = [ratio * .85, ratio * .9, ratio * .95, ratio, ratio * 1.05, ratio * 1.1, ratio * 1.15],\n",
    "                          alphas = [0.0001, 0.0003, 0.0006, 0.001, 0.003, 0.006, 0.01, 0.03, 0.06, 0.1, 0.3, 0.6, 1, 3, 6], \n",
    "                          max_iter = 100000, cv = 10)\n",
    "elasticNet.fit(X_train, y_train)\n",
    "if (elasticNet.l1_ratio_ > 1):\n",
    "    elasticNet.l1_ratio_ = 1    \n",
    "alpha = elasticNet.alpha_\n",
    "ratio = elasticNet.l1_ratio_\n",
    "print(\"Best l1_ratio :\", ratio)\n",
    "print(\"Best alpha :\", alpha )\n",
    "\n",
    "print(\"Now try again for more precision on alpha, with l1_ratio fixed at \" + str(ratio) + \n",
    "      \" and alpha centered around \" + str(alpha))\n",
    "elasticNet = ElasticNetCV(l1_ratio = ratio,\n",
    "                          alphas = [alpha * .6, alpha * .65, alpha * .7, alpha * .75, alpha * .8, alpha * .85, alpha * .9, \n",
    "                                    alpha * .95, alpha, alpha * 1.05, alpha * 1.1, alpha * 1.15, alpha * 1.25, alpha * 1.3, \n",
    "                                    alpha * 1.35, alpha * 1.4], \n",
    "                          max_iter = 100000, cv = 10)\n",
    "elasticNet.fit(X_train, y_train)\n",
    "if (elasticNet.l1_ratio_ > 1):\n",
    "    elasticNet.l1_ratio_ = 1    \n",
    "alpha = elasticNet.alpha_\n",
    "ratio = elasticNet.l1_ratio_\n",
    "print(\"Best l1_ratio :\", ratio)\n",
    "print(\"Best alpha :\", alpha )\n",
    "\n",
    "print(\"ElasticNet RMSE on Training set :\", rmse_cv_train(elasticNet).mean())\n",
    "print(\"ElasticNet RMSE on Test set :\", rmse_cv_test(elasticNet).mean())\n",
    "y_train_ela = elasticNet.predict(X_train)\n",
    "y_test_ela = elasticNet.predict(X_test)\n",
    "\n",
    "# Plot residuals\n",
    "pp.scatter(y_train_ela, y_train_ela - y_train, c = \"blue\", marker = \"s\", label = \"Training data\")\n",
    "pp.scatter(y_test_ela, y_test_ela - y_test, c = \"lightgreen\", marker = \"s\", label = \"Validation data\")\n",
    "pp.title(\"Linear regression with ElasticNet regularization\")\n",
    "pp.xlabel(\"Predicted values\")\n",
    "pp.ylabel(\"Residuals\")\n",
    "pp.legend(loc = \"upper left\")\n",
    "pp.hlines(y = 0, xmin = 10.5, xmax = 13.5, color = \"red\")\n",
    "pp.show()\n",
    "\n",
    "# Plot predictions\n",
    "pp.scatter(y_train, y_train_ela, c = \"blue\", marker = \"s\", label = \"Training data\")\n",
    "pp.scatter(y_test, y_test_ela, c = \"lightgreen\", marker = \"s\", label = \"Validation data\")\n",
    "pp.title(\"Linear regression with ElasticNet regularization\")\n",
    "pp.xlabel(\"Predicted values\")\n",
    "pp.ylabel(\"Real values\")\n",
    "pp.legend(loc = \"upper left\")\n",
    "pp.plot([10.5, 13.5], [10.5, 13.5], c = \"red\")\n",
    "pp.show()\n",
    "\n",
    "# Plot important coefficients\n",
    "coefs = pd.Series(elasticNet.coef_, index = X_train.columns)\n",
    "print(\"ElasticNet picked \" + str(sum(coefs != 0)) + \" features and eliminated the other \" +  str(sum(coefs == 0)) + \" features\")\n",
    "imp_coefs = pd.concat([coefs.sort_values().head(10),\n",
    "                     coefs.sort_values().tail(10)])\n",
    "imp_coefs.plot(kind = \"barh\")\n",
    "pp.title(\"Coefficients in the ElasticNet Model\")\n",
    "pp.show()"
   ]
  },
  {
   "cell_type": "code",
   "execution_count": null,
   "id": "1537a20d",
   "metadata": {},
   "outputs": [],
   "source": [
    "test_pred = elasticNet.predict(df_test)"
   ]
  },
  {
   "cell_type": "code",
   "execution_count": null,
   "id": "803425a7",
   "metadata": {},
   "outputs": [],
   "source": [
    "test_pred = np.expm1(test_pred)"
   ]
  },
  {
   "cell_type": "code",
   "execution_count": null,
   "id": "e6d4b6e4",
   "metadata": {},
   "outputs": [],
   "source": [
    "submission = pd.concat([pd.read_csv('test.csv').Id, pd.DataFrame(test_pred, columns=['SalePrice'])], axis=1)\n",
    "submission.head()"
   ]
  },
  {
   "cell_type": "code",
   "execution_count": null,
   "id": "ae53017b",
   "metadata": {},
   "outputs": [],
   "source": [
    "submission.to_csv('Prediction4.csv',index=False)"
   ]
  },
  {
   "cell_type": "code",
   "execution_count": null,
   "id": "74a4ae8d",
   "metadata": {},
   "outputs": [],
   "source": []
  }
 ],
 "metadata": {
  "kernelspec": {
   "display_name": "Python 3 (ipykernel)",
   "language": "python",
   "name": "python3"
  },
  "language_info": {
   "codemirror_mode": {
    "name": "ipython",
    "version": 3
   },
   "file_extension": ".py",
   "mimetype": "text/x-python",
   "name": "python",
   "nbconvert_exporter": "python",
   "pygments_lexer": "ipython3",
   "version": "3.9.6"
  }
 },
 "nbformat": 4,
 "nbformat_minor": 5
}
