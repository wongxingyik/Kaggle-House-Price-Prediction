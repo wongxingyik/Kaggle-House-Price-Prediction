{
 "cells": [
  {
   "cell_type": "code",
   "execution_count": 1,
   "id": "e492ebf7",
   "metadata": {},
   "outputs": [],
   "source": [
    "import numpy as np\n",
    "import pandas as pd\n",
    "import matplotlib.pyplot as plt\n",
    "\n",
    "%matplotlib inline"
   ]
  },
  {
   "cell_type": "code",
   "execution_count": 2,
   "id": "4da7d697",
   "metadata": {},
   "outputs": [],
   "source": [
    "from sklearn.model_selection import train_test_split, cross_val_score\n",
    "from sklearn.preprocessing import StandardScaler\n",
    "from sklearn.metrics import mean_squared_error, make_scorer\n",
    "import xgboost as xgb"
   ]
  },
  {
   "cell_type": "markdown",
   "id": "2eb1e53c",
   "metadata": {},
   "source": [
    "## Import Data "
   ]
  },
  {
   "cell_type": "code",
   "execution_count": 3,
   "id": "c77dc0a0",
   "metadata": {},
   "outputs": [],
   "source": [
    "train = pd.read_csv('train_new.csv')\n",
    "test = pd.read_csv('test_new.csv')"
   ]
  },
  {
   "cell_type": "code",
   "execution_count": 4,
   "id": "06fc0d2b",
   "metadata": {},
   "outputs": [],
   "source": [
    "y = train.SalePrice\n",
    "train = train.drop(columns=['Id', 'SalePrice'])"
   ]
  },
  {
   "cell_type": "code",
   "execution_count": 5,
   "id": "b234a83e",
   "metadata": {},
   "outputs": [
    {
     "name": "stdout",
     "output_type": "stream",
     "text": [
      "Train shape: (1451, 341)\n",
      "Test shape: (1459, 341)\n"
     ]
    }
   ],
   "source": [
    "print(f'Train shape: {train.shape}')\n",
    "print(f'Test shape: {test.shape}')"
   ]
  },
  {
   "cell_type": "code",
   "execution_count": 6,
   "id": "d08d4a0b",
   "metadata": {},
   "outputs": [
    {
     "name": "stdout",
     "output_type": "stream",
     "text": [
      "X_train : (1015, 341)\n",
      "X_test : (436, 341)\n",
      "y_train : (1015,)\n",
      "y_test : (436,)\n"
     ]
    }
   ],
   "source": [
    "X_train, X_test, y_train, y_test = train_test_split(train, y, test_size = 0.30, random_state=0)\n",
    "print(f'X_train : {X_train.shape}')\n",
    "print(f'X_test : {X_test.shape}')\n",
    "print(f'y_train : {y_train.shape}')\n",
    "print(f'y_test : {y_test.shape}')"
   ]
  },
  {
   "cell_type": "code",
   "execution_count": 7,
   "id": "dec6fb1b",
   "metadata": {},
   "outputs": [],
   "source": [
    "stdSc = StandardScaler()\n",
    "X_train = pd.DataFrame(stdSc.fit_transform(X_train), columns=X_train.columns, index=X_train.index)\n",
    "X_test = pd.DataFrame(stdSc.transform(X_test), columns=X_test.columns, index=X_test.index)"
   ]
  },
  {
   "cell_type": "code",
   "execution_count": 8,
   "id": "3a398f3a",
   "metadata": {},
   "outputs": [],
   "source": [
    "scorer = make_scorer(mean_squared_error, greater_is_better=False)\n",
    "\n",
    "def rmse_train(model):\n",
    "    r = np.sqrt(-cross_val_score(model, X_train, y_train, scoring = scorer, cv = 10))\n",
    "    return(r)\n",
    "    \n",
    "def rmse_test(model):\n",
    "    r = np.sqrt(-cross_val_score(model, X_test, y_test, scoring = scorer, cv = 10))\n",
    "    return(r)"
   ]
  },
  {
   "cell_type": "code",
   "execution_count": null,
   "id": "0ae4050b",
   "metadata": {},
   "outputs": [],
   "source": [
    "dtrain = xgb.DMatrix(X_train, label = y_train)\n",
    "dtest = xgb.DMatrix(X_test)\n",
    "\n",
    "params = {\"max_depth\":2, \"eta\":0.1}\n",
    "model = xgb.cv(params, dtrain,  num_boost_round=500, early_stopping_rounds=100)"
   ]
  },
  {
   "cell_type": "code",
   "execution_count": null,
   "id": "2b9f436c",
   "metadata": {},
   "outputs": [],
   "source": [
    "model.loc[30:,[\"test-rmse-mean\", \"train-rmse-mean\"]].plot()"
   ]
  },
  {
   "cell_type": "code",
   "execution_count": null,
   "id": "1143c236",
   "metadata": {},
   "outputs": [],
   "source": [
    "model_xgb = xgb.XGBRegressor(n_estimators=360, max_depth=2, learning_rate=0.1) #the params were tuned using xgb.cv\n",
    "model_xgb.fit(X_train, y_train)\n",
    "\n",
    "print(f'Training set rmse mean: {rmse_train(model_xgb).mean()}')\n",
    "print(f'Cross validation set: {rmse_train(model_xgb).mean()}')"
   ]
  },
  {
   "cell_type": "code",
   "execution_count": null,
   "id": "9b9a472c",
   "metadata": {},
   "outputs": [],
   "source": [
    "train_pred = model_xgb.predict(X_train)\n",
    "test_pred = model_xgb.predict(X_test)"
   ]
  },
  {
   "cell_type": "code",
   "execution_count": null,
   "id": "e2bad636",
   "metadata": {},
   "outputs": [],
   "source": [
    "plt.style.use('seaborn')\n",
    "plt.scatter(y_train, train_pred, label='Train', edgecolors='black')\n",
    "plt.scatter(y_test, test_pred, label='CV', edgecolors='black')\n",
    "plt.legend(loc=0)\n",
    "plt.title('XGBoostRegressor')\n",
    "plt.show()"
   ]
  },
  {
   "cell_type": "code",
   "execution_count": null,
   "id": "77e80f78",
   "metadata": {},
   "outputs": [],
   "source": [
    "plt.scatter(train_pred, train_pred - y_train , label='Train', edgecolors='black')\n",
    "plt.scatter(test_pred, test_pred - y_test, label='CV', edgecolors='black')\n",
    "plt.legend(loc=0)\n",
    "plt.title('XGBoostRegressor Errors')\n",
    "plt.xlabel('Predicted Value')\n",
    "plt.ylabel('Errors')\n",
    "plt.show()"
   ]
  },
  {
   "cell_type": "code",
   "execution_count": null,
   "id": "340d6f9c",
   "metadata": {},
   "outputs": [],
   "source": [
    "xgb_preds = np.expm1(model_xgb.predict(X_test))"
   ]
  },
  {
   "cell_type": "markdown",
   "id": "2c3ff424",
   "metadata": {},
   "source": [
    "## XGBRegressor Hyperparameter Tuning\n",
    "1. learning rate, default = 0.3\n",
    "2. gamma, default = 0\n",
    "3. max_depth, default = 6\n",
    "4. lambda, default = 1\n",
    "5. alpha, default = 0\n",
    "6. min_child_weight, default = 1\n",
    "\n"
   ]
  },
  {
   "cell_type": "code",
   "execution_count": 9,
   "id": "dd94966e",
   "metadata": {},
   "outputs": [],
   "source": [
    "from sklearn.model_selection import GridSearchCV"
   ]
  },
  {
   "cell_type": "markdown",
   "id": "9d11fb08",
   "metadata": {},
   "source": [
    "### n_estimator"
   ]
  },
  {
   "cell_type": "code",
   "execution_count": 10,
   "id": "a1f2a0a2",
   "metadata": {},
   "outputs": [],
   "source": [
    "n_estimators = [100,300,1000,3000]\n",
    "param_grids = dict(n_estimators=n_estimators)\n",
    "model = xgb.XGBRegressor(objective='reg:squarederror', nthread=-1, eta=0.1)\n",
    "\n",
    "gridSearch = GridSearchCV(model, param_grids, scoring=scorer, cv=10)"
   ]
  },
  {
   "cell_type": "code",
   "execution_count": 11,
   "id": "fa8e1a6c",
   "metadata": {},
   "outputs": [],
   "source": [
    "gridResult = gridSearch.fit(X_train, y_train)"
   ]
  },
  {
   "cell_type": "code",
   "execution_count": 12,
   "id": "6d539ba3",
   "metadata": {},
   "outputs": [
    {
     "name": "stdout",
     "output_type": "stream",
     "text": [
      "Best: -0.014012 using {'n_estimators': 1000}\n"
     ]
    }
   ],
   "source": [
    "print(\"Best: %f using %s\" % (gridResult.best_score_, gridResult.best_params_))"
   ]
  },
  {
   "cell_type": "code",
   "execution_count": 13,
   "id": "f4d874e2",
   "metadata": {
    "scrolled": true
   },
   "outputs": [
    {
     "name": "stdout",
     "output_type": "stream",
     "text": [
      "-0.014294 (0.003172) with: {'n_estimators': 100}\n",
      "-0.014021 (0.003089) with: {'n_estimators': 300}\n",
      "-0.014012 (0.003079) with: {'n_estimators': 1000}\n",
      "-0.014012 (0.003079) with: {'n_estimators': 3000}\n"
     ]
    }
   ],
   "source": [
    "means = gridResult.cv_results_['mean_test_score']\n",
    "stds = gridResult.cv_results_['std_test_score']\n",
    "params = gridResult.cv_results_['params']\n",
    "for mean, stdev, param in zip(means, stds, params):\n",
    "    print(\"%f (%f) with: %r\" % (mean, stdev, param))"
   ]
  },
  {
   "cell_type": "code",
   "execution_count": 14,
   "id": "2d9b6c28",
   "metadata": {},
   "outputs": [
    {
     "data": {
      "image/png": "[encoded data removed]",
      "text/plain": [
       "<Figure size 432x288 with 1 Axes>"
      ]
     },
     "metadata": {
      "needs_background": "light"
     },
     "output_type": "display_data"
    }
   ],
   "source": [
    "plt.plot(n_estimators, means)\n",
    "plt.title('rmse mean against n_estimators')\n",
    "plt.xlabel('n_estimator')\n",
    "plt.ylabel('rmse mean')\n",
    "plt.show()"
   ]
  },
  {
   "cell_type": "code",
   "execution_count": null,
   "id": "519ef872",
   "metadata": {},
   "outputs": [],
   "source": [
    "gridSearch"
   ]
  },
  {
   "cell_type": "code",
   "execution_count": null,
   "id": "09df43ed",
   "metadata": {},
   "outputs": [],
   "source": [
    "gridResult"
   ]
  },
  {
   "cell_type": "markdown",
   "id": "14e2f0c2",
   "metadata": {},
   "source": [
    "### Learning Rate"
   ]
  },
  {
   "cell_type": "code",
   "execution_count": null,
   "id": "55436fe8",
   "metadata": {},
   "outputs": [],
   "source": [
    "eta = [0.01, 0.03, 0.1, 0.3, 1]\n",
    "param_grids = dict(eta=eta)\n",
    "model = xgb.XGBRegressor(n_estimators=150)\n",
    "\n",
    "gridSearch = GridSearchCV(model, param_grids, scoring=scorer, cv=10)"
   ]
  },
  {
   "cell_type": "code",
   "execution_count": null,
   "id": "1d8e7f84",
   "metadata": {},
   "outputs": [],
   "source": [
    "gridResult = gridSearch.fit(X_train, y_train)"
   ]
  },
  {
   "cell_type": "code",
   "execution_count": null,
   "id": "66e19a96",
   "metadata": {},
   "outputs": [],
   "source": [
    "print(\"Best: %f using %s\" % (gridResult.best_score_, gridResult.best_params_))\n",
    "means = gridResult.cv_results_['mean_test_score']\n",
    "stds = gridResult.cv_results_['std_test_score']\n",
    "params = gridResult.cv_results_['params']\n",
    "for mean, stdev, param in zip(means, stds, params):\n",
    "    print(\"%f (%f) with: %r\" % (mean, stdev, param))"
   ]
  },
  {
   "cell_type": "code",
   "execution_count": null,
   "id": "507edcdc",
   "metadata": {},
   "outputs": [],
   "source": [
    "plt.plot(eta, means)\n",
    "plt.title('rmse mean against eta')\n",
    "plt.xlabel('eta')\n",
    "plt.ylabel('rmse')\n",
    "plt.show()"
   ]
  },
  {
   "cell_type": "markdown",
   "id": "f331596f",
   "metadata": {},
   "source": [
    "## Gamma "
   ]
  },
  {
   "cell_type": "code",
   "execution_count": null,
   "id": "befe0eaf",
   "metadata": {},
   "outputs": [],
   "source": [
    "gamma = [0, 1, 3, 10, 30, 100]\n",
    "param_grids = dict(gamma=gamma)\n",
    "model = xgb.XGBRegressor(n_estimators=150, eta=0.1)\n",
    "\n",
    "gridSearch = GridSearchCV(model, param_grids, scoring=scorer, cv=10)"
   ]
  },
  {
   "cell_type": "code",
   "execution_count": null,
   "id": "d4b9981a",
   "metadata": {},
   "outputs": [],
   "source": [
    "gridResult = gridSearch.fit(X_train, y_train)"
   ]
  },
  {
   "cell_type": "code",
   "execution_count": null,
   "id": "d28518fa",
   "metadata": {},
   "outputs": [],
   "source": [
    "print(\"Best: %f using %s\" % (gridResult.best_score_, gridResult.best_params_))\n",
    "means = gridResult.cv_results_['mean_test_score']\n",
    "stds = gridResult.cv_results_['std_test_score']\n",
    "params = gridResult.cv_results_['params']\n",
    "for mean, stdev, param in zip(means, stds, params):\n",
    "    print(\"%f (%f) with: %r\" % (mean, stdev, param))"
   ]
  },
  {
   "cell_type": "code",
   "execution_count": null,
   "id": "66a9fe41",
   "metadata": {},
   "outputs": [],
   "source": [
    "plt.plot(gamma, means)\n",
    "plt.title('rmse mean against gamma')\n",
    "plt.xlabel('gamma')\n",
    "plt.ylabel('rmse')\n",
    "plt.show()"
   ]
  },
  {
   "cell_type": "markdown",
   "id": "5c2e2bbd",
   "metadata": {},
   "source": [
    "## Max Depth "
   ]
  },
  {
   "cell_type": "code",
   "execution_count": null,
   "id": "5e850a0f",
   "metadata": {},
   "outputs": [],
   "source": [
    "max_depth = [6,12,18,24]\n",
    "param_grids = dict(max_depth=max_depth)\n",
    "model = xgb.XGBRegressor(n_estimators=150, eta=0.1)\n",
    "\n",
    "gridSearch = GridSearchCV(model, param_grids, scoring=scorer, cv=10)"
   ]
  },
  {
   "cell_type": "code",
   "execution_count": null,
   "id": "5ec37d69",
   "metadata": {},
   "outputs": [],
   "source": [
    "gridResult = gridSearch.fit(X_train, y_train)"
   ]
  },
  {
   "cell_type": "code",
   "execution_count": null,
   "id": "e7669b43",
   "metadata": {},
   "outputs": [],
   "source": [
    "print(\"Best: %f using %s\" % (gridResult.best_score_, gridResult.best_params_))\n",
    "means = gridResult.cv_results_['mean_test_score']\n",
    "stds = gridResult.cv_results_['std_test_score']\n",
    "params = gridResult.cv_results_['params']\n",
    "for mean, stdev, param in zip(means, stds, params):\n",
    "    print(\"%f (%f) with: %r\" % (mean, stdev, param))\n",
    "\n",
    "plt.plot(max_depth, means)\n",
    "plt.title('rmse mean against max_depth')\n",
    "plt.xlabel('max_depth')\n",
    "plt.ylabel('rmse')\n",
    "plt.show()"
   ]
  },
  {
   "cell_type": "markdown",
   "id": "d5879931",
   "metadata": {},
   "source": [
    "## Lambda"
   ]
  },
  {
   "cell_type": "code",
   "execution_count": null,
   "id": "57a8d2c5",
   "metadata": {},
   "outputs": [],
   "source": [
    "reg_lambda = [0.001, 0.03, 0.01, 0.03, 0.1, 0.3, 1, 3, 10, 30]\n",
    "param_grids = dict(reg_lambda=reg_lambda)\n",
    "model = xgb.XGBRegressor(n_estimators=150, eta=0.1)\n",
    "\n",
    "gridSearch = GridSearchCV(model, param_grids, scoring=scorer, cv=10)"
   ]
  },
  {
   "cell_type": "code",
   "execution_count": null,
   "id": "9d75b2e0",
   "metadata": {},
   "outputs": [],
   "source": [
    "gridResult = gridSearch.fit(X_train, y_train)"
   ]
  },
  {
   "cell_type": "code",
   "execution_count": null,
   "id": "bb5faa10",
   "metadata": {},
   "outputs": [],
   "source": [
    "print(\"Best: %f using %s\" % (gridResult.best_score_, gridResult.best_params_))\n",
    "means = gridResult.cv_results_['mean_test_score']\n",
    "stds = gridResult.cv_results_['std_test_score']\n",
    "params = gridResult.cv_results_['params']\n",
    "for mean, stdev, param in zip(means, stds, params):\n",
    "    print(\"%f (%f) with: %r\" % (mean, stdev, param))\n",
    "\n",
    "plt.plot(reg_lambda, means)\n",
    "plt.title('rmse mean against reg_lambda')\n",
    "plt.xlabel('reg_lambda')\n",
    "plt.ylabel('rmse')\n",
    "plt.show()"
   ]
  },
  {
   "cell_type": "markdown",
   "id": "303e652d",
   "metadata": {},
   "source": [
    "## Alpha "
   ]
  },
  {
   "cell_type": "code",
   "execution_count": null,
   "id": "cd5c666a",
   "metadata": {},
   "outputs": [],
   "source": [
    "alpha = [0, 0.001, 0.03, 0.01, 0.03, 0.1, 0.3, 1, 3, 10, 30]\n",
    "param_grids = dict(alpha=alpha)\n",
    "model = xgb.XGBRegressor(n_estimators=150, eta=0.1)\n",
    "\n",
    "gridSearch = GridSearchCV(model, param_grids, scoring=scorer, cv=10)"
   ]
  },
  {
   "cell_type": "code",
   "execution_count": null,
   "id": "1710ccd5",
   "metadata": {},
   "outputs": [],
   "source": [
    "gridResult = gridSearch.fit(X_train, y_train)"
   ]
  },
  {
   "cell_type": "code",
   "execution_count": null,
   "id": "3becdae1",
   "metadata": {},
   "outputs": [],
   "source": [
    "print(\"Best: %f using %s\" % (gridResult.best_score_, gridResult.best_params_))\n",
    "means = gridResult.cv_results_['mean_test_score']\n",
    "stds = gridResult.cv_results_['std_test_score']\n",
    "params = gridResult.cv_results_['params']\n",
    "for mean, stdev, param in zip(means, stds, params):\n",
    "    print(\"%f (%f) with: %r\" % (mean, stdev, param))\n",
    "\n",
    "plt.plot(alpha, means)\n",
    "plt.title('rmse mean against alpha')\n",
    "plt.xlabel('alpha')\n",
    "plt.ylabel('rmse')\n",
    "plt.show()"
   ]
  },
  {
   "cell_type": "markdown",
   "id": "339ad07a",
   "metadata": {},
   "source": [
    "## Min_child_weight "
   ]
  },
  {
   "cell_type": "code",
   "execution_count": 21,
   "id": "16a8f885",
   "metadata": {},
   "outputs": [],
   "source": [
    "min_child_weight = [0.01, 0.03, 0.1, 0.3, 1, 3, 10, 30]\n",
    "param_grids = dict(min_child_weight=min_child_weight)\n",
    "model = xgb.XGBRegressor(n_estimators=1000,\n",
    "                         objective='reg:squarederror',\n",
    "                         nthread=-1,\n",
    "                         eta=0.1, \n",
    "                        )\n",
    "\n",
    "gridSearch = GridSearchCV(model, param_grids, scoring=scorer, cv=10)"
   ]
  },
  {
   "cell_type": "code",
   "execution_count": 22,
   "id": "0b24b160",
   "metadata": {},
   "outputs": [],
   "source": [
    "gridResult = gridSearch.fit(X_train, y_train)"
   ]
  },
  {
   "cell_type": "code",
   "execution_count": 23,
   "id": "c39c2a2f",
   "metadata": {},
   "outputs": [
    {
     "name": "stdout",
     "output_type": "stream",
     "text": [
      "Best: -0.013776 using {'min_child_weight': 10}\n",
      "-0.014012 (0.003079) with: {'min_child_weight': 0.01}\n",
      "-0.014012 (0.003079) with: {'min_child_weight': 0.03}\n",
      "-0.014012 (0.003079) with: {'min_child_weight': 0.1}\n",
      "-0.014012 (0.003079) with: {'min_child_weight': 0.3}\n",
      "-0.014012 (0.003079) with: {'min_child_weight': 1}\n",
      "-0.014350 (0.003347) with: {'min_child_weight': 3}\n",
      "-0.013776 (0.003470) with: {'min_child_weight': 10}\n",
      "-0.014504 (0.003161) with: {'min_child_weight': 30}\n"
     ]
    },
    {
     "data": {
      "image/png": "[encoded data removed]",
      "text/plain": [
       "<Figure size 576x396 with 1 Axes>"
      ]
     },
     "metadata": {},
     "output_type": "display_data"
    }
   ],
   "source": [
    "print(\"Best: %f using %s\" % (gridResult.best_score_, gridResult.best_params_))\n",
    "means = gridResult.cv_results_['mean_test_score']\n",
    "stds = gridResult.cv_results_['std_test_score']\n",
    "params = gridResult.cv_results_['params']\n",
    "for mean, stdev, param in zip(means, stds, params):\n",
    "    print(\"%f (%f) with: %r\" % (mean, stdev, param))\n",
    "\n",
    "plt.plot(min_child_weight, means)\n",
    "plt.title('rmse mean against min_child_weight')\n",
    "plt.xlabel('min_child_weight')\n",
    "plt.ylabel('rmse')\n",
    "plt.show()"
   ]
  },
  {
   "cell_type": "markdown",
   "id": "c05d90c9",
   "metadata": {},
   "source": [
    "n_estimator = 150, eta = 0.1, min_child_weight = 10\n",
    "\n",
    "\n",
    "\n",
    "models.append(('xgb', XGBRegressor(learning_rate=0.01,n_estimators=3460,\n",
    "                         max_depth=3, min_child_weight=0,\n",
    "                         gamma=0, subsample=0.7,\n",
    "                         colsample_bytree=0.7,\n",
    "                         objective='reg:squarederror', nthread=-1,\n",
    "                         scale_pos_weight=1, seed=27,\n",
    "                         reg_alpha=0.00006)))"
   ]
  },
  {
   "cell_type": "code",
   "execution_count": 69,
   "id": "6e7b8634",
   "metadata": {},
   "outputs": [
    {
     "data": {
      "text/plain": [
       "XGBRegressor(base_score=0.5, booster='gbtree', colsample_bylevel=1,\n",
       "             colsample_bynode=1, colsample_bytree=0.7, eta=0.1, gamma=0,\n",
       "             gpu_id=-1, importance_type='gain', interaction_constraints='',\n",
       "             learning_rate=0.100000001, max_delta_step=0, max_depth=5,\n",
       "             min_child_weight=0, missing=nan, monotone_constraints='()',\n",
       "             n_estimators=500, n_jobs=4, nthread=-1, num_parallel_tree=1,\n",
       "             random_state=0, reg_alpha=3, reg_lambda=0.1, scale_pos_weight=1,\n",
       "             subsample=0.5, tree_method='exact', validate_parameters=1,\n",
       "             verbosity=None)"
      ]
     },
     "execution_count": 69,
     "metadata": {},
     "output_type": "execute_result"
    }
   ],
   "source": [
    "model = xgb.XGBRegressor(n_estimators=500,\n",
    "                         objective='reg:squarederror',\n",
    "                         max_depth=5,\n",
    "                         nthread=-1,\n",
    "                         eta=0.1, \n",
    "                         subsample=0.5,\n",
    "                         colsample_bytree=0.7,\n",
    "                         reg_lambda=0.1,\n",
    "                         reg_alpha=3,\n",
    "                         min_child_weight=0\n",
    "                        )\n",
    "model.fit(X_train, y_train)\n",
    "\n",
    "# print(f'Training set rmse mean: {rmse_train(model).mean()}')\n",
    "# print(f'Cross validation set: {rmse_train(model).mean()}')"
   ]
  },
  {
   "cell_type": "code",
   "execution_count": 70,
   "id": "bb37b92b",
   "metadata": {},
   "outputs": [],
   "source": [
    "train_pred = model.predict(X_train)\n",
    "test_pred = model.predict(X_test)"
   ]
  },
  {
   "cell_type": "code",
   "execution_count": 71,
   "id": "f50cc2b6",
   "metadata": {
    "scrolled": true
   },
   "outputs": [
    {
     "name": "stdout",
     "output_type": "stream",
     "text": [
      "RMSE train: 0.08398417215179393\n",
      "RMSE train: 0.11904137234349664\n"
     ]
    }
   ],
   "source": [
    "print(f'RMSE train: {mean_squared_error(y_train, train_pred, squared=False)}')\n",
    "print(f'RMSE test: {mean_squared_error(y_test, test_pred, squared=False)}')"
   ]
  },
  {
   "cell_type": "markdown",
   "id": "e27ea27b",
   "metadata": {},
   "source": [
    "## reg_lambda and reg_alpha"
   ]
  },
  {
   "cell_type": "code",
   "execution_count": 75,
   "id": "b4f9447a",
   "metadata": {},
   "outputs": [],
   "source": [
    "reg_lambda=[0.01,0.03,0.1,0.3,1,3]\n",
    "# reg_alpha=[0.01,0.03,0.1,0.3,1,3]"
   ]
  },
  {
   "cell_type": "code",
   "execution_count": null,
   "id": "d9e2f80c",
   "metadata": {},
   "outputs": [],
   "source": [
    "scorer = make_scorer(mean_squared_error, greater_is_better=False)\n",
    "\n",
    "def rmse_train(model):\n",
    "    r = np.sqrt(-cross_val_score(model, X_train, y_train, scoring = scorer, cv = 10))\n",
    "    return(r)\n",
    "    \n",
    "def rmse_test(model):\n",
    "    r = np.sqrt(-cross_val_score(model, X_test, y_test, scoring = scorer, cv = 10))\n",
    "    return(r)"
   ]
  },
  {
   "cell_type": "code",
   "execution_count": 76,
   "id": "44e55553",
   "metadata": {},
   "outputs": [
    {
     "name": "stdout",
     "output_type": "stream",
     "text": [
      "Best: -0.013681 using {'reg_lambda': 0.3}\n",
      "-0.014124 (0.002150) with: {'reg_lambda': 0.01}\n",
      "-0.014008 (0.002045) with: {'reg_lambda': 0.03}\n",
      "-0.014488 (0.001935) with: {'reg_lambda': 0.1}\n",
      "-0.013681 (0.002415) with: {'reg_lambda': 0.3}\n",
      "-0.014569 (0.002343) with: {'reg_lambda': 1}\n",
      "-0.014992 (0.002221) with: {'reg_lambda': 3}\n"
     ]
    },
    {
     "data": {
      "image/png": "[encoded data removed]",
      "text/plain": [
       "<Figure size 576x396 with 1 Axes>"
      ]
     },
     "metadata": {},
     "output_type": "display_data"
    }
   ],
   "source": [
    "param_grids = dict(reg_lambda=reg_lambda,\n",
    "#                    reg_alpha=reg_alpha\n",
    "                  )\n",
    "model = xgb.XGBRegressor(n_estimators=500,\n",
    "                         objective='reg:squarederror',\n",
    "                         max_depth=5,\n",
    "                         nthread=-1,\n",
    "                         eta=0.1, \n",
    "                         subsample=0.5,\n",
    "                         colsample_bytree=0.7,\n",
    "                         min_child_weight=0\n",
    "                        )\n",
    "\n",
    "gridSearch = GridSearchCV(model, param_grids, cv=5, scoring=scorer)\n",
    "\n",
    "gridResult = gridSearch.fit(X_train, y_train)\n",
    "\n",
    "print(\"Best: %f using %s\" % (gridResult.best_score_, gridResult.best_params_))\n",
    "means = gridResult.cv_results_['mean_test_score']\n",
    "stds = gridResult.cv_results_['std_test_score']\n",
    "params = gridResult.cv_results_['params']\n",
    "for mean, stdev, param in zip(means, stds, params):\n",
    "    print(\"%f (%f) with: %r\" % (mean, stdev, param))\n",
    "\n",
    "plt.plot(reg_lambda, means)\n",
    "plt.title('rmse mean against reg_lambda')\n",
    "plt.xlabel('reg_lambda')\n",
    "plt.ylabel('rmse')\n",
    "plt.show()"
   ]
  },
  {
   "cell_type": "code",
   "execution_count": null,
   "id": "f71af556",
   "metadata": {},
   "outputs": [],
   "source": []
  },
  {
   "cell_type": "code",
   "execution_count": 83,
   "id": "96dc1629",
   "metadata": {},
   "outputs": [
    {
     "name": "stdout",
     "output_type": "stream",
     "text": [
      "lambda: 0.001, alpha: 0.001\n",
      "RMSE train: 0.0039491\n",
      "RMSE test: 0.11244\n",
      "----------------------------\n",
      "lambda: 0.001, alpha: 0.003\n",
      "RMSE train: 0.0035521\n",
      "RMSE test: 0.11742\n",
      "----------------------------\n",
      "lambda: 0.001, alpha: 0.01\n",
      "RMSE train: 0.0039996\n",
      "RMSE test: 0.11314\n",
      "----------------------------\n",
      "lambda: 0.001, alpha: 0.03\n",
      "RMSE train: 0.0057976\n",
      "RMSE test: 0.11709\n",
      "----------------------------\n",
      "lambda: 0.001, alpha: 0.1\n",
      "RMSE train: 0.010997\n",
      "RMSE test: 0.11598\n",
      "----------------------------\n",
      "lambda: 0.001, alpha: 0.3\n",
      "RMSE train: 0.022221\n",
      "RMSE test: 0.11444\n",
      "----------------------------\n",
      "lambda: 0.001, alpha: 1\n",
      "RMSE train: 0.047725\n",
      "RMSE test: 0.11277\n",
      "----------------------------\n",
      "lambda: 0.001, alpha: 3\n",
      "RMSE train: 0.08362\n",
      "RMSE test: 0.12083\n",
      "----------------------------\n",
      "lambda: 0.001, alpha: 10\n",
      "RMSE train: 0.1262\n",
      "RMSE test: 0.15033\n",
      "----------------------------\n",
      "lambda: 0.001, alpha: 30\n",
      "RMSE train: 0.18593\n",
      "RMSE test: 0.21773\n",
      "----------------------------\n",
      "lambda: 0.003, alpha: 0.001\n",
      "RMSE train: 0.003939\n",
      "RMSE test: 0.10987\n",
      "----------------------------\n",
      "lambda: 0.003, alpha: 0.003\n",
      "RMSE train: 0.0038623\n",
      "RMSE test: 0.11305\n",
      "----------------------------\n",
      "lambda: 0.003, alpha: 0.01\n",
      "RMSE train: 0.0041501\n",
      "RMSE test: 0.11879\n",
      "----------------------------\n",
      "lambda: 0.003, alpha: 0.03\n",
      "RMSE train: 0.0058073\n",
      "RMSE test: 0.11589\n",
      "----------------------------\n",
      "lambda: 0.003, alpha: 0.1\n",
      "RMSE train: 0.010981\n",
      "RMSE test: 0.11424\n",
      "----------------------------\n",
      "lambda: 0.003, alpha: 0.3\n",
      "RMSE train: 0.022032\n",
      "RMSE test: 0.11478\n",
      "----------------------------\n",
      "lambda: 0.003, alpha: 1\n",
      "RMSE train: 0.047616\n",
      "RMSE test: 0.11412\n",
      "----------------------------\n",
      "lambda: 0.003, alpha: 3\n",
      "RMSE train: 0.08362\n",
      "RMSE test: 0.12083\n",
      "----------------------------\n",
      "lambda: 0.003, alpha: 10\n",
      "RMSE train: 0.1262\n",
      "RMSE test: 0.15033\n",
      "----------------------------\n",
      "lambda: 0.003, alpha: 30\n",
      "RMSE train: 0.18593\n",
      "RMSE test: 0.21773\n",
      "----------------------------\n",
      "lambda: 0.01, alpha: 0.001\n",
      "RMSE train: 0.0040177\n",
      "RMSE test: 0.11568\n",
      "----------------------------\n",
      "lambda: 0.01, alpha: 0.003\n",
      "RMSE train: 0.0037917\n",
      "RMSE test: 0.11832\n",
      "----------------------------\n",
      "lambda: 0.01, alpha: 0.01\n",
      "RMSE train: 0.0042632\n",
      "RMSE test: 0.11455\n",
      "----------------------------\n",
      "lambda: 0.01, alpha: 0.03\n",
      "RMSE train: 0.0056256\n",
      "RMSE test: 0.11513\n",
      "----------------------------\n",
      "lambda: 0.01, alpha: 0.1\n",
      "RMSE train: 0.010599\n",
      "RMSE test: 0.11574\n",
      "----------------------------\n",
      "lambda: 0.01, alpha: 0.3\n",
      "RMSE train: 0.022145\n",
      "RMSE test: 0.11319\n",
      "----------------------------\n",
      "lambda: 0.01, alpha: 1\n",
      "RMSE train: 0.047831\n",
      "RMSE test: 0.11495\n",
      "----------------------------\n",
      "lambda: 0.01, alpha: 3\n",
      "RMSE train: 0.083569\n",
      "RMSE test: 0.12002\n",
      "----------------------------\n",
      "lambda: 0.01, alpha: 10\n",
      "RMSE train: 0.1262\n",
      "RMSE test: 0.15033\n",
      "----------------------------\n",
      "lambda: 0.01, alpha: 30\n",
      "RMSE train: 0.18593\n",
      "RMSE test: 0.21773\n",
      "----------------------------\n",
      "lambda: 0.03, alpha: 0.001\n",
      "RMSE train: 0.0046179\n",
      "RMSE test: 0.11206\n",
      "----------------------------\n",
      "lambda: 0.03, alpha: 0.003\n",
      "RMSE train: 0.0040785\n",
      "RMSE test: 0.11485\n",
      "----------------------------\n",
      "lambda: 0.03, alpha: 0.01\n",
      "RMSE train: 0.004399\n",
      "RMSE test: 0.11597\n",
      "----------------------------\n",
      "lambda: 0.03, alpha: 0.03\n",
      "RMSE train: 0.0059686\n",
      "RMSE test: 0.1159\n",
      "----------------------------\n",
      "lambda: 0.03, alpha: 0.1\n",
      "RMSE train: 0.010926\n",
      "RMSE test: 0.11738\n",
      "----------------------------\n",
      "lambda: 0.03, alpha: 0.3\n",
      "RMSE train: 0.022084\n",
      "RMSE test: 0.1159\n",
      "----------------------------\n",
      "lambda: 0.03, alpha: 1\n",
      "RMSE train: 0.047597\n",
      "RMSE test: 0.11478\n",
      "----------------------------\n",
      "lambda: 0.03, alpha: 3\n",
      "RMSE train: 0.083694\n",
      "RMSE test: 0.1216\n",
      "----------------------------\n",
      "lambda: 0.03, alpha: 10\n",
      "RMSE train: 0.1262\n",
      "RMSE test: 0.15033\n",
      "----------------------------\n",
      "lambda: 0.03, alpha: 30\n",
      "RMSE train: 0.18627\n",
      "RMSE test: 0.21875\n",
      "----------------------------\n",
      "lambda: 0.1, alpha: 0.001\n",
      "RMSE train: 0.0044569\n",
      "RMSE test: 0.11621\n",
      "----------------------------\n",
      "lambda: 0.1, alpha: 0.003\n",
      "RMSE train: 0.0043782\n",
      "RMSE test: 0.11899\n",
      "----------------------------\n",
      "lambda: 0.1, alpha: 0.01\n",
      "RMSE train: 0.0046093\n",
      "RMSE test: 0.1159\n",
      "----------------------------\n",
      "lambda: 0.1, alpha: 0.03\n",
      "RMSE train: 0.0060647\n",
      "RMSE test: 0.11342\n",
      "----------------------------\n",
      "lambda: 0.1, alpha: 0.1\n",
      "RMSE train: 0.011132\n",
      "RMSE test: 0.11277\n",
      "----------------------------\n",
      "lambda: 0.1, alpha: 0.3\n",
      "RMSE train: 0.022059\n",
      "RMSE test: 0.11264\n",
      "----------------------------\n",
      "lambda: 0.1, alpha: 1\n",
      "RMSE train: 0.047192\n",
      "RMSE test: 0.11483\n",
      "----------------------------\n",
      "lambda: 0.1, alpha: 3\n",
      "RMSE train: 0.083984\n",
      "RMSE test: 0.11904\n",
      "----------------------------\n",
      "lambda: 0.1, alpha: 10\n",
      "RMSE train: 0.12573\n",
      "RMSE test: 0.15005\n",
      "----------------------------\n",
      "lambda: 0.1, alpha: 30\n",
      "RMSE train: 0.18602\n",
      "RMSE test: 0.21761\n",
      "----------------------------\n",
      "lambda: 0.3, alpha: 0.001\n",
      "RMSE train: 0.0048461\n",
      "RMSE test: 0.11603\n",
      "----------------------------\n",
      "lambda: 0.3, alpha: 0.003\n",
      "RMSE train: 0.0043766\n",
      "RMSE test: 0.11579\n",
      "----------------------------\n",
      "lambda: 0.3, alpha: 0.01\n",
      "RMSE train: 0.0050861\n",
      "RMSE test: 0.11429\n",
      "----------------------------\n",
      "lambda: 0.3, alpha: 0.03\n",
      "RMSE train: 0.006196\n",
      "RMSE test: 0.11938\n",
      "----------------------------\n",
      "lambda: 0.3, alpha: 0.1\n",
      "RMSE train: 0.011332\n",
      "RMSE test: 0.11643\n",
      "----------------------------\n",
      "lambda: 0.3, alpha: 0.3\n",
      "RMSE train: 0.022279\n",
      "RMSE test: 0.11633\n",
      "----------------------------\n",
      "lambda: 0.3, alpha: 1\n",
      "RMSE train: 0.047615\n",
      "RMSE test: 0.11464\n",
      "----------------------------\n",
      "lambda: 0.3, alpha: 3\n",
      "RMSE train: 0.08415\n",
      "RMSE test: 0.1206\n",
      "----------------------------\n",
      "lambda: 0.3, alpha: 10\n",
      "RMSE train: 0.12814\n",
      "RMSE test: 0.14976\n",
      "----------------------------\n",
      "lambda: 0.3, alpha: 30\n",
      "RMSE train: 0.18581\n",
      "RMSE test: 0.21743\n",
      "----------------------------\n",
      "lambda: 1, alpha: 0.001\n",
      "RMSE train: 0.0055901\n",
      "RMSE test: 0.11731\n",
      "----------------------------\n",
      "lambda: 1, alpha: 0.003\n",
      "RMSE train: 0.0052691\n",
      "RMSE test: 0.11407\n",
      "----------------------------\n",
      "lambda: 1, alpha: 0.01\n",
      "RMSE train: 0.005804\n",
      "RMSE test: 0.1169\n",
      "----------------------------\n",
      "lambda: 1, alpha: 0.03\n",
      "RMSE train: 0.0070137\n",
      "RMSE test: 0.11824\n",
      "----------------------------\n",
      "lambda: 1, alpha: 0.1\n",
      "RMSE train: 0.011687\n",
      "RMSE test: 0.11476\n",
      "----------------------------\n",
      "lambda: 1, alpha: 0.3\n",
      "RMSE train: 0.02236\n",
      "RMSE test: 0.11701\n",
      "----------------------------\n",
      "lambda: 1, alpha: 1\n",
      "RMSE train: 0.048271\n",
      "RMSE test: 0.11575\n",
      "----------------------------\n",
      "lambda: 1, alpha: 3\n",
      "RMSE train: 0.083238\n",
      "RMSE test: 0.11879\n",
      "----------------------------\n",
      "lambda: 1, alpha: 10\n",
      "RMSE train: 0.12694\n",
      "RMSE test: 0.14936\n",
      "----------------------------\n",
      "lambda: 1, alpha: 30\n",
      "RMSE train: 0.1862\n",
      "RMSE test: 0.2155\n",
      "----------------------------\n",
      "lambda: 3, alpha: 0.001\n",
      "RMSE train: 0.0073917\n",
      "RMSE test: 0.12059\n",
      "----------------------------\n",
      "lambda: 3, alpha: 0.003\n",
      "RMSE train: 0.0071511\n",
      "RMSE test: 0.11897\n",
      "----------------------------\n",
      "lambda: 3, alpha: 0.01\n",
      "RMSE train: 0.0077075\n",
      "RMSE test: 0.12132\n",
      "----------------------------\n",
      "lambda: 3, alpha: 0.03\n",
      "RMSE train: 0.0088098\n",
      "RMSE test: 0.11688\n",
      "----------------------------\n",
      "lambda: 3, alpha: 0.1\n",
      "RMSE train: 0.013046\n",
      "RMSE test: 0.11544\n",
      "----------------------------\n",
      "lambda: 3, alpha: 0.3\n",
      "RMSE train: 0.023913\n",
      "RMSE test: 0.11926\n",
      "----------------------------\n",
      "lambda: 3, alpha: 1\n",
      "RMSE train: 0.047876\n",
      "RMSE test: 0.11789\n",
      "----------------------------\n",
      "lambda: 3, alpha: 3\n",
      "RMSE train: 0.082184\n",
      "RMSE test: 0.12085\n",
      "----------------------------\n",
      "lambda: 3, alpha: 10\n",
      "RMSE train: 0.12542\n",
      "RMSE test: 0.1509\n",
      "----------------------------\n",
      "lambda: 3, alpha: 30\n",
      "RMSE train: 0.18532\n",
      "RMSE test: 0.21638\n",
      "----------------------------\n",
      "lambda: 10, alpha: 0.001\n",
      "RMSE train: 0.013811\n",
      "RMSE test: 0.11588\n",
      "----------------------------\n",
      "lambda: 10, alpha: 0.003\n",
      "RMSE train: 0.013489\n",
      "RMSE test: 0.11608\n",
      "----------------------------\n",
      "lambda: 10, alpha: 0.01\n",
      "RMSE train: 0.013665\n",
      "RMSE test: 0.11602\n",
      "----------------------------\n",
      "lambda: 10, alpha: 0.03\n",
      "RMSE train: 0.014655\n",
      "RMSE test: 0.11647\n",
      "----------------------------\n",
      "lambda: 10, alpha: 0.1\n",
      "RMSE train: 0.018821\n",
      "RMSE test: 0.11787\n",
      "----------------------------\n",
      "lambda: 10, alpha: 0.3\n",
      "RMSE train: 0.027984\n",
      "RMSE test: 0.12023\n",
      "----------------------------\n",
      "lambda: 10, alpha: 1\n",
      "RMSE train: 0.050817\n",
      "RMSE test: 0.12012\n",
      "----------------------------\n",
      "lambda: 10, alpha: 3\n",
      "RMSE train: 0.083948\n",
      "RMSE test: 0.1215\n",
      "----------------------------\n",
      "lambda: 10, alpha: 10\n"
     ]
    },
    {
     "name": "stdout",
     "output_type": "stream",
     "text": [
      "RMSE train: 0.12598\n",
      "RMSE test: 0.15062\n",
      "----------------------------\n",
      "lambda: 10, alpha: 30\n",
      "RMSE train: 0.18608\n",
      "RMSE test: 0.21589\n",
      "----------------------------\n",
      "lambda: 30, alpha: 0.001\n",
      "RMSE train: 0.027068\n",
      "RMSE test: 0.11693\n",
      "----------------------------\n",
      "lambda: 30, alpha: 0.003\n",
      "RMSE train: 0.02695\n",
      "RMSE test: 0.11757\n",
      "----------------------------\n",
      "lambda: 30, alpha: 0.01\n",
      "RMSE train: 0.027179\n",
      "RMSE test: 0.11609\n",
      "----------------------------\n",
      "lambda: 30, alpha: 0.03\n",
      "RMSE train: 0.028007\n",
      "RMSE test: 0.11671\n",
      "----------------------------\n",
      "lambda: 30, alpha: 0.1\n",
      "RMSE train: 0.030607\n",
      "RMSE test: 0.11538\n",
      "----------------------------\n",
      "lambda: 30, alpha: 0.3\n",
      "RMSE train: 0.037592\n",
      "RMSE test: 0.11168\n",
      "----------------------------\n",
      "lambda: 30, alpha: 1\n",
      "RMSE train: 0.055274\n",
      "RMSE test: 0.1183\n",
      "----------------------------\n",
      "lambda: 30, alpha: 3\n",
      "RMSE train: 0.086606\n",
      "RMSE test: 0.12472\n",
      "----------------------------\n",
      "lambda: 30, alpha: 10\n",
      "RMSE train: 0.12945\n",
      "RMSE test: 0.15119\n",
      "----------------------------\n",
      "lambda: 30, alpha: 30\n",
      "RMSE train: 0.18594\n",
      "RMSE test: 0.21549\n",
      "----------------------------\n"
     ]
    }
   ],
   "source": [
    "reg_lambda=[0.001,0.003,0.01,0.03,0.1,0.3,1,3,10,30]\n",
    "reg_alpha=[0.001,0.003,0.01,0.03,0.1,0.3,1,3,10,30]\n",
    "for l in range(0,10):\n",
    "    for a in range(0,10):\n",
    "        model = xgb.XGBRegressor(n_estimators=500,\n",
    "                             objective='reg:squarederror',\n",
    "                             max_depth=5,\n",
    "                             nthread=-1,\n",
    "                             eta=0.1, \n",
    "                             subsample=0.5,\n",
    "                             colsample_bytree=0.7,\n",
    "                             min_child_weight=0,\n",
    "                             reg_lambda=reg_lambda[l],\n",
    "                             reg_alpha=reg_alpha[a]\n",
    "                            )\n",
    "        print(f'lambda: {reg_lambda[l]}, alpha: {reg_alpha[a]}')\n",
    "        model.fit(X_train,y_train)\n",
    "        train_pred = model.predict(X_train)\n",
    "        test_pred = model.predict(X_test)\n",
    "\n",
    "        print(f'RMSE train: {mean_squared_error(y_train, train_pred, squared=False):.5}')\n",
    "        print(f'RMSE test: {mean_squared_error(y_test, test_pred, squared=False):.5}')\n",
    "        print('----------------------------')"
   ]
  },
  {
   "cell_type": "code",
   "execution_count": 81,
   "id": "dcd5b35e",
   "metadata": {},
   "outputs": [
    {
     "name": "stdout",
     "output_type": "stream",
     "text": [
      "0.1235\n"
     ]
    }
   ],
   "source": [
    "a = 0.12345\n",
    "print(f'{a:.4}')"
   ]
  },
  {
   "cell_type": "code",
   "execution_count": 30,
   "id": "91b65226",
   "metadata": {},
   "outputs": [
    {
     "data": {
      "image/png": "[encoded data removed]",
      "text/plain": [
       "<Figure size 576x396 with 1 Axes>"
      ]
     },
     "metadata": {},
     "output_type": "display_data"
    }
   ],
   "source": [
    "plt.style.use('seaborn')\n",
    "plt.scatter(y_train, train_pred, label='Train', edgecolors='black')\n",
    "plt.scatter(y_test, test_pred, label='CV', edgecolors='black')\n",
    "plt.legend(loc=0)\n",
    "plt.title('XGBoostRegressor')\n",
    "plt.show()"
   ]
  },
  {
   "cell_type": "code",
   "execution_count": 31,
   "id": "0e9a933a",
   "metadata": {},
   "outputs": [
    {
     "data": {
      "image/png": "[encoded data removed]",
      "text/plain": [
       "<Figure size 576x396 with 1 Axes>"
      ]
     },
     "metadata": {},
     "output_type": "display_data"
    }
   ],
   "source": [
    "plt.scatter(train_pred, train_pred - y_train , label='Train', edgecolors='black')\n",
    "plt.scatter(test_pred, test_pred - y_test, label='CV', edgecolors='black')\n",
    "plt.legend(loc=0)\n",
    "plt.title('XGBoostRegressor Errors')\n",
    "plt.xlabel('Predicted Value')\n",
    "plt.ylabel('Errors')\n",
    "plt.show()"
   ]
  },
  {
   "cell_type": "code",
   "execution_count": 20,
   "id": "5ae7bb37",
   "metadata": {},
   "outputs": [],
   "source": [
    "# xgb_preds = np.expm1(model_xgb.predict(X_test))"
   ]
  },
  {
   "cell_type": "markdown",
   "id": "cdad28fc",
   "metadata": {},
   "source": [
    "## Submission"
   ]
  },
  {
   "cell_type": "code",
   "execution_count": null,
   "id": "4454a259",
   "metadata": {},
   "outputs": [],
   "source": [
    "test = pd.read_csv('test_new.csv')\n",
    "test = pd.DataFrame(stdSc.transform(test), columns=test.columns, index=test.index)\n",
    "prediction = model.predict(test)\n",
    "prediction"
   ]
  },
  {
   "cell_type": "code",
   "execution_count": null,
   "id": "256ca8fb",
   "metadata": {},
   "outputs": [],
   "source": [
    "prediction = np.expm1(prediction)\n",
    "submission = pd.DataFrame(prediction, columns=['SalePrice'], index=pd.read_csv('test.csv').Id)\n",
    "submission.head()"
   ]
  },
  {
   "cell_type": "code",
   "execution_count": null,
   "id": "acafd547",
   "metadata": {},
   "outputs": [],
   "source": [
    "submission.to_csv('August17_xgb.csv')"
   ]
  }
 ],
 "metadata": {
  "kernelspec": {
   "display_name": "Python 3 (ipykernel)",
   "language": "python",
   "name": "python3"
  },
  "language_info": {
   "codemirror_mode": {
    "name": "ipython",
    "version": 3
   },
   "file_extension": ".py",
   "mimetype": "text/x-python",
   "name": "python",
   "nbconvert_exporter": "python",
   "pygments_lexer": "ipython3",
   "version": "3.9.6"
  }
 },
 "nbformat": 4,
 "nbformat_minor": 5
}
