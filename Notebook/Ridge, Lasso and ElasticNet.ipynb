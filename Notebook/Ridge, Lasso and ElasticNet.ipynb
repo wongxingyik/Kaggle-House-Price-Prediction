{
 "cells": [
  {
   "cell_type": "code",
   "execution_count": 1,
   "id": "7b5d18fc",
   "metadata": {},
   "outputs": [],
   "source": [
    "import numpy as np\n",
    "import pandas as pd\n",
    "import matplotlib.pyplot as plt\n",
    "\n",
    "%matplotlib inline"
   ]
  },
  {
   "cell_type": "code",
   "execution_count": 2,
   "id": "14623b82",
   "metadata": {},
   "outputs": [],
   "source": [
    "from sklearn.preprocessing import StandardScaler\n",
    "from sklearn.linear_model import RidgeCV, LassoCV, ElasticNetCV\n",
    "from sklearn.model_selection import train_test_split, cross_val_score\n",
    "from sklearn.metrics import mean_squared_error, make_scorer"
   ]
  },
  {
   "cell_type": "markdown",
   "id": "10df0515",
   "metadata": {},
   "source": [
    "## Import Data "
   ]
  },
  {
   "cell_type": "code",
   "execution_count": 3,
   "id": "c77dc0a0",
   "metadata": {},
   "outputs": [],
   "source": [
    "train = pd.read_csv('train_new.csv')\n",
    "test = pd.read_csv('test_new.csv')"
   ]
  },
  {
   "cell_type": "code",
   "execution_count": 4,
   "id": "ff29e11f",
   "metadata": {},
   "outputs": [],
   "source": [
    "y = train.SalePrice\n",
    "train = train.drop(columns=['Id', 'SalePrice'])"
   ]
  },
  {
   "cell_type": "code",
   "execution_count": 5,
   "id": "b234a83e",
   "metadata": {},
   "outputs": [
    {
     "name": "stdout",
     "output_type": "stream",
     "text": [
      "Train shape: (1451, 341)\n",
      "Test shape: (1459, 341)\n"
     ]
    }
   ],
   "source": [
    "print(f'Train shape: {train.shape}')\n",
    "print(f'Test shape: {test.shape}')"
   ]
  },
  {
   "cell_type": "code",
   "execution_count": 6,
   "id": "d08d4a0b",
   "metadata": {},
   "outputs": [
    {
     "name": "stdout",
     "output_type": "stream",
     "text": [
      "X_train : (1015, 341)\n",
      "X_test : (436, 341)\n",
      "y_train : (1015,)\n",
      "y_test : (436,)\n"
     ]
    }
   ],
   "source": [
    "X_train, X_test, y_train, y_test = train_test_split(train, y, test_size = 0.30, random_state=0)\n",
    "print(f'X_train : {X_train.shape}')\n",
    "print(f'X_test : {X_test.shape}')\n",
    "print(f'y_train : {y_train.shape}')\n",
    "print(f'y_test : {y_test.shape}')"
   ]
  },
  {
   "cell_type": "code",
   "execution_count": 7,
   "id": "dec6fb1b",
   "metadata": {},
   "outputs": [],
   "source": [
    "stdSc = StandardScaler()\n",
    "X_train = pd.DataFrame(stdSc.fit_transform(X_train), columns=X_train.columns, index=X_train.index)\n",
    "X_test = pd.DataFrame(stdSc.transform(X_test), columns=X_test.columns, index=X_test.index)"
   ]
  },
  {
   "cell_type": "code",
   "execution_count": 59,
   "id": "9f7c8c4a",
   "metadata": {},
   "outputs": [],
   "source": [
    "scorer = make_scorer(mean_squared_error, greater_is_better=False)\n",
    "\n",
    "def rmse_train(model):\n",
    "    r = np.sqrt(-cross_val_score(model, X_train, y_train, scoring = scorer, cv = 10))\n",
    "    return(r)\n",
    "    \n",
    "def rmse_test(model):\n",
    "    r = np.sqrt(-cross_val_score(model, X_test, y_test, scoring = scorer, cv = 10))\n",
    "    return(r)"
   ]
  },
  {
   "cell_type": "markdown",
   "id": "545c85d8",
   "metadata": {},
   "source": [
    "## RidgeCV Modeling "
   ]
  },
  {
   "cell_type": "code",
   "execution_count": 46,
   "id": "d063da6f",
   "metadata": {},
   "outputs": [
    {
     "name": "stdout",
     "output_type": "stream",
     "text": [
      "First try alpha: 100.0\n",
      "Second try alpha: 150.0\n",
      "Third try alpha: 225.0\n"
     ]
    }
   ],
   "source": [
    "alpha_list = [0.0001, 0.0003, 0.001, 0.003, 0.01, 0.03, 0.1, 0.3, 1, 3, 10, 30, 100]\n",
    "ridge = RidgeCV(alphas=alpha_list, cv=10)\n",
    "ridge.fit(X_train, y_train)\n",
    "alpha = ridge.alpha_\n",
    "print(f'First try alpha: {alpha}')\n",
    "\n",
    "ranging = np.arange(0.5, 1.55, 0.05).astype('float16')\n",
    "ridge = RidgeCV(alphas=(alpha*ranging), cv=10)\n",
    "ridge.fit(X_train, y_train)\n",
    "alpha = ridge.alpha_\n",
    "print(f'Second try alpha: {alpha}')\n",
    "\n",
    "ridge = RidgeCV(alphas=(alpha*ranging), cv=10)\n",
    "ridge.fit(X_train, y_train)\n",
    "alpha = ridge.alpha_\n",
    "print(f'Third try alpha: {alpha}')"
   ]
  },
  {
   "cell_type": "markdown",
   "id": "96a4d426",
   "metadata": {},
   "source": [
    "## LassoCV Modeling"
   ]
  },
  {
   "cell_type": "code",
   "execution_count": 47,
   "id": "d8b56b26",
   "metadata": {},
   "outputs": [
    {
     "name": "stdout",
     "output_type": "stream",
     "text": [
      "First try alpha: 0.003\n"
     ]
    }
   ],
   "source": [
    "lasso = LassoCV(alphas=alpha_list, max_iter=10000 ,cv=10)\n",
    "lasso.fit(X_train, y_train)\n",
    "alpha = lasso.alpha_\n",
    "print(f'First try alpha: {alpha}')"
   ]
  },
  {
   "cell_type": "code",
   "execution_count": 48,
   "id": "21d1d4b5",
   "metadata": {},
   "outputs": [
    {
     "name": "stdout",
     "output_type": "stream",
     "text": [
      "Second try alpha: 0.003299713134765625\n"
     ]
    }
   ],
   "source": [
    "lasso = LassoCV(alphas=(alpha*ranging), max_iter=10000 ,cv=10)\n",
    "lasso.fit(X_train, y_train)\n",
    "alpha = lasso.alpha_\n",
    "print(f'Second try alpha: {alpha}')"
   ]
  },
  {
   "cell_type": "code",
   "execution_count": 50,
   "id": "54db9a66",
   "metadata": {},
   "outputs": [
    {
     "name": "stdout",
     "output_type": "stream",
     "text": [
      "Third try alpha: 0.003299713134765625\n"
     ]
    }
   ],
   "source": [
    "lasso = LassoCV(alphas=(alpha*ranging), max_iter=10000 ,cv=10)\n",
    "lasso.fit(X_train, y_train)\n",
    "alpha = lasso.alpha_\n",
    "print(f'Third try alpha: {alpha}')"
   ]
  },
  {
   "cell_type": "markdown",
   "id": "4c1874b8",
   "metadata": {},
   "source": [
    "## ElasticNet Modeling "
   ]
  },
  {
   "cell_type": "code",
   "execution_count": 52,
   "id": "54ee88a6",
   "metadata": {},
   "outputs": [
    {
     "name": "stdout",
     "output_type": "stream",
     "text": [
      "First Try: l1 = 0.1, alpha = 0.03\n"
     ]
    }
   ],
   "source": [
    "l1_ratio = np.arange(0.1, 1.1, 0.1)\n",
    "elasticNet = ElasticNetCV(l1_ratio=l1_ratio, alphas=alpha_list, max_iter=100000, cv=10)\n",
    "elasticNet.fit(X_train, y_train)\n",
    "l1 = elasticNet.l1_ratio_\n",
    "alpha = elasticNet.alpha_\n",
    "print(f'First Try: l1 = {l1}, alpha = {alpha}')"
   ]
  },
  {
   "cell_type": "code",
   "execution_count": 53,
   "id": "88cc3bbb",
   "metadata": {},
   "outputs": [
    {
     "name": "stdout",
     "output_type": "stream",
     "text": [
      "Second Try: l1 = 0.0799560546875, alpha = 0.040496826171875\n"
     ]
    }
   ],
   "source": [
    "elasticNet = ElasticNetCV(l1_ratio=(l1*ranging), alphas=(alpha*ranging), max_iter=100000, cv=10)\n",
    "elasticNet.fit(X_train, y_train)\n",
    "l1 = elasticNet.l1_ratio_\n",
    "alpha = elasticNet.alpha_\n",
    "print(f'Second Try: l1 = {l1}, alpha = {alpha}')"
   ]
  },
  {
   "cell_type": "code",
   "execution_count": 54,
   "id": "439de950",
   "metadata": {},
   "outputs": [
    {
     "name": "stdout",
     "output_type": "stream",
     "text": [
      "Third Try: l1 = 0.07598876953125, alpha = 0.042510986328125\n"
     ]
    }
   ],
   "source": [
    "elasticNet = ElasticNetCV(l1_ratio=(l1*ranging), alphas=(alpha*ranging), max_iter=100000, cv=10)\n",
    "elasticNet.fit(X_train, y_train)\n",
    "l1 = elasticNet.l1_ratio_\n",
    "alpha = elasticNet.alpha_\n",
    "print(f'Third Try: l1 = {l1}, alpha = {alpha}')"
   ]
  },
  {
   "cell_type": "markdown",
   "id": "84ff8ab3",
   "metadata": {},
   "source": [
    "## Train and Validation Prediction"
   ]
  },
  {
   "cell_type": "code",
   "execution_count": 63,
   "id": "5e45c217",
   "metadata": {},
   "outputs": [
    {
     "name": "stdout",
     "output_type": "stream",
     "text": [
      "[0.1092846060226084, 0.11053330693666312]\n"
     ]
    }
   ],
   "source": [
    "lasso_stat = [rmse_train(lasso).mean(), rmse_test(lasso).mean()]\n",
    "print(lasso_stat)"
   ]
  },
  {
   "cell_type": "code",
   "execution_count": 64,
   "id": "98bdf1de",
   "metadata": {},
   "outputs": [
    {
     "name": "stdout",
     "output_type": "stream",
     "text": [
      "[0.11067888377500676, 0.11559875843961358]\n"
     ]
    }
   ],
   "source": [
    "ridge_stat = [rmse_train(ridge).mean(), rmse_test(ridge).mean()]\n",
    "print(ridge_stat)"
   ]
  },
  {
   "cell_type": "code",
   "execution_count": 65,
   "id": "e1225477",
   "metadata": {},
   "outputs": [
    {
     "name": "stdout",
     "output_type": "stream",
     "text": [
      "[0.10886286387175903, 0.11129260347211634]\n"
     ]
    }
   ],
   "source": [
    "elasticNet_stat = [rmse_train(elasticNet).mean(), rmse_test(elasticNet).mean()]\n",
    "print(elasticNet_stat)"
   ]
  },
  {
   "cell_type": "code",
   "execution_count": 76,
   "id": "f8b72de1",
   "metadata": {},
   "outputs": [
    {
     "data": {
      "text/html": [
       "<div>\n",
       "<style scoped>\n",
       "    .dataframe tbody tr th:only-of-type {\n",
       "        vertical-align: middle;\n",
       "    }\n",
       "\n",
       "    .dataframe tbody tr th {\n",
       "        vertical-align: top;\n",
       "    }\n",
       "\n",
       "    .dataframe thead th {\n",
       "        text-align: right;\n",
       "    }\n",
       "</style>\n",
       "<table border=\"1\" class=\"dataframe\">\n",
       "  <thead>\n",
       "    <tr style=\"text-align: right;\">\n",
       "      <th></th>\n",
       "      <th>rmse train mean</th>\n",
       "      <th>rmse test mean</th>\n",
       "    </tr>\n",
       "  </thead>\n",
       "  <tbody>\n",
       "    <tr>\n",
       "      <th>RidgeCv</th>\n",
       "      <td>0.110679</td>\n",
       "      <td>0.115599</td>\n",
       "    </tr>\n",
       "    <tr>\n",
       "      <th>LassoCV</th>\n",
       "      <td>0.109285</td>\n",
       "      <td>0.110533</td>\n",
       "    </tr>\n",
       "    <tr>\n",
       "      <th>ElasticNetCV</th>\n",
       "      <td>0.108863</td>\n",
       "      <td>0.111293</td>\n",
       "    </tr>\n",
       "  </tbody>\n",
       "</table>\n",
       "</div>"
      ],
      "text/plain": [
       "              rmse train mean  rmse test mean\n",
       "RidgeCv              0.110679        0.115599\n",
       "LassoCV              0.109285        0.110533\n",
       "ElasticNetCV         0.108863        0.111293"
      ]
     },
     "execution_count": 76,
     "metadata": {},
     "output_type": "execute_result"
    }
   ],
   "source": [
    "df = pd.DataFrame([ridge_stat, lasso_stat, elasticNet_stat], \n",
    "                  columns=['rmse train mean', 'rmse test mean'],\n",
    "                 index=['RidgeCv', 'LassoCV', 'ElasticNetCV'])\n",
    "df"
   ]
  },
  {
   "cell_type": "code",
   "execution_count": null,
   "id": "1fb93062",
   "metadata": {},
   "outputs": [],
   "source": []
  },
  {
   "cell_type": "code",
   "execution_count": null,
   "id": "e979c8b6",
   "metadata": {},
   "outputs": [],
   "source": []
  },
  {
   "cell_type": "code",
   "execution_count": null,
   "id": "172bbe58",
   "metadata": {},
   "outputs": [],
   "source": []
  },
  {
   "cell_type": "markdown",
   "id": "35115d94",
   "metadata": {},
   "source": [
    "## Submission"
   ]
  },
  {
   "cell_type": "code",
   "execution_count": 99,
   "id": "cdf1f7fa",
   "metadata": {},
   "outputs": [
    {
     "data": {
      "text/plain": [
       "array([11.70529752, 11.97940076, 12.11069368, ..., 12.01758014,\n",
       "       11.71059091, 12.34404321])"
      ]
     },
     "execution_count": 99,
     "metadata": {},
     "output_type": "execute_result"
    }
   ],
   "source": [
    "test = pd.read_csv('test_new.csv')\n",
    "test = pd.DataFrame(stdSc.transform(test), columns=test.columns, index=test.index)\n",
    "prediction = elasticNet.predict(test)\n",
    "prediction"
   ]
  },
  {
   "cell_type": "code",
   "execution_count": 100,
   "id": "e142faab",
   "metadata": {},
   "outputs": [
    {
     "data": {
      "text/html": [
       "<div>\n",
       "<style scoped>\n",
       "    .dataframe tbody tr th:only-of-type {\n",
       "        vertical-align: middle;\n",
       "    }\n",
       "\n",
       "    .dataframe tbody tr th {\n",
       "        vertical-align: top;\n",
       "    }\n",
       "\n",
       "    .dataframe thead th {\n",
       "        text-align: right;\n",
       "    }\n",
       "</style>\n",
       "<table border=\"1\" class=\"dataframe\">\n",
       "  <thead>\n",
       "    <tr style=\"text-align: right;\">\n",
       "      <th></th>\n",
       "      <th>SalePrice</th>\n",
       "    </tr>\n",
       "    <tr>\n",
       "      <th>Id</th>\n",
       "      <th></th>\n",
       "    </tr>\n",
       "  </thead>\n",
       "  <tbody>\n",
       "    <tr>\n",
       "      <th>1461</th>\n",
       "      <td>121211.141130</td>\n",
       "    </tr>\n",
       "    <tr>\n",
       "      <th>1462</th>\n",
       "      <td>159435.461602</td>\n",
       "    </tr>\n",
       "    <tr>\n",
       "      <th>1463</th>\n",
       "      <td>181804.676242</td>\n",
       "    </tr>\n",
       "    <tr>\n",
       "      <th>1464</th>\n",
       "      <td>192883.110479</td>\n",
       "    </tr>\n",
       "    <tr>\n",
       "      <th>1465</th>\n",
       "      <td>194835.424921</td>\n",
       "    </tr>\n",
       "  </tbody>\n",
       "</table>\n",
       "</div>"
      ],
      "text/plain": [
       "          SalePrice\n",
       "Id                 \n",
       "1461  121211.141130\n",
       "1462  159435.461602\n",
       "1463  181804.676242\n",
       "1464  192883.110479\n",
       "1465  194835.424921"
      ]
     },
     "execution_count": 100,
     "metadata": {},
     "output_type": "execute_result"
    }
   ],
   "source": [
    "prediction = np.expm1(prediction)\n",
    "submission = pd.DataFrame(prediction, columns=['SalePrice'], index=pd.read_csv('test.csv').Id)\n",
    "submission.head()"
   ]
  },
  {
   "cell_type": "code",
   "execution_count": 101,
   "id": "5bd47666",
   "metadata": {},
   "outputs": [],
   "source": [
    "submission.to_csv('August17_v2.csv')"
   ]
  },
  {
   "cell_type": "code",
   "execution_count": null,
   "id": "7597ecec",
   "metadata": {},
   "outputs": [],
   "source": []
  }
 ],
 "metadata": {
  "kernelspec": {
   "display_name": "Python 3 (ipykernel)",
   "language": "python",
   "name": "python3"
  },
  "language_info": {
   "codemirror_mode": {
    "name": "ipython",
    "version": 3
   },
   "file_extension": ".py",
   "mimetype": "text/x-python",
   "name": "python",
   "nbconvert_exporter": "python",
   "pygments_lexer": "ipython3",
   "version": "3.9.6"
  }
 },
 "nbformat": 4,
 "nbformat_minor": 5
}
