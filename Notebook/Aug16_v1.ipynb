{
 "cells": [
  {
   "cell_type": "code",
   "execution_count": 1,
   "id": "c9c74228",
   "metadata": {},
   "outputs": [],
   "source": [
    "import numpy as np\n",
    "import pandas as pd\n",
    "import matplotlib.pyplot as plt\n",
    "import seaborn as sns\n",
    "\n",
    "from sklearn.linear_model import RidgeCV, LassoCV, LinearRegression, ElasticNetCV\n",
    "from sklearn.preprocessing import StandardScaler\n",
    "from sklearn.model_selection import cross_val_score, train_test_split\n",
    "from sklearn.metrics import mean_squared_error, make_scorer\n",
    "from sklearn import preprocessing\n",
    "\n",
    "from scipy.stats import skew\n",
    "import scipy.stats as st\n",
    "\n",
    "%matplotlib inline"
   ]
  },
  {
   "cell_type": "code",
   "execution_count": 2,
   "id": "ea1e0d2c",
   "metadata": {},
   "outputs": [
    {
     "name": "stdout",
     "output_type": "stream",
     "text": [
      "Train shape: (1460, 81)\n",
      "Test shape: (1459, 80)\n"
     ]
    }
   ],
   "source": [
    "#import train and test dataset\n",
    "train = pd.read_csv('train.csv')\n",
    "test = pd.read_csv('test.csv')\n",
    "print(f'Train shape: {train.shape}')\n",
    "print(f'Test shape: {test.shape}')"
   ]
  },
  {
   "cell_type": "code",
   "execution_count": 3,
   "id": "6bf69e5f",
   "metadata": {},
   "outputs": [
    {
     "name": "stdout",
     "output_type": "stream",
     "text": [
      "Concated shape: (2919, 79)\n"
     ]
    }
   ],
   "source": [
    "df_all = pd.concat([train.drop(columns=['SalePrice', 'Id']), test.drop(columns='Id')])\n",
    "print(f'Concated shape: {df_all.shape}')"
   ]
  },
  {
   "cell_type": "code",
   "execution_count": 4,
   "id": "99569d6a",
   "metadata": {},
   "outputs": [
    {
     "data": {
      "text/html": [
       "<div>\n",
       "<style scoped>\n",
       "    .dataframe tbody tr th:only-of-type {\n",
       "        vertical-align: middle;\n",
       "    }\n",
       "\n",
       "    .dataframe tbody tr th {\n",
       "        vertical-align: top;\n",
       "    }\n",
       "\n",
       "    .dataframe thead th {\n",
       "        text-align: right;\n",
       "    }\n",
       "</style>\n",
       "<table border=\"1\" class=\"dataframe\">\n",
       "  <thead>\n",
       "    <tr style=\"text-align: right;\">\n",
       "      <th></th>\n",
       "      <th>MSSubClass</th>\n",
       "      <th>MSZoning</th>\n",
       "      <th>LotFrontage</th>\n",
       "      <th>LotArea</th>\n",
       "      <th>Street</th>\n",
       "      <th>Alley</th>\n",
       "      <th>LotShape</th>\n",
       "      <th>LandContour</th>\n",
       "      <th>Utilities</th>\n",
       "      <th>LotConfig</th>\n",
       "      <th>...</th>\n",
       "      <th>ScreenPorch</th>\n",
       "      <th>PoolArea</th>\n",
       "      <th>PoolQC</th>\n",
       "      <th>Fence</th>\n",
       "      <th>MiscFeature</th>\n",
       "      <th>MiscVal</th>\n",
       "      <th>MoSold</th>\n",
       "      <th>YrSold</th>\n",
       "      <th>SaleType</th>\n",
       "      <th>SaleCondition</th>\n",
       "    </tr>\n",
       "  </thead>\n",
       "  <tbody>\n",
       "    <tr>\n",
       "      <th>0</th>\n",
       "      <td>60</td>\n",
       "      <td>RL</td>\n",
       "      <td>65.0</td>\n",
       "      <td>8450</td>\n",
       "      <td>Pave</td>\n",
       "      <td>NaN</td>\n",
       "      <td>Reg</td>\n",
       "      <td>Lvl</td>\n",
       "      <td>AllPub</td>\n",
       "      <td>Inside</td>\n",
       "      <td>...</td>\n",
       "      <td>0</td>\n",
       "      <td>0</td>\n",
       "      <td>NaN</td>\n",
       "      <td>NaN</td>\n",
       "      <td>NaN</td>\n",
       "      <td>0</td>\n",
       "      <td>2</td>\n",
       "      <td>2008</td>\n",
       "      <td>WD</td>\n",
       "      <td>Normal</td>\n",
       "    </tr>\n",
       "    <tr>\n",
       "      <th>1</th>\n",
       "      <td>20</td>\n",
       "      <td>RL</td>\n",
       "      <td>80.0</td>\n",
       "      <td>9600</td>\n",
       "      <td>Pave</td>\n",
       "      <td>NaN</td>\n",
       "      <td>Reg</td>\n",
       "      <td>Lvl</td>\n",
       "      <td>AllPub</td>\n",
       "      <td>FR2</td>\n",
       "      <td>...</td>\n",
       "      <td>0</td>\n",
       "      <td>0</td>\n",
       "      <td>NaN</td>\n",
       "      <td>NaN</td>\n",
       "      <td>NaN</td>\n",
       "      <td>0</td>\n",
       "      <td>5</td>\n",
       "      <td>2007</td>\n",
       "      <td>WD</td>\n",
       "      <td>Normal</td>\n",
       "    </tr>\n",
       "    <tr>\n",
       "      <th>2</th>\n",
       "      <td>60</td>\n",
       "      <td>RL</td>\n",
       "      <td>68.0</td>\n",
       "      <td>11250</td>\n",
       "      <td>Pave</td>\n",
       "      <td>NaN</td>\n",
       "      <td>IR1</td>\n",
       "      <td>Lvl</td>\n",
       "      <td>AllPub</td>\n",
       "      <td>Inside</td>\n",
       "      <td>...</td>\n",
       "      <td>0</td>\n",
       "      <td>0</td>\n",
       "      <td>NaN</td>\n",
       "      <td>NaN</td>\n",
       "      <td>NaN</td>\n",
       "      <td>0</td>\n",
       "      <td>9</td>\n",
       "      <td>2008</td>\n",
       "      <td>WD</td>\n",
       "      <td>Normal</td>\n",
       "    </tr>\n",
       "    <tr>\n",
       "      <th>3</th>\n",
       "      <td>70</td>\n",
       "      <td>RL</td>\n",
       "      <td>60.0</td>\n",
       "      <td>9550</td>\n",
       "      <td>Pave</td>\n",
       "      <td>NaN</td>\n",
       "      <td>IR1</td>\n",
       "      <td>Lvl</td>\n",
       "      <td>AllPub</td>\n",
       "      <td>Corner</td>\n",
       "      <td>...</td>\n",
       "      <td>0</td>\n",
       "      <td>0</td>\n",
       "      <td>NaN</td>\n",
       "      <td>NaN</td>\n",
       "      <td>NaN</td>\n",
       "      <td>0</td>\n",
       "      <td>2</td>\n",
       "      <td>2006</td>\n",
       "      <td>WD</td>\n",
       "      <td>Abnorml</td>\n",
       "    </tr>\n",
       "    <tr>\n",
       "      <th>4</th>\n",
       "      <td>60</td>\n",
       "      <td>RL</td>\n",
       "      <td>84.0</td>\n",
       "      <td>14260</td>\n",
       "      <td>Pave</td>\n",
       "      <td>NaN</td>\n",
       "      <td>IR1</td>\n",
       "      <td>Lvl</td>\n",
       "      <td>AllPub</td>\n",
       "      <td>FR2</td>\n",
       "      <td>...</td>\n",
       "      <td>0</td>\n",
       "      <td>0</td>\n",
       "      <td>NaN</td>\n",
       "      <td>NaN</td>\n",
       "      <td>NaN</td>\n",
       "      <td>0</td>\n",
       "      <td>12</td>\n",
       "      <td>2008</td>\n",
       "      <td>WD</td>\n",
       "      <td>Normal</td>\n",
       "    </tr>\n",
       "  </tbody>\n",
       "</table>\n",
       "<p>5 rows × 79 columns</p>\n",
       "</div>"
      ],
      "text/plain": [
       "   MSSubClass MSZoning  LotFrontage  LotArea Street Alley LotShape  \\\n",
       "0          60       RL         65.0     8450   Pave   NaN      Reg   \n",
       "1          20       RL         80.0     9600   Pave   NaN      Reg   \n",
       "2          60       RL         68.0    11250   Pave   NaN      IR1   \n",
       "3          70       RL         60.0     9550   Pave   NaN      IR1   \n",
       "4          60       RL         84.0    14260   Pave   NaN      IR1   \n",
       "\n",
       "  LandContour Utilities LotConfig  ... ScreenPorch PoolArea PoolQC Fence  \\\n",
       "0         Lvl    AllPub    Inside  ...           0        0    NaN   NaN   \n",
       "1         Lvl    AllPub       FR2  ...           0        0    NaN   NaN   \n",
       "2         Lvl    AllPub    Inside  ...           0        0    NaN   NaN   \n",
       "3         Lvl    AllPub    Corner  ...           0        0    NaN   NaN   \n",
       "4         Lvl    AllPub       FR2  ...           0        0    NaN   NaN   \n",
       "\n",
       "  MiscFeature MiscVal  MoSold  YrSold  SaleType  SaleCondition  \n",
       "0         NaN       0       2    2008        WD         Normal  \n",
       "1         NaN       0       5    2007        WD         Normal  \n",
       "2         NaN       0       9    2008        WD         Normal  \n",
       "3         NaN       0       2    2006        WD        Abnorml  \n",
       "4         NaN       0      12    2008        WD         Normal  \n",
       "\n",
       "[5 rows x 79 columns]"
      ]
     },
     "execution_count": 4,
     "metadata": {},
     "output_type": "execute_result"
    }
   ],
   "source": [
    "df_all.head()"
   ]
  },
  {
   "cell_type": "markdown",
   "id": "ed013698",
   "metadata": {},
   "source": [
    "### Treat Missing Value "
   ]
  },
  {
   "cell_type": "code",
   "execution_count": 5,
   "id": "3f9c75c5",
   "metadata": {},
   "outputs": [
    {
     "data": {
      "text/plain": [
       "<AxesSubplot:>"
      ]
     },
     "execution_count": 5,
     "metadata": {},
     "output_type": "execute_result"
    },
    {
     "data": {
      "image/png": "[encoded data removed]",
      "text/plain": [
       "<Figure size 432x288 with 1 Axes>"
      ]
     },
     "metadata": {
      "needs_background": "light"
     },
     "output_type": "display_data"
    }
   ],
   "source": [
    "# Missing Value\n",
    "null_sum = df_all.isnull().sum()\n",
    "(null_sum[null_sum > 0]/(df_all.shape[0])*100).plot.bar()"
   ]
  },
  {
   "cell_type": "code",
   "execution_count": 6,
   "id": "f075f291",
   "metadata": {},
   "outputs": [
    {
     "name": "stdout",
     "output_type": "stream",
     "text": [
      "Index(['Alley', 'FireplaceQu', 'PoolQC', 'Fence', 'MiscFeature'], dtype='object')\n"
     ]
    }
   ],
   "source": [
    "# Removing missing value more than 20%\n",
    "null_perc = (null_sum[null_sum > 0]/(df_all.shape[0])*100)\n",
    "print(null_perc[null_perc>20].index)\n",
    "df_all = df_all.drop(columns=null_perc[null_perc>20].index)"
   ]
  },
  {
   "cell_type": "code",
   "execution_count": 7,
   "id": "fc046f55",
   "metadata": {},
   "outputs": [
    {
     "name": "stdout",
     "output_type": "stream",
     "text": [
      "['MSZoning', 'LotFrontage', 'Utilities', 'Exterior1st', 'Exterior2nd', 'MasVnrType', 'MasVnrArea', 'BsmtQual', 'BsmtCond', 'BsmtExposure', 'BsmtFinType1', 'BsmtFinSF1', 'BsmtFinType2', 'BsmtFinSF2', 'BsmtUnfSF', 'TotalBsmtSF', 'Electrical', 'BsmtFullBath', 'BsmtHalfBath', 'KitchenQual', 'Functional', 'GarageType', 'GarageYrBlt', 'GarageFinish', 'GarageCars', 'GarageArea', 'GarageQual', 'GarageCond', 'SaleType']\n"
     ]
    }
   ],
   "source": [
    "null_columns = list(null_perc[null_perc<=20].index)\n",
    "print(null_columns)"
   ]
  },
  {
   "cell_type": "code",
   "execution_count": 8,
   "id": "e2830070",
   "metadata": {},
   "outputs": [
    {
     "name": "stdout",
     "output_type": "stream",
     "text": [
      "Series([], dtype: int64)\n"
     ]
    }
   ],
   "source": [
    "for c in null_columns:\n",
    "    if df_all[c].dtype == 'object':\n",
    "        df_all[c] = df_all[[c]].replace(np.NAN, df_all[c].mode()[0])\n",
    "    else:\n",
    "        df_all[c] = df_all[c].replace(np.NAN, df_all[c].mean())\n",
    "        \n",
    "print(df_all.isnull().sum()[df_all.isnull().sum() > 0])"
   ]
  },
  {
   "cell_type": "code",
   "execution_count": 9,
   "id": "f58e00b1",
   "metadata": {},
   "outputs": [],
   "source": [
    "#Quantitative and Qualitative features\n",
    "quantitative = [f for f in df_all.columns if df_all.dtypes[f] != 'object']\n",
    "qualitative = [f for f in df_all.columns if df_all.dtypes[f] == 'object']"
   ]
  },
  {
   "cell_type": "code",
   "execution_count": 10,
   "id": "287bd6b5",
   "metadata": {},
   "outputs": [
    {
     "name": "stdout",
     "output_type": "stream",
     "text": [
      "Qualitative features : ['MSZoning', 'Street', 'LotShape', 'LandContour', 'Utilities', 'LotConfig', 'LandSlope', 'Neighborhood', 'Condition1', 'Condition2', 'BldgType', 'HouseStyle', 'RoofStyle', 'RoofMatl', 'Exterior1st', 'Exterior2nd', 'MasVnrType', 'ExterQual', 'ExterCond', 'Foundation', 'BsmtQual', 'BsmtCond', 'BsmtExposure', 'BsmtFinType1', 'BsmtFinType2', 'Heating', 'HeatingQC', 'CentralAir', 'Electrical', 'KitchenQual', 'Functional', 'GarageType', 'GarageFinish', 'GarageQual', 'GarageCond', 'PavedDrive', 'SaleType', 'SaleCondition']\n"
     ]
    }
   ],
   "source": [
    "# Qualitative Features\n",
    "print(f'Qualitative features : {qualitative}')"
   ]
  },
  {
   "cell_type": "code",
   "execution_count": 11,
   "id": "1b2ff258",
   "metadata": {},
   "outputs": [
    {
     "name": "stdout",
     "output_type": "stream",
     "text": [
      "Quantitative features : ['MSSubClass', 'LotFrontage', 'LotArea', 'OverallQual', 'OverallCond', 'YearBuilt', 'YearRemodAdd', 'MasVnrArea', 'BsmtFinSF1', 'BsmtFinSF2', 'BsmtUnfSF', 'TotalBsmtSF', '1stFlrSF', '2ndFlrSF', 'LowQualFinSF', 'GrLivArea', 'BsmtFullBath', 'BsmtHalfBath', 'FullBath', 'HalfBath', 'BedroomAbvGr', 'KitchenAbvGr', 'TotRmsAbvGrd', 'Fireplaces', 'GarageYrBlt', 'GarageCars', 'GarageArea', 'WoodDeckSF', 'OpenPorchSF', 'EnclosedPorch', '3SsnPorch', 'ScreenPorch', 'PoolArea', 'MiscVal', 'MoSold', 'YrSold']\n"
     ]
    }
   ],
   "source": [
    "# Quantitative Features\n",
    "print(f'Quantitative features : {quantitative}')"
   ]
  },
  {
   "cell_type": "markdown",
   "id": "a9d75fcf",
   "metadata": {},
   "source": [
    "### Simplifying Qualitative Features\n",
    "1. ExterQual\n",
    "2. ExterCond\n",
    "3. BsmtQual\n",
    "4. BsmtCond\n",
    "5. BsmtExposure\n",
    "6. BsmtFinType1\n",
    "7. BsmtFinType2\n",
    "8. HeatingQC\n",
    "9. FirePlaceQu (Dropped)\n",
    "10. GarageFinish\n",
    "11. GarageCond \n",
    "12. PavedDrive\n",
    "13. PoolQC (Dropped)\n",
    "14. Fence (Dropped)"
   ]
  },
  {
   "cell_type": "markdown",
   "id": "cdda8a08",
   "metadata": {},
   "source": [
    "Qualitative features : ['MSZoning', 'Street', 'LotShape', 'LandContour', 'Utilities', 'LotConfig', 'LandSlope', 'Neighborhood', 'Condition1', 'Condition2', 'BldgType', 'HouseStyle', 'RoofStyle', 'RoofMatl', 'Exterior1st', 'Exterior2nd', 'MasVnrType', 'ExterQual', 'ExterCond', 'Foundation', 'BsmtQual', 'BsmtCond', 'BsmtExposure', 'BsmtFinType1', 'BsmtFinType2', 'Heating', 'HeatingQC', 'CentralAir', 'Electrical', 'KitchenQual', 'Functional', 'GarageType', 'GarageFinish', 'GarageQual', 'GarageCond', 'PavedDrive', 'SaleType', 'SaleCondition']"
   ]
  },
  {
   "cell_type": "code",
   "execution_count": 12,
   "id": "1328c2a1",
   "metadata": {},
   "outputs": [],
   "source": [
    "sim_qual = ['BsmtFinType1','BsmtFinType2','ExterQual','ExterCond','BsmtQual','BsmtCond',\n",
    "            'HeatingQC','KitchenQual','GarageCond','GarageQual','GarageFinish', 'BsmtExposure','PavedDrive']"
   ]
  },
  {
   "cell_type": "code",
   "execution_count": 13,
   "id": "b8100639",
   "metadata": {},
   "outputs": [
    {
     "name": "stdout",
     "output_type": "stream",
     "text": [
      "count: 0 ---- Simplified feature : BsmtFinType1\n",
      "count: 1 ---- Simplified feature : BsmtFinType2\n",
      "count: 2 ---- Simplified feature : ExterQual\n",
      "count: 3 ---- Simplified feature : ExterCond\n",
      "count: 4 ---- Simplified feature : BsmtQual\n",
      "count: 5 ---- Simplified feature : BsmtCond\n",
      "count: 6 ---- Simplified feature : HeatingQC\n",
      "count: 7 ---- Simplified feature : KitchenQual\n",
      "count: 8 ---- Simplified feature : GarageCond\n",
      "count: 9 ---- Simplified feature : GarageQual\n",
      "count: 10 ---- Simplified feature : GarageFinish\n",
      "count: 11 ---- Simplified feature : BsmtExposure\n",
      "count: 12 ---- Simplified feature : PavedDrive\n"
     ]
    }
   ],
   "source": [
    "count = 0\n",
    "for c in sim_qual:\n",
    "    if (count<2):\n",
    "        df_all[c] = df_all[c].replace(dict(GLQ=6, ALQ=5, BLQ=4, Rec=3, LwQ=2, Unf=1, NA=0))\n",
    "    if (count>=2 and count<10):\n",
    "        df_all[c] = df_all[c].replace(dict(Ex=5, Gd=4, TA=3, Fa=2, Po=1, NA=0))\n",
    "    if (count == 10):\n",
    "        df_all[c] = df_all[c].replace(dict(Fin=3, RFn=2, Unf=1, NA=0))\n",
    "    if (count == 11):\n",
    "        df_all[c] = df_all[c].replace(dict(Gd=4, Av=3, Mn=2, No=1, NA=0))\n",
    "    if (count == 12):\n",
    "        df_all[c] = df_all[c].replace(dict(Y=2, P=1, N=0))\n",
    "    print(f'count: {count} ---- Simplified feature : {c}')\n",
    "    count+=1\n",
    "    "
   ]
  },
  {
   "cell_type": "code",
   "execution_count": 14,
   "id": "e920cd1e",
   "metadata": {},
   "outputs": [
    {
     "name": "stdout",
     "output_type": "stream",
     "text": [
      "<class 'pandas.core.frame.DataFrame'>\n",
      "Int64Index: 2919 entries, 0 to 1458\n",
      "Data columns (total 13 columns):\n",
      " #   Column        Non-Null Count  Dtype\n",
      "---  ------        --------------  -----\n",
      " 0   BsmtFinType1  2919 non-null   int64\n",
      " 1   BsmtFinType2  2919 non-null   int64\n",
      " 2   ExterQual     2919 non-null   int64\n",
      " 3   ExterCond     2919 non-null   int64\n",
      " 4   BsmtQual      2919 non-null   int64\n",
      " 5   BsmtCond      2919 non-null   int64\n",
      " 6   HeatingQC     2919 non-null   int64\n",
      " 7   KitchenQual   2919 non-null   int64\n",
      " 8   GarageCond    2919 non-null   int64\n",
      " 9   GarageQual    2919 non-null   int64\n",
      " 10  GarageFinish  2919 non-null   int64\n",
      " 11  BsmtExposure  2919 non-null   int64\n",
      " 12  PavedDrive    2919 non-null   int64\n",
      "dtypes: int64(13)\n",
      "memory usage: 319.3 KB\n"
     ]
    }
   ],
   "source": [
    "df_all[sim_qual].info()"
   ]
  },
  {
   "cell_type": "markdown",
   "id": "7c6759d2",
   "metadata": {},
   "source": [
    "### Binning Year Features \n",
    "1. YearBuilt\n",
    "2. YearRemodAdd\n",
    "3. YrSold\n",
    "4. GarageYrBlt"
   ]
  },
  {
   "cell_type": "code",
   "execution_count": 15,
   "id": "2c7e116f",
   "metadata": {},
   "outputs": [],
   "source": [
    "#Binning the YearBuilt, YearRemodAdd, YrSold and GarageYrBlt\n",
    "col = ['YearBuilt', 'YearRemodAdd', 'YrSold', 'GarageYrBlt']\n",
    "for c in col:\n",
    "    df_all[c] = pd.qcut(df_all[c], 10, duplicates='drop')\n",
    "    \n",
    "#Encode categorical features to numeric feature\n",
    "for c in col:\n",
    "    df_all[c] = preprocessing.LabelEncoder().fit_transform(df_all[c].values)"
   ]
  },
  {
   "cell_type": "code",
   "execution_count": 16,
   "id": "3324a9d4",
   "metadata": {},
   "outputs": [
    {
     "data": {
      "text/html": [
       "<div>\n",
       "<style scoped>\n",
       "    .dataframe tbody tr th:only-of-type {\n",
       "        vertical-align: middle;\n",
       "    }\n",
       "\n",
       "    .dataframe tbody tr th {\n",
       "        vertical-align: top;\n",
       "    }\n",
       "\n",
       "    .dataframe thead th {\n",
       "        text-align: right;\n",
       "    }\n",
       "</style>\n",
       "<table border=\"1\" class=\"dataframe\">\n",
       "  <thead>\n",
       "    <tr style=\"text-align: right;\">\n",
       "      <th></th>\n",
       "      <th>YearBuilt</th>\n",
       "      <th>YearRemodAdd</th>\n",
       "      <th>YrSold</th>\n",
       "      <th>GarageYrBlt</th>\n",
       "    </tr>\n",
       "  </thead>\n",
       "  <tbody>\n",
       "    <tr>\n",
       "      <th>0</th>\n",
       "      <td>7</td>\n",
       "      <td>6</td>\n",
       "      <td>1</td>\n",
       "      <td>7</td>\n",
       "    </tr>\n",
       "    <tr>\n",
       "      <th>1</th>\n",
       "      <td>5</td>\n",
       "      <td>2</td>\n",
       "      <td>0</td>\n",
       "      <td>4</td>\n",
       "    </tr>\n",
       "    <tr>\n",
       "      <th>2</th>\n",
       "      <td>7</td>\n",
       "      <td>5</td>\n",
       "      <td>1</td>\n",
       "      <td>7</td>\n",
       "    </tr>\n",
       "    <tr>\n",
       "      <th>3</th>\n",
       "      <td>0</td>\n",
       "      <td>1</td>\n",
       "      <td>0</td>\n",
       "      <td>6</td>\n",
       "    </tr>\n",
       "    <tr>\n",
       "      <th>4</th>\n",
       "      <td>7</td>\n",
       "      <td>5</td>\n",
       "      <td>1</td>\n",
       "      <td>7</td>\n",
       "    </tr>\n",
       "  </tbody>\n",
       "</table>\n",
       "</div>"
      ],
      "text/plain": [
       "   YearBuilt  YearRemodAdd  YrSold  GarageYrBlt\n",
       "0          7             6       1            7\n",
       "1          5             2       0            4\n",
       "2          7             5       1            7\n",
       "3          0             1       0            6\n",
       "4          7             5       1            7"
      ]
     },
     "execution_count": 16,
     "metadata": {},
     "output_type": "execute_result"
    }
   ],
   "source": [
    "#     Check values\n",
    "df_all[col] = df_all[col]\n",
    "df_all[col].head()"
   ]
  },
  {
   "cell_type": "markdown",
   "id": "9d7beaad",
   "metadata": {},
   "source": [
    "### Creating New Features"
   ]
  },
  {
   "cell_type": "code",
   "execution_count": 17,
   "id": "3c60731e",
   "metadata": {},
   "outputs": [],
   "source": [
    "#Total Lot Area\n",
    "df_all['TotalLot'] = df_all['LotFrontage'] + df_all['LotArea']\n",
    "\n",
    "#Total number of basement bathroom\n",
    "df_all['BsmtBath'] = df_all['BsmtFullBath'] + df_all['BsmtHalfBath']\n",
    "\n",
    "#Total number of bathroom above grade\n",
    "df_all['Bath'] = df_all['FullBath'] + df_all['HalfBath']\n",
    "\n",
    "#Total number of bathroom\n",
    "df_all['TotalBath'] = (df_all['FullBath'] + 0.5*df_all['HalfBath'] + \n",
    "                        df_all['BsmtFullBath'] + 0.5*df_all['BsmtHalfBath'])\n",
    "\n",
    "#Total Finished Square Feet Above Grade\n",
    "df_all['FloorFinSF'] = df_all['1stFlrSF'] + df_all['2ndFlrSF']\n",
    "\n",
    "#Total Finished Squared feet\n",
    "df_all['TotalFinSF'] = df_all['BsmtFinSF1'] + df_all['BsmtFinSF2'] + df_all['1stFlrSF'] + df_all['2ndFlrSF']\n",
    "\n",
    "#Total Basement Unfinish SF and Low Quality Finished SF\n",
    "df_all['Total_BsmtUnfSf_LowQualFinSF'] = df_all['BsmtUnfSF'] + df_all['LowQualFinSF']\n",
    "\n",
    "#Total Porch SF\n",
    "df_all['TotalPorchSF'] = (df_all['OpenPorchSF'] + df_all['3SsnPorch'] + df_all['EnclosedPorch'] \n",
    "                            + df_all['ScreenPorch'] + df_all['WoodDeckSF'])"
   ]
  },
  {
   "cell_type": "code",
   "execution_count": 18,
   "id": "3373ba7d",
   "metadata": {},
   "outputs": [],
   "source": [
    "#Garage\n",
    "df_all['GarageArea'] = df_all['GarageArea'].apply(lambda x: 1 if x>0 else 0)\n",
    "\n",
    "#Pool\n",
    "df_all['PoolArea'] = df_all['PoolArea'].apply(lambda x: 1 if x>0 else 0)"
   ]
  },
  {
   "cell_type": "code",
   "execution_count": 19,
   "id": "b1134bab",
   "metadata": {},
   "outputs": [],
   "source": [
    "#Ratio of Low Quality Squared Feet to Total Finished Square Feet Above Grade\n",
    "df_all['R_LowQual_FloorFinSF'] = df_all['LowQualFinSF'] / df_all['FloorFinSF']\n",
    "\n",
    "#Ratio of Basement Unfinished Squared Feet to Total Basement Squared feet\n",
    "df_all['R_BsmtUnfSF_TotalBsmtSF'] = df_all['BsmtUnfSF'] / df_all['TotalBsmtSF']\n",
    "\n",
    "#Cars per Garage Area\n",
    "df_all['CarPerGarageArea'] = df_all['GarageCars'] / df_all['GarageArea']\n",
    "\n",
    "#Ratio of Total Finished Square Feet Above Grade to \n",
    "df_all['R_FloorFinSF_'] = df_all['FloorFinSF'] / df_all['BedroomAbvGr']"
   ]
  },
  {
   "cell_type": "code",
   "execution_count": 20,
   "id": "8884d841",
   "metadata": {},
   "outputs": [],
   "source": [
    "#Overall House Quality and Condition Score\n",
    "df_all['OverallScore'] = 0.5*df_all['OverallCond'] + 0.5*df_all['OverallQual']\n",
    "\n",
    "#Overall Kitchen Score \n",
    "df_all['KitchenScore'] = df_all['KitchenAbvGr'] * df_all['KitchenQual']\n",
    "\n",
    "#Overall Exter Score\n",
    "df_all['ExterScore'] = df_all['ExterCond'] * df_all['ExterQual']\n",
    "\n",
    "#Basement Finished Type Score\n",
    "df_all['BsmtFinTypeScore'] = df_all['BsmtFinType1'] * df_all['BsmtFinType2']\n",
    "\n",
    "#Overall Basement SF Score\n",
    "df_all['BsmtScore'] = (df_all['BsmtFinTypeScore'] + df_all['BsmtQual'] + df_all['BsmtCond'] \n",
    "                       + df_all['BsmtExposure'] * (1-df_all['R_BsmtUnfSF_TotalBsmtSF']))\n",
    "\n",
    "#Overall Finished SF Score\n",
    "df_all['FinSFScore'] = df_all['FloorFinSF'] * (1-df_all['R_LowQual_FloorFinSF'])\n",
    "\n",
    "#Overall Garage Score\n",
    "df_all['GarageScore'] = df_all['GarageQual'] * df_all['GarageCond']\n"
   ]
  },
  {
   "cell_type": "markdown",
   "id": "bdc69d18",
   "metadata": {},
   "source": [
    "### SalePrice Correlation"
   ]
  },
  {
   "cell_type": "code",
   "execution_count": 21,
   "id": "d3447d4a",
   "metadata": {},
   "outputs": [
    {
     "name": "stdout",
     "output_type": "stream",
     "text": [
      "['MSSubClass', 'LotFrontage', 'LotArea', 'OverallQual', 'OverallCond', 'YearBuilt', 'YearRemodAdd', 'MasVnrArea', 'ExterQual', 'ExterCond', 'BsmtQual', 'BsmtCond', 'BsmtExposure', 'BsmtFinType1', 'BsmtFinSF1', 'BsmtFinType2', 'BsmtFinSF2', 'BsmtUnfSF', 'TotalBsmtSF', 'HeatingQC', '1stFlrSF', '2ndFlrSF', 'LowQualFinSF', 'GrLivArea', 'BsmtFullBath', 'BsmtHalfBath', 'FullBath', 'HalfBath', 'BedroomAbvGr', 'KitchenAbvGr', 'KitchenQual', 'TotRmsAbvGrd', 'Fireplaces', 'GarageYrBlt', 'GarageFinish', 'GarageCars', 'GarageArea', 'GarageQual', 'GarageCond', 'PavedDrive', 'WoodDeckSF', 'OpenPorchSF', 'EnclosedPorch', '3SsnPorch', 'ScreenPorch', 'PoolArea', 'MiscVal', 'MoSold', 'YrSold', 'TotalLot', 'BsmtBath', 'Bath', 'TotalBath', 'FloorFinSF', 'TotalFinSF', 'Total_BsmtUnfSf_LowQualFinSF', 'TotalPorchSF', 'R_LowQual_FloorFinSF', 'R_BsmtUnfSF_TotalBsmtSF', 'CarPerGarageArea', 'R_FloorFinSF_', 'OverallScore', 'KitchenScore', 'ExterScore', 'BsmtFinTypeScore', 'BsmtScore', 'FinSFScore', 'GarageScore']\n"
     ]
    }
   ],
   "source": [
    "quantitative = [f for f in df_all.columns if df_all.dtypes[f] != 'object']\n",
    "print(quantitative)"
   ]
  },
  {
   "cell_type": "code",
   "execution_count": 22,
   "id": "1d50c0e1",
   "metadata": {},
   "outputs": [
    {
     "data": {
      "text/html": [
       "<div>\n",
       "<style scoped>\n",
       "    .dataframe tbody tr th:only-of-type {\n",
       "        vertical-align: middle;\n",
       "    }\n",
       "\n",
       "    .dataframe tbody tr th {\n",
       "        vertical-align: top;\n",
       "    }\n",
       "\n",
       "    .dataframe thead th {\n",
       "        text-align: right;\n",
       "    }\n",
       "</style>\n",
       "<table border=\"1\" class=\"dataframe\">\n",
       "  <thead>\n",
       "    <tr style=\"text-align: right;\">\n",
       "      <th></th>\n",
       "      <th>SalePrice</th>\n",
       "      <th>MSSubClass</th>\n",
       "      <th>LotFrontage</th>\n",
       "      <th>LotArea</th>\n",
       "      <th>OverallQual</th>\n",
       "      <th>OverallCond</th>\n",
       "      <th>YearBuilt</th>\n",
       "      <th>YearRemodAdd</th>\n",
       "      <th>MasVnrArea</th>\n",
       "      <th>ExterQual</th>\n",
       "      <th>...</th>\n",
       "      <th>R_BsmtUnfSF_TotalBsmtSF</th>\n",
       "      <th>CarPerGarageArea</th>\n",
       "      <th>R_FloorFinSF_</th>\n",
       "      <th>OverallScore</th>\n",
       "      <th>KitchenScore</th>\n",
       "      <th>ExterScore</th>\n",
       "      <th>BsmtFinTypeScore</th>\n",
       "      <th>BsmtScore</th>\n",
       "      <th>FinSFScore</th>\n",
       "      <th>GarageScore</th>\n",
       "    </tr>\n",
       "  </thead>\n",
       "  <tbody>\n",
       "    <tr>\n",
       "      <th>0</th>\n",
       "      <td>208500</td>\n",
       "      <td>60</td>\n",
       "      <td>65.0</td>\n",
       "      <td>8450</td>\n",
       "      <td>7</td>\n",
       "      <td>5</td>\n",
       "      <td>7</td>\n",
       "      <td>6</td>\n",
       "      <td>196.0</td>\n",
       "      <td>4</td>\n",
       "      <td>...</td>\n",
       "      <td>0.175234</td>\n",
       "      <td>2.0</td>\n",
       "      <td>570.000000</td>\n",
       "      <td>6.0</td>\n",
       "      <td>4</td>\n",
       "      <td>12</td>\n",
       "      <td>6</td>\n",
       "      <td>13.824766</td>\n",
       "      <td>1710.0</td>\n",
       "      <td>9</td>\n",
       "    </tr>\n",
       "    <tr>\n",
       "      <th>1</th>\n",
       "      <td>181500</td>\n",
       "      <td>20</td>\n",
       "      <td>80.0</td>\n",
       "      <td>9600</td>\n",
       "      <td>6</td>\n",
       "      <td>8</td>\n",
       "      <td>5</td>\n",
       "      <td>2</td>\n",
       "      <td>0.0</td>\n",
       "      <td>3</td>\n",
       "      <td>...</td>\n",
       "      <td>0.225040</td>\n",
       "      <td>2.0</td>\n",
       "      <td>420.666667</td>\n",
       "      <td>7.0</td>\n",
       "      <td>3</td>\n",
       "      <td>9</td>\n",
       "      <td>5</td>\n",
       "      <td>15.099842</td>\n",
       "      <td>1262.0</td>\n",
       "      <td>9</td>\n",
       "    </tr>\n",
       "    <tr>\n",
       "      <th>2</th>\n",
       "      <td>223500</td>\n",
       "      <td>60</td>\n",
       "      <td>68.0</td>\n",
       "      <td>11250</td>\n",
       "      <td>7</td>\n",
       "      <td>5</td>\n",
       "      <td>7</td>\n",
       "      <td>5</td>\n",
       "      <td>162.0</td>\n",
       "      <td>4</td>\n",
       "      <td>...</td>\n",
       "      <td>0.471739</td>\n",
       "      <td>2.0</td>\n",
       "      <td>595.333333</td>\n",
       "      <td>6.0</td>\n",
       "      <td>4</td>\n",
       "      <td>12</td>\n",
       "      <td>6</td>\n",
       "      <td>14.056522</td>\n",
       "      <td>1786.0</td>\n",
       "      <td>9</td>\n",
       "    </tr>\n",
       "    <tr>\n",
       "      <th>3</th>\n",
       "      <td>140000</td>\n",
       "      <td>70</td>\n",
       "      <td>60.0</td>\n",
       "      <td>9550</td>\n",
       "      <td>7</td>\n",
       "      <td>5</td>\n",
       "      <td>0</td>\n",
       "      <td>1</td>\n",
       "      <td>0.0</td>\n",
       "      <td>3</td>\n",
       "      <td>...</td>\n",
       "      <td>0.714286</td>\n",
       "      <td>3.0</td>\n",
       "      <td>572.333333</td>\n",
       "      <td>6.0</td>\n",
       "      <td>4</td>\n",
       "      <td>9</td>\n",
       "      <td>5</td>\n",
       "      <td>12.285714</td>\n",
       "      <td>1717.0</td>\n",
       "      <td>9</td>\n",
       "    </tr>\n",
       "    <tr>\n",
       "      <th>4</th>\n",
       "      <td>250000</td>\n",
       "      <td>60</td>\n",
       "      <td>84.0</td>\n",
       "      <td>14260</td>\n",
       "      <td>8</td>\n",
       "      <td>5</td>\n",
       "      <td>7</td>\n",
       "      <td>5</td>\n",
       "      <td>350.0</td>\n",
       "      <td>4</td>\n",
       "      <td>...</td>\n",
       "      <td>0.427948</td>\n",
       "      <td>3.0</td>\n",
       "      <td>549.500000</td>\n",
       "      <td>6.5</td>\n",
       "      <td>4</td>\n",
       "      <td>12</td>\n",
       "      <td>6</td>\n",
       "      <td>14.716157</td>\n",
       "      <td>2198.0</td>\n",
       "      <td>9</td>\n",
       "    </tr>\n",
       "    <tr>\n",
       "      <th>...</th>\n",
       "      <td>...</td>\n",
       "      <td>...</td>\n",
       "      <td>...</td>\n",
       "      <td>...</td>\n",
       "      <td>...</td>\n",
       "      <td>...</td>\n",
       "      <td>...</td>\n",
       "      <td>...</td>\n",
       "      <td>...</td>\n",
       "      <td>...</td>\n",
       "      <td>...</td>\n",
       "      <td>...</td>\n",
       "      <td>...</td>\n",
       "      <td>...</td>\n",
       "      <td>...</td>\n",
       "      <td>...</td>\n",
       "      <td>...</td>\n",
       "      <td>...</td>\n",
       "      <td>...</td>\n",
       "      <td>...</td>\n",
       "      <td>...</td>\n",
       "    </tr>\n",
       "    <tr>\n",
       "      <th>1455</th>\n",
       "      <td>175000</td>\n",
       "      <td>60</td>\n",
       "      <td>62.0</td>\n",
       "      <td>7917</td>\n",
       "      <td>6</td>\n",
       "      <td>5</td>\n",
       "      <td>7</td>\n",
       "      <td>5</td>\n",
       "      <td>0.0</td>\n",
       "      <td>3</td>\n",
       "      <td>...</td>\n",
       "      <td>1.000000</td>\n",
       "      <td>2.0</td>\n",
       "      <td>549.000000</td>\n",
       "      <td>5.5</td>\n",
       "      <td>3</td>\n",
       "      <td>9</td>\n",
       "      <td>1</td>\n",
       "      <td>8.000000</td>\n",
       "      <td>1647.0</td>\n",
       "      <td>9</td>\n",
       "    </tr>\n",
       "    <tr>\n",
       "      <th>1456</th>\n",
       "      <td>210000</td>\n",
       "      <td>20</td>\n",
       "      <td>85.0</td>\n",
       "      <td>13175</td>\n",
       "      <td>6</td>\n",
       "      <td>6</td>\n",
       "      <td>5</td>\n",
       "      <td>3</td>\n",
       "      <td>119.0</td>\n",
       "      <td>3</td>\n",
       "      <td>...</td>\n",
       "      <td>0.381971</td>\n",
       "      <td>2.0</td>\n",
       "      <td>691.000000</td>\n",
       "      <td>6.0</td>\n",
       "      <td>3</td>\n",
       "      <td>9</td>\n",
       "      <td>15</td>\n",
       "      <td>22.618029</td>\n",
       "      <td>2073.0</td>\n",
       "      <td>9</td>\n",
       "    </tr>\n",
       "    <tr>\n",
       "      <th>1457</th>\n",
       "      <td>266500</td>\n",
       "      <td>70</td>\n",
       "      <td>66.0</td>\n",
       "      <td>9042</td>\n",
       "      <td>7</td>\n",
       "      <td>9</td>\n",
       "      <td>1</td>\n",
       "      <td>7</td>\n",
       "      <td>0.0</td>\n",
       "      <td>5</td>\n",
       "      <td>...</td>\n",
       "      <td>0.761285</td>\n",
       "      <td>1.0</td>\n",
       "      <td>585.000000</td>\n",
       "      <td>8.0</td>\n",
       "      <td>4</td>\n",
       "      <td>20</td>\n",
       "      <td>6</td>\n",
       "      <td>13.238715</td>\n",
       "      <td>2340.0</td>\n",
       "      <td>9</td>\n",
       "    </tr>\n",
       "    <tr>\n",
       "      <th>1458</th>\n",
       "      <td>142125</td>\n",
       "      <td>20</td>\n",
       "      <td>68.0</td>\n",
       "      <td>9717</td>\n",
       "      <td>5</td>\n",
       "      <td>6</td>\n",
       "      <td>2</td>\n",
       "      <td>4</td>\n",
       "      <td>0.0</td>\n",
       "      <td>3</td>\n",
       "      <td>...</td>\n",
       "      <td>0.000000</td>\n",
       "      <td>1.0</td>\n",
       "      <td>539.000000</td>\n",
       "      <td>5.5</td>\n",
       "      <td>4</td>\n",
       "      <td>9</td>\n",
       "      <td>18</td>\n",
       "      <td>26.000000</td>\n",
       "      <td>1078.0</td>\n",
       "      <td>9</td>\n",
       "    </tr>\n",
       "    <tr>\n",
       "      <th>1459</th>\n",
       "      <td>147500</td>\n",
       "      <td>20</td>\n",
       "      <td>75.0</td>\n",
       "      <td>9937</td>\n",
       "      <td>5</td>\n",
       "      <td>6</td>\n",
       "      <td>3</td>\n",
       "      <td>1</td>\n",
       "      <td>0.0</td>\n",
       "      <td>4</td>\n",
       "      <td>...</td>\n",
       "      <td>0.108280</td>\n",
       "      <td>1.0</td>\n",
       "      <td>418.666667</td>\n",
       "      <td>5.5</td>\n",
       "      <td>3</td>\n",
       "      <td>12</td>\n",
       "      <td>8</td>\n",
       "      <td>14.891720</td>\n",
       "      <td>1256.0</td>\n",
       "      <td>9</td>\n",
       "    </tr>\n",
       "  </tbody>\n",
       "</table>\n",
       "<p>1460 rows × 69 columns</p>\n",
       "</div>"
      ],
      "text/plain": [
       "      SalePrice  MSSubClass  LotFrontage  LotArea  OverallQual  OverallCond  \\\n",
       "0        208500          60         65.0     8450            7            5   \n",
       "1        181500          20         80.0     9600            6            8   \n",
       "2        223500          60         68.0    11250            7            5   \n",
       "3        140000          70         60.0     9550            7            5   \n",
       "4        250000          60         84.0    14260            8            5   \n",
       "...         ...         ...          ...      ...          ...          ...   \n",
       "1455     175000          60         62.0     7917            6            5   \n",
       "1456     210000          20         85.0    13175            6            6   \n",
       "1457     266500          70         66.0     9042            7            9   \n",
       "1458     142125          20         68.0     9717            5            6   \n",
       "1459     147500          20         75.0     9937            5            6   \n",
       "\n",
       "      YearBuilt  YearRemodAdd  MasVnrArea  ExterQual  ...  \\\n",
       "0             7             6       196.0          4  ...   \n",
       "1             5             2         0.0          3  ...   \n",
       "2             7             5       162.0          4  ...   \n",
       "3             0             1         0.0          3  ...   \n",
       "4             7             5       350.0          4  ...   \n",
       "...         ...           ...         ...        ...  ...   \n",
       "1455          7             5         0.0          3  ...   \n",
       "1456          5             3       119.0          3  ...   \n",
       "1457          1             7         0.0          5  ...   \n",
       "1458          2             4         0.0          3  ...   \n",
       "1459          3             1         0.0          4  ...   \n",
       "\n",
       "      R_BsmtUnfSF_TotalBsmtSF  CarPerGarageArea  R_FloorFinSF_  OverallScore  \\\n",
       "0                    0.175234               2.0     570.000000           6.0   \n",
       "1                    0.225040               2.0     420.666667           7.0   \n",
       "2                    0.471739               2.0     595.333333           6.0   \n",
       "3                    0.714286               3.0     572.333333           6.0   \n",
       "4                    0.427948               3.0     549.500000           6.5   \n",
       "...                       ...               ...            ...           ...   \n",
       "1455                 1.000000               2.0     549.000000           5.5   \n",
       "1456                 0.381971               2.0     691.000000           6.0   \n",
       "1457                 0.761285               1.0     585.000000           8.0   \n",
       "1458                 0.000000               1.0     539.000000           5.5   \n",
       "1459                 0.108280               1.0     418.666667           5.5   \n",
       "\n",
       "      KitchenScore  ExterScore  BsmtFinTypeScore  BsmtScore  FinSFScore  \\\n",
       "0                4          12                 6  13.824766      1710.0   \n",
       "1                3           9                 5  15.099842      1262.0   \n",
       "2                4          12                 6  14.056522      1786.0   \n",
       "3                4           9                 5  12.285714      1717.0   \n",
       "4                4          12                 6  14.716157      2198.0   \n",
       "...            ...         ...               ...        ...         ...   \n",
       "1455             3           9                 1   8.000000      1647.0   \n",
       "1456             3           9                15  22.618029      2073.0   \n",
       "1457             4          20                 6  13.238715      2340.0   \n",
       "1458             4           9                18  26.000000      1078.0   \n",
       "1459             3          12                 8  14.891720      1256.0   \n",
       "\n",
       "      GarageScore  \n",
       "0               9  \n",
       "1               9  \n",
       "2               9  \n",
       "3               9  \n",
       "4               9  \n",
       "...           ...  \n",
       "1455            9  \n",
       "1456            9  \n",
       "1457            9  \n",
       "1458            9  \n",
       "1459            9  \n",
       "\n",
       "[1460 rows x 69 columns]"
      ]
     },
     "execution_count": 22,
     "metadata": {},
     "output_type": "execute_result"
    }
   ],
   "source": [
    "corr = df_all[:1460]\n",
    "corr = pd.concat([train['SalePrice'], corr[quantitative]], axis=1)\n",
    "corr"
   ]
  },
  {
   "cell_type": "code",
   "execution_count": 23,
   "id": "cfd158cf",
   "metadata": {},
   "outputs": [
    {
     "data": {
      "text/plain": [
       "SalePrice           1.000000\n",
       "OverallQual         0.790982\n",
       "FinSFScore          0.718994\n",
       "FloorFinSF          0.716883\n",
       "GrLivArea           0.708624\n",
       "TotalFinSF          0.708047\n",
       "ExterQual           0.682639\n",
       "KitchenQual         0.659600\n",
       "BsmtQual            0.650138\n",
       "GarageCars          0.640409\n",
       "CarPerGarageArea    0.637095\n",
       "Name: SalePrice, dtype: float64"
      ]
     },
     "execution_count": 23,
     "metadata": {},
     "output_type": "execute_result"
    }
   ],
   "source": [
    "corr = corr.corr()\n",
    "corr.SalePrice.sort_values(ascending=False).head(11)"
   ]
  },
  {
   "cell_type": "markdown",
   "id": "5480bbb8",
   "metadata": {},
   "source": [
    "### Creating New Polynomial Features (Top10)"
   ]
  },
  {
   "cell_type": "code",
   "execution_count": 24,
   "id": "11c8c7da",
   "metadata": {},
   "outputs": [],
   "source": [
    "# top10 = corr.SalePrice.sort_values(ascending=False).index[:10]\n",
    "# print(f'Total features before creating polynomial features: {df_all.shape[1]}')\n",
    "# for c in top10[1:]:\n",
    "#     df_all[c + '_s2'] = df_all[c] ** 2\n",
    "#     df_all[c + '_s3'] = df_all[c] ** 3\n",
    "#     df_all[c + '_sqrt'] = np.sqrt(df_all[c])\n",
    "# #     df_all[c + '_cbrt'] = np.cbrt(df_all[c])\n",
    "\n",
    "# print(f'Total features after creating polynomial features: {df_all.shape[1]}')"
   ]
  },
  {
   "cell_type": "markdown",
   "id": "3789d845",
   "metadata": {},
   "source": [
    "### Return Value Features to Train Dataset "
   ]
  },
  {
   "cell_type": "code",
   "execution_count": 25,
   "id": "e1861af1",
   "metadata": {},
   "outputs": [],
   "source": [
    "y = np.log1p(train.SalePrice)"
   ]
  },
  {
   "cell_type": "code",
   "execution_count": 26,
   "id": "ea73e5f3",
   "metadata": {},
   "outputs": [
    {
     "name": "stdout",
     "output_type": "stream",
     "text": [
      "(1460, 95)\n"
     ]
    }
   ],
   "source": [
    "train = pd.concat([train['Id'],y, df_all[:1460]], axis=1)\n",
    "print(train.shape)"
   ]
  },
  {
   "cell_type": "code",
   "execution_count": 27,
   "id": "3aaa371c",
   "metadata": {},
   "outputs": [
    {
     "name": "stdout",
     "output_type": "stream",
     "text": [
      "<class 'pandas.core.frame.DataFrame'>\n",
      "RangeIndex: 1460 entries, 0 to 1459\n",
      "Data columns (total 95 columns):\n",
      " #   Column                        Non-Null Count  Dtype  \n",
      "---  ------                        --------------  -----  \n",
      " 0   Id                            1460 non-null   int64  \n",
      " 1   SalePrice                     1460 non-null   float64\n",
      " 2   MSSubClass                    1460 non-null   int64  \n",
      " 3   MSZoning                      1460 non-null   object \n",
      " 4   LotFrontage                   1460 non-null   float64\n",
      " 5   LotArea                       1460 non-null   int64  \n",
      " 6   Street                        1460 non-null   object \n",
      " 7   LotShape                      1460 non-null   object \n",
      " 8   LandContour                   1460 non-null   object \n",
      " 9   Utilities                     1460 non-null   object \n",
      " 10  LotConfig                     1460 non-null   object \n",
      " 11  LandSlope                     1460 non-null   object \n",
      " 12  Neighborhood                  1460 non-null   object \n",
      " 13  Condition1                    1460 non-null   object \n",
      " 14  Condition2                    1460 non-null   object \n",
      " 15  BldgType                      1460 non-null   object \n",
      " 16  HouseStyle                    1460 non-null   object \n",
      " 17  OverallQual                   1460 non-null   int64  \n",
      " 18  OverallCond                   1460 non-null   int64  \n",
      " 19  YearBuilt                     1460 non-null   int64  \n",
      " 20  YearRemodAdd                  1460 non-null   int64  \n",
      " 21  RoofStyle                     1460 non-null   object \n",
      " 22  RoofMatl                      1460 non-null   object \n",
      " 23  Exterior1st                   1460 non-null   object \n",
      " 24  Exterior2nd                   1460 non-null   object \n",
      " 25  MasVnrType                    1460 non-null   object \n",
      " 26  MasVnrArea                    1460 non-null   float64\n",
      " 27  ExterQual                     1460 non-null   int64  \n",
      " 28  ExterCond                     1460 non-null   int64  \n",
      " 29  Foundation                    1460 non-null   object \n",
      " 30  BsmtQual                      1460 non-null   int64  \n",
      " 31  BsmtCond                      1460 non-null   int64  \n",
      " 32  BsmtExposure                  1460 non-null   int64  \n",
      " 33  BsmtFinType1                  1460 non-null   int64  \n",
      " 34  BsmtFinSF1                    1460 non-null   float64\n",
      " 35  BsmtFinType2                  1460 non-null   int64  \n",
      " 36  BsmtFinSF2                    1460 non-null   float64\n",
      " 37  BsmtUnfSF                     1460 non-null   float64\n",
      " 38  TotalBsmtSF                   1460 non-null   float64\n",
      " 39  Heating                       1460 non-null   object \n",
      " 40  HeatingQC                     1460 non-null   int64  \n",
      " 41  CentralAir                    1460 non-null   object \n",
      " 42  Electrical                    1460 non-null   object \n",
      " 43  1stFlrSF                      1460 non-null   int64  \n",
      " 44  2ndFlrSF                      1460 non-null   int64  \n",
      " 45  LowQualFinSF                  1460 non-null   int64  \n",
      " 46  GrLivArea                     1460 non-null   int64  \n",
      " 47  BsmtFullBath                  1460 non-null   float64\n",
      " 48  BsmtHalfBath                  1460 non-null   float64\n",
      " 49  FullBath                      1460 non-null   int64  \n",
      " 50  HalfBath                      1460 non-null   int64  \n",
      " 51  BedroomAbvGr                  1460 non-null   int64  \n",
      " 52  KitchenAbvGr                  1460 non-null   int64  \n",
      " 53  KitchenQual                   1460 non-null   int64  \n",
      " 54  TotRmsAbvGrd                  1460 non-null   int64  \n",
      " 55  Functional                    1460 non-null   object \n",
      " 56  Fireplaces                    1460 non-null   int64  \n",
      " 57  GarageType                    1460 non-null   object \n",
      " 58  GarageYrBlt                   1460 non-null   int64  \n",
      " 59  GarageFinish                  1460 non-null   int64  \n",
      " 60  GarageCars                    1460 non-null   float64\n",
      " 61  GarageArea                    1460 non-null   int64  \n",
      " 62  GarageQual                    1460 non-null   int64  \n",
      " 63  GarageCond                    1460 non-null   int64  \n",
      " 64  PavedDrive                    1460 non-null   int64  \n",
      " 65  WoodDeckSF                    1460 non-null   int64  \n",
      " 66  OpenPorchSF                   1460 non-null   int64  \n",
      " 67  EnclosedPorch                 1460 non-null   int64  \n",
      " 68  3SsnPorch                     1460 non-null   int64  \n",
      " 69  ScreenPorch                   1460 non-null   int64  \n",
      " 70  PoolArea                      1460 non-null   int64  \n",
      " 71  MiscVal                       1460 non-null   int64  \n",
      " 72  MoSold                        1460 non-null   int64  \n",
      " 73  YrSold                        1460 non-null   int64  \n",
      " 74  SaleType                      1460 non-null   object \n",
      " 75  SaleCondition                 1460 non-null   object \n",
      " 76  TotalLot                      1460 non-null   float64\n",
      " 77  BsmtBath                      1460 non-null   float64\n",
      " 78  Bath                          1460 non-null   int64  \n",
      " 79  TotalBath                     1460 non-null   float64\n",
      " 80  FloorFinSF                    1460 non-null   int64  \n",
      " 81  TotalFinSF                    1460 non-null   float64\n",
      " 82  Total_BsmtUnfSf_LowQualFinSF  1460 non-null   float64\n",
      " 83  TotalPorchSF                  1460 non-null   int64  \n",
      " 84  R_LowQual_FloorFinSF          1460 non-null   float64\n",
      " 85  R_BsmtUnfSF_TotalBsmtSF       1423 non-null   float64\n",
      " 86  CarPerGarageArea              1379 non-null   float64\n",
      " 87  R_FloorFinSF_                 1460 non-null   float64\n",
      " 88  OverallScore                  1460 non-null   float64\n",
      " 89  KitchenScore                  1460 non-null   int64  \n",
      " 90  ExterScore                    1460 non-null   int64  \n",
      " 91  BsmtFinTypeScore              1460 non-null   int64  \n",
      " 92  BsmtScore                     1423 non-null   float64\n",
      " 93  FinSFScore                    1460 non-null   float64\n",
      " 94  GarageScore                   1460 non-null   int64  \n",
      "dtypes: float64(22), int64(48), object(25)\n",
      "memory usage: 1.1+ MB\n"
     ]
    }
   ],
   "source": [
    "train.info()"
   ]
  },
  {
   "cell_type": "markdown",
   "id": "62410283",
   "metadata": {},
   "source": [
    "### Removing Outliers (Cheap and Expensive House)"
   ]
  },
  {
   "cell_type": "code",
   "execution_count": 28,
   "id": "906dc78c",
   "metadata": {
    "scrolled": true
   },
   "outputs": [
    {
     "data": {
      "text/plain": [
       "<AxesSubplot:xlabel='GrLivArea', ylabel='SalePrice'>"
      ]
     },
     "execution_count": 28,
     "metadata": {},
     "output_type": "execute_result"
    },
    {
     "data": {
      "image/png": "[encoded data removed]",
      "text/plain": [
       "<Figure size 432x288 with 1 Axes>"
      ]
     },
     "metadata": {
      "needs_background": "light"
     },
     "output_type": "display_data"
    }
   ],
   "source": [
    "sns.scatterplot(data=train, x='GrLivArea', y='SalePrice')"
   ]
  },
  {
   "cell_type": "code",
   "execution_count": 29,
   "id": "758bb5dc",
   "metadata": {},
   "outputs": [],
   "source": [
    "train = train[train.GrLivArea<4000]\n",
    "train = train[train.SalePrice>10.75]"
   ]
  },
  {
   "cell_type": "code",
   "execution_count": 30,
   "id": "7ef3af66",
   "metadata": {},
   "outputs": [
    {
     "data": {
      "text/plain": [
       "<AxesSubplot:xlabel='GrLivArea', ylabel='SalePrice'>"
      ]
     },
     "execution_count": 30,
     "metadata": {},
     "output_type": "execute_result"
    },
    {
     "data": {
      "image/png": "[encoded data removed]",
      "text/plain": [
       "<Figure size 432x288 with 1 Axes>"
      ]
     },
     "metadata": {
      "needs_background": "light"
     },
     "output_type": "display_data"
    }
   ],
   "source": [
    "sns.scatterplot(data=train, x='GrLivArea', y='SalePrice')"
   ]
  },
  {
   "cell_type": "code",
   "execution_count": 31,
   "id": "4acd5628",
   "metadata": {},
   "outputs": [
    {
     "data": {
      "text/html": [
       "<div>\n",
       "<style scoped>\n",
       "    .dataframe tbody tr th:only-of-type {\n",
       "        vertical-align: middle;\n",
       "    }\n",
       "\n",
       "    .dataframe tbody tr th {\n",
       "        vertical-align: top;\n",
       "    }\n",
       "\n",
       "    .dataframe thead th {\n",
       "        text-align: right;\n",
       "    }\n",
       "</style>\n",
       "<table border=\"1\" class=\"dataframe\">\n",
       "  <thead>\n",
       "    <tr style=\"text-align: right;\">\n",
       "      <th></th>\n",
       "      <th>MSSubClass</th>\n",
       "      <th>MSZoning</th>\n",
       "      <th>LotFrontage</th>\n",
       "      <th>LotArea</th>\n",
       "      <th>Street</th>\n",
       "      <th>LotShape</th>\n",
       "      <th>LandContour</th>\n",
       "      <th>Utilities</th>\n",
       "      <th>LotConfig</th>\n",
       "      <th>LandSlope</th>\n",
       "      <th>...</th>\n",
       "      <th>R_BsmtUnfSF_TotalBsmtSF</th>\n",
       "      <th>CarPerGarageArea</th>\n",
       "      <th>R_FloorFinSF_</th>\n",
       "      <th>OverallScore</th>\n",
       "      <th>KitchenScore</th>\n",
       "      <th>ExterScore</th>\n",
       "      <th>BsmtFinTypeScore</th>\n",
       "      <th>BsmtScore</th>\n",
       "      <th>FinSFScore</th>\n",
       "      <th>GarageScore</th>\n",
       "    </tr>\n",
       "  </thead>\n",
       "  <tbody>\n",
       "    <tr>\n",
       "      <th>0</th>\n",
       "      <td>60</td>\n",
       "      <td>RL</td>\n",
       "      <td>65.0</td>\n",
       "      <td>8450</td>\n",
       "      <td>Pave</td>\n",
       "      <td>Reg</td>\n",
       "      <td>Lvl</td>\n",
       "      <td>AllPub</td>\n",
       "      <td>Inside</td>\n",
       "      <td>Gtl</td>\n",
       "      <td>...</td>\n",
       "      <td>0.175234</td>\n",
       "      <td>2.0</td>\n",
       "      <td>570.000000</td>\n",
       "      <td>6.0</td>\n",
       "      <td>4</td>\n",
       "      <td>12</td>\n",
       "      <td>6</td>\n",
       "      <td>13.824766</td>\n",
       "      <td>1710.0</td>\n",
       "      <td>9</td>\n",
       "    </tr>\n",
       "    <tr>\n",
       "      <th>1</th>\n",
       "      <td>20</td>\n",
       "      <td>RL</td>\n",
       "      <td>80.0</td>\n",
       "      <td>9600</td>\n",
       "      <td>Pave</td>\n",
       "      <td>Reg</td>\n",
       "      <td>Lvl</td>\n",
       "      <td>AllPub</td>\n",
       "      <td>FR2</td>\n",
       "      <td>Gtl</td>\n",
       "      <td>...</td>\n",
       "      <td>0.225040</td>\n",
       "      <td>2.0</td>\n",
       "      <td>420.666667</td>\n",
       "      <td>7.0</td>\n",
       "      <td>3</td>\n",
       "      <td>9</td>\n",
       "      <td>5</td>\n",
       "      <td>15.099842</td>\n",
       "      <td>1262.0</td>\n",
       "      <td>9</td>\n",
       "    </tr>\n",
       "    <tr>\n",
       "      <th>2</th>\n",
       "      <td>60</td>\n",
       "      <td>RL</td>\n",
       "      <td>68.0</td>\n",
       "      <td>11250</td>\n",
       "      <td>Pave</td>\n",
       "      <td>IR1</td>\n",
       "      <td>Lvl</td>\n",
       "      <td>AllPub</td>\n",
       "      <td>Inside</td>\n",
       "      <td>Gtl</td>\n",
       "      <td>...</td>\n",
       "      <td>0.471739</td>\n",
       "      <td>2.0</td>\n",
       "      <td>595.333333</td>\n",
       "      <td>6.0</td>\n",
       "      <td>4</td>\n",
       "      <td>12</td>\n",
       "      <td>6</td>\n",
       "      <td>14.056522</td>\n",
       "      <td>1786.0</td>\n",
       "      <td>9</td>\n",
       "    </tr>\n",
       "    <tr>\n",
       "      <th>3</th>\n",
       "      <td>70</td>\n",
       "      <td>RL</td>\n",
       "      <td>60.0</td>\n",
       "      <td>9550</td>\n",
       "      <td>Pave</td>\n",
       "      <td>IR1</td>\n",
       "      <td>Lvl</td>\n",
       "      <td>AllPub</td>\n",
       "      <td>Corner</td>\n",
       "      <td>Gtl</td>\n",
       "      <td>...</td>\n",
       "      <td>0.714286</td>\n",
       "      <td>3.0</td>\n",
       "      <td>572.333333</td>\n",
       "      <td>6.0</td>\n",
       "      <td>4</td>\n",
       "      <td>9</td>\n",
       "      <td>5</td>\n",
       "      <td>12.285714</td>\n",
       "      <td>1717.0</td>\n",
       "      <td>9</td>\n",
       "    </tr>\n",
       "    <tr>\n",
       "      <th>4</th>\n",
       "      <td>60</td>\n",
       "      <td>RL</td>\n",
       "      <td>84.0</td>\n",
       "      <td>14260</td>\n",
       "      <td>Pave</td>\n",
       "      <td>IR1</td>\n",
       "      <td>Lvl</td>\n",
       "      <td>AllPub</td>\n",
       "      <td>FR2</td>\n",
       "      <td>Gtl</td>\n",
       "      <td>...</td>\n",
       "      <td>0.427948</td>\n",
       "      <td>3.0</td>\n",
       "      <td>549.500000</td>\n",
       "      <td>6.5</td>\n",
       "      <td>4</td>\n",
       "      <td>12</td>\n",
       "      <td>6</td>\n",
       "      <td>14.716157</td>\n",
       "      <td>2198.0</td>\n",
       "      <td>9</td>\n",
       "    </tr>\n",
       "  </tbody>\n",
       "</table>\n",
       "<p>5 rows × 93 columns</p>\n",
       "</div>"
      ],
      "text/plain": [
       "   MSSubClass MSZoning  LotFrontage  LotArea Street LotShape LandContour  \\\n",
       "0          60       RL         65.0     8450   Pave      Reg         Lvl   \n",
       "1          20       RL         80.0     9600   Pave      Reg         Lvl   \n",
       "2          60       RL         68.0    11250   Pave      IR1         Lvl   \n",
       "3          70       RL         60.0     9550   Pave      IR1         Lvl   \n",
       "4          60       RL         84.0    14260   Pave      IR1         Lvl   \n",
       "\n",
       "  Utilities LotConfig LandSlope  ... R_BsmtUnfSF_TotalBsmtSF CarPerGarageArea  \\\n",
       "0    AllPub    Inside       Gtl  ...                0.175234              2.0   \n",
       "1    AllPub       FR2       Gtl  ...                0.225040              2.0   \n",
       "2    AllPub    Inside       Gtl  ...                0.471739              2.0   \n",
       "3    AllPub    Corner       Gtl  ...                0.714286              3.0   \n",
       "4    AllPub       FR2       Gtl  ...                0.427948              3.0   \n",
       "\n",
       "  R_FloorFinSF_ OverallScore KitchenScore  ExterScore  BsmtFinTypeScore  \\\n",
       "0    570.000000          6.0            4          12                 6   \n",
       "1    420.666667          7.0            3           9                 5   \n",
       "2    595.333333          6.0            4          12                 6   \n",
       "3    572.333333          6.0            4           9                 5   \n",
       "4    549.500000          6.5            4          12                 6   \n",
       "\n",
       "   BsmtScore  FinSFScore GarageScore  \n",
       "0  13.824766      1710.0           9  \n",
       "1  15.099842      1262.0           9  \n",
       "2  14.056522      1786.0           9  \n",
       "3  12.285714      1717.0           9  \n",
       "4  14.716157      2198.0           9  \n",
       "\n",
       "[5 rows x 93 columns]"
      ]
     },
     "execution_count": 31,
     "metadata": {},
     "output_type": "execute_result"
    }
   ],
   "source": [
    "y = train.SalePrice\n",
    "train = train.drop(columns=['Id', 'SalePrice'])\n",
    "train.head()"
   ]
  },
  {
   "cell_type": "code",
   "execution_count": 32,
   "id": "e470de37",
   "metadata": {},
   "outputs": [
    {
     "data": {
      "text/plain": [
       "(1451, 93)"
      ]
     },
     "execution_count": 32,
     "metadata": {},
     "output_type": "execute_result"
    }
   ],
   "source": [
    "train.shape"
   ]
  },
  {
   "cell_type": "markdown",
   "id": "72ef940b",
   "metadata": {},
   "source": [
    "### Skew Features "
   ]
  },
  {
   "cell_type": "code",
   "execution_count": 33,
   "id": "bd654cab",
   "metadata": {},
   "outputs": [
    {
     "name": "stdout",
     "output_type": "stream",
     "text": [
      "Quantitative features: ['MSSubClass', 'LotFrontage', 'LotArea', 'OverallQual', 'OverallCond', 'YearBuilt', 'YearRemodAdd', 'MasVnrArea', 'ExterQual', 'ExterCond', 'BsmtQual', 'BsmtCond', 'BsmtExposure', 'BsmtFinType1', 'BsmtFinSF1', 'BsmtFinType2', 'BsmtFinSF2', 'BsmtUnfSF', 'TotalBsmtSF', 'HeatingQC', '1stFlrSF', '2ndFlrSF', 'LowQualFinSF', 'GrLivArea', 'BsmtFullBath', 'BsmtHalfBath', 'FullBath', 'HalfBath', 'BedroomAbvGr', 'KitchenAbvGr', 'KitchenQual', 'TotRmsAbvGrd', 'Fireplaces', 'GarageYrBlt', 'GarageFinish', 'GarageCars', 'GarageArea', 'GarageQual', 'GarageCond', 'PavedDrive', 'WoodDeckSF', 'OpenPorchSF', 'EnclosedPorch', '3SsnPorch', 'ScreenPorch', 'PoolArea', 'MiscVal', 'MoSold', 'YrSold', 'TotalLot', 'BsmtBath', 'Bath', 'TotalBath', 'FloorFinSF', 'TotalFinSF', 'Total_BsmtUnfSf_LowQualFinSF', 'TotalPorchSF', 'R_LowQual_FloorFinSF', 'R_BsmtUnfSF_TotalBsmtSF', 'CarPerGarageArea', 'R_FloorFinSF_', 'OverallScore', 'KitchenScore', 'ExterScore', 'BsmtFinTypeScore', 'BsmtScore', 'FinSFScore', 'GarageScore'], Total: 68\n"
     ]
    }
   ],
   "source": [
    "quantitative = [f for f in train.columns if train.dtypes[f] != 'object']\n",
    "print(f'Quantitative features: {quantitative}, Total: {len(quantitative)}')"
   ]
  },
  {
   "cell_type": "code",
   "execution_count": 34,
   "id": "c577e6aa",
   "metadata": {},
   "outputs": [
    {
     "name": "stdout",
     "output_type": "stream",
     "text": [
      "Quantitative features: ['MSZoning', 'Street', 'LotShape', 'LandContour', 'Utilities', 'LotConfig', 'LandSlope', 'Neighborhood', 'Condition1', 'Condition2', 'BldgType', 'HouseStyle', 'RoofStyle', 'RoofMatl', 'Exterior1st', 'Exterior2nd', 'MasVnrType', 'Foundation', 'Heating', 'CentralAir', 'Electrical', 'Functional', 'GarageType', 'SaleType', 'SaleCondition'], Total: 25\n"
     ]
    }
   ],
   "source": [
    "qualitative = [f for f in train.columns if train.dtypes[f] == 'object']\n",
    "print(f'Quantitative features: {qualitative}, Total: {len(qualitative)}')"
   ]
  },
  {
   "cell_type": "code",
   "execution_count": 35,
   "id": "52bcbed3",
   "metadata": {},
   "outputs": [
    {
     "name": "stdout",
     "output_type": "stream",
     "text": [
      "Null found:\n",
      "R_BsmtUnfSF_TotalBsmtSF    36\n",
      "CarPerGarageArea           78\n",
      "BsmtScore                  36\n",
      "dtype: int64\n"
     ]
    }
   ],
   "source": [
    "n = train.isnull().sum()\n",
    "n = n[n>0]\n",
    "print(f'Null found:\\n{n}')"
   ]
  },
  {
   "cell_type": "code",
   "execution_count": 36,
   "id": "708dfc51",
   "metadata": {},
   "outputs": [
    {
     "name": "stdout",
     "output_type": "stream",
     "text": [
      "Null found:\n",
      "Series([], dtype: int64)\n"
     ]
    }
   ],
   "source": [
    "train = train.fillna(0)\n",
    "n = train.isnull().sum()\n",
    "n = n[n>0]\n",
    "print(f'Null found:\\n{n}')"
   ]
  },
  {
   "cell_type": "code",
   "execution_count": 37,
   "id": "e691265a",
   "metadata": {},
   "outputs": [
    {
     "name": "stdout",
     "output_type": "stream",
     "text": [
      "<class 'pandas.core.frame.DataFrame'>\n",
      "Int64Index: 1451 entries, 0 to 1459\n",
      "Data columns (total 93 columns):\n",
      " #   Column                        Non-Null Count  Dtype  \n",
      "---  ------                        --------------  -----  \n",
      " 0   MSSubClass                    1451 non-null   int64  \n",
      " 1   MSZoning                      1451 non-null   object \n",
      " 2   LotFrontage                   1451 non-null   float64\n",
      " 3   LotArea                       1451 non-null   int64  \n",
      " 4   Street                        1451 non-null   object \n",
      " 5   LotShape                      1451 non-null   object \n",
      " 6   LandContour                   1451 non-null   object \n",
      " 7   Utilities                     1451 non-null   object \n",
      " 8   LotConfig                     1451 non-null   object \n",
      " 9   LandSlope                     1451 non-null   object \n",
      " 10  Neighborhood                  1451 non-null   object \n",
      " 11  Condition1                    1451 non-null   object \n",
      " 12  Condition2                    1451 non-null   object \n",
      " 13  BldgType                      1451 non-null   object \n",
      " 14  HouseStyle                    1451 non-null   object \n",
      " 15  OverallQual                   1451 non-null   int64  \n",
      " 16  OverallCond                   1451 non-null   int64  \n",
      " 17  YearBuilt                     1451 non-null   int64  \n",
      " 18  YearRemodAdd                  1451 non-null   int64  \n",
      " 19  RoofStyle                     1451 non-null   object \n",
      " 20  RoofMatl                      1451 non-null   object \n",
      " 21  Exterior1st                   1451 non-null   object \n",
      " 22  Exterior2nd                   1451 non-null   object \n",
      " 23  MasVnrType                    1451 non-null   object \n",
      " 24  MasVnrArea                    1451 non-null   float64\n",
      " 25  ExterQual                     1451 non-null   int64  \n",
      " 26  ExterCond                     1451 non-null   int64  \n",
      " 27  Foundation                    1451 non-null   object \n",
      " 28  BsmtQual                      1451 non-null   int64  \n",
      " 29  BsmtCond                      1451 non-null   int64  \n",
      " 30  BsmtExposure                  1451 non-null   int64  \n",
      " 31  BsmtFinType1                  1451 non-null   int64  \n",
      " 32  BsmtFinSF1                    1451 non-null   float64\n",
      " 33  BsmtFinType2                  1451 non-null   int64  \n",
      " 34  BsmtFinSF2                    1451 non-null   float64\n",
      " 35  BsmtUnfSF                     1451 non-null   float64\n",
      " 36  TotalBsmtSF                   1451 non-null   float64\n",
      " 37  Heating                       1451 non-null   object \n",
      " 38  HeatingQC                     1451 non-null   int64  \n",
      " 39  CentralAir                    1451 non-null   object \n",
      " 40  Electrical                    1451 non-null   object \n",
      " 41  1stFlrSF                      1451 non-null   int64  \n",
      " 42  2ndFlrSF                      1451 non-null   int64  \n",
      " 43  LowQualFinSF                  1451 non-null   int64  \n",
      " 44  GrLivArea                     1451 non-null   int64  \n",
      " 45  BsmtFullBath                  1451 non-null   float64\n",
      " 46  BsmtHalfBath                  1451 non-null   float64\n",
      " 47  FullBath                      1451 non-null   int64  \n",
      " 48  HalfBath                      1451 non-null   int64  \n",
      " 49  BedroomAbvGr                  1451 non-null   int64  \n",
      " 50  KitchenAbvGr                  1451 non-null   int64  \n",
      " 51  KitchenQual                   1451 non-null   int64  \n",
      " 52  TotRmsAbvGrd                  1451 non-null   int64  \n",
      " 53  Functional                    1451 non-null   object \n",
      " 54  Fireplaces                    1451 non-null   int64  \n",
      " 55  GarageType                    1451 non-null   object \n",
      " 56  GarageYrBlt                   1451 non-null   int64  \n",
      " 57  GarageFinish                  1451 non-null   int64  \n",
      " 58  GarageCars                    1451 non-null   float64\n",
      " 59  GarageArea                    1451 non-null   int64  \n",
      " 60  GarageQual                    1451 non-null   int64  \n",
      " 61  GarageCond                    1451 non-null   int64  \n",
      " 62  PavedDrive                    1451 non-null   int64  \n",
      " 63  WoodDeckSF                    1451 non-null   int64  \n",
      " 64  OpenPorchSF                   1451 non-null   int64  \n",
      " 65  EnclosedPorch                 1451 non-null   int64  \n",
      " 66  3SsnPorch                     1451 non-null   int64  \n",
      " 67  ScreenPorch                   1451 non-null   int64  \n",
      " 68  PoolArea                      1451 non-null   int64  \n",
      " 69  MiscVal                       1451 non-null   int64  \n",
      " 70  MoSold                        1451 non-null   int64  \n",
      " 71  YrSold                        1451 non-null   int64  \n",
      " 72  SaleType                      1451 non-null   object \n",
      " 73  SaleCondition                 1451 non-null   object \n",
      " 74  TotalLot                      1451 non-null   float64\n",
      " 75  BsmtBath                      1451 non-null   float64\n",
      " 76  Bath                          1451 non-null   int64  \n",
      " 77  TotalBath                     1451 non-null   float64\n",
      " 78  FloorFinSF                    1451 non-null   int64  \n",
      " 79  TotalFinSF                    1451 non-null   float64\n",
      " 80  Total_BsmtUnfSf_LowQualFinSF  1451 non-null   float64\n",
      " 81  TotalPorchSF                  1451 non-null   int64  \n",
      " 82  R_LowQual_FloorFinSF          1451 non-null   float64\n",
      " 83  R_BsmtUnfSF_TotalBsmtSF       1451 non-null   float64\n",
      " 84  CarPerGarageArea              1451 non-null   float64\n",
      " 85  R_FloorFinSF_                 1451 non-null   float64\n",
      " 86  OverallScore                  1451 non-null   float64\n",
      " 87  KitchenScore                  1451 non-null   int64  \n",
      " 88  ExterScore                    1451 non-null   int64  \n",
      " 89  BsmtFinTypeScore              1451 non-null   int64  \n",
      " 90  BsmtScore                     1451 non-null   float64\n",
      " 91  FinSFScore                    1451 non-null   float64\n",
      " 92  GarageScore                   1451 non-null   int64  \n",
      "dtypes: float64(21), int64(47), object(25)\n",
      "memory usage: 1.0+ MB\n"
     ]
    }
   ],
   "source": [
    "train.info()"
   ]
  },
  {
   "cell_type": "code",
   "execution_count": 38,
   "id": "b8bbdf06",
   "metadata": {
    "scrolled": true
   },
   "outputs": [
    {
     "name": "stderr",
     "output_type": "stream",
     "text": [
      "/Users/wongxingyik/Desktop/Kaggle_house_price/lib/python3.9/site-packages/scipy/stats/stats.py:951: RuntimeWarning: invalid value encountered in subtract\n",
      "  a_zero_mean = a - mean\n"
     ]
    }
   ],
   "source": [
    "skewness = train[quantitative].apply(lambda x: skew(x))"
   ]
  },
  {
   "cell_type": "code",
   "execution_count": 39,
   "id": "4047b874",
   "metadata": {},
   "outputs": [
    {
     "name": "stdout",
     "output_type": "stream",
     "text": [
      "MiscVal                         24.376280\n",
      "PoolArea                        16.947078\n",
      "LotArea                         12.558211\n",
      "TotalLot                        12.543299\n",
      "R_LowQual_FloorFinSF            10.708510\n",
      "3SsnPorch                       10.261120\n",
      "LowQualFinSF                     8.973279\n",
      "KitchenAbvGr                     4.467938\n",
      "BsmtFinSF2                       4.235845\n",
      "BsmtHalfBath                     4.116420\n",
      "ScreenPorch                      4.103163\n",
      "BsmtFinType2                     3.528602\n",
      "EnclosedPorch                    3.097267\n",
      "MasVnrArea                       2.648242\n",
      "BsmtFinTypeScore                 2.395690\n",
      "OpenPorchSF                      2.201245\n",
      "GarageScore                      1.760366\n",
      "LotFrontage                      1.699468\n",
      "WoodDeckSF                       1.545219\n",
      "ExterCond                        1.444645\n",
      "MSSubClass                       1.401925\n",
      "KitchenScore                     1.293245\n",
      "BsmtExposure                     1.223521\n",
      "BsmtScore                        1.207911\n",
      "TotalPorchSF                     1.104879\n",
      "BsmtUnfSF                        0.918922\n",
      "Total_BsmtUnfSf_LowQualFinSF     0.908482\n",
      "1stFlrSF                         0.877772\n",
      "GrLivArea                        0.848277\n",
      "TotalFinSF                       0.839283\n",
      "ExterScore                       0.836883\n",
      "ExterQual                        0.823602\n",
      "FloorFinSF                       0.782739\n",
      "2ndFlrSF                         0.775195\n",
      "BsmtFinSF1                       0.740616\n",
      "FinSFScore                       0.722781\n",
      "OverallCond                      0.704597\n",
      "HalfBath                         0.678043\n",
      "TotRmsAbvGrd                     0.675376\n",
      "Fireplaces                       0.627037\n",
      "BsmtFullBath                     0.588015\n",
      "YrSold                           0.519066\n",
      "HeatingQC                       -0.540217\n",
      "GarageQual                      -1.355753\n",
      "GarageCond                      -3.270563\n",
      "PavedDrive                      -3.352667\n",
      "GarageArea                      -3.957193\n",
      "dtype: float64\n"
     ]
    }
   ],
   "source": [
    "skewness = skewness[abs(skewness) > 0.5]\n",
    "print(skewness.sort_values(ascending=False))"
   ]
  },
  {
   "cell_type": "code",
   "execution_count": 40,
   "id": "39110bce",
   "metadata": {},
   "outputs": [],
   "source": [
    "# sns.histplot(x=df_all['GarageCond'])"
   ]
  },
  {
   "cell_type": "code",
   "execution_count": 41,
   "id": "af9383a0",
   "metadata": {},
   "outputs": [],
   "source": [
    "train[skewness.index] = np.log1p(train[skewness.index])"
   ]
  },
  {
   "cell_type": "code",
   "execution_count": null,
   "id": "38a369c4",
   "metadata": {},
   "outputs": [],
   "source": []
  },
  {
   "cell_type": "markdown",
   "id": "4f433be7",
   "metadata": {},
   "source": [
    "### Create Dummy Features"
   ]
  },
  {
   "cell_type": "code",
   "execution_count": 42,
   "id": "6a861ab8",
   "metadata": {},
   "outputs": [],
   "source": [
    "# Qualitative Features\n",
    "\n",
    "# # \"Electrical\" features\n",
    "# df_all['Electrical'].loc[df_all['Electrical']=='Mix'] = 'SBrkr'\n",
    "# # \"Exterior2nd\" features\n",
    "# df_all['Exterior2nd'].loc[df_all['Exterior2nd']=='Other'] = 'VinylSd'\n",
    "# # \"Heating\" features\n",
    "# df_all['Heating'].loc[df_all['Heating']=='OthW'] = 'GasA'\n",
    "# df_all['Heating'].loc[df_all['Heating']=='Floor'] = 'GasA'\n",
    "# # \"HouseStyle\" features\n",
    "# df_all['HouseStyle'].loc[df_all['HouseStyle']=='2.5Fin'] = '1.5Fin'"
   ]
  },
  {
   "cell_type": "code",
   "execution_count": 43,
   "id": "6f305baf",
   "metadata": {},
   "outputs": [
    {
     "name": "stdout",
     "output_type": "stream",
     "text": [
      "Total features before creating dummy features: 93\n",
      "Total features after creating dummy features: 243\n"
     ]
    }
   ],
   "source": [
    "#Using One Hot Encoding\n",
    "print(f'Total features before creating dummy features: {train.shape[1]}')\n",
    "train = pd.get_dummies(train, columns=qualitative)\n",
    "print(f'Total features after creating dummy features: {train.shape[1]}')\n"
   ]
  },
  {
   "cell_type": "code",
   "execution_count": null,
   "id": "f378f3ad",
   "metadata": {},
   "outputs": [],
   "source": []
  },
  {
   "cell_type": "markdown",
   "id": "17a9daa8",
   "metadata": {},
   "source": [
    "# ElasticNetCV"
   ]
  },
  {
   "cell_type": "code",
   "execution_count": 44,
   "id": "1e282ba8",
   "metadata": {},
   "outputs": [
    {
     "name": "stdout",
     "output_type": "stream",
     "text": [
      "X_train : (1015, 243)\n",
      "X_test : (436, 243)\n",
      "y_train : (1015,)\n",
      "y_test : (436,)\n"
     ]
    }
   ],
   "source": [
    "X_train, X_test, y_train, y_test = train_test_split(train, y, test_size = 0.30, random_state=0)\n",
    "print(f'X_train : {X_train.shape}')\n",
    "print(f'X_test : {X_test.shape}')\n",
    "print(f'y_train : {y_train.shape}')\n",
    "print(f'y_test : {y_test.shape}')"
   ]
  },
  {
   "cell_type": "code",
   "execution_count": null,
   "id": "0143e52d",
   "metadata": {},
   "outputs": [],
   "source": []
  },
  {
   "cell_type": "code",
   "execution_count": 45,
   "id": "8120d59d",
   "metadata": {},
   "outputs": [
    {
     "ename": "ValueError",
     "evalue": "Input contains infinity or a value too large for dtype('float64').",
     "output_type": "error",
     "traceback": [
      "\u001b[0;31m---------------------------------------------------------------------------\u001b[0m",
      "\u001b[0;31mValueError\u001b[0m                                Traceback (most recent call last)",
      "\u001b[0;32m/var/folders/sy/z_sqwc6x3_x178gfny0xmkdh0000gn/T/ipykernel_2171/344829247.py\u001b[0m in \u001b[0;36m<module>\u001b[0;34m\u001b[0m\n\u001b[1;32m      1\u001b[0m \u001b[0;31m# Standardize numerical features\u001b[0m\u001b[0;34m\u001b[0m\u001b[0;34m\u001b[0m\u001b[0;34m\u001b[0m\u001b[0m\n\u001b[1;32m      2\u001b[0m \u001b[0mstdSc\u001b[0m \u001b[0;34m=\u001b[0m \u001b[0mStandardScaler\u001b[0m\u001b[0;34m(\u001b[0m\u001b[0;34m)\u001b[0m\u001b[0;34m\u001b[0m\u001b[0;34m\u001b[0m\u001b[0m\n\u001b[0;32m----> 3\u001b[0;31m \u001b[0mX_train\u001b[0m \u001b[0;34m=\u001b[0m \u001b[0mpd\u001b[0m\u001b[0;34m.\u001b[0m\u001b[0mDataFrame\u001b[0m\u001b[0;34m(\u001b[0m\u001b[0mstdSc\u001b[0m\u001b[0;34m.\u001b[0m\u001b[0mfit_transform\u001b[0m\u001b[0;34m(\u001b[0m\u001b[0mX_train\u001b[0m\u001b[0;34m)\u001b[0m\u001b[0;34m,\u001b[0m \u001b[0mcolumns\u001b[0m\u001b[0;34m=\u001b[0m\u001b[0mX_train\u001b[0m\u001b[0;34m.\u001b[0m\u001b[0mcolumns\u001b[0m\u001b[0;34m,\u001b[0m \u001b[0mindex\u001b[0m\u001b[0;34m=\u001b[0m\u001b[0mX_train\u001b[0m\u001b[0;34m.\u001b[0m\u001b[0mindex\u001b[0m\u001b[0;34m)\u001b[0m\u001b[0;34m\u001b[0m\u001b[0;34m\u001b[0m\u001b[0m\n\u001b[0m\u001b[1;32m      4\u001b[0m \u001b[0mX_test\u001b[0m \u001b[0;34m=\u001b[0m \u001b[0mpd\u001b[0m\u001b[0;34m.\u001b[0m\u001b[0mDataFrame\u001b[0m\u001b[0;34m(\u001b[0m\u001b[0mstdSc\u001b[0m\u001b[0;34m.\u001b[0m\u001b[0mtransform\u001b[0m\u001b[0;34m(\u001b[0m\u001b[0mX_test\u001b[0m\u001b[0;34m)\u001b[0m\u001b[0;34m,\u001b[0m \u001b[0mcolumns\u001b[0m\u001b[0;34m=\u001b[0m\u001b[0mX_test\u001b[0m\u001b[0;34m.\u001b[0m\u001b[0mcolumns\u001b[0m\u001b[0;34m,\u001b[0m \u001b[0mindex\u001b[0m\u001b[0;34m=\u001b[0m\u001b[0mX_test\u001b[0m\u001b[0;34m.\u001b[0m\u001b[0mindex\u001b[0m\u001b[0;34m)\u001b[0m\u001b[0;34m\u001b[0m\u001b[0;34m\u001b[0m\u001b[0m\n",
      "\u001b[0;32m~/Desktop/Kaggle_house_price/lib/python3.9/site-packages/sklearn/base.py\u001b[0m in \u001b[0;36mfit_transform\u001b[0;34m(self, X, y, **fit_params)\u001b[0m\n\u001b[1;32m    697\u001b[0m         \u001b[0;32mif\u001b[0m \u001b[0my\u001b[0m \u001b[0;32mis\u001b[0m \u001b[0;32mNone\u001b[0m\u001b[0;34m:\u001b[0m\u001b[0;34m\u001b[0m\u001b[0;34m\u001b[0m\u001b[0m\n\u001b[1;32m    698\u001b[0m             \u001b[0;31m# fit method of arity 1 (unsupervised transformation)\u001b[0m\u001b[0;34m\u001b[0m\u001b[0;34m\u001b[0m\u001b[0;34m\u001b[0m\u001b[0m\n\u001b[0;32m--> 699\u001b[0;31m             \u001b[0;32mreturn\u001b[0m \u001b[0mself\u001b[0m\u001b[0;34m.\u001b[0m\u001b[0mfit\u001b[0m\u001b[0;34m(\u001b[0m\u001b[0mX\u001b[0m\u001b[0;34m,\u001b[0m \u001b[0;34m**\u001b[0m\u001b[0mfit_params\u001b[0m\u001b[0;34m)\u001b[0m\u001b[0;34m.\u001b[0m\u001b[0mtransform\u001b[0m\u001b[0;34m(\u001b[0m\u001b[0mX\u001b[0m\u001b[0;34m)\u001b[0m\u001b[0;34m\u001b[0m\u001b[0;34m\u001b[0m\u001b[0m\n\u001b[0m\u001b[1;32m    700\u001b[0m         \u001b[0;32melse\u001b[0m\u001b[0;34m:\u001b[0m\u001b[0;34m\u001b[0m\u001b[0;34m\u001b[0m\u001b[0m\n\u001b[1;32m    701\u001b[0m             \u001b[0;31m# fit method of arity 2 (supervised transformation)\u001b[0m\u001b[0;34m\u001b[0m\u001b[0;34m\u001b[0m\u001b[0;34m\u001b[0m\u001b[0m\n",
      "\u001b[0;32m~/Desktop/Kaggle_house_price/lib/python3.9/site-packages/sklearn/preprocessing/_data.py\u001b[0m in \u001b[0;36mfit\u001b[0;34m(self, X, y, sample_weight)\u001b[0m\n\u001b[1;32m    728\u001b[0m         \u001b[0;31m# Reset internal state before fitting\u001b[0m\u001b[0;34m\u001b[0m\u001b[0;34m\u001b[0m\u001b[0;34m\u001b[0m\u001b[0m\n\u001b[1;32m    729\u001b[0m         \u001b[0mself\u001b[0m\u001b[0;34m.\u001b[0m\u001b[0m_reset\u001b[0m\u001b[0;34m(\u001b[0m\u001b[0;34m)\u001b[0m\u001b[0;34m\u001b[0m\u001b[0;34m\u001b[0m\u001b[0m\n\u001b[0;32m--> 730\u001b[0;31m         \u001b[0;32mreturn\u001b[0m \u001b[0mself\u001b[0m\u001b[0;34m.\u001b[0m\u001b[0mpartial_fit\u001b[0m\u001b[0;34m(\u001b[0m\u001b[0mX\u001b[0m\u001b[0;34m,\u001b[0m \u001b[0my\u001b[0m\u001b[0;34m,\u001b[0m \u001b[0msample_weight\u001b[0m\u001b[0;34m)\u001b[0m\u001b[0;34m\u001b[0m\u001b[0;34m\u001b[0m\u001b[0m\n\u001b[0m\u001b[1;32m    731\u001b[0m \u001b[0;34m\u001b[0m\u001b[0m\n\u001b[1;32m    732\u001b[0m     \u001b[0;32mdef\u001b[0m \u001b[0mpartial_fit\u001b[0m\u001b[0;34m(\u001b[0m\u001b[0mself\u001b[0m\u001b[0;34m,\u001b[0m \u001b[0mX\u001b[0m\u001b[0;34m,\u001b[0m \u001b[0my\u001b[0m\u001b[0;34m=\u001b[0m\u001b[0;32mNone\u001b[0m\u001b[0;34m,\u001b[0m \u001b[0msample_weight\u001b[0m\u001b[0;34m=\u001b[0m\u001b[0;32mNone\u001b[0m\u001b[0;34m)\u001b[0m\u001b[0;34m:\u001b[0m\u001b[0;34m\u001b[0m\u001b[0;34m\u001b[0m\u001b[0m\n",
      "\u001b[0;32m~/Desktop/Kaggle_house_price/lib/python3.9/site-packages/sklearn/preprocessing/_data.py\u001b[0m in \u001b[0;36mpartial_fit\u001b[0;34m(self, X, y, sample_weight)\u001b[0m\n\u001b[1;32m    764\u001b[0m         \"\"\"\n\u001b[1;32m    765\u001b[0m         \u001b[0mfirst_call\u001b[0m \u001b[0;34m=\u001b[0m \u001b[0;32mnot\u001b[0m \u001b[0mhasattr\u001b[0m\u001b[0;34m(\u001b[0m\u001b[0mself\u001b[0m\u001b[0;34m,\u001b[0m \u001b[0;34m\"n_samples_seen_\"\u001b[0m\u001b[0;34m)\u001b[0m\u001b[0;34m\u001b[0m\u001b[0;34m\u001b[0m\u001b[0m\n\u001b[0;32m--> 766\u001b[0;31m         X = self._validate_data(X, accept_sparse=('csr', 'csc'),\n\u001b[0m\u001b[1;32m    767\u001b[0m                                 \u001b[0mestimator\u001b[0m\u001b[0;34m=\u001b[0m\u001b[0mself\u001b[0m\u001b[0;34m,\u001b[0m \u001b[0mdtype\u001b[0m\u001b[0;34m=\u001b[0m\u001b[0mFLOAT_DTYPES\u001b[0m\u001b[0;34m,\u001b[0m\u001b[0;34m\u001b[0m\u001b[0;34m\u001b[0m\u001b[0m\n\u001b[1;32m    768\u001b[0m                                 force_all_finite='allow-nan', reset=first_call)\n",
      "\u001b[0;32m~/Desktop/Kaggle_house_price/lib/python3.9/site-packages/sklearn/base.py\u001b[0m in \u001b[0;36m_validate_data\u001b[0;34m(self, X, y, reset, validate_separately, **check_params)\u001b[0m\n\u001b[1;32m    419\u001b[0m             \u001b[0mout\u001b[0m \u001b[0;34m=\u001b[0m \u001b[0mX\u001b[0m\u001b[0;34m\u001b[0m\u001b[0;34m\u001b[0m\u001b[0m\n\u001b[1;32m    420\u001b[0m         \u001b[0;32melif\u001b[0m \u001b[0misinstance\u001b[0m\u001b[0;34m(\u001b[0m\u001b[0my\u001b[0m\u001b[0;34m,\u001b[0m \u001b[0mstr\u001b[0m\u001b[0;34m)\u001b[0m \u001b[0;32mand\u001b[0m \u001b[0my\u001b[0m \u001b[0;34m==\u001b[0m \u001b[0;34m'no_validation'\u001b[0m\u001b[0;34m:\u001b[0m\u001b[0;34m\u001b[0m\u001b[0;34m\u001b[0m\u001b[0m\n\u001b[0;32m--> 421\u001b[0;31m             \u001b[0mX\u001b[0m \u001b[0;34m=\u001b[0m \u001b[0mcheck_array\u001b[0m\u001b[0;34m(\u001b[0m\u001b[0mX\u001b[0m\u001b[0;34m,\u001b[0m \u001b[0;34m**\u001b[0m\u001b[0mcheck_params\u001b[0m\u001b[0;34m)\u001b[0m\u001b[0;34m\u001b[0m\u001b[0;34m\u001b[0m\u001b[0m\n\u001b[0m\u001b[1;32m    422\u001b[0m             \u001b[0mout\u001b[0m \u001b[0;34m=\u001b[0m \u001b[0mX\u001b[0m\u001b[0;34m\u001b[0m\u001b[0;34m\u001b[0m\u001b[0m\n\u001b[1;32m    423\u001b[0m         \u001b[0;32melse\u001b[0m\u001b[0;34m:\u001b[0m\u001b[0;34m\u001b[0m\u001b[0;34m\u001b[0m\u001b[0m\n",
      "\u001b[0;32m~/Desktop/Kaggle_house_price/lib/python3.9/site-packages/sklearn/utils/validation.py\u001b[0m in \u001b[0;36minner_f\u001b[0;34m(*args, **kwargs)\u001b[0m\n\u001b[1;32m     61\u001b[0m             \u001b[0mextra_args\u001b[0m \u001b[0;34m=\u001b[0m \u001b[0mlen\u001b[0m\u001b[0;34m(\u001b[0m\u001b[0margs\u001b[0m\u001b[0;34m)\u001b[0m \u001b[0;34m-\u001b[0m \u001b[0mlen\u001b[0m\u001b[0;34m(\u001b[0m\u001b[0mall_args\u001b[0m\u001b[0;34m)\u001b[0m\u001b[0;34m\u001b[0m\u001b[0;34m\u001b[0m\u001b[0m\n\u001b[1;32m     62\u001b[0m             \u001b[0;32mif\u001b[0m \u001b[0mextra_args\u001b[0m \u001b[0;34m<=\u001b[0m \u001b[0;36m0\u001b[0m\u001b[0;34m:\u001b[0m\u001b[0;34m\u001b[0m\u001b[0;34m\u001b[0m\u001b[0m\n\u001b[0;32m---> 63\u001b[0;31m                 \u001b[0;32mreturn\u001b[0m \u001b[0mf\u001b[0m\u001b[0;34m(\u001b[0m\u001b[0;34m*\u001b[0m\u001b[0margs\u001b[0m\u001b[0;34m,\u001b[0m \u001b[0;34m**\u001b[0m\u001b[0mkwargs\u001b[0m\u001b[0;34m)\u001b[0m\u001b[0;34m\u001b[0m\u001b[0;34m\u001b[0m\u001b[0m\n\u001b[0m\u001b[1;32m     64\u001b[0m \u001b[0;34m\u001b[0m\u001b[0m\n\u001b[1;32m     65\u001b[0m             \u001b[0;31m# extra_args > 0\u001b[0m\u001b[0;34m\u001b[0m\u001b[0;34m\u001b[0m\u001b[0;34m\u001b[0m\u001b[0m\n",
      "\u001b[0;32m~/Desktop/Kaggle_house_price/lib/python3.9/site-packages/sklearn/utils/validation.py\u001b[0m in \u001b[0;36mcheck_array\u001b[0;34m(array, accept_sparse, accept_large_sparse, dtype, order, copy, force_all_finite, ensure_2d, allow_nd, ensure_min_samples, ensure_min_features, estimator)\u001b[0m\n\u001b[1;32m    718\u001b[0m \u001b[0;34m\u001b[0m\u001b[0m\n\u001b[1;32m    719\u001b[0m         \u001b[0;32mif\u001b[0m \u001b[0mforce_all_finite\u001b[0m\u001b[0;34m:\u001b[0m\u001b[0;34m\u001b[0m\u001b[0;34m\u001b[0m\u001b[0m\n\u001b[0;32m--> 720\u001b[0;31m             _assert_all_finite(array,\n\u001b[0m\u001b[1;32m    721\u001b[0m                                allow_nan=force_all_finite == 'allow-nan')\n\u001b[1;32m    722\u001b[0m \u001b[0;34m\u001b[0m\u001b[0m\n",
      "\u001b[0;32m~/Desktop/Kaggle_house_price/lib/python3.9/site-packages/sklearn/utils/validation.py\u001b[0m in \u001b[0;36m_assert_all_finite\u001b[0;34m(X, allow_nan, msg_dtype)\u001b[0m\n\u001b[1;32m    101\u001b[0m                 not allow_nan and not np.isfinite(X).all()):\n\u001b[1;32m    102\u001b[0m             \u001b[0mtype_err\u001b[0m \u001b[0;34m=\u001b[0m \u001b[0;34m'infinity'\u001b[0m \u001b[0;32mif\u001b[0m \u001b[0mallow_nan\u001b[0m \u001b[0;32melse\u001b[0m \u001b[0;34m'NaN, infinity'\u001b[0m\u001b[0;34m\u001b[0m\u001b[0;34m\u001b[0m\u001b[0m\n\u001b[0;32m--> 103\u001b[0;31m             raise ValueError(\n\u001b[0m\u001b[1;32m    104\u001b[0m                     \u001b[0mmsg_err\u001b[0m\u001b[0;34m.\u001b[0m\u001b[0mformat\u001b[0m\u001b[0;34m\u001b[0m\u001b[0;34m\u001b[0m\u001b[0m\n\u001b[1;32m    105\u001b[0m                     (type_err,\n",
      "\u001b[0;31mValueError\u001b[0m: Input contains infinity or a value too large for dtype('float64')."
     ]
    }
   ],
   "source": [
    "# Standardize numerical features\n",
    "stdSc = StandardScaler()\n",
    "X_train = pd.DataFrame(stdSc.fit_transform(X_train), columns=X_train.columns, index=X_train.index)\n",
    "X_test = pd.DataFrame(stdSc.transform(X_test), columns=X_test.columns, index=X_test.index)"
   ]
  },
  {
   "cell_type": "code",
   "execution_count": null,
   "id": "eb05fdf4",
   "metadata": {},
   "outputs": [],
   "source": [
    "X_train.head()"
   ]
  },
  {
   "cell_type": "code",
   "execution_count": null,
   "id": "d5fef05b",
   "metadata": {},
   "outputs": [],
   "source": [
    "X_test.head()"
   ]
  },
  {
   "cell_type": "code",
   "execution_count": null,
   "id": "9de93738",
   "metadata": {},
   "outputs": [],
   "source": [
    "scorer = make_scorer(mean_squared_error, greater_is_better = False)\n",
    "\n",
    "def rmse_cv_train(model):\n",
    "    rmse= np.sqrt(-cross_val_score(model, X_train, y_train, scoring = scorer, cv = 10))\n",
    "    return(rmse)\n",
    "\n",
    "def rmse_cv_test(model):\n",
    "    rmse= np.sqrt(-cross_val_score(model, X_test, y_test, scoring = scorer, cv = 10))\n",
    "    return(rmse)"
   ]
  },
  {
   "cell_type": "code",
   "execution_count": null,
   "id": "430ad434",
   "metadata": {},
   "outputs": [],
   "source": []
  },
  {
   "cell_type": "code",
   "execution_count": null,
   "id": "04f78789",
   "metadata": {},
   "outputs": [],
   "source": [
    "# 4* ElasticNet\n",
    "elasticNet = ElasticNetCV(l1_ratio = [0.1, 0.3, 0.5, 0.6, 0.7, 0.8, 0.85, 0.9, 0.95, 1],\n",
    "                          alphas = [0.0001, 0.0003, 0.0006, 0.001, 0.003, 0.006, \n",
    "                                    0.01, 0.03, 0.06, 0.1, 0.3, 0.6, 1, 3, 6], \n",
    "                          max_iter = 50000, cv = 10)"
   ]
  },
  {
   "cell_type": "code",
   "execution_count": null,
   "id": "6e865522",
   "metadata": {},
   "outputs": [],
   "source": [
    "elasticNet.fit(X_train, y_train)\n",
    "alpha = elasticNet.alpha_\n",
    "ratio = elasticNet.l1_ratio_\n",
    "print(\"Best l1_ratio :\", ratio)\n",
    "print(\"Best alpha :\", alpha )"
   ]
  },
  {
   "cell_type": "code",
   "execution_count": null,
   "id": "2d9dd9c9",
   "metadata": {},
   "outputs": [],
   "source": [
    "print(\"Try again for more precision with l1_ratio centered around \" + str(ratio))\n",
    "elasticNet = ElasticNetCV(l1_ratio = [ratio * .85, ratio * .9, ratio * .95, ratio, ratio * 1.05, ratio * 1.1, ratio * 1.15],\n",
    "                          alphas = [0.0001, 0.0003, 0.0006, 0.001, 0.003, 0.006, 0.01, 0.03, 0.06, 0.1, 0.3, 0.6, 1, 3, 6], \n",
    "                          max_iter = 50000, cv = 10)"
   ]
  },
  {
   "cell_type": "code",
   "execution_count": null,
   "id": "bc57bc33",
   "metadata": {},
   "outputs": [],
   "source": [
    "elasticNet.fit(X_train, y_train)\n",
    "if (elasticNet.l1_ratio_ > 1):\n",
    "    elasticNet.l1_ratio_ = 1    \n",
    "alpha = elasticNet.alpha_\n",
    "ratio = elasticNet.l1_ratio_\n",
    "print(\"Best l1_ratio :\", ratio)\n",
    "print(\"Best alpha :\", alpha )"
   ]
  },
  {
   "cell_type": "code",
   "execution_count": null,
   "id": "88d96b86",
   "metadata": {},
   "outputs": [],
   "source": [
    "print(\"Now try again for more precision on alpha, with l1_ratio fixed at \" + str(ratio) + \n",
    "      \" and alpha centered around \" + str(alpha))\n",
    "elasticNet = ElasticNetCV(l1_ratio = ratio,\n",
    "                          alphas = [alpha * .6, alpha * .65, alpha * .7, alpha * .75, alpha * .8, alpha * .85, alpha * .9, \n",
    "                                    alpha * .95, alpha, alpha * 1.05, alpha * 1.1, alpha * 1.15, alpha * 1.25, alpha * 1.3, \n",
    "                                    alpha * 1.35, alpha * 1.4], \n",
    "                          max_iter = 50000, cv = 10)\n",
    "elasticNet.fit(X_train, y_train)\n",
    "if (elasticNet.l1_ratio_ > 1):\n",
    "    elasticNet.l1_ratio_ = 1    \n",
    "alpha = elasticNet.alpha_\n",
    "ratio = elasticNet.l1_ratio_\n",
    "print(\"Best l1_ratio :\", ratio)\n",
    "print(\"Best alpha :\", alpha )"
   ]
  },
  {
   "cell_type": "code",
   "execution_count": null,
   "id": "60526622",
   "metadata": {},
   "outputs": [],
   "source": [
    "print(\"ElasticNet RMSE on Training set :\", rmse_cv_train(elasticNet).mean())\n",
    "print(\"ElasticNet RMSE on Test set :\", rmse_cv_test(elasticNet).mean())\n",
    "y_train_ela = elasticNet.predict(X_train)\n",
    "y_test_ela = elasticNet.predict(X_test)\n",
    "\n",
    "# Plot residuals\n",
    "plt.scatter(y_train_ela, y_train_ela - y_train, c = \"blue\", marker = \"s\", label = \"Training data\")\n",
    "plt.scatter(y_test_ela, y_test_ela - y_test, c = \"lightgreen\", marker = \"s\", label = \"Validation data\")\n",
    "plt.title(\"Linear regression with ElasticNet regularization\")\n",
    "plt.xlabel(\"Predicted values\")\n",
    "plt.ylabel(\"Residuals\")\n",
    "plt.legend(loc = \"upper left\")\n",
    "plt.hlines(y = 0, xmin = 10.5, xmax = 13.5, color = \"red\")\n",
    "plt.show()\n",
    "\n",
    "# Plot predictions\n",
    "plt.scatter(y_train, y_train_ela, c = \"blue\", marker = \"s\", label = \"Training data\")\n",
    "plt.scatter(y_test, y_test_ela, c = \"lightgreen\", marker = \"s\", label = \"Validation data\")\n",
    "plt.title(\"Linear regression with ElasticNet regularization\")\n",
    "plt.xlabel(\"Predicted values\")\n",
    "plt.ylabel(\"Real values\")\n",
    "plt.legend(loc = \"upper left\")\n",
    "plt.plot([10.5, 13.5], [10.5, 13.5], c = \"red\")\n",
    "plt.show()\n",
    "\n",
    "# Plot important coefficients\n",
    "coefs = pd.Series(elasticNet.coef_, index = X_train.columns)\n",
    "print(\"ElasticNet picked \" + str(sum(coefs != 0)) + \" features and eliminated the other \" +  str(sum(coefs == 0)) + \" features\")\n",
    "imp_coefs = pd.concat([coefs.sort_values().head(10),\n",
    "                     coefs.sort_values().tail(10)])\n",
    "imp_coefs.plot(kind = \"barh\")\n",
    "plt.title(\"Coefficients in the ElasticNet Model\")\n",
    "plt.show()"
   ]
  },
  {
   "cell_type": "code",
   "execution_count": null,
   "id": "3e567388",
   "metadata": {},
   "outputs": [],
   "source": [
    "test_pred = elasticNet.predict(test)\n",
    "test_pred = np.expm1(test_pred)\n",
    "submission = pd.concat([pd.read_csv('test.csv').Id, pd.DataFrame(test_pred, columns=['SalePrice'])], axis=1)\n",
    "submission.head()\n"
   ]
  },
  {
   "cell_type": "code",
   "execution_count": null,
   "id": "07365875",
   "metadata": {},
   "outputs": [],
   "source": [
    "submission.to_csv('Aug16_v3.csv',index=False)"
   ]
  },
  {
   "cell_type": "code",
   "execution_count": null,
   "id": "56b76ab2",
   "metadata": {},
   "outputs": [],
   "source": []
  },
  {
   "cell_type": "code",
   "execution_count": null,
   "id": "3db932ae",
   "metadata": {},
   "outputs": [],
   "source": []
  }
 ],
 "metadata": {
  "kernelspec": {
   "display_name": "Python 3 (ipykernel)",
   "language": "python",
   "name": "python3"
  },
  "language_info": {
   "codemirror_mode": {
    "name": "ipython",
    "version": 3
   },
   "file_extension": ".py",
   "mimetype": "text/x-python",
   "name": "python",
   "nbconvert_exporter": "python",
   "pygments_lexer": "ipython3",
   "version": "3.9.6"
  }
 },
 "nbformat": 4,
 "nbformat_minor": 5
}
