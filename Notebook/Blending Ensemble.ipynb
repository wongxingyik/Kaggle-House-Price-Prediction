{
 "cells": [
  {
   "cell_type": "code",
   "execution_count": 1,
   "id": "38c569c0",
   "metadata": {},
   "outputs": [],
   "source": [
    "import numpy as np\n",
    "import pandas as pd\n",
    "import matplotlib.pyplot as plt\n",
    "plt.style.use('seaborn')\n",
    "%matplotlib inline"
   ]
  },
  {
   "cell_type": "code",
   "execution_count": 2,
   "id": "1cb292f5",
   "metadata": {},
   "outputs": [],
   "source": [
    "from sklearn.preprocessing import StandardScaler\n",
    "from sklearn.metrics import make_scorer, mean_squared_error\n",
    "from sklearn.model_selection import train_test_split, cross_val_score\n",
    "from sklearn.linear_model import ElasticNet, LinearRegression, Lasso,Ridge\n",
    "from sklearn.linear_model import ElasticNetCV, LassoCV\n",
    "from sklearn.svm import SVR\n",
    "from sklearn.neighbors import KNeighborsRegressor\n",
    "from xgboost import XGBRegressor\n",
    "from lightgbm import LGBMRegressor\n",
    "from sklearn.ensemble import StackingRegressor, RandomForestRegressor"
   ]
  },
  {
   "cell_type": "code",
   "execution_count": 3,
   "id": "aa504f2b",
   "metadata": {},
   "outputs": [],
   "source": [
    "from numpy import hstack"
   ]
  },
  {
   "cell_type": "markdown",
   "id": "2eb1e53c",
   "metadata": {},
   "source": [
    "## Import Data "
   ]
  },
  {
   "cell_type": "code",
   "execution_count": 4,
   "id": "c77dc0a0",
   "metadata": {},
   "outputs": [],
   "source": [
    "train = pd.read_csv('train_v2.csv')\n",
    "test = pd.read_csv('test_v2.csv')"
   ]
  },
  {
   "cell_type": "code",
   "execution_count": 5,
   "id": "06fc0d2b",
   "metadata": {},
   "outputs": [],
   "source": [
    "y = train.SalePrice\n",
    "train = train.drop(columns=['Id', 'SalePrice'])"
   ]
  },
  {
   "cell_type": "code",
   "execution_count": 6,
   "id": "b234a83e",
   "metadata": {},
   "outputs": [
    {
     "name": "stdout",
     "output_type": "stream",
     "text": [
      "Train shape: (1451, 335)\n",
      "Test shape: (1459, 335)\n"
     ]
    }
   ],
   "source": [
    "print(f'Train shape: {train.shape}')\n",
    "print(f'Test shape: {test.shape}')"
   ]
  },
  {
   "cell_type": "code",
   "execution_count": 7,
   "id": "d08d4a0b",
   "metadata": {},
   "outputs": [
    {
     "name": "stdout",
     "output_type": "stream",
     "text": [
      "X_train : (1015, 335)\n",
      "X_test : (436, 335)\n",
      "y_train : (1015,)\n",
      "y_test : (436,)\n"
     ]
    }
   ],
   "source": [
    "X_train, X_val, y_train, y_val = train_test_split(train, y, test_size = 0.30, random_state=0)\n",
    "print(f'X_train : {X_train.shape}')\n",
    "print(f'X_test : {X_val.shape}')\n",
    "print(f'y_train : {y_train.shape}')\n",
    "print(f'y_test : {y_val.shape}')"
   ]
  },
  {
   "cell_type": "code",
   "execution_count": 8,
   "id": "dec6fb1b",
   "metadata": {},
   "outputs": [],
   "source": [
    "stdSc = StandardScaler()\n",
    "X_train = pd.DataFrame(stdSc.fit_transform(X_train), columns=X_train.columns, index=X_train.index)\n",
    "X_val = pd.DataFrame(stdSc.transform(X_val), columns=X_val.columns, index=X_val.index)"
   ]
  },
  {
   "cell_type": "code",
   "execution_count": 9,
   "id": "3a398f3a",
   "metadata": {},
   "outputs": [],
   "source": [
    "scorer = make_scorer(mean_squared_error, greater_is_better=False)\n",
    "\n",
    "def rmse_train(model):\n",
    "    r = np.sqrt(-cross_val_score(model, X_train, y_train, scoring = scorer, cv = 10))\n",
    "    return(r)\n",
    "    \n",
    "def rmse_val(model):\n",
    "    r = np.sqrt(-cross_val_score(model, X_val, y_val, scoring = scorer, cv = 10))\n",
    "    return(r)"
   ]
  },
  {
   "cell_type": "code",
   "execution_count": 16,
   "id": "57d453ce",
   "metadata": {},
   "outputs": [],
   "source": [
    "def get_models():\n",
    "    models = list()\n",
    "    models.append(('elasticNet', ElasticNet(l1_ratio=0.3, alpha=0.01, max_iter=300000, tol=1e-9)))\n",
    "    models.append(('lasso', Lasso(alpha=0.003, max_iter=400000, tol=1e-9)))\n",
    "    models.append(('Ridge', Ridge(alpha=300, tol=1e-9)))\n",
    "#     models.append(('knr', KNeighborsRegressor()))\n",
    "#     models.append(('xgb', XGBRegressor(n_estimators=150, eta=0.1, min_child_weight=10)))\n",
    "#     models.append(('svr', SVR(kernel='poly', degree=1, C=0.1, coef0=3, max_iter=100000)))\n",
    "#     models.append(('elasticNetCV', ElasticNetCV(l1_ratio=[0.001,0.003,0.01,0.03,0.1,0.3, 1,3],\n",
    "#                                                 alphas=[0.001,0.003,0.01,0.03,0.1,0.3, 1,3],\n",
    "#                                                 max_iter=200000,\n",
    "#                                                 cv=10,\n",
    "#                                                 tol=0.000001)))\n",
    "#     models.append(('lassoCV', LassoCV(alphas=[0.001,0.003,0.01,0.03,0.1,0.3, 1,3],\n",
    "#                                       max_iter=100000,\n",
    "#                                       cv=10,tol=0.000001)))\n",
    "    models.append(('xgboost', XGBRegressor(n_estimators=1000,\n",
    "                                             objective='reg:squarederror',\n",
    "                                             max_depth=5,\n",
    "                                             nthread=-1,\n",
    "                                             eta=0.1, \n",
    "                                             subsample=0.5,\n",
    "                                             colsample_bytree=0.7,\n",
    "                                             min_child_weight=0,\n",
    "                                             reg_lambda=0.01,\n",
    "                                             reg_alpha=0.01\n",
    "                                            )))\n",
    "    models.append(('lightbgm', LGBMRegressor(boosting_type='goss',\n",
    "                                              objective='regression',\n",
    "                                              learning_rate=0.1,\n",
    "                                              n_estimators=1000,\n",
    "                                              colsample_bytree=0.5,\n",
    "                                              feature_fraction=0.7,\n",
    "                                              feature_fraction_bynode=0.7,\n",
    "                                              feature_fraction_seed=np.random.randint(10),\n",
    "                                              num_leaves=10,\n",
    "                                              lambda_l1=0.01,\n",
    "                                              lambda_l2=0.1\n",
    "                                             )))\n",
    "    return models"
   ]
  },
  {
   "cell_type": "code",
   "execution_count": 11,
   "id": "0667fad4",
   "metadata": {},
   "outputs": [],
   "source": [
    "def fit_ensemble(models, X_train, X_val, y_train, y_val):\n",
    "    # fit all models on the training set and predict on hold out set\n",
    "    meta_X = list()\n",
    "    for _, model in models:\n",
    "        # fit in training set\n",
    "        print(model)\n",
    "        model.fit(X_train, y_train)\n",
    "        # predict on hold out set\n",
    "        yhat = model.predict(X_val)\n",
    "        # reshape predictions into a matrix with one column\n",
    "        yhat = yhat.reshape(len(yhat), 1)\n",
    "        # store predictions as input for blending\n",
    "        meta_X.append(yhat)\n",
    "    # create 2d array from predictions, each set is an input feature\n",
    "    meta_X = hstack(meta_X)\n",
    "    # define blending model\n",
    "    blender =  StackingRegressor(estimators=models,\n",
    "                                   final_estimator=RandomForestRegressor(bootstrap=True,\n",
    "                                                                        random_state=1,\n",
    "                                                                        min_samples_leaf=5,\n",
    "                                                                        min_samples_split=2,  \n",
    "                                                                        max_depth=15,\n",
    "                                                                        max_features='sqrt',\n",
    "                                                                        ),\n",
    "                                    cv=10)\n",
    "    # fit on predictions from base models\n",
    "    blender.fit(meta_X, y_val)\n",
    "    return blender"
   ]
  },
  {
   "cell_type": "code",
   "execution_count": 12,
   "id": "6e9803ae",
   "metadata": {},
   "outputs": [],
   "source": [
    "# make a prediction with the blending ensemble\n",
    "def predict_ensemble(models, blender, X, y):\n",
    "    # make predictions with base models\n",
    "    meta_X = list()\n",
    "    for _, model in models:\n",
    "        # predict with base model\n",
    "        yhat = model.predict(X)\n",
    "        # reshape predictions into a matrix with one column\n",
    "        yhat = yhat.reshape(len(yhat), 1)\n",
    "        # store prediction\n",
    "        meta_X.append(yhat)\n",
    "    # create 2d array from predictions, each set is an input feature\n",
    "    meta_X = hstack(meta_X)\n",
    "    \n",
    "    print(f'Model: Blender, StackRegressor')\n",
    "    yhat = blender.predict(meta_X)\n",
    "    print(f'Stack Gen RMSE: {mean_squared_error(y, yhat, squared=False)}')\n",
    "    \n",
    "    stack_gen = blender.predict(meta_X)\n",
    "    stack_gen = np.reshape(stack_gen, (-1,1))\n",
    "    \n",
    "    meta_X = np.concatenate((meta_X, stack_gen), axis=1)\n",
    "    coeff = np.array([0.15,0.15,0.15,0.15,0.15,0.25])\n",
    "    predict = meta_X * coeff\n",
    "    predict = np.sum(predict, axis=1)\n",
    "    # predict\n",
    "#     return blender.predict(meta_X)\n",
    "    return predict"
   ]
  },
  {
   "cell_type": "code",
   "execution_count": 17,
   "id": "88fa1f6d",
   "metadata": {},
   "outputs": [
    {
     "name": "stdout",
     "output_type": "stream",
     "text": [
      "ElasticNet(alpha=0.01, l1_ratio=0.3, max_iter=300000, tol=1e-09)\n",
      "Lasso(alpha=0.003, max_iter=400000, tol=1e-09)\n",
      "Ridge(alpha=300, tol=1e-09)\n",
      "XGBRegressor(base_score=None, booster=None, colsample_bylevel=None,\n",
      "             colsample_bynode=None, colsample_bytree=0.7, eta=0.1, gamma=None,\n",
      "             gpu_id=None, importance_type='gain', interaction_constraints=None,\n",
      "             learning_rate=None, max_delta_step=None, max_depth=5,\n",
      "             min_child_weight=0, missing=nan, monotone_constraints=None,\n",
      "             n_estimators=1000, n_jobs=None, nthread=-1, num_parallel_tree=None,\n",
      "             random_state=None, reg_alpha=0.01, reg_lambda=0.01,\n",
      "             scale_pos_weight=None, subsample=0.5, tree_method=None,\n",
      "             validate_parameters=None, verbosity=None)\n",
      "LGBMRegressor(boosting_type='goss', colsample_bytree=0.5, feature_fraction=0.7,\n",
      "              feature_fraction_bynode=0.7, feature_fraction_seed=6,\n",
      "              lambda_l1=0.01, lambda_l2=0.1, n_estimators=1000, num_leaves=10,\n",
      "              objective='regression')\n",
      "[LightGBM] [Warning] feature_fraction is set=0.7, colsample_bytree=0.5 will be ignored. Current value: feature_fraction=0.7\n",
      "[LightGBM] [Warning] lambda_l2 is set=0.1, reg_lambda=0.0 will be ignored. Current value: lambda_l2=0.1\n",
      "[LightGBM] [Warning] lambda_l1 is set=0.01, reg_alpha=0.0 will be ignored. Current value: lambda_l1=0.01\n",
      "[LightGBM] [Warning] feature_fraction is set=0.7, colsample_bytree=0.5 will be ignored. Current value: feature_fraction=0.7\n",
      "[LightGBM] [Warning] lambda_l2 is set=0.1, reg_lambda=0.0 will be ignored. Current value: lambda_l2=0.1\n",
      "[LightGBM] [Warning] lambda_l1 is set=0.01, reg_alpha=0.0 will be ignored. Current value: lambda_l1=0.01\n",
      "[LightGBM] [Warning] feature_fraction is set=0.7, colsample_bytree=0.5 will be ignored. Current value: feature_fraction=0.7\n",
      "[LightGBM] [Warning] lambda_l2 is set=0.1, reg_lambda=0.0 will be ignored. Current value: lambda_l2=0.1\n",
      "[LightGBM] [Warning] lambda_l1 is set=0.01, reg_alpha=0.0 will be ignored. Current value: lambda_l1=0.01\n",
      "[LightGBM] [Warning] feature_fraction is set=0.7, colsample_bytree=0.5 will be ignored. Current value: feature_fraction=0.7\n",
      "[LightGBM] [Warning] lambda_l2 is set=0.1, reg_lambda=0.0 will be ignored. Current value: lambda_l2=0.1\n",
      "[LightGBM] [Warning] lambda_l1 is set=0.01, reg_alpha=0.0 will be ignored. Current value: lambda_l1=0.01\n",
      "[LightGBM] [Warning] feature_fraction is set=0.7, colsample_bytree=0.5 will be ignored. Current value: feature_fraction=0.7\n",
      "[LightGBM] [Warning] lambda_l2 is set=0.1, reg_lambda=0.0 will be ignored. Current value: lambda_l2=0.1\n",
      "[LightGBM] [Warning] lambda_l1 is set=0.01, reg_alpha=0.0 will be ignored. Current value: lambda_l1=0.01\n",
      "[LightGBM] [Warning] feature_fraction is set=0.7, colsample_bytree=0.5 will be ignored. Current value: feature_fraction=0.7\n",
      "[LightGBM] [Warning] lambda_l2 is set=0.1, reg_lambda=0.0 will be ignored. Current value: lambda_l2=0.1\n",
      "[LightGBM] [Warning] lambda_l1 is set=0.01, reg_alpha=0.0 will be ignored. Current value: lambda_l1=0.01\n",
      "[LightGBM] [Warning] feature_fraction is set=0.7, colsample_bytree=0.5 will be ignored. Current value: feature_fraction=0.7\n",
      "[LightGBM] [Warning] lambda_l2 is set=0.1, reg_lambda=0.0 will be ignored. Current value: lambda_l2=0.1\n",
      "[LightGBM] [Warning] lambda_l1 is set=0.01, reg_alpha=0.0 will be ignored. Current value: lambda_l1=0.01\n",
      "[LightGBM] [Warning] feature_fraction is set=0.7, colsample_bytree=0.5 will be ignored. Current value: feature_fraction=0.7\n",
      "[LightGBM] [Warning] lambda_l2 is set=0.1, reg_lambda=0.0 will be ignored. Current value: lambda_l2=0.1\n",
      "[LightGBM] [Warning] lambda_l1 is set=0.01, reg_alpha=0.0 will be ignored. Current value: lambda_l1=0.01\n",
      "[LightGBM] [Warning] feature_fraction is set=0.7, colsample_bytree=0.5 will be ignored. Current value: feature_fraction=0.7\n",
      "[LightGBM] [Warning] lambda_l2 is set=0.1, reg_lambda=0.0 will be ignored. Current value: lambda_l2=0.1\n",
      "[LightGBM] [Warning] lambda_l1 is set=0.01, reg_alpha=0.0 will be ignored. Current value: lambda_l1=0.01\n",
      "[LightGBM] [Warning] feature_fraction is set=0.7, colsample_bytree=0.5 will be ignored. Current value: feature_fraction=0.7\n",
      "[LightGBM] [Warning] lambda_l2 is set=0.1, reg_lambda=0.0 will be ignored. Current value: lambda_l2=0.1\n",
      "[LightGBM] [Warning] lambda_l1 is set=0.01, reg_alpha=0.0 will be ignored. Current value: lambda_l1=0.01\n",
      "[LightGBM] [Warning] feature_fraction is set=0.7, colsample_bytree=0.5 will be ignored. Current value: feature_fraction=0.7\n",
      "[LightGBM] [Warning] lambda_l2 is set=0.1, reg_lambda=0.0 will be ignored. Current value: lambda_l2=0.1\n",
      "[LightGBM] [Warning] lambda_l1 is set=0.01, reg_alpha=0.0 will be ignored. Current value: lambda_l1=0.01\n"
     ]
    }
   ],
   "source": [
    "# create the base models\n",
    "models = get_models()\n",
    "# train the blending ensemble\n",
    "blender = fit_ensemble(models, X_train, X_val, y_train, y_val)"
   ]
  },
  {
   "cell_type": "code",
   "execution_count": 18,
   "id": "b5c74111",
   "metadata": {},
   "outputs": [
    {
     "name": "stdout",
     "output_type": "stream",
     "text": [
      "Model: elasticNet\n",
      "Train rmse: 0.09194476768336686\n",
      "Val rmse: 0.10326579327091416\n",
      "-------------------------------\n",
      "Model: lasso\n",
      "Train rmse: 0.09191378018721592\n",
      "Val rmse: 0.1036235152449364\n",
      "-------------------------------\n",
      "Model: Ridge\n",
      "Train rmse: 0.08886586208671236\n",
      "Val rmse: 0.10661316733953716\n",
      "-------------------------------\n",
      "Model: xgboost\n",
      "Train rmse: 0.0011188035439923024\n",
      "Val rmse: 0.11692198025662312\n",
      "-------------------------------\n",
      "[LightGBM] [Warning] feature_fraction is set=0.7, colsample_bytree=0.5 will be ignored. Current value: feature_fraction=0.7\n",
      "[LightGBM] [Warning] lambda_l2 is set=0.1, reg_lambda=0.0 will be ignored. Current value: lambda_l2=0.1\n",
      "[LightGBM] [Warning] lambda_l1 is set=0.01, reg_alpha=0.0 will be ignored. Current value: lambda_l1=0.01\n",
      "Model: lightbgm\n",
      "Train rmse: 0.01497783809459202\n",
      "Val rmse: 0.12114754103279138\n",
      "-------------------------------\n"
     ]
    }
   ],
   "source": [
    "for name, model in models:\n",
    "    # fit the model on the training dataset\n",
    "    model.fit(X_train, y_train)\n",
    "    # make a prediction on the test dataset\n",
    "    print(f'Model: {name}')\n",
    "    yhat_train = model.predict(X_train)\n",
    "    yhat_val = model.predict(X_val)\n",
    "    print(f'Train rmse: {mean_squared_error(y_train, yhat_train, squared=False)}')\n",
    "    print(f'Val rmse: {mean_squared_error(y_val, yhat_val, squared=False)}')\n",
    "    print('-------------------------------')\n",
    "    # evaluate the predictions"
   ]
  },
  {
   "cell_type": "code",
   "execution_count": null,
   "id": "6aea9e67",
   "metadata": {},
   "outputs": [],
   "source": []
  },
  {
   "cell_type": "code",
   "execution_count": 19,
   "id": "4a62d4d7",
   "metadata": {},
   "outputs": [
    {
     "name": "stdout",
     "output_type": "stream",
     "text": [
      "Training Set---------\n",
      "Model: Blender, StackRegressor\n",
      "Stack Gen RMSE: 0.07332640294370807\n",
      "Blending train rmse: 0.0583444\n",
      "\n",
      "Validation Set---------\n",
      "Model: Blender, StackRegressor\n",
      "Stack Gen RMSE: 0.09156254158733766\n",
      "Blending val rmse: 0.0984635\n"
     ]
    }
   ],
   "source": [
    "print('Training Set---------')\n",
    "yhat_train = predict_ensemble(models, blender, X_train, y_train)\n",
    "score = mean_squared_error(y_train, yhat_train, squared=False)\n",
    "print('Blending train rmse: %.7f' % score)\n",
    "\n",
    "print('\\nValidation Set---------')\n",
    "yhat_val = predict_ensemble(models, blender, X_val, y_val)\n",
    "score = mean_squared_error(y_val, yhat_val, squared=False)\n",
    "print('Blending val rmse: %.7f' % score)"
   ]
  },
  {
   "cell_type": "markdown",
   "id": "cdad28fc",
   "metadata": {},
   "source": [
    "## Submission"
   ]
  },
  {
   "cell_type": "code",
   "execution_count": 80,
   "id": "065ef73c",
   "metadata": {},
   "outputs": [],
   "source": [
    "# make a prediction with the blending ensemble\n",
    "def submission_predict(models, blender, X):\n",
    "    # make predictions with base models\n",
    "    meta_X = list()\n",
    "    for _, model in models:\n",
    "        # predict with base model\n",
    "        yhat = model.predict(X)\n",
    "        # reshape predictions into a matrix with one column\n",
    "        yhat = yhat.reshape(len(yhat), 1)\n",
    "        # store prediction\n",
    "        meta_X.append(yhat)\n",
    "    # create 2d array from predictions, each set is an input feature\n",
    "    meta_X = hstack(meta_X)\n",
    "    \n",
    "    yhat = blender.predict(meta_X)\n",
    "    yhat = np.reshape(yhat, (-1,1))\n",
    "    \n",
    "    meta_X = np.concatenate((meta_X, yhat), axis=1)\n",
    "    coeff = np.array([0.15,0.15,0.15,0.15,0.15,0.25])\n",
    "    predict = meta_X * coeff\n",
    "    predict = np.sum(predict, axis=1)\n",
    "    # predict\n",
    "#     return blender.predict(meta_X)\n",
    "    return predict"
   ]
  },
  {
   "cell_type": "code",
   "execution_count": 81,
   "id": "4454a259",
   "metadata": {},
   "outputs": [
    {
     "data": {
      "text/plain": [
       "array([11.68677344, 12.001685  , 12.09417187, ..., 11.97469046,\n",
       "       11.66828026, 12.29861061])"
      ]
     },
     "execution_count": 81,
     "metadata": {},
     "output_type": "execute_result"
    }
   ],
   "source": [
    "test = pd.read_csv('test_v2.csv')\n",
    "test = pd.DataFrame(stdSc.transform(test), columns=test.columns, index=test.index)\n",
    "prediction = submission_predict(models, blender, test)\n",
    "prediction"
   ]
  },
  {
   "cell_type": "code",
   "execution_count": 82,
   "id": "256ca8fb",
   "metadata": {},
   "outputs": [
    {
     "data": {
      "text/html": [
       "<div>\n",
       "<style scoped>\n",
       "    .dataframe tbody tr th:only-of-type {\n",
       "        vertical-align: middle;\n",
       "    }\n",
       "\n",
       "    .dataframe tbody tr th {\n",
       "        vertical-align: top;\n",
       "    }\n",
       "\n",
       "    .dataframe thead th {\n",
       "        text-align: right;\n",
       "    }\n",
       "</style>\n",
       "<table border=\"1\" class=\"dataframe\">\n",
       "  <thead>\n",
       "    <tr style=\"text-align: right;\">\n",
       "      <th></th>\n",
       "      <th>SalePrice</th>\n",
       "    </tr>\n",
       "    <tr>\n",
       "      <th>Id</th>\n",
       "      <th></th>\n",
       "    </tr>\n",
       "  </thead>\n",
       "  <tbody>\n",
       "    <tr>\n",
       "      <th>1461</th>\n",
       "      <td>118986.465744</td>\n",
       "    </tr>\n",
       "    <tr>\n",
       "      <th>1462</th>\n",
       "      <td>163028.264559</td>\n",
       "    </tr>\n",
       "    <tr>\n",
       "      <th>1463</th>\n",
       "      <td>178825.595405</td>\n",
       "    </tr>\n",
       "    <tr>\n",
       "      <th>1464</th>\n",
       "      <td>192027.316499</td>\n",
       "    </tr>\n",
       "    <tr>\n",
       "      <th>1465</th>\n",
       "      <td>179278.509608</td>\n",
       "    </tr>\n",
       "  </tbody>\n",
       "</table>\n",
       "</div>"
      ],
      "text/plain": [
       "          SalePrice\n",
       "Id                 \n",
       "1461  118986.465744\n",
       "1462  163028.264559\n",
       "1463  178825.595405\n",
       "1464  192027.316499\n",
       "1465  179278.509608"
      ]
     },
     "execution_count": 82,
     "metadata": {},
     "output_type": "execute_result"
    }
   ],
   "source": [
    "prediction = np.expm1(prediction)\n",
    "submission = pd.DataFrame(prediction, columns=['SalePrice'], index=pd.read_csv('test.csv').Id)\n",
    "submission.head()"
   ]
  },
  {
   "cell_type": "code",
   "execution_count": 83,
   "id": "93d4021c",
   "metadata": {},
   "outputs": [],
   "source": [
    "blend_1 = pd.read_csv('blend_dataset/House_Prices_submit.csv')\n",
    "blend_2 = pd.read_csv('blend_dataset/best_submission.csv')\n",
    "blend_3 = pd.read_csv('blend_dataset/hybrid_solution.csv')\n",
    "blend_4 = pd.read_csv('blend_dataset/lasso_sol22_Median.csv')"
   ]
  },
  {
   "cell_type": "code",
   "execution_count": 84,
   "id": "6ab44ba6",
   "metadata": {},
   "outputs": [
    {
     "data": {
      "text/html": [
       "<div>\n",
       "<style scoped>\n",
       "    .dataframe tbody tr th:only-of-type {\n",
       "        vertical-align: middle;\n",
       "    }\n",
       "\n",
       "    .dataframe tbody tr th {\n",
       "        vertical-align: top;\n",
       "    }\n",
       "\n",
       "    .dataframe thead th {\n",
       "        text-align: right;\n",
       "    }\n",
       "</style>\n",
       "<table border=\"1\" class=\"dataframe\">\n",
       "  <thead>\n",
       "    <tr style=\"text-align: right;\">\n",
       "      <th></th>\n",
       "      <th>SalePrice</th>\n",
       "    </tr>\n",
       "    <tr>\n",
       "      <th>Id</th>\n",
       "      <th></th>\n",
       "    </tr>\n",
       "  </thead>\n",
       "  <tbody>\n",
       "    <tr>\n",
       "      <th>1461</th>\n",
       "      <td>121118.161176</td>\n",
       "    </tr>\n",
       "    <tr>\n",
       "      <th>1462</th>\n",
       "      <td>166296.677557</td>\n",
       "    </tr>\n",
       "    <tr>\n",
       "      <th>1463</th>\n",
       "      <td>185264.902418</td>\n",
       "    </tr>\n",
       "    <tr>\n",
       "      <th>1464</th>\n",
       "      <td>195140.874098</td>\n",
       "    </tr>\n",
       "    <tr>\n",
       "      <th>1465</th>\n",
       "      <td>190226.389555</td>\n",
       "    </tr>\n",
       "  </tbody>\n",
       "</table>\n",
       "</div>"
      ],
      "text/plain": [
       "          SalePrice\n",
       "Id                 \n",
       "1461  121118.161176\n",
       "1462  166296.677557\n",
       "1463  185264.902418\n",
       "1464  195140.874098\n",
       "1465  190226.389555"
      ]
     },
     "execution_count": 84,
     "metadata": {},
     "output_type": "execute_result"
    }
   ],
   "source": [
    "blend_1.index = blend_1.Id\n",
    "blend_1 = blend_1.drop(columns='Id')\n",
    "blend_1.head()"
   ]
  },
  {
   "cell_type": "code",
   "execution_count": 85,
   "id": "e759176f",
   "metadata": {},
   "outputs": [
    {
     "data": {
      "text/html": [
       "<div>\n",
       "<style scoped>\n",
       "    .dataframe tbody tr th:only-of-type {\n",
       "        vertical-align: middle;\n",
       "    }\n",
       "\n",
       "    .dataframe tbody tr th {\n",
       "        vertical-align: top;\n",
       "    }\n",
       "\n",
       "    .dataframe thead th {\n",
       "        text-align: right;\n",
       "    }\n",
       "</style>\n",
       "<table border=\"1\" class=\"dataframe\">\n",
       "  <thead>\n",
       "    <tr style=\"text-align: right;\">\n",
       "      <th></th>\n",
       "      <th>SalePrice</th>\n",
       "    </tr>\n",
       "    <tr>\n",
       "      <th>Id</th>\n",
       "      <th></th>\n",
       "    </tr>\n",
       "  </thead>\n",
       "  <tbody>\n",
       "    <tr>\n",
       "      <th>1461</th>\n",
       "      <td>122242.0</td>\n",
       "    </tr>\n",
       "    <tr>\n",
       "      <th>1462</th>\n",
       "      <td>163769.0</td>\n",
       "    </tr>\n",
       "    <tr>\n",
       "      <th>1463</th>\n",
       "      <td>184763.0</td>\n",
       "    </tr>\n",
       "    <tr>\n",
       "      <th>1464</th>\n",
       "      <td>199176.0</td>\n",
       "    </tr>\n",
       "    <tr>\n",
       "      <th>1465</th>\n",
       "      <td>191727.0</td>\n",
       "    </tr>\n",
       "  </tbody>\n",
       "</table>\n",
       "</div>"
      ],
      "text/plain": [
       "      SalePrice\n",
       "Id             \n",
       "1461   122242.0\n",
       "1462   163769.0\n",
       "1463   184763.0\n",
       "1464   199176.0\n",
       "1465   191727.0"
      ]
     },
     "execution_count": 85,
     "metadata": {},
     "output_type": "execute_result"
    }
   ],
   "source": [
    "blend_2.index = blend_2.Id\n",
    "blend_2 = blend_2.drop(columns='Id')\n",
    "blend_2.head()"
   ]
  },
  {
   "cell_type": "code",
   "execution_count": 86,
   "id": "cfb7c41e",
   "metadata": {
    "scrolled": true
   },
   "outputs": [
    {
     "data": {
      "text/html": [
       "<div>\n",
       "<style scoped>\n",
       "    .dataframe tbody tr th:only-of-type {\n",
       "        vertical-align: middle;\n",
       "    }\n",
       "\n",
       "    .dataframe tbody tr th {\n",
       "        vertical-align: top;\n",
       "    }\n",
       "\n",
       "    .dataframe thead th {\n",
       "        text-align: right;\n",
       "    }\n",
       "</style>\n",
       "<table border=\"1\" class=\"dataframe\">\n",
       "  <thead>\n",
       "    <tr style=\"text-align: right;\">\n",
       "      <th></th>\n",
       "      <th>SalePrice</th>\n",
       "    </tr>\n",
       "    <tr>\n",
       "      <th>Id</th>\n",
       "      <th></th>\n",
       "    </tr>\n",
       "  </thead>\n",
       "  <tbody>\n",
       "    <tr>\n",
       "      <th>1461</th>\n",
       "      <td>120635.089551</td>\n",
       "    </tr>\n",
       "    <tr>\n",
       "      <th>1462</th>\n",
       "      <td>166995.910189</td>\n",
       "    </tr>\n",
       "    <tr>\n",
       "      <th>1463</th>\n",
       "      <td>188855.105080</td>\n",
       "    </tr>\n",
       "    <tr>\n",
       "      <th>1464</th>\n",
       "      <td>201677.418621</td>\n",
       "    </tr>\n",
       "    <tr>\n",
       "      <th>1465</th>\n",
       "      <td>189999.640754</td>\n",
       "    </tr>\n",
       "  </tbody>\n",
       "</table>\n",
       "</div>"
      ],
      "text/plain": [
       "          SalePrice\n",
       "Id                 \n",
       "1461  120635.089551\n",
       "1462  166995.910189\n",
       "1463  188855.105080\n",
       "1464  201677.418621\n",
       "1465  189999.640754"
      ]
     },
     "execution_count": 86,
     "metadata": {},
     "output_type": "execute_result"
    }
   ],
   "source": [
    "blend_3.index = blend_3.Id\n",
    "blend_3 = blend_3.drop(columns='Id')\n",
    "blend_3.head()"
   ]
  },
  {
   "cell_type": "code",
   "execution_count": 87,
   "id": "843dee69",
   "metadata": {},
   "outputs": [],
   "source": [
    "blend_4 = blend_4.rename(columns={'SalePrice':'Id', 'id':'SalePrice'})"
   ]
  },
  {
   "cell_type": "code",
   "execution_count": 88,
   "id": "0e69926e",
   "metadata": {},
   "outputs": [
    {
     "data": {
      "text/html": [
       "<div>\n",
       "<style scoped>\n",
       "    .dataframe tbody tr th:only-of-type {\n",
       "        vertical-align: middle;\n",
       "    }\n",
       "\n",
       "    .dataframe tbody tr th {\n",
       "        vertical-align: top;\n",
       "    }\n",
       "\n",
       "    .dataframe thead th {\n",
       "        text-align: right;\n",
       "    }\n",
       "</style>\n",
       "<table border=\"1\" class=\"dataframe\">\n",
       "  <thead>\n",
       "    <tr style=\"text-align: right;\">\n",
       "      <th></th>\n",
       "      <th>SalePrice</th>\n",
       "    </tr>\n",
       "    <tr>\n",
       "      <th>Id</th>\n",
       "      <th></th>\n",
       "    </tr>\n",
       "  </thead>\n",
       "  <tbody>\n",
       "    <tr>\n",
       "      <th>1461</th>\n",
       "      <td>123869.209797</td>\n",
       "    </tr>\n",
       "    <tr>\n",
       "      <th>1462</th>\n",
       "      <td>160819.061703</td>\n",
       "    </tr>\n",
       "    <tr>\n",
       "      <th>1463</th>\n",
       "      <td>178337.500093</td>\n",
       "    </tr>\n",
       "    <tr>\n",
       "      <th>1464</th>\n",
       "      <td>199800.787062</td>\n",
       "    </tr>\n",
       "    <tr>\n",
       "      <th>1465</th>\n",
       "      <td>198795.333026</td>\n",
       "    </tr>\n",
       "  </tbody>\n",
       "</table>\n",
       "</div>"
      ],
      "text/plain": [
       "          SalePrice\n",
       "Id                 \n",
       "1461  123869.209797\n",
       "1462  160819.061703\n",
       "1463  178337.500093\n",
       "1464  199800.787062\n",
       "1465  198795.333026"
      ]
     },
     "execution_count": 88,
     "metadata": {},
     "output_type": "execute_result"
    }
   ],
   "source": [
    "blend_4.index = blend_4.Id\n",
    "blend_4 = blend_4.drop(columns='Id')\n",
    "blend_4.head()"
   ]
  },
  {
   "cell_type": "code",
   "execution_count": 89,
   "id": "acafd547",
   "metadata": {},
   "outputs": [
    {
     "data": {
      "text/html": [
       "<div>\n",
       "<style scoped>\n",
       "    .dataframe tbody tr th:only-of-type {\n",
       "        vertical-align: middle;\n",
       "    }\n",
       "\n",
       "    .dataframe tbody tr th {\n",
       "        vertical-align: top;\n",
       "    }\n",
       "\n",
       "    .dataframe thead th {\n",
       "        text-align: right;\n",
       "    }\n",
       "</style>\n",
       "<table border=\"1\" class=\"dataframe\">\n",
       "  <thead>\n",
       "    <tr style=\"text-align: right;\">\n",
       "      <th></th>\n",
       "      <th>SalePrice</th>\n",
       "    </tr>\n",
       "    <tr>\n",
       "      <th>Id</th>\n",
       "      <th></th>\n",
       "    </tr>\n",
       "  </thead>\n",
       "  <tbody>\n",
       "    <tr>\n",
       "      <th>1461</th>\n",
       "      <td>121370.0</td>\n",
       "    </tr>\n",
       "    <tr>\n",
       "      <th>1462</th>\n",
       "      <td>164181.0</td>\n",
       "    </tr>\n",
       "    <tr>\n",
       "      <th>1463</th>\n",
       "      <td>183209.0</td>\n",
       "    </tr>\n",
       "    <tr>\n",
       "      <th>1464</th>\n",
       "      <td>197564.0</td>\n",
       "    </tr>\n",
       "    <tr>\n",
       "      <th>1465</th>\n",
       "      <td>190005.0</td>\n",
       "    </tr>\n",
       "  </tbody>\n",
       "</table>\n",
       "</div>"
      ],
      "text/plain": [
       "      SalePrice\n",
       "Id             \n",
       "1461   121370.0\n",
       "1462   164181.0\n",
       "1463   183209.0\n",
       "1464   197564.0\n",
       "1465   190005.0"
      ]
     },
     "execution_count": 89,
     "metadata": {},
     "output_type": "execute_result"
    }
   ],
   "source": [
    "submission['SalePrice'] = (0.2*submission.SalePrice + \n",
    "                           0.2*blend_1.SalePrice + \n",
    "                           0.2*blend_2.SalePrice +\n",
    "                           0.2*blend_3.SalePrice +\n",
    "                           0.2*blend_4.SalePrice\n",
    "                          )\n",
    "submission = np.floor(submission)\n",
    "submission.head()"
   ]
  },
  {
   "cell_type": "code",
   "execution_count": 90,
   "id": "fed23c15",
   "metadata": {},
   "outputs": [],
   "source": [
    "# plt.boxplot(submission)"
   ]
  },
  {
   "cell_type": "code",
   "execution_count": 91,
   "id": "cbcf1bd2",
   "metadata": {},
   "outputs": [
    {
     "data": {
      "text/html": [
       "<div>\n",
       "<style scoped>\n",
       "    .dataframe tbody tr th:only-of-type {\n",
       "        vertical-align: middle;\n",
       "    }\n",
       "\n",
       "    .dataframe tbody tr th {\n",
       "        vertical-align: top;\n",
       "    }\n",
       "\n",
       "    .dataframe thead th {\n",
       "        text-align: right;\n",
       "    }\n",
       "</style>\n",
       "<table border=\"1\" class=\"dataframe\">\n",
       "  <thead>\n",
       "    <tr style=\"text-align: right;\">\n",
       "      <th></th>\n",
       "      <th>SalePrice</th>\n",
       "    </tr>\n",
       "    <tr>\n",
       "      <th>Id</th>\n",
       "      <th></th>\n",
       "    </tr>\n",
       "  </thead>\n",
       "  <tbody>\n",
       "    <tr>\n",
       "      <th>1461</th>\n",
       "      <td>121370.0</td>\n",
       "    </tr>\n",
       "    <tr>\n",
       "      <th>1462</th>\n",
       "      <td>164181.0</td>\n",
       "    </tr>\n",
       "    <tr>\n",
       "      <th>1463</th>\n",
       "      <td>183209.0</td>\n",
       "    </tr>\n",
       "    <tr>\n",
       "      <th>1464</th>\n",
       "      <td>197564.0</td>\n",
       "    </tr>\n",
       "    <tr>\n",
       "      <th>1465</th>\n",
       "      <td>190005.0</td>\n",
       "    </tr>\n",
       "  </tbody>\n",
       "</table>\n",
       "</div>"
      ],
      "text/plain": [
       "      SalePrice\n",
       "Id             \n",
       "1461   121370.0\n",
       "1462   164181.0\n",
       "1463   183209.0\n",
       "1464   197564.0\n",
       "1465   190005.0"
      ]
     },
     "execution_count": 91,
     "metadata": {},
     "output_type": "execute_result"
    }
   ],
   "source": [
    "# Brutal approach to deal with predictions close to outer range \n",
    "q1 = submission['SalePrice'].quantile(0.01)\n",
    "q2 = submission['SalePrice'].quantile(0.99)\n",
    "\n",
    "submission['SalePrice'] = submission['SalePrice'].apply(lambda x: x if x > q1 else x*0.8)\n",
    "submission['SalePrice'] = submission['SalePrice'].apply(lambda x: x if x < q2 else x*1.1)\n",
    "submission.head()"
   ]
  },
  {
   "cell_type": "code",
   "execution_count": 92,
   "id": "4fec58f6",
   "metadata": {},
   "outputs": [
    {
     "data": {
      "text/html": [
       "<div>\n",
       "<style scoped>\n",
       "    .dataframe tbody tr th:only-of-type {\n",
       "        vertical-align: middle;\n",
       "    }\n",
       "\n",
       "    .dataframe tbody tr th {\n",
       "        vertical-align: top;\n",
       "    }\n",
       "\n",
       "    .dataframe thead th {\n",
       "        text-align: right;\n",
       "    }\n",
       "</style>\n",
       "<table border=\"1\" class=\"dataframe\">\n",
       "  <thead>\n",
       "    <tr style=\"text-align: right;\">\n",
       "      <th></th>\n",
       "      <th>SalePrice</th>\n",
       "    </tr>\n",
       "    <tr>\n",
       "      <th>Id</th>\n",
       "      <th></th>\n",
       "    </tr>\n",
       "  </thead>\n",
       "  <tbody>\n",
       "    <tr>\n",
       "      <th>1461</th>\n",
       "      <td>121370.0</td>\n",
       "    </tr>\n",
       "    <tr>\n",
       "      <th>1462</th>\n",
       "      <td>164181.0</td>\n",
       "    </tr>\n",
       "    <tr>\n",
       "      <th>1463</th>\n",
       "      <td>183209.0</td>\n",
       "    </tr>\n",
       "    <tr>\n",
       "      <th>1464</th>\n",
       "      <td>197564.0</td>\n",
       "    </tr>\n",
       "    <tr>\n",
       "      <th>1465</th>\n",
       "      <td>190005.0</td>\n",
       "    </tr>\n",
       "  </tbody>\n",
       "</table>\n",
       "</div>"
      ],
      "text/plain": [
       "      SalePrice\n",
       "Id             \n",
       "1461   121370.0\n",
       "1462   164181.0\n",
       "1463   183209.0\n",
       "1464   197564.0\n",
       "1465   190005.0"
      ]
     },
     "execution_count": 92,
     "metadata": {},
     "output_type": "execute_result"
    }
   ],
   "source": [
    "submission = np.floor(submission)\n",
    "submission.to_csv('BE_FinalEstimatorForest_v5.csv')\n",
    "submission.head()"
   ]
  },
  {
   "cell_type": "code",
   "execution_count": null,
   "id": "4a1b0115",
   "metadata": {},
   "outputs": [],
   "source": []
  },
  {
   "cell_type": "code",
   "execution_count": null,
   "id": "45af4c44",
   "metadata": {},
   "outputs": [],
   "source": [
    "def predict_stackgen(models, blender, X, y):\n",
    "    # make predictions with base models\n",
    "    meta_X = list()\n",
    "    for _, model in models:\n",
    "        # predict with base model\n",
    "        yhat = model.predict(X)\n",
    "        # reshape predictions into a matrix with one column\n",
    "        yhat = yhat.reshape(len(yhat), 1)\n",
    "        # store prediction\n",
    "        meta_X.append(yhat)\n",
    "    # create 2d array from predictions, each set is an input feature\n",
    "    meta_X = hstack(meta_X)\n",
    "    \n",
    "    print(f'Model: Blender, StackRegressor')\n",
    "    yhat = blender.predict(meta_X)\n",
    "    print(f'Stack Gen RMSE: {mean_squared_error(y, yhat, squared=False)}')\n",
    "    \n",
    "    stack_gen = blender.predict(meta_X)\n",
    "#     stack_gen = np.reshape(stack_gen, (-1,1))\n",
    "    \n",
    "#     meta_X = np.concatenate((meta_X, stack_gen), axis=1)\n",
    "#     coeff = np.array([0.15,0.15,0.15,0.15,0.15,0.25])\n",
    "#     predict = meta_X * coeff\n",
    "#     predict = np.sum(predict, axis=1)\n",
    "    # predict\n",
    "#     return blender.predict(meta_X)\n",
    "    return stack_gen"
   ]
  },
  {
   "cell_type": "code",
   "execution_count": null,
   "id": "c601881e",
   "metadata": {},
   "outputs": [],
   "source": [
    "print('Training Set---------')\n",
    "yhat_train = predict_stackgen(models, blender, X_train, y_train)\n",
    "score = mean_squared_error(y_train, yhat_train, squared=False)\n",
    "print('Blending train rmse: %.7f' % score)\n",
    "\n",
    "print('\\nValidation Set---------')\n",
    "yhat_val = predict_ensemble(models, blender, X_val, y_val)\n",
    "score = mean_squared_error(y_val, yhat_val, squared=False)\n",
    "print('Blending val rmse: %.7f' % score)"
   ]
  },
  {
   "cell_type": "code",
   "execution_count": null,
   "id": "f606d51c",
   "metadata": {},
   "outputs": [],
   "source": []
  },
  {
   "cell_type": "code",
   "execution_count": null,
   "id": "b581af86",
   "metadata": {},
   "outputs": [],
   "source": []
  }
 ],
 "metadata": {
  "kernelspec": {
   "display_name": "Python 3 (ipykernel)",
   "language": "python",
   "name": "python3"
  },
  "language_info": {
   "codemirror_mode": {
    "name": "ipython",
    "version": 3
   },
   "file_extension": ".py",
   "mimetype": "text/x-python",
   "name": "python",
   "nbconvert_exporter": "python",
   "pygments_lexer": "ipython3",
   "version": "3.9.6"
  }
 },
 "nbformat": 4,
 "nbformat_minor": 5
}
